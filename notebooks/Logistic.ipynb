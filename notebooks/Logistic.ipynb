{
 "cells": [
  {
   "cell_type": "code",
   "execution_count": 4,
   "metadata": {},
   "outputs": [],
   "source": [
    "import plotly.graph_objects as go\n",
    "import plotly.io as pio\n",
    "import plotly.express as px\n",
    "from plotly.subplots import  make_subplots\n",
    "from os import path"
   ]
  },
  {
   "cell_type": "code",
   "execution_count": 29,
   "metadata": {},
   "outputs": [],
   "source": [
    "def snap(fig, filename, figuredir = '../figures') :\n",
    "    fig.update_layout(width=700, height=300,\n",
    "                      margin = dict(l=1, r=1, t=20, b=20))\n",
    "    try :\n",
    "        fig.write_image(path.join(figuredir, filename))\n",
    "    except:\n",
    "        pio.orca.shutdown_server()\n",
    "        fig.write_image(path.join(figuredir, filename))\n",
    "    return fig"
   ]
  },
  {
   "cell_type": "code",
   "execution_count": 3,
   "metadata": {},
   "outputs": [],
   "source": [
    "import pandas as pd\n",
    "import numpy as np\n",
    "import pickle\n",
    "from glob import glob\n",
    "from os.path import basename, join\n",
    "\n",
    "from tqdm.notebook import tqdm\n",
    "\n",
    "from sklearn.model_selection import LeaveOneGroupOut, cross_validate, learning_curve, cross_val_score\n",
    "from sklearn.metrics import roc_curve, precision_recall_curve, auc\n",
    "from sklearn.pipeline import make_pipeline\n",
    "from sklearn.preprocessing import StandardScaler\n",
    "from sklearn.linear_model import LogisticRegression"
   ]
  },
  {
   "cell_type": "code",
   "execution_count": 8,
   "metadata": {},
   "outputs": [],
   "source": [
    "def get_data(r,k,data_prefix) :\n",
    "    filename  = f'{data_prefix}/r{r}_{k}mer.pkl'\n",
    "    data = pd.read_pickle(filename)\n",
    "    data = data[ (data.methylatedin == 0) | (data.methylated_ratio >0.75)]\n",
    "\n",
    "    X = data.iloc[:,:data.attrs['n_kmers']]\n",
    "    y = (data.methylatedin>1) & (data.methylated_ratio>0.75)\n",
    "    seqid = data.index.get_level_values('seqid')\n",
    "    \n",
    "    filename = '/'.join(filename.split('/')[-2:])\n",
    "\n",
    "    print (f'{filename}: size: {len(y)}, pos: {y.sum()}, baseline: {y.sum()/len(y):.2f}')\n",
    "    \n",
    "    return X,y,seqid\n",
    "\n",
    "def get_model(r,k,model_prefix) :\n",
    "    with open(f'{model_prefix}/r{r}_{k}mer_logistic.pkl', 'rb') as f :\n",
    "        return pickle.load(f)\n",
    "    \n",
    "def pr_auc(model, X_test, y_test) :\n",
    "    y_pred = model.predict_proba(X_test)[:,1]\n",
    "    precision, recall, threshold = precision_recall_curve(y_test, y_pred)\n",
    "    return auc(recall, precision)"
   ]
  },
  {
   "cell_type": "code",
   "execution_count": 6,
   "metadata": {},
   "outputs": [],
   "source": [
    "%run ../scripts/utils.py"
   ]
  },
  {
   "cell_type": "markdown",
   "metadata": {},
   "source": [
    "# Exome models\n",
    "\n",
    "We import some pre-trained models (exome) to see how they did."
   ]
  },
  {
   "cell_type": "code",
   "execution_count": 13,
   "metadata": {},
   "outputs": [],
   "source": [
    "model_prefix = join('../models','Apis_mellifera', 'exome')\n",
    "data_prefix = join('../data','Apis_mellifera', 'exome')"
   ]
  },
  {
   "cell_type": "code",
   "execution_count": 14,
   "metadata": {},
   "outputs": [],
   "source": [
    "models=dict(L1=dict(), L2=dict())\n",
    "mean_scores = dict(L1=dict(), L2=dict())\n",
    "std_scores = dict(L1=dict(), L2=dict())\n",
    "\n",
    "kmers = dict()\n",
    "\n",
    "\n",
    "for file in glob(f'{model_prefix}/*_logistic.pkl') :\n",
    "    r, k, tmp = basename(file).split('_')\n",
    "    \n",
    "    r = int(r[1:])\n",
    "    k = int(k[0])\n",
    "\n",
    "    if r not in models['L1'] :\n",
    "        models['L1'][r] = dict()\n",
    "        models['L2'][r] = dict()\n",
    "\n",
    "        mean_scores['L1'][r] =dict()\n",
    "        mean_scores['L2'][r] =dict()\n",
    "\n",
    "        std_scores['L1'][r] =dict()\n",
    "        std_scores['L2'][r] =dict()\n",
    "\n",
    "        \n",
    "    with open(file, 'rb') as f :\n",
    "        model = pickle.load(f)\n",
    "        \n",
    "        models['L1'][r][k] = model['l1']['estimator']\n",
    "        mean_scores['L1'][r][k] = model['l1']['test_score'].mean()\n",
    "        std_scores['L1'][r][k] = model['l1']['test_score'].std()\n",
    "        \n",
    "        models['L2'][r][k] = model['l2']['estimator']\n",
    "        mean_scores['L2'][r][k] = model['l2']['test_score'].mean()\n",
    "        std_scores['L2'][r][k] = model['l2']['test_score'].std()\n",
    "        \n",
    "        kmers[k] = model['features']\n",
    "        \n",
    "\n",
    "mean_scores_L1 = pd.DataFrame(mean_scores['L1']).round(3)\n",
    "mean_scores_L1.sort_index(axis=0, inplace=True)\n",
    "mean_scores_L1.sort_index(axis=1, inplace=True)\n",
    "\n",
    "mean_scores_L2 = pd.DataFrame(mean_scores['L2']).round(3)\n",
    "mean_scores_L2.sort_index(axis=0, inplace=True)\n",
    "mean_scores_L2.sort_index(axis=1, inplace=True)"
   ]
  },
  {
   "cell_type": "code",
   "execution_count": 30,
   "metadata": {},
   "outputs": [
    {
     "data": {
      "application/vnd.plotly.v1+json": {
       "config": {
        "plotlyServerURL": "https://plot.ly"
       },
       "data": [
        {
         "coloraxis": "coloraxis",
         "type": "heatmap",
         "x": [
          100,
          150,
          200,
          250,
          300,
          350,
          400,
          450,
          500
         ],
         "xaxis": "x",
         "y": [
          3,
          4,
          5,
          6
         ],
         "yaxis": "y",
         "z": [
          [
           0.777,
           0.818,
           0.843,
           0.853,
           0.858,
           0.856,
           0.853,
           0.85,
           0.846
          ],
          [
           0.792,
           0.829,
           0.851,
           0.86,
           0.863,
           0.861,
           0.858,
           0.856,
           0.851
          ],
          [
           0.803,
           0.836,
           0.857,
           0.865,
           0.868,
           0.866,
           0.863,
           0.86,
           0.855
          ],
          [
           0.806,
           0.836,
           0.856,
           0.863,
           0.865,
           0.861,
           0.859,
           0.855,
           0.85
          ]
         ]
        },
        {
         "coloraxis": "coloraxis",
         "type": "heatmap",
         "x": [
          100,
          150,
          200,
          250,
          300,
          350,
          400,
          450,
          500
         ],
         "xaxis": "x2",
         "y": [
          3,
          4,
          5,
          6
         ],
         "yaxis": "y2",
         "z": [
          [
           0.776,
           0.817,
           0.841,
           0.851,
           0.856,
           0.853,
           0.851,
           0.848,
           0.843
          ],
          [
           0.791,
           0.827,
           0.848,
           0.857,
           0.86,
           0.857,
           0.855,
           0.851,
           0.847
          ],
          [
           0.801,
           0.834,
           0.854,
           0.862,
           0.865,
           0.863,
           0.86,
           0.858,
           0.852
          ],
          [
           0.801,
           0.829,
           0.847,
           0.853,
           0.855,
           0.85,
           0.846,
           0.84,
           0.834
          ]
         ]
        }
       ],
       "layout": {
        "annotations": [
         {
          "font": {
           "size": 16
          },
          "showarrow": false,
          "text": "L1",
          "x": 0.225,
          "xanchor": "center",
          "xref": "paper",
          "y": 1,
          "yanchor": "bottom",
          "yref": "paper"
         },
         {
          "font": {
           "size": 16
          },
          "showarrow": false,
          "text": "L2",
          "x": 0.775,
          "xanchor": "center",
          "xref": "paper",
          "y": 1,
          "yanchor": "bottom",
          "yref": "paper"
         }
        ],
        "template": {
         "data": {
          "bar": [
           {
            "error_x": {
             "color": "#2a3f5f"
            },
            "error_y": {
             "color": "#2a3f5f"
            },
            "marker": {
             "line": {
              "color": "#E5ECF6",
              "width": 0.5
             }
            },
            "type": "bar"
           }
          ],
          "barpolar": [
           {
            "marker": {
             "line": {
              "color": "#E5ECF6",
              "width": 0.5
             }
            },
            "type": "barpolar"
           }
          ],
          "carpet": [
           {
            "aaxis": {
             "endlinecolor": "#2a3f5f",
             "gridcolor": "white",
             "linecolor": "white",
             "minorgridcolor": "white",
             "startlinecolor": "#2a3f5f"
            },
            "baxis": {
             "endlinecolor": "#2a3f5f",
             "gridcolor": "white",
             "linecolor": "white",
             "minorgridcolor": "white",
             "startlinecolor": "#2a3f5f"
            },
            "type": "carpet"
           }
          ],
          "choropleth": [
           {
            "colorbar": {
             "outlinewidth": 0,
             "ticks": ""
            },
            "type": "choropleth"
           }
          ],
          "contour": [
           {
            "colorbar": {
             "outlinewidth": 0,
             "ticks": ""
            },
            "colorscale": [
             [
              0,
              "#0d0887"
             ],
             [
              0.1111111111111111,
              "#46039f"
             ],
             [
              0.2222222222222222,
              "#7201a8"
             ],
             [
              0.3333333333333333,
              "#9c179e"
             ],
             [
              0.4444444444444444,
              "#bd3786"
             ],
             [
              0.5555555555555556,
              "#d8576b"
             ],
             [
              0.6666666666666666,
              "#ed7953"
             ],
             [
              0.7777777777777778,
              "#fb9f3a"
             ],
             [
              0.8888888888888888,
              "#fdca26"
             ],
             [
              1,
              "#f0f921"
             ]
            ],
            "type": "contour"
           }
          ],
          "contourcarpet": [
           {
            "colorbar": {
             "outlinewidth": 0,
             "ticks": ""
            },
            "type": "contourcarpet"
           }
          ],
          "heatmap": [
           {
            "colorbar": {
             "outlinewidth": 0,
             "ticks": ""
            },
            "colorscale": [
             [
              0,
              "#0d0887"
             ],
             [
              0.1111111111111111,
              "#46039f"
             ],
             [
              0.2222222222222222,
              "#7201a8"
             ],
             [
              0.3333333333333333,
              "#9c179e"
             ],
             [
              0.4444444444444444,
              "#bd3786"
             ],
             [
              0.5555555555555556,
              "#d8576b"
             ],
             [
              0.6666666666666666,
              "#ed7953"
             ],
             [
              0.7777777777777778,
              "#fb9f3a"
             ],
             [
              0.8888888888888888,
              "#fdca26"
             ],
             [
              1,
              "#f0f921"
             ]
            ],
            "type": "heatmap"
           }
          ],
          "heatmapgl": [
           {
            "colorbar": {
             "outlinewidth": 0,
             "ticks": ""
            },
            "colorscale": [
             [
              0,
              "#0d0887"
             ],
             [
              0.1111111111111111,
              "#46039f"
             ],
             [
              0.2222222222222222,
              "#7201a8"
             ],
             [
              0.3333333333333333,
              "#9c179e"
             ],
             [
              0.4444444444444444,
              "#bd3786"
             ],
             [
              0.5555555555555556,
              "#d8576b"
             ],
             [
              0.6666666666666666,
              "#ed7953"
             ],
             [
              0.7777777777777778,
              "#fb9f3a"
             ],
             [
              0.8888888888888888,
              "#fdca26"
             ],
             [
              1,
              "#f0f921"
             ]
            ],
            "type": "heatmapgl"
           }
          ],
          "histogram": [
           {
            "marker": {
             "colorbar": {
              "outlinewidth": 0,
              "ticks": ""
             }
            },
            "type": "histogram"
           }
          ],
          "histogram2d": [
           {
            "colorbar": {
             "outlinewidth": 0,
             "ticks": ""
            },
            "colorscale": [
             [
              0,
              "#0d0887"
             ],
             [
              0.1111111111111111,
              "#46039f"
             ],
             [
              0.2222222222222222,
              "#7201a8"
             ],
             [
              0.3333333333333333,
              "#9c179e"
             ],
             [
              0.4444444444444444,
              "#bd3786"
             ],
             [
              0.5555555555555556,
              "#d8576b"
             ],
             [
              0.6666666666666666,
              "#ed7953"
             ],
             [
              0.7777777777777778,
              "#fb9f3a"
             ],
             [
              0.8888888888888888,
              "#fdca26"
             ],
             [
              1,
              "#f0f921"
             ]
            ],
            "type": "histogram2d"
           }
          ],
          "histogram2dcontour": [
           {
            "colorbar": {
             "outlinewidth": 0,
             "ticks": ""
            },
            "colorscale": [
             [
              0,
              "#0d0887"
             ],
             [
              0.1111111111111111,
              "#46039f"
             ],
             [
              0.2222222222222222,
              "#7201a8"
             ],
             [
              0.3333333333333333,
              "#9c179e"
             ],
             [
              0.4444444444444444,
              "#bd3786"
             ],
             [
              0.5555555555555556,
              "#d8576b"
             ],
             [
              0.6666666666666666,
              "#ed7953"
             ],
             [
              0.7777777777777778,
              "#fb9f3a"
             ],
             [
              0.8888888888888888,
              "#fdca26"
             ],
             [
              1,
              "#f0f921"
             ]
            ],
            "type": "histogram2dcontour"
           }
          ],
          "mesh3d": [
           {
            "colorbar": {
             "outlinewidth": 0,
             "ticks": ""
            },
            "type": "mesh3d"
           }
          ],
          "parcoords": [
           {
            "line": {
             "colorbar": {
              "outlinewidth": 0,
              "ticks": ""
             }
            },
            "type": "parcoords"
           }
          ],
          "pie": [
           {
            "automargin": true,
            "type": "pie"
           }
          ],
          "scatter": [
           {
            "marker": {
             "colorbar": {
              "outlinewidth": 0,
              "ticks": ""
             }
            },
            "type": "scatter"
           }
          ],
          "scatter3d": [
           {
            "line": {
             "colorbar": {
              "outlinewidth": 0,
              "ticks": ""
             }
            },
            "marker": {
             "colorbar": {
              "outlinewidth": 0,
              "ticks": ""
             }
            },
            "type": "scatter3d"
           }
          ],
          "scattercarpet": [
           {
            "marker": {
             "colorbar": {
              "outlinewidth": 0,
              "ticks": ""
             }
            },
            "type": "scattercarpet"
           }
          ],
          "scattergeo": [
           {
            "marker": {
             "colorbar": {
              "outlinewidth": 0,
              "ticks": ""
             }
            },
            "type": "scattergeo"
           }
          ],
          "scattergl": [
           {
            "marker": {
             "colorbar": {
              "outlinewidth": 0,
              "ticks": ""
             }
            },
            "type": "scattergl"
           }
          ],
          "scattermapbox": [
           {
            "marker": {
             "colorbar": {
              "outlinewidth": 0,
              "ticks": ""
             }
            },
            "type": "scattermapbox"
           }
          ],
          "scatterpolar": [
           {
            "marker": {
             "colorbar": {
              "outlinewidth": 0,
              "ticks": ""
             }
            },
            "type": "scatterpolar"
           }
          ],
          "scatterpolargl": [
           {
            "marker": {
             "colorbar": {
              "outlinewidth": 0,
              "ticks": ""
             }
            },
            "type": "scatterpolargl"
           }
          ],
          "scatterternary": [
           {
            "marker": {
             "colorbar": {
              "outlinewidth": 0,
              "ticks": ""
             }
            },
            "type": "scatterternary"
           }
          ],
          "surface": [
           {
            "colorbar": {
             "outlinewidth": 0,
             "ticks": ""
            },
            "colorscale": [
             [
              0,
              "#0d0887"
             ],
             [
              0.1111111111111111,
              "#46039f"
             ],
             [
              0.2222222222222222,
              "#7201a8"
             ],
             [
              0.3333333333333333,
              "#9c179e"
             ],
             [
              0.4444444444444444,
              "#bd3786"
             ],
             [
              0.5555555555555556,
              "#d8576b"
             ],
             [
              0.6666666666666666,
              "#ed7953"
             ],
             [
              0.7777777777777778,
              "#fb9f3a"
             ],
             [
              0.8888888888888888,
              "#fdca26"
             ],
             [
              1,
              "#f0f921"
             ]
            ],
            "type": "surface"
           }
          ],
          "table": [
           {
            "cells": {
             "fill": {
              "color": "#EBF0F8"
             },
             "line": {
              "color": "white"
             }
            },
            "header": {
             "fill": {
              "color": "#C8D4E3"
             },
             "line": {
              "color": "white"
             }
            },
            "type": "table"
           }
          ]
         },
         "layout": {
          "annotationdefaults": {
           "arrowcolor": "#2a3f5f",
           "arrowhead": 0,
           "arrowwidth": 1
          },
          "coloraxis": {
           "colorbar": {
            "outlinewidth": 0,
            "ticks": ""
           }
          },
          "colorscale": {
           "diverging": [
            [
             0,
             "#8e0152"
            ],
            [
             0.1,
             "#c51b7d"
            ],
            [
             0.2,
             "#de77ae"
            ],
            [
             0.3,
             "#f1b6da"
            ],
            [
             0.4,
             "#fde0ef"
            ],
            [
             0.5,
             "#f7f7f7"
            ],
            [
             0.6,
             "#e6f5d0"
            ],
            [
             0.7,
             "#b8e186"
            ],
            [
             0.8,
             "#7fbc41"
            ],
            [
             0.9,
             "#4d9221"
            ],
            [
             1,
             "#276419"
            ]
           ],
           "sequential": [
            [
             0,
             "#0d0887"
            ],
            [
             0.1111111111111111,
             "#46039f"
            ],
            [
             0.2222222222222222,
             "#7201a8"
            ],
            [
             0.3333333333333333,
             "#9c179e"
            ],
            [
             0.4444444444444444,
             "#bd3786"
            ],
            [
             0.5555555555555556,
             "#d8576b"
            ],
            [
             0.6666666666666666,
             "#ed7953"
            ],
            [
             0.7777777777777778,
             "#fb9f3a"
            ],
            [
             0.8888888888888888,
             "#fdca26"
            ],
            [
             1,
             "#f0f921"
            ]
           ],
           "sequentialminus": [
            [
             0,
             "#0d0887"
            ],
            [
             0.1111111111111111,
             "#46039f"
            ],
            [
             0.2222222222222222,
             "#7201a8"
            ],
            [
             0.3333333333333333,
             "#9c179e"
            ],
            [
             0.4444444444444444,
             "#bd3786"
            ],
            [
             0.5555555555555556,
             "#d8576b"
            ],
            [
             0.6666666666666666,
             "#ed7953"
            ],
            [
             0.7777777777777778,
             "#fb9f3a"
            ],
            [
             0.8888888888888888,
             "#fdca26"
            ],
            [
             1,
             "#f0f921"
            ]
           ]
          },
          "colorway": [
           "#636efa",
           "#EF553B",
           "#00cc96",
           "#ab63fa",
           "#FFA15A",
           "#19d3f3",
           "#FF6692",
           "#B6E880",
           "#FF97FF",
           "#FECB52"
          ],
          "font": {
           "color": "#2a3f5f"
          },
          "geo": {
           "bgcolor": "white",
           "lakecolor": "white",
           "landcolor": "#E5ECF6",
           "showlakes": true,
           "showland": true,
           "subunitcolor": "white"
          },
          "hoverlabel": {
           "align": "left"
          },
          "hovermode": "closest",
          "mapbox": {
           "style": "light"
          },
          "paper_bgcolor": "white",
          "plot_bgcolor": "#E5ECF6",
          "polar": {
           "angularaxis": {
            "gridcolor": "white",
            "linecolor": "white",
            "ticks": ""
           },
           "bgcolor": "#E5ECF6",
           "radialaxis": {
            "gridcolor": "white",
            "linecolor": "white",
            "ticks": ""
           }
          },
          "scene": {
           "xaxis": {
            "backgroundcolor": "#E5ECF6",
            "gridcolor": "white",
            "gridwidth": 2,
            "linecolor": "white",
            "showbackground": true,
            "ticks": "",
            "zerolinecolor": "white"
           },
           "yaxis": {
            "backgroundcolor": "#E5ECF6",
            "gridcolor": "white",
            "gridwidth": 2,
            "linecolor": "white",
            "showbackground": true,
            "ticks": "",
            "zerolinecolor": "white"
           },
           "zaxis": {
            "backgroundcolor": "#E5ECF6",
            "gridcolor": "white",
            "gridwidth": 2,
            "linecolor": "white",
            "showbackground": true,
            "ticks": "",
            "zerolinecolor": "white"
           }
          },
          "shapedefaults": {
           "line": {
            "color": "#2a3f5f"
           }
          },
          "ternary": {
           "aaxis": {
            "gridcolor": "white",
            "linecolor": "white",
            "ticks": ""
           },
           "baxis": {
            "gridcolor": "white",
            "linecolor": "white",
            "ticks": ""
           },
           "bgcolor": "#E5ECF6",
           "caxis": {
            "gridcolor": "white",
            "linecolor": "white",
            "ticks": ""
           }
          },
          "title": {
           "x": 0.05
          },
          "xaxis": {
           "automargin": true,
           "gridcolor": "white",
           "linecolor": "white",
           "ticks": "",
           "title": {
            "standoff": 15
           },
           "zerolinecolor": "white",
           "zerolinewidth": 2
          },
          "yaxis": {
           "automargin": true,
           "gridcolor": "white",
           "linecolor": "white",
           "ticks": "",
           "title": {
            "standoff": 15
           },
           "zerolinecolor": "white",
           "zerolinewidth": 2
          }
         }
        },
        "xaxis": {
         "anchor": "y",
         "domain": [
          0,
          0.45
         ],
         "tickmode": "array",
         "tickvals": [
          100,
          150,
          200,
          250,
          300,
          350,
          400,
          450,
          500
         ],
         "title": {
          "text": "radius"
         }
        },
        "xaxis2": {
         "anchor": "y2",
         "domain": [
          0.55,
          1
         ],
         "tickmode": "array",
         "tickvals": [
          100,
          150,
          200,
          250,
          300,
          350,
          400,
          450,
          500
         ],
         "title": {
          "text": "radius"
         }
        },
        "yaxis": {
         "anchor": "x",
         "domain": [
          0,
          1
         ],
         "tickmode": "array",
         "tickvals": [
          3,
          4,
          5,
          6
         ],
         "title": {
          "text": "k"
         }
        },
        "yaxis2": {
         "anchor": "x2",
         "domain": [
          0,
          1
         ],
         "matches": "y",
         "showticklabels": false,
         "tickmode": "array",
         "tickvals": [
          3,
          4,
          5,
          6
         ],
         "title": {
          "text": "k"
         }
        }
       }
      },
      "text/html": [
       "<div>\n",
       "        \n",
       "        \n",
       "            <div id=\"b1f385ee-bdb7-4eda-81dc-16df5e703283\" class=\"plotly-graph-div\" style=\"height:525px; width:100%;\"></div>\n",
       "            <script type=\"text/javascript\">\n",
       "                require([\"plotly\"], function(Plotly) {\n",
       "                    window.PLOTLYENV=window.PLOTLYENV || {};\n",
       "                    \n",
       "                if (document.getElementById(\"b1f385ee-bdb7-4eda-81dc-16df5e703283\")) {\n",
       "                    Plotly.newPlot(\n",
       "                        'b1f385ee-bdb7-4eda-81dc-16df5e703283',\n",
       "                        [{\"coloraxis\": \"coloraxis\", \"type\": \"heatmap\", \"x\": [100, 150, 200, 250, 300, 350, 400, 450, 500], \"xaxis\": \"x\", \"y\": [3, 4, 5, 6], \"yaxis\": \"y\", \"z\": [[0.777, 0.818, 0.843, 0.853, 0.858, 0.856, 0.853, 0.85, 0.846], [0.792, 0.829, 0.851, 0.86, 0.863, 0.861, 0.858, 0.856, 0.851], [0.803, 0.836, 0.857, 0.865, 0.868, 0.866, 0.863, 0.86, 0.855], [0.806, 0.836, 0.856, 0.863, 0.865, 0.861, 0.859, 0.855, 0.85]]}, {\"coloraxis\": \"coloraxis\", \"type\": \"heatmap\", \"x\": [100, 150, 200, 250, 300, 350, 400, 450, 500], \"xaxis\": \"x2\", \"y\": [3, 4, 5, 6], \"yaxis\": \"y2\", \"z\": [[0.776, 0.817, 0.841, 0.851, 0.856, 0.853, 0.851, 0.848, 0.843], [0.791, 0.827, 0.848, 0.857, 0.86, 0.857, 0.855, 0.851, 0.847], [0.801, 0.834, 0.854, 0.862, 0.865, 0.863, 0.86, 0.858, 0.852], [0.801, 0.829, 0.847, 0.853, 0.855, 0.85, 0.846, 0.84, 0.834]]}],\n",
       "                        {\"annotations\": [{\"font\": {\"size\": 16}, \"showarrow\": false, \"text\": \"L1\", \"x\": 0.225, \"xanchor\": \"center\", \"xref\": \"paper\", \"y\": 1.0, \"yanchor\": \"bottom\", \"yref\": \"paper\"}, {\"font\": {\"size\": 16}, \"showarrow\": false, \"text\": \"L2\", \"x\": 0.775, \"xanchor\": \"center\", \"xref\": \"paper\", \"y\": 1.0, \"yanchor\": \"bottom\", \"yref\": \"paper\"}], \"template\": {\"data\": {\"bar\": [{\"error_x\": {\"color\": \"#2a3f5f\"}, \"error_y\": {\"color\": \"#2a3f5f\"}, \"marker\": {\"line\": {\"color\": \"#E5ECF6\", \"width\": 0.5}}, \"type\": \"bar\"}], \"barpolar\": [{\"marker\": {\"line\": {\"color\": \"#E5ECF6\", \"width\": 0.5}}, \"type\": \"barpolar\"}], \"carpet\": [{\"aaxis\": {\"endlinecolor\": \"#2a3f5f\", \"gridcolor\": \"white\", \"linecolor\": \"white\", \"minorgridcolor\": \"white\", \"startlinecolor\": \"#2a3f5f\"}, \"baxis\": {\"endlinecolor\": \"#2a3f5f\", \"gridcolor\": \"white\", \"linecolor\": \"white\", \"minorgridcolor\": \"white\", \"startlinecolor\": \"#2a3f5f\"}, \"type\": \"carpet\"}], \"choropleth\": [{\"colorbar\": {\"outlinewidth\": 0, \"ticks\": \"\"}, \"type\": \"choropleth\"}], \"contour\": [{\"colorbar\": {\"outlinewidth\": 0, \"ticks\": \"\"}, \"colorscale\": [[0.0, \"#0d0887\"], [0.1111111111111111, \"#46039f\"], [0.2222222222222222, \"#7201a8\"], [0.3333333333333333, \"#9c179e\"], [0.4444444444444444, \"#bd3786\"], [0.5555555555555556, \"#d8576b\"], [0.6666666666666666, \"#ed7953\"], [0.7777777777777778, \"#fb9f3a\"], [0.8888888888888888, \"#fdca26\"], [1.0, \"#f0f921\"]], \"type\": \"contour\"}], \"contourcarpet\": [{\"colorbar\": {\"outlinewidth\": 0, \"ticks\": \"\"}, \"type\": \"contourcarpet\"}], \"heatmap\": [{\"colorbar\": {\"outlinewidth\": 0, \"ticks\": \"\"}, \"colorscale\": [[0.0, \"#0d0887\"], [0.1111111111111111, \"#46039f\"], [0.2222222222222222, \"#7201a8\"], [0.3333333333333333, \"#9c179e\"], [0.4444444444444444, \"#bd3786\"], [0.5555555555555556, \"#d8576b\"], [0.6666666666666666, \"#ed7953\"], [0.7777777777777778, \"#fb9f3a\"], [0.8888888888888888, \"#fdca26\"], [1.0, \"#f0f921\"]], \"type\": \"heatmap\"}], \"heatmapgl\": [{\"colorbar\": {\"outlinewidth\": 0, \"ticks\": \"\"}, \"colorscale\": [[0.0, \"#0d0887\"], [0.1111111111111111, \"#46039f\"], [0.2222222222222222, \"#7201a8\"], [0.3333333333333333, \"#9c179e\"], [0.4444444444444444, \"#bd3786\"], [0.5555555555555556, \"#d8576b\"], [0.6666666666666666, \"#ed7953\"], [0.7777777777777778, \"#fb9f3a\"], [0.8888888888888888, \"#fdca26\"], [1.0, \"#f0f921\"]], \"type\": \"heatmapgl\"}], \"histogram\": [{\"marker\": {\"colorbar\": {\"outlinewidth\": 0, \"ticks\": \"\"}}, \"type\": \"histogram\"}], \"histogram2d\": [{\"colorbar\": {\"outlinewidth\": 0, \"ticks\": \"\"}, \"colorscale\": [[0.0, \"#0d0887\"], [0.1111111111111111, \"#46039f\"], [0.2222222222222222, \"#7201a8\"], [0.3333333333333333, \"#9c179e\"], [0.4444444444444444, \"#bd3786\"], [0.5555555555555556, \"#d8576b\"], [0.6666666666666666, \"#ed7953\"], [0.7777777777777778, \"#fb9f3a\"], [0.8888888888888888, \"#fdca26\"], [1.0, \"#f0f921\"]], \"type\": \"histogram2d\"}], \"histogram2dcontour\": [{\"colorbar\": {\"outlinewidth\": 0, \"ticks\": \"\"}, \"colorscale\": [[0.0, \"#0d0887\"], [0.1111111111111111, \"#46039f\"], [0.2222222222222222, \"#7201a8\"], [0.3333333333333333, \"#9c179e\"], [0.4444444444444444, \"#bd3786\"], [0.5555555555555556, \"#d8576b\"], [0.6666666666666666, \"#ed7953\"], [0.7777777777777778, \"#fb9f3a\"], [0.8888888888888888, \"#fdca26\"], [1.0, \"#f0f921\"]], \"type\": \"histogram2dcontour\"}], \"mesh3d\": [{\"colorbar\": {\"outlinewidth\": 0, \"ticks\": \"\"}, \"type\": \"mesh3d\"}], \"parcoords\": [{\"line\": {\"colorbar\": {\"outlinewidth\": 0, \"ticks\": \"\"}}, \"type\": \"parcoords\"}], \"pie\": [{\"automargin\": true, \"type\": \"pie\"}], \"scatter\": [{\"marker\": {\"colorbar\": {\"outlinewidth\": 0, \"ticks\": \"\"}}, \"type\": \"scatter\"}], \"scatter3d\": [{\"line\": {\"colorbar\": {\"outlinewidth\": 0, \"ticks\": \"\"}}, \"marker\": {\"colorbar\": {\"outlinewidth\": 0, \"ticks\": \"\"}}, \"type\": \"scatter3d\"}], \"scattercarpet\": [{\"marker\": {\"colorbar\": {\"outlinewidth\": 0, \"ticks\": \"\"}}, \"type\": \"scattercarpet\"}], \"scattergeo\": [{\"marker\": {\"colorbar\": {\"outlinewidth\": 0, \"ticks\": \"\"}}, \"type\": \"scattergeo\"}], \"scattergl\": [{\"marker\": {\"colorbar\": {\"outlinewidth\": 0, \"ticks\": \"\"}}, \"type\": \"scattergl\"}], \"scattermapbox\": [{\"marker\": {\"colorbar\": {\"outlinewidth\": 0, \"ticks\": \"\"}}, \"type\": \"scattermapbox\"}], \"scatterpolar\": [{\"marker\": {\"colorbar\": {\"outlinewidth\": 0, \"ticks\": \"\"}}, \"type\": \"scatterpolar\"}], \"scatterpolargl\": [{\"marker\": {\"colorbar\": {\"outlinewidth\": 0, \"ticks\": \"\"}}, \"type\": \"scatterpolargl\"}], \"scatterternary\": [{\"marker\": {\"colorbar\": {\"outlinewidth\": 0, \"ticks\": \"\"}}, \"type\": \"scatterternary\"}], \"surface\": [{\"colorbar\": {\"outlinewidth\": 0, \"ticks\": \"\"}, \"colorscale\": [[0.0, \"#0d0887\"], [0.1111111111111111, \"#46039f\"], [0.2222222222222222, \"#7201a8\"], [0.3333333333333333, \"#9c179e\"], [0.4444444444444444, \"#bd3786\"], [0.5555555555555556, \"#d8576b\"], [0.6666666666666666, \"#ed7953\"], [0.7777777777777778, \"#fb9f3a\"], [0.8888888888888888, \"#fdca26\"], [1.0, \"#f0f921\"]], \"type\": \"surface\"}], \"table\": [{\"cells\": {\"fill\": {\"color\": \"#EBF0F8\"}, \"line\": {\"color\": \"white\"}}, \"header\": {\"fill\": {\"color\": \"#C8D4E3\"}, \"line\": {\"color\": \"white\"}}, \"type\": \"table\"}]}, \"layout\": {\"annotationdefaults\": {\"arrowcolor\": \"#2a3f5f\", \"arrowhead\": 0, \"arrowwidth\": 1}, \"coloraxis\": {\"colorbar\": {\"outlinewidth\": 0, \"ticks\": \"\"}}, \"colorscale\": {\"diverging\": [[0, \"#8e0152\"], [0.1, \"#c51b7d\"], [0.2, \"#de77ae\"], [0.3, \"#f1b6da\"], [0.4, \"#fde0ef\"], [0.5, \"#f7f7f7\"], [0.6, \"#e6f5d0\"], [0.7, \"#b8e186\"], [0.8, \"#7fbc41\"], [0.9, \"#4d9221\"], [1, \"#276419\"]], \"sequential\": [[0.0, \"#0d0887\"], [0.1111111111111111, \"#46039f\"], [0.2222222222222222, \"#7201a8\"], [0.3333333333333333, \"#9c179e\"], [0.4444444444444444, \"#bd3786\"], [0.5555555555555556, \"#d8576b\"], [0.6666666666666666, \"#ed7953\"], [0.7777777777777778, \"#fb9f3a\"], [0.8888888888888888, \"#fdca26\"], [1.0, \"#f0f921\"]], \"sequentialminus\": [[0.0, \"#0d0887\"], [0.1111111111111111, \"#46039f\"], [0.2222222222222222, \"#7201a8\"], [0.3333333333333333, \"#9c179e\"], [0.4444444444444444, \"#bd3786\"], [0.5555555555555556, \"#d8576b\"], [0.6666666666666666, \"#ed7953\"], [0.7777777777777778, \"#fb9f3a\"], [0.8888888888888888, \"#fdca26\"], [1.0, \"#f0f921\"]]}, \"colorway\": [\"#636efa\", \"#EF553B\", \"#00cc96\", \"#ab63fa\", \"#FFA15A\", \"#19d3f3\", \"#FF6692\", \"#B6E880\", \"#FF97FF\", \"#FECB52\"], \"font\": {\"color\": \"#2a3f5f\"}, \"geo\": {\"bgcolor\": \"white\", \"lakecolor\": \"white\", \"landcolor\": \"#E5ECF6\", \"showlakes\": true, \"showland\": true, \"subunitcolor\": \"white\"}, \"hoverlabel\": {\"align\": \"left\"}, \"hovermode\": \"closest\", \"mapbox\": {\"style\": \"light\"}, \"paper_bgcolor\": \"white\", \"plot_bgcolor\": \"#E5ECF6\", \"polar\": {\"angularaxis\": {\"gridcolor\": \"white\", \"linecolor\": \"white\", \"ticks\": \"\"}, \"bgcolor\": \"#E5ECF6\", \"radialaxis\": {\"gridcolor\": \"white\", \"linecolor\": \"white\", \"ticks\": \"\"}}, \"scene\": {\"xaxis\": {\"backgroundcolor\": \"#E5ECF6\", \"gridcolor\": \"white\", \"gridwidth\": 2, \"linecolor\": \"white\", \"showbackground\": true, \"ticks\": \"\", \"zerolinecolor\": \"white\"}, \"yaxis\": {\"backgroundcolor\": \"#E5ECF6\", \"gridcolor\": \"white\", \"gridwidth\": 2, \"linecolor\": \"white\", \"showbackground\": true, \"ticks\": \"\", \"zerolinecolor\": \"white\"}, \"zaxis\": {\"backgroundcolor\": \"#E5ECF6\", \"gridcolor\": \"white\", \"gridwidth\": 2, \"linecolor\": \"white\", \"showbackground\": true, \"ticks\": \"\", \"zerolinecolor\": \"white\"}}, \"shapedefaults\": {\"line\": {\"color\": \"#2a3f5f\"}}, \"ternary\": {\"aaxis\": {\"gridcolor\": \"white\", \"linecolor\": \"white\", \"ticks\": \"\"}, \"baxis\": {\"gridcolor\": \"white\", \"linecolor\": \"white\", \"ticks\": \"\"}, \"bgcolor\": \"#E5ECF6\", \"caxis\": {\"gridcolor\": \"white\", \"linecolor\": \"white\", \"ticks\": \"\"}}, \"title\": {\"x\": 0.05}, \"xaxis\": {\"automargin\": true, \"gridcolor\": \"white\", \"linecolor\": \"white\", \"ticks\": \"\", \"title\": {\"standoff\": 15}, \"zerolinecolor\": \"white\", \"zerolinewidth\": 2}, \"yaxis\": {\"automargin\": true, \"gridcolor\": \"white\", \"linecolor\": \"white\", \"ticks\": \"\", \"title\": {\"standoff\": 15}, \"zerolinecolor\": \"white\", \"zerolinewidth\": 2}}}, \"xaxis\": {\"anchor\": \"y\", \"domain\": [0.0, 0.45], \"tickmode\": \"array\", \"tickvals\": [100, 150, 200, 250, 300, 350, 400, 450, 500], \"title\": {\"text\": \"radius\"}}, \"xaxis2\": {\"anchor\": \"y2\", \"domain\": [0.55, 1.0], \"tickmode\": \"array\", \"tickvals\": [100, 150, 200, 250, 300, 350, 400, 450, 500], \"title\": {\"text\": \"radius\"}}, \"yaxis\": {\"anchor\": \"x\", \"domain\": [0.0, 1.0], \"tickmode\": \"array\", \"tickvals\": [3, 4, 5, 6], \"title\": {\"text\": \"k\"}}, \"yaxis2\": {\"anchor\": \"x2\", \"domain\": [0.0, 1.0], \"matches\": \"y\", \"showticklabels\": false, \"tickmode\": \"array\", \"tickvals\": [3, 4, 5, 6], \"title\": {\"text\": \"k\"}}},\n",
       "                        {\"responsive\": true}\n",
       "                    ).then(function(){\n",
       "                            \n",
       "var gd = document.getElementById('b1f385ee-bdb7-4eda-81dc-16df5e703283');\n",
       "var x = new MutationObserver(function (mutations, observer) {{\n",
       "        var display = window.getComputedStyle(gd).display;\n",
       "        if (!display || display === 'none') {{\n",
       "            console.log([gd, 'removed!']);\n",
       "            Plotly.purge(gd);\n",
       "            observer.disconnect();\n",
       "        }}\n",
       "}});\n",
       "\n",
       "// Listen for the removal of the full notebook cells\n",
       "var notebookContainer = gd.closest('#notebook-container');\n",
       "if (notebookContainer) {{\n",
       "    x.observe(notebookContainer, {childList: true});\n",
       "}}\n",
       "\n",
       "// Listen for the clearing of the current output cell\n",
       "var outputEl = gd.closest('.output');\n",
       "if (outputEl) {{\n",
       "    x.observe(outputEl, {childList: true});\n",
       "}}\n",
       "\n",
       "                        })\n",
       "                };\n",
       "                });\n",
       "            </script>\n",
       "        </div>"
      ]
     },
     "metadata": {},
     "output_type": "display_data"
    }
   ],
   "source": [
    "#std_scores = pd.DataFrame(std_scores).round(3)\n",
    "#std_scores.sort_index(axis=0, inplace=True)\n",
    "#std_scores.sort_index(axis=1, inplace=True)\n",
    "\n",
    "#mean_scores.drop(100, axis=1, inplace=True)\n",
    "fig = make_subplots(rows=1, cols=2, shared_yaxes=True, subplot_titles=('L1', 'L2'))\n",
    "fig.add_trace(go.Heatmap(z=mean_scores_L1, y = mean_scores_L1.index, x = mean_scores_L1.columns, coloraxis=\"coloraxis\"), row=1, col=1)\n",
    "fig.add_trace(go.Heatmap(z=mean_scores_L2, y = mean_scores_L2.index, x = mean_scores_L2.columns, coloraxis=\"coloraxis\"), row=1,col=2)\n",
    "\n",
    "fig.update_xaxes(title_text=\"radius\", row=1, col=1, tickmode = 'array', tickvals = mean_scores_L1.columns)\n",
    "fig.update_xaxes(title_text=\"radius\", row=1, col=2, tickmode = 'array', tickvals = mean_scores_L1.columns)\n",
    "fig.update_yaxes(title_text=\"k\", tickmode = 'array', tickvals = mean_scores_L1.index)\n",
    "\n",
    "fig.show()\n",
    "\n",
    "#snap(fig, 'logistic_grid.pdf')"
   ]
  },
  {
   "cell_type": "markdown",
   "metadata": {},
   "source": [
    "We note that L1 actually did better. \n",
    "Due to overlap of words, therefore correlation of reatures, this is not a huge surprise. \n",
    "\n",
    "# Testing on whole genome\n",
    "\n",
    "We test the models that were trained on exons on all cpgs. "
   ]
  },
  {
   "cell_type": "code",
   "execution_count": 16,
   "metadata": {},
   "outputs": [
    {
     "data": {
      "application/vnd.jupyter.widget-view+json": {
       "model_id": "8b47a9fed1fa4c769ea96f007da038e0",
       "version_major": 2,
       "version_minor": 0
      },
      "text/plain": [
       "HBox(children=(FloatProgress(value=0.0, max=27.0), HTML(value='')))"
      ]
     },
     "metadata": {},
     "output_type": "display_data"
    },
    {
     "name": "stdout",
     "output_type": "stream",
     "text": [
      "genome/r300_5mer.pkl: size: 1528746, pos: 35296, baseline: 0.02\n",
      "genome/r200_5mer.pkl: size: 1528746, pos: 35296, baseline: 0.02\n",
      "genome/r200_6mer.pkl: size: 1528746, pos: 35296, baseline: 0.02\n",
      "genome/r400_6mer.pkl: size: 1528746, pos: 35296, baseline: 0.02\n",
      "genome/r100_6mer.pkl: size: 1528746, pos: 35296, baseline: 0.02\n",
      "genome/r150_6mer.pkl: size: 1528746, pos: 35296, baseline: 0.02\n",
      "genome/r500_6mer.pkl: size: 1528746, pos: 35296, baseline: 0.02\n",
      "genome/r500_5mer.pkl: size: 1528746, pos: 35296, baseline: 0.02\n",
      "genome/r250_6mer.pkl: size: 1528746, pos: 35296, baseline: 0.02\n",
      "genome/r250_5mer.pkl: size: 1528746, pos: 35296, baseline: 0.02\n",
      "genome/r300_4mer.pkl: size: 1528746, pos: 35296, baseline: 0.02\n",
      "genome/r450_4mer.pkl: size: 1528746, pos: 35296, baseline: 0.02\n",
      "genome/r400_4mer.pkl: size: 1528746, pos: 35296, baseline: 0.02\n",
      "genome/r350_4mer.pkl: size: 1528746, pos: 35296, baseline: 0.02\n",
      "genome/r300_6mer.pkl: size: 1528746, pos: 35296, baseline: 0.02\n",
      "genome/r450_5mer.pkl: size: 1528746, pos: 35296, baseline: 0.02\n",
      "genome/r250_4mer.pkl: size: 1528746, pos: 35296, baseline: 0.02\n",
      "genome/r100_5mer.pkl: size: 1528746, pos: 35296, baseline: 0.02\n",
      "genome/r450_6mer.pkl: size: 1528746, pos: 35296, baseline: 0.02\n",
      "genome/r350_5mer.pkl: size: 1528746, pos: 35296, baseline: 0.02\n",
      "genome/r100_4mer.pkl: size: 1528746, pos: 35296, baseline: 0.02\n",
      "genome/r500_4mer.pkl: size: 1528746, pos: 35296, baseline: 0.02\n",
      "genome/r150_5mer.pkl: size: 1528746, pos: 35296, baseline: 0.02\n",
      "genome/r400_5mer.pkl: size: 1528746, pos: 35296, baseline: 0.02\n",
      "genome/r350_6mer.pkl: size: 1528746, pos: 35296, baseline: 0.02\n",
      "genome/r200_4mer.pkl: size: 1528746, pos: 35296, baseline: 0.02\n",
      "genome/r150_4mer.pkl: size: 1528746, pos: 35296, baseline: 0.02\n",
      "\n"
     ]
    }
   ],
   "source": [
    "data_prefix = join('../data','Apis_mellifera', 'genome')\n",
    "\n",
    "mean_scores['genome'] = dict()\n",
    "\n",
    "for file in tqdm(glob(f'{data_prefix}/r*_*mer.pkl')) :\n",
    "    r, k = basename(file).split('_')\n",
    "    \n",
    "    r = int(r[1:])\n",
    "    k = int(k[0])\n",
    "    \n",
    "    if r not in mean_scores['genome'] :\n",
    "        mean_scores['genome'][r]=dict()\n",
    "    \n",
    "    X,y, seqid = get_data(r,k,data_prefix)\n",
    "    \n",
    "    scores = list()\n",
    "    \n",
    "    for model, (train, test) in zip(models['L1'][r][k], LeaveOneGroupOut().split(X,y,seqid)) :\n",
    "\n",
    "        scores.append (pr_auc(model, X.take(test),  y.take(test)))\n",
    "\n",
    "    mean_scores['genome'][r][k] = np.array(scores).mean()"
   ]
  },
  {
   "cell_type": "code",
   "execution_count": 17,
   "metadata": {},
   "outputs": [],
   "source": [
    "mean_scores_genome = pd.DataFrame(mean_scores['genome']).round(3)\n",
    "mean_scores_genome.sort_index(axis=0, inplace=True)\n",
    "mean_scores_genome.sort_index(axis=1, inplace=True)"
   ]
  },
  {
   "cell_type": "code",
   "execution_count": 97,
   "metadata": {},
   "outputs": [
    {
     "data": {
      "application/vnd.plotly.v1+json": {
       "config": {
        "plotlyServerURL": "https://plot.ly"
       },
       "data": [
        {
         "coloraxis": "coloraxis",
         "type": "heatmap",
         "x": [
          100,
          150,
          200,
          250,
          300,
          350,
          400,
          450,
          500
         ],
         "xaxis": "x",
         "y": [
          4,
          5,
          6
         ],
         "yaxis": "y",
         "z": [
          [
           0.792,
           0.829,
           0.851,
           0.86,
           0.863,
           0.861,
           0.858,
           0.856,
           0.851
          ],
          [
           0.803,
           0.836,
           0.857,
           0.865,
           0.868,
           0.866,
           0.863,
           0.86,
           0.855
          ],
          [
           0.806,
           0.836,
           0.856,
           0.863,
           0.865,
           0.861,
           0.859,
           0.855,
           0.85
          ]
         ]
        },
        {
         "coloraxis": "coloraxis",
         "type": "heatmap",
         "x": [
          100,
          150,
          200,
          250,
          300,
          350,
          400,
          450,
          500
         ],
         "xaxis": "x2",
         "y": [
          4,
          5,
          6
         ],
         "yaxis": "y2",
         "z": [
          [
           0.492,
           0.575,
           0.633,
           0.673,
           0.696,
           0.709,
           0.717,
           0.723,
           0.728
          ],
          [
           0.522,
           0.601,
           0.655,
           0.692,
           0.711,
           0.724,
           0.73,
           0.736,
           0.738
          ],
          [
           0.528,
           0.603,
           0.654,
           0.689,
           0.708,
           0.717,
           0.725,
           0.728,
           0.731
          ]
         ]
        }
       ],
       "layout": {
        "annotations": [
         {
          "font": {
           "size": 16
          },
          "showarrow": false,
          "text": "Test on exome",
          "x": 0.225,
          "xanchor": "center",
          "xref": "paper",
          "y": 1,
          "yanchor": "bottom",
          "yref": "paper"
         },
         {
          "font": {
           "size": 16
          },
          "showarrow": false,
          "text": "Test on genome",
          "x": 0.775,
          "xanchor": "center",
          "xref": "paper",
          "y": 1,
          "yanchor": "bottom",
          "yref": "paper"
         }
        ],
        "coloraxis": {
         "colorbar": {
          "thickness": 20,
          "title": {
           "text": "AUC"
          }
         }
        },
        "height": 300,
        "margin": {
         "b": 20,
         "l": 1,
         "r": 1,
         "t": 20
        },
        "template": {
         "data": {
          "bar": [
           {
            "error_x": {
             "color": "#2a3f5f"
            },
            "error_y": {
             "color": "#2a3f5f"
            },
            "marker": {
             "line": {
              "color": "#E5ECF6",
              "width": 0.5
             }
            },
            "type": "bar"
           }
          ],
          "barpolar": [
           {
            "marker": {
             "line": {
              "color": "#E5ECF6",
              "width": 0.5
             }
            },
            "type": "barpolar"
           }
          ],
          "carpet": [
           {
            "aaxis": {
             "endlinecolor": "#2a3f5f",
             "gridcolor": "white",
             "linecolor": "white",
             "minorgridcolor": "white",
             "startlinecolor": "#2a3f5f"
            },
            "baxis": {
             "endlinecolor": "#2a3f5f",
             "gridcolor": "white",
             "linecolor": "white",
             "minorgridcolor": "white",
             "startlinecolor": "#2a3f5f"
            },
            "type": "carpet"
           }
          ],
          "choropleth": [
           {
            "colorbar": {
             "outlinewidth": 0,
             "ticks": ""
            },
            "type": "choropleth"
           }
          ],
          "contour": [
           {
            "colorbar": {
             "outlinewidth": 0,
             "ticks": ""
            },
            "colorscale": [
             [
              0,
              "#0d0887"
             ],
             [
              0.1111111111111111,
              "#46039f"
             ],
             [
              0.2222222222222222,
              "#7201a8"
             ],
             [
              0.3333333333333333,
              "#9c179e"
             ],
             [
              0.4444444444444444,
              "#bd3786"
             ],
             [
              0.5555555555555556,
              "#d8576b"
             ],
             [
              0.6666666666666666,
              "#ed7953"
             ],
             [
              0.7777777777777778,
              "#fb9f3a"
             ],
             [
              0.8888888888888888,
              "#fdca26"
             ],
             [
              1,
              "#f0f921"
             ]
            ],
            "type": "contour"
           }
          ],
          "contourcarpet": [
           {
            "colorbar": {
             "outlinewidth": 0,
             "ticks": ""
            },
            "type": "contourcarpet"
           }
          ],
          "heatmap": [
           {
            "colorbar": {
             "outlinewidth": 0,
             "ticks": ""
            },
            "colorscale": [
             [
              0,
              "#0d0887"
             ],
             [
              0.1111111111111111,
              "#46039f"
             ],
             [
              0.2222222222222222,
              "#7201a8"
             ],
             [
              0.3333333333333333,
              "#9c179e"
             ],
             [
              0.4444444444444444,
              "#bd3786"
             ],
             [
              0.5555555555555556,
              "#d8576b"
             ],
             [
              0.6666666666666666,
              "#ed7953"
             ],
             [
              0.7777777777777778,
              "#fb9f3a"
             ],
             [
              0.8888888888888888,
              "#fdca26"
             ],
             [
              1,
              "#f0f921"
             ]
            ],
            "type": "heatmap"
           }
          ],
          "heatmapgl": [
           {
            "colorbar": {
             "outlinewidth": 0,
             "ticks": ""
            },
            "colorscale": [
             [
              0,
              "#0d0887"
             ],
             [
              0.1111111111111111,
              "#46039f"
             ],
             [
              0.2222222222222222,
              "#7201a8"
             ],
             [
              0.3333333333333333,
              "#9c179e"
             ],
             [
              0.4444444444444444,
              "#bd3786"
             ],
             [
              0.5555555555555556,
              "#d8576b"
             ],
             [
              0.6666666666666666,
              "#ed7953"
             ],
             [
              0.7777777777777778,
              "#fb9f3a"
             ],
             [
              0.8888888888888888,
              "#fdca26"
             ],
             [
              1,
              "#f0f921"
             ]
            ],
            "type": "heatmapgl"
           }
          ],
          "histogram": [
           {
            "marker": {
             "colorbar": {
              "outlinewidth": 0,
              "ticks": ""
             }
            },
            "type": "histogram"
           }
          ],
          "histogram2d": [
           {
            "colorbar": {
             "outlinewidth": 0,
             "ticks": ""
            },
            "colorscale": [
             [
              0,
              "#0d0887"
             ],
             [
              0.1111111111111111,
              "#46039f"
             ],
             [
              0.2222222222222222,
              "#7201a8"
             ],
             [
              0.3333333333333333,
              "#9c179e"
             ],
             [
              0.4444444444444444,
              "#bd3786"
             ],
             [
              0.5555555555555556,
              "#d8576b"
             ],
             [
              0.6666666666666666,
              "#ed7953"
             ],
             [
              0.7777777777777778,
              "#fb9f3a"
             ],
             [
              0.8888888888888888,
              "#fdca26"
             ],
             [
              1,
              "#f0f921"
             ]
            ],
            "type": "histogram2d"
           }
          ],
          "histogram2dcontour": [
           {
            "colorbar": {
             "outlinewidth": 0,
             "ticks": ""
            },
            "colorscale": [
             [
              0,
              "#0d0887"
             ],
             [
              0.1111111111111111,
              "#46039f"
             ],
             [
              0.2222222222222222,
              "#7201a8"
             ],
             [
              0.3333333333333333,
              "#9c179e"
             ],
             [
              0.4444444444444444,
              "#bd3786"
             ],
             [
              0.5555555555555556,
              "#d8576b"
             ],
             [
              0.6666666666666666,
              "#ed7953"
             ],
             [
              0.7777777777777778,
              "#fb9f3a"
             ],
             [
              0.8888888888888888,
              "#fdca26"
             ],
             [
              1,
              "#f0f921"
             ]
            ],
            "type": "histogram2dcontour"
           }
          ],
          "mesh3d": [
           {
            "colorbar": {
             "outlinewidth": 0,
             "ticks": ""
            },
            "type": "mesh3d"
           }
          ],
          "parcoords": [
           {
            "line": {
             "colorbar": {
              "outlinewidth": 0,
              "ticks": ""
             }
            },
            "type": "parcoords"
           }
          ],
          "pie": [
           {
            "automargin": true,
            "type": "pie"
           }
          ],
          "scatter": [
           {
            "marker": {
             "colorbar": {
              "outlinewidth": 0,
              "ticks": ""
             }
            },
            "type": "scatter"
           }
          ],
          "scatter3d": [
           {
            "line": {
             "colorbar": {
              "outlinewidth": 0,
              "ticks": ""
             }
            },
            "marker": {
             "colorbar": {
              "outlinewidth": 0,
              "ticks": ""
             }
            },
            "type": "scatter3d"
           }
          ],
          "scattercarpet": [
           {
            "marker": {
             "colorbar": {
              "outlinewidth": 0,
              "ticks": ""
             }
            },
            "type": "scattercarpet"
           }
          ],
          "scattergeo": [
           {
            "marker": {
             "colorbar": {
              "outlinewidth": 0,
              "ticks": ""
             }
            },
            "type": "scattergeo"
           }
          ],
          "scattergl": [
           {
            "marker": {
             "colorbar": {
              "outlinewidth": 0,
              "ticks": ""
             }
            },
            "type": "scattergl"
           }
          ],
          "scattermapbox": [
           {
            "marker": {
             "colorbar": {
              "outlinewidth": 0,
              "ticks": ""
             }
            },
            "type": "scattermapbox"
           }
          ],
          "scatterpolar": [
           {
            "marker": {
             "colorbar": {
              "outlinewidth": 0,
              "ticks": ""
             }
            },
            "type": "scatterpolar"
           }
          ],
          "scatterpolargl": [
           {
            "marker": {
             "colorbar": {
              "outlinewidth": 0,
              "ticks": ""
             }
            },
            "type": "scatterpolargl"
           }
          ],
          "scatterternary": [
           {
            "marker": {
             "colorbar": {
              "outlinewidth": 0,
              "ticks": ""
             }
            },
            "type": "scatterternary"
           }
          ],
          "surface": [
           {
            "colorbar": {
             "outlinewidth": 0,
             "ticks": ""
            },
            "colorscale": [
             [
              0,
              "#0d0887"
             ],
             [
              0.1111111111111111,
              "#46039f"
             ],
             [
              0.2222222222222222,
              "#7201a8"
             ],
             [
              0.3333333333333333,
              "#9c179e"
             ],
             [
              0.4444444444444444,
              "#bd3786"
             ],
             [
              0.5555555555555556,
              "#d8576b"
             ],
             [
              0.6666666666666666,
              "#ed7953"
             ],
             [
              0.7777777777777778,
              "#fb9f3a"
             ],
             [
              0.8888888888888888,
              "#fdca26"
             ],
             [
              1,
              "#f0f921"
             ]
            ],
            "type": "surface"
           }
          ],
          "table": [
           {
            "cells": {
             "fill": {
              "color": "#EBF0F8"
             },
             "line": {
              "color": "white"
             }
            },
            "header": {
             "fill": {
              "color": "#C8D4E3"
             },
             "line": {
              "color": "white"
             }
            },
            "type": "table"
           }
          ]
         },
         "layout": {
          "annotationdefaults": {
           "arrowcolor": "#2a3f5f",
           "arrowhead": 0,
           "arrowwidth": 1
          },
          "coloraxis": {
           "colorbar": {
            "outlinewidth": 0,
            "ticks": ""
           }
          },
          "colorscale": {
           "diverging": [
            [
             0,
             "#8e0152"
            ],
            [
             0.1,
             "#c51b7d"
            ],
            [
             0.2,
             "#de77ae"
            ],
            [
             0.3,
             "#f1b6da"
            ],
            [
             0.4,
             "#fde0ef"
            ],
            [
             0.5,
             "#f7f7f7"
            ],
            [
             0.6,
             "#e6f5d0"
            ],
            [
             0.7,
             "#b8e186"
            ],
            [
             0.8,
             "#7fbc41"
            ],
            [
             0.9,
             "#4d9221"
            ],
            [
             1,
             "#276419"
            ]
           ],
           "sequential": [
            [
             0,
             "#0d0887"
            ],
            [
             0.1111111111111111,
             "#46039f"
            ],
            [
             0.2222222222222222,
             "#7201a8"
            ],
            [
             0.3333333333333333,
             "#9c179e"
            ],
            [
             0.4444444444444444,
             "#bd3786"
            ],
            [
             0.5555555555555556,
             "#d8576b"
            ],
            [
             0.6666666666666666,
             "#ed7953"
            ],
            [
             0.7777777777777778,
             "#fb9f3a"
            ],
            [
             0.8888888888888888,
             "#fdca26"
            ],
            [
             1,
             "#f0f921"
            ]
           ],
           "sequentialminus": [
            [
             0,
             "#0d0887"
            ],
            [
             0.1111111111111111,
             "#46039f"
            ],
            [
             0.2222222222222222,
             "#7201a8"
            ],
            [
             0.3333333333333333,
             "#9c179e"
            ],
            [
             0.4444444444444444,
             "#bd3786"
            ],
            [
             0.5555555555555556,
             "#d8576b"
            ],
            [
             0.6666666666666666,
             "#ed7953"
            ],
            [
             0.7777777777777778,
             "#fb9f3a"
            ],
            [
             0.8888888888888888,
             "#fdca26"
            ],
            [
             1,
             "#f0f921"
            ]
           ]
          },
          "colorway": [
           "#636efa",
           "#EF553B",
           "#00cc96",
           "#ab63fa",
           "#FFA15A",
           "#19d3f3",
           "#FF6692",
           "#B6E880",
           "#FF97FF",
           "#FECB52"
          ],
          "font": {
           "color": "#2a3f5f"
          },
          "geo": {
           "bgcolor": "white",
           "lakecolor": "white",
           "landcolor": "#E5ECF6",
           "showlakes": true,
           "showland": true,
           "subunitcolor": "white"
          },
          "hoverlabel": {
           "align": "left"
          },
          "hovermode": "closest",
          "mapbox": {
           "style": "light"
          },
          "paper_bgcolor": "white",
          "plot_bgcolor": "#E5ECF6",
          "polar": {
           "angularaxis": {
            "gridcolor": "white",
            "linecolor": "white",
            "ticks": ""
           },
           "bgcolor": "#E5ECF6",
           "radialaxis": {
            "gridcolor": "white",
            "linecolor": "white",
            "ticks": ""
           }
          },
          "scene": {
           "xaxis": {
            "backgroundcolor": "#E5ECF6",
            "gridcolor": "white",
            "gridwidth": 2,
            "linecolor": "white",
            "showbackground": true,
            "ticks": "",
            "zerolinecolor": "white"
           },
           "yaxis": {
            "backgroundcolor": "#E5ECF6",
            "gridcolor": "white",
            "gridwidth": 2,
            "linecolor": "white",
            "showbackground": true,
            "ticks": "",
            "zerolinecolor": "white"
           },
           "zaxis": {
            "backgroundcolor": "#E5ECF6",
            "gridcolor": "white",
            "gridwidth": 2,
            "linecolor": "white",
            "showbackground": true,
            "ticks": "",
            "zerolinecolor": "white"
           }
          },
          "shapedefaults": {
           "line": {
            "color": "#2a3f5f"
           }
          },
          "ternary": {
           "aaxis": {
            "gridcolor": "white",
            "linecolor": "white",
            "ticks": ""
           },
           "baxis": {
            "gridcolor": "white",
            "linecolor": "white",
            "ticks": ""
           },
           "bgcolor": "#E5ECF6",
           "caxis": {
            "gridcolor": "white",
            "linecolor": "white",
            "ticks": ""
           }
          },
          "title": {
           "x": 0.05
          },
          "xaxis": {
           "automargin": true,
           "gridcolor": "white",
           "linecolor": "white",
           "ticks": "",
           "title": {
            "standoff": 15
           },
           "zerolinecolor": "white",
           "zerolinewidth": 2
          },
          "yaxis": {
           "automargin": true,
           "gridcolor": "white",
           "linecolor": "white",
           "ticks": "",
           "title": {
            "standoff": 15
           },
           "zerolinecolor": "white",
           "zerolinewidth": 2
          }
         }
        },
        "width": 700,
        "xaxis": {
         "anchor": "y",
         "domain": [
          0,
          0.45
         ],
         "tickmode": "array",
         "tickvals": [
          100,
          150,
          200,
          250,
          300,
          350,
          400,
          450,
          500
         ],
         "title": {
          "text": "Radius (r)"
         }
        },
        "xaxis2": {
         "anchor": "y2",
         "domain": [
          0.55,
          1
         ],
         "tickmode": "array",
         "tickvals": [
          100,
          150,
          200,
          250,
          300,
          350,
          400,
          450,
          500
         ],
         "title": {
          "text": "Radius (r)"
         }
        },
        "yaxis": {
         "anchor": "x",
         "domain": [
          0,
          1
         ],
         "tickmode": "array",
         "tickvals": [
          3,
          4,
          5,
          6
         ],
         "title": {
          "text": "k"
         }
        },
        "yaxis2": {
         "anchor": "x2",
         "domain": [
          0,
          1
         ],
         "matches": "y",
         "showticklabels": false
        }
       }
      },
      "text/html": [
       "<div>\n",
       "        \n",
       "        \n",
       "            <div id=\"6b7f6c17-7d02-4ee3-a644-de533df14034\" class=\"plotly-graph-div\" style=\"height:300px; width:700px;\"></div>\n",
       "            <script type=\"text/javascript\">\n",
       "                require([\"plotly\"], function(Plotly) {\n",
       "                    window.PLOTLYENV=window.PLOTLYENV || {};\n",
       "                    \n",
       "                if (document.getElementById(\"6b7f6c17-7d02-4ee3-a644-de533df14034\")) {\n",
       "                    Plotly.newPlot(\n",
       "                        '6b7f6c17-7d02-4ee3-a644-de533df14034',\n",
       "                        [{\"coloraxis\": \"coloraxis\", \"type\": \"heatmap\", \"x\": [100, 150, 200, 250, 300, 350, 400, 450, 500], \"xaxis\": \"x\", \"y\": [4, 5, 6], \"yaxis\": \"y\", \"z\": [[0.792, 0.829, 0.851, 0.86, 0.863, 0.861, 0.858, 0.856, 0.851], [0.803, 0.836, 0.857, 0.865, 0.868, 0.866, 0.863, 0.86, 0.855], [0.806, 0.836, 0.856, 0.863, 0.865, 0.861, 0.859, 0.855, 0.85]]}, {\"coloraxis\": \"coloraxis\", \"type\": \"heatmap\", \"x\": [100, 150, 200, 250, 300, 350, 400, 450, 500], \"xaxis\": \"x2\", \"y\": [4, 5, 6], \"yaxis\": \"y2\", \"z\": [[0.492, 0.575, 0.633, 0.673, 0.696, 0.709, 0.717, 0.723, 0.728], [0.522, 0.601, 0.655, 0.692, 0.711, 0.724, 0.73, 0.736, 0.738], [0.528, 0.603, 0.654, 0.689, 0.708, 0.717, 0.725, 0.728, 0.731]]}],\n",
       "                        {\"annotations\": [{\"font\": {\"size\": 16}, \"showarrow\": false, \"text\": \"Test on exome\", \"x\": 0.225, \"xanchor\": \"center\", \"xref\": \"paper\", \"y\": 1.0, \"yanchor\": \"bottom\", \"yref\": \"paper\"}, {\"font\": {\"size\": 16}, \"showarrow\": false, \"text\": \"Test on genome\", \"x\": 0.775, \"xanchor\": \"center\", \"xref\": \"paper\", \"y\": 1.0, \"yanchor\": \"bottom\", \"yref\": \"paper\"}], \"coloraxis\": {\"colorbar\": {\"thickness\": 20, \"title\": {\"text\": \"AUC\"}}}, \"height\": 300, \"margin\": {\"b\": 20, \"l\": 1, \"r\": 1, \"t\": 20}, \"template\": {\"data\": {\"bar\": [{\"error_x\": {\"color\": \"#2a3f5f\"}, \"error_y\": {\"color\": \"#2a3f5f\"}, \"marker\": {\"line\": {\"color\": \"#E5ECF6\", \"width\": 0.5}}, \"type\": \"bar\"}], \"barpolar\": [{\"marker\": {\"line\": {\"color\": \"#E5ECF6\", \"width\": 0.5}}, \"type\": \"barpolar\"}], \"carpet\": [{\"aaxis\": {\"endlinecolor\": \"#2a3f5f\", \"gridcolor\": \"white\", \"linecolor\": \"white\", \"minorgridcolor\": \"white\", \"startlinecolor\": \"#2a3f5f\"}, \"baxis\": {\"endlinecolor\": \"#2a3f5f\", \"gridcolor\": \"white\", \"linecolor\": \"white\", \"minorgridcolor\": \"white\", \"startlinecolor\": \"#2a3f5f\"}, \"type\": \"carpet\"}], \"choropleth\": [{\"colorbar\": {\"outlinewidth\": 0, \"ticks\": \"\"}, \"type\": \"choropleth\"}], \"contour\": [{\"colorbar\": {\"outlinewidth\": 0, \"ticks\": \"\"}, \"colorscale\": [[0.0, \"#0d0887\"], [0.1111111111111111, \"#46039f\"], [0.2222222222222222, \"#7201a8\"], [0.3333333333333333, \"#9c179e\"], [0.4444444444444444, \"#bd3786\"], [0.5555555555555556, \"#d8576b\"], [0.6666666666666666, \"#ed7953\"], [0.7777777777777778, \"#fb9f3a\"], [0.8888888888888888, \"#fdca26\"], [1.0, \"#f0f921\"]], \"type\": \"contour\"}], \"contourcarpet\": [{\"colorbar\": {\"outlinewidth\": 0, \"ticks\": \"\"}, \"type\": \"contourcarpet\"}], \"heatmap\": [{\"colorbar\": {\"outlinewidth\": 0, \"ticks\": \"\"}, \"colorscale\": [[0.0, \"#0d0887\"], [0.1111111111111111, \"#46039f\"], [0.2222222222222222, \"#7201a8\"], [0.3333333333333333, \"#9c179e\"], [0.4444444444444444, \"#bd3786\"], [0.5555555555555556, \"#d8576b\"], [0.6666666666666666, \"#ed7953\"], [0.7777777777777778, \"#fb9f3a\"], [0.8888888888888888, \"#fdca26\"], [1.0, \"#f0f921\"]], \"type\": \"heatmap\"}], \"heatmapgl\": [{\"colorbar\": {\"outlinewidth\": 0, \"ticks\": \"\"}, \"colorscale\": [[0.0, \"#0d0887\"], [0.1111111111111111, \"#46039f\"], [0.2222222222222222, \"#7201a8\"], [0.3333333333333333, \"#9c179e\"], [0.4444444444444444, \"#bd3786\"], [0.5555555555555556, \"#d8576b\"], [0.6666666666666666, \"#ed7953\"], [0.7777777777777778, \"#fb9f3a\"], [0.8888888888888888, \"#fdca26\"], [1.0, \"#f0f921\"]], \"type\": \"heatmapgl\"}], \"histogram\": [{\"marker\": {\"colorbar\": {\"outlinewidth\": 0, \"ticks\": \"\"}}, \"type\": \"histogram\"}], \"histogram2d\": [{\"colorbar\": {\"outlinewidth\": 0, \"ticks\": \"\"}, \"colorscale\": [[0.0, \"#0d0887\"], [0.1111111111111111, \"#46039f\"], [0.2222222222222222, \"#7201a8\"], [0.3333333333333333, \"#9c179e\"], [0.4444444444444444, \"#bd3786\"], [0.5555555555555556, \"#d8576b\"], [0.6666666666666666, \"#ed7953\"], [0.7777777777777778, \"#fb9f3a\"], [0.8888888888888888, \"#fdca26\"], [1.0, \"#f0f921\"]], \"type\": \"histogram2d\"}], \"histogram2dcontour\": [{\"colorbar\": {\"outlinewidth\": 0, \"ticks\": \"\"}, \"colorscale\": [[0.0, \"#0d0887\"], [0.1111111111111111, \"#46039f\"], [0.2222222222222222, \"#7201a8\"], [0.3333333333333333, \"#9c179e\"], [0.4444444444444444, \"#bd3786\"], [0.5555555555555556, \"#d8576b\"], [0.6666666666666666, \"#ed7953\"], [0.7777777777777778, \"#fb9f3a\"], [0.8888888888888888, \"#fdca26\"], [1.0, \"#f0f921\"]], \"type\": \"histogram2dcontour\"}], \"mesh3d\": [{\"colorbar\": {\"outlinewidth\": 0, \"ticks\": \"\"}, \"type\": \"mesh3d\"}], \"parcoords\": [{\"line\": {\"colorbar\": {\"outlinewidth\": 0, \"ticks\": \"\"}}, \"type\": \"parcoords\"}], \"pie\": [{\"automargin\": true, \"type\": \"pie\"}], \"scatter\": [{\"marker\": {\"colorbar\": {\"outlinewidth\": 0, \"ticks\": \"\"}}, \"type\": \"scatter\"}], \"scatter3d\": [{\"line\": {\"colorbar\": {\"outlinewidth\": 0, \"ticks\": \"\"}}, \"marker\": {\"colorbar\": {\"outlinewidth\": 0, \"ticks\": \"\"}}, \"type\": \"scatter3d\"}], \"scattercarpet\": [{\"marker\": {\"colorbar\": {\"outlinewidth\": 0, \"ticks\": \"\"}}, \"type\": \"scattercarpet\"}], \"scattergeo\": [{\"marker\": {\"colorbar\": {\"outlinewidth\": 0, \"ticks\": \"\"}}, \"type\": \"scattergeo\"}], \"scattergl\": [{\"marker\": {\"colorbar\": {\"outlinewidth\": 0, \"ticks\": \"\"}}, \"type\": \"scattergl\"}], \"scattermapbox\": [{\"marker\": {\"colorbar\": {\"outlinewidth\": 0, \"ticks\": \"\"}}, \"type\": \"scattermapbox\"}], \"scatterpolar\": [{\"marker\": {\"colorbar\": {\"outlinewidth\": 0, \"ticks\": \"\"}}, \"type\": \"scatterpolar\"}], \"scatterpolargl\": [{\"marker\": {\"colorbar\": {\"outlinewidth\": 0, \"ticks\": \"\"}}, \"type\": \"scatterpolargl\"}], \"scatterternary\": [{\"marker\": {\"colorbar\": {\"outlinewidth\": 0, \"ticks\": \"\"}}, \"type\": \"scatterternary\"}], \"surface\": [{\"colorbar\": {\"outlinewidth\": 0, \"ticks\": \"\"}, \"colorscale\": [[0.0, \"#0d0887\"], [0.1111111111111111, \"#46039f\"], [0.2222222222222222, \"#7201a8\"], [0.3333333333333333, \"#9c179e\"], [0.4444444444444444, \"#bd3786\"], [0.5555555555555556, \"#d8576b\"], [0.6666666666666666, \"#ed7953\"], [0.7777777777777778, \"#fb9f3a\"], [0.8888888888888888, \"#fdca26\"], [1.0, \"#f0f921\"]], \"type\": \"surface\"}], \"table\": [{\"cells\": {\"fill\": {\"color\": \"#EBF0F8\"}, \"line\": {\"color\": \"white\"}}, \"header\": {\"fill\": {\"color\": \"#C8D4E3\"}, \"line\": {\"color\": \"white\"}}, \"type\": \"table\"}]}, \"layout\": {\"annotationdefaults\": {\"arrowcolor\": \"#2a3f5f\", \"arrowhead\": 0, \"arrowwidth\": 1}, \"coloraxis\": {\"colorbar\": {\"outlinewidth\": 0, \"ticks\": \"\"}}, \"colorscale\": {\"diverging\": [[0, \"#8e0152\"], [0.1, \"#c51b7d\"], [0.2, \"#de77ae\"], [0.3, \"#f1b6da\"], [0.4, \"#fde0ef\"], [0.5, \"#f7f7f7\"], [0.6, \"#e6f5d0\"], [0.7, \"#b8e186\"], [0.8, \"#7fbc41\"], [0.9, \"#4d9221\"], [1, \"#276419\"]], \"sequential\": [[0.0, \"#0d0887\"], [0.1111111111111111, \"#46039f\"], [0.2222222222222222, \"#7201a8\"], [0.3333333333333333, \"#9c179e\"], [0.4444444444444444, \"#bd3786\"], [0.5555555555555556, \"#d8576b\"], [0.6666666666666666, \"#ed7953\"], [0.7777777777777778, \"#fb9f3a\"], [0.8888888888888888, \"#fdca26\"], [1.0, \"#f0f921\"]], \"sequentialminus\": [[0.0, \"#0d0887\"], [0.1111111111111111, \"#46039f\"], [0.2222222222222222, \"#7201a8\"], [0.3333333333333333, \"#9c179e\"], [0.4444444444444444, \"#bd3786\"], [0.5555555555555556, \"#d8576b\"], [0.6666666666666666, \"#ed7953\"], [0.7777777777777778, \"#fb9f3a\"], [0.8888888888888888, \"#fdca26\"], [1.0, \"#f0f921\"]]}, \"colorway\": [\"#636efa\", \"#EF553B\", \"#00cc96\", \"#ab63fa\", \"#FFA15A\", \"#19d3f3\", \"#FF6692\", \"#B6E880\", \"#FF97FF\", \"#FECB52\"], \"font\": {\"color\": \"#2a3f5f\"}, \"geo\": {\"bgcolor\": \"white\", \"lakecolor\": \"white\", \"landcolor\": \"#E5ECF6\", \"showlakes\": true, \"showland\": true, \"subunitcolor\": \"white\"}, \"hoverlabel\": {\"align\": \"left\"}, \"hovermode\": \"closest\", \"mapbox\": {\"style\": \"light\"}, \"paper_bgcolor\": \"white\", \"plot_bgcolor\": \"#E5ECF6\", \"polar\": {\"angularaxis\": {\"gridcolor\": \"white\", \"linecolor\": \"white\", \"ticks\": \"\"}, \"bgcolor\": \"#E5ECF6\", \"radialaxis\": {\"gridcolor\": \"white\", \"linecolor\": \"white\", \"ticks\": \"\"}}, \"scene\": {\"xaxis\": {\"backgroundcolor\": \"#E5ECF6\", \"gridcolor\": \"white\", \"gridwidth\": 2, \"linecolor\": \"white\", \"showbackground\": true, \"ticks\": \"\", \"zerolinecolor\": \"white\"}, \"yaxis\": {\"backgroundcolor\": \"#E5ECF6\", \"gridcolor\": \"white\", \"gridwidth\": 2, \"linecolor\": \"white\", \"showbackground\": true, \"ticks\": \"\", \"zerolinecolor\": \"white\"}, \"zaxis\": {\"backgroundcolor\": \"#E5ECF6\", \"gridcolor\": \"white\", \"gridwidth\": 2, \"linecolor\": \"white\", \"showbackground\": true, \"ticks\": \"\", \"zerolinecolor\": \"white\"}}, \"shapedefaults\": {\"line\": {\"color\": \"#2a3f5f\"}}, \"ternary\": {\"aaxis\": {\"gridcolor\": \"white\", \"linecolor\": \"white\", \"ticks\": \"\"}, \"baxis\": {\"gridcolor\": \"white\", \"linecolor\": \"white\", \"ticks\": \"\"}, \"bgcolor\": \"#E5ECF6\", \"caxis\": {\"gridcolor\": \"white\", \"linecolor\": \"white\", \"ticks\": \"\"}}, \"title\": {\"x\": 0.05}, \"xaxis\": {\"automargin\": true, \"gridcolor\": \"white\", \"linecolor\": \"white\", \"ticks\": \"\", \"title\": {\"standoff\": 15}, \"zerolinecolor\": \"white\", \"zerolinewidth\": 2}, \"yaxis\": {\"automargin\": true, \"gridcolor\": \"white\", \"linecolor\": \"white\", \"ticks\": \"\", \"title\": {\"standoff\": 15}, \"zerolinecolor\": \"white\", \"zerolinewidth\": 2}}}, \"width\": 700, \"xaxis\": {\"anchor\": \"y\", \"domain\": [0.0, 0.45], \"tickmode\": \"array\", \"tickvals\": [100, 150, 200, 250, 300, 350, 400, 450, 500], \"title\": {\"text\": \"Radius (r)\"}}, \"xaxis2\": {\"anchor\": \"y2\", \"domain\": [0.55, 1.0], \"tickmode\": \"array\", \"tickvals\": [100, 150, 200, 250, 300, 350, 400, 450, 500], \"title\": {\"text\": \"Radius (r)\"}}, \"yaxis\": {\"anchor\": \"x\", \"domain\": [0.0, 1.0], \"tickmode\": \"array\", \"tickvals\": [3, 4, 5, 6], \"title\": {\"text\": \"k\"}}, \"yaxis2\": {\"anchor\": \"x2\", \"domain\": [0.0, 1.0], \"matches\": \"y\", \"showticklabels\": false}},\n",
       "                        {\"responsive\": true}\n",
       "                    ).then(function(){\n",
       "                            \n",
       "var gd = document.getElementById('6b7f6c17-7d02-4ee3-a644-de533df14034');\n",
       "var x = new MutationObserver(function (mutations, observer) {{\n",
       "        var display = window.getComputedStyle(gd).display;\n",
       "        if (!display || display === 'none') {{\n",
       "            console.log([gd, 'removed!']);\n",
       "            Plotly.purge(gd);\n",
       "            observer.disconnect();\n",
       "        }}\n",
       "}});\n",
       "\n",
       "// Listen for the removal of the full notebook cells\n",
       "var notebookContainer = gd.closest('#notebook-container');\n",
       "if (notebookContainer) {{\n",
       "    x.observe(notebookContainer, {childList: true});\n",
       "}}\n",
       "\n",
       "// Listen for the clearing of the current output cell\n",
       "var outputEl = gd.closest('.output');\n",
       "if (outputEl) {{\n",
       "    x.observe(outputEl, {childList: true});\n",
       "}}\n",
       "\n",
       "                        })\n",
       "                };\n",
       "                });\n",
       "            </script>\n",
       "        </div>"
      ]
     },
     "metadata": {},
     "output_type": "display_data"
    }
   ],
   "source": [
    "fig = make_subplots(rows=1, cols=2, \n",
    "                    shared_yaxes=True,\n",
    "                   # horizontal_spacing = 0.025,\n",
    "                    subplot_titles=('Test on exome', 'Test on genome', 'Retained in genome'))\n",
    "\n",
    "tmp = mean_scores_L1.reindex_like(mean_scores_genome)\n",
    "fig.add_trace(go.Heatmap(z=tmp, \n",
    "                         y = tmp.index, \n",
    "                         x = tmp.columns, \n",
    "                         coloraxis=\"coloraxis\"), row=1, col=1)\n",
    "\n",
    "fig.add_trace(go.Heatmap(z=mean_scores_genome, \n",
    "                         y=mean_scores_genome.index, \n",
    "                         x=mean_scores_genome.columns, \n",
    "                         coloraxis=\"coloraxis\"), row=1,col=2)\n",
    "\n",
    "#tmp = mean_scores_genome/mean_scores_L1.reindex_like(mean_scores_genome)\n",
    "#fig.add_trace(go.Heatmap(z=tmp, \n",
    "#                         y = tmp.index, \n",
    "#                         x = tmp.columns, \n",
    "#                         coloraxis=\"coloraxis\"), row=1, col=3)\n",
    "\n",
    "\n",
    "fig.update_xaxes(title_text=\"Radius (r)\",tickmode = 'array', tickvals = mean_scores_L1.columns)\n",
    "fig.update_yaxes(title_text=\"k\", tickmode = 'array', tickvals = mean_scores_L1.index, row=1, col=1)\n",
    "fig.update_layout(coloraxis_colorbar_thickness=20, coloraxis_colorbar_title='AUC')\n",
    "\n",
    "snap(fig, 'logistic_exon-genome_grid.pdf')"
   ]
  },
  {
   "cell_type": "markdown",
   "metadata": {},
   "source": [
    "# Training on entire genome\n",
    "\n",
    "We observe that r=500 and k=5 retains the most performance when generalizing from exome to whole genome. \n",
    "86.3% of the AUC (0.855) on exome is retained to yield an AUC of 0.738 on the whole genome.\n",
    "\n",
    "Now we re-fit the model to the whole genome data to see whether it improves. \n",
    "\n",
    "Note that this takes a long time and actually reduces the auc to 0.727"
   ]
  },
  {
   "cell_type": "code",
   "execution_count": 500,
   "metadata": {},
   "outputs": [
    {
     "name": "stderr",
     "output_type": "stream",
     "text": [
      "[Parallel(n_jobs=16)]: Using backend LokyBackend with 16 concurrent workers.\n",
      "[Parallel(n_jobs=16)]: Done  10 out of  16 | elapsed: 105.2min remaining: 63.1min\n",
      "[Parallel(n_jobs=16)]: Done  16 out of  16 | elapsed: 120.3min finished\n"
     ]
    }
   ],
   "source": [
    "organism='Apis_mellifera'\n",
    "data_prefix = join('../data',organism, 'genome')\n",
    "\n",
    "k=5\n",
    "r=500\n",
    "\n",
    "#retain large dataset so we don't have to keep loading it\n",
    "X_genome, y_genome, seqid_genome = get_data(r,k,data_prefix) \n",
    "\n",
    "model = models['L1'][r][k][0]\n",
    "model['logisticregression'].set_params(warm_start = True)\n",
    "\n",
    "genome_scores = cross_validate(model, X_genome , \n",
    "                               y_genome, \n",
    "                               cv=LeaveOneGroupOut().split(X_genome,y_genome,seqid_genome),\n",
    "                               scoring=pr_auc, \n",
    "                               n_jobs=16,\n",
    "                               return_estimator=True,\n",
    "                               pre_dispatch = 'n_jobs',\n",
    "                               verbose = 2)"
   ]
  },
  {
   "cell_type": "code",
   "execution_count": 502,
   "metadata": {
    "scrolled": true
   },
   "outputs": [
    {
     "data": {
      "text/plain": [
       "0.7271409393054988"
      ]
     },
     "execution_count": 502,
     "metadata": {},
     "output_type": "execute_result"
    }
   ],
   "source": [
    "genome_scores['test_score'].mean()"
   ]
  },
  {
   "cell_type": "markdown",
   "metadata": {},
   "source": [
    "# Tuning regularization strength\n",
    "\n",
    "We choose the best model and increase regularization strength until it breaks"
   ]
  },
  {
   "cell_type": "code",
   "execution_count": 54,
   "metadata": {
    "scrolled": true
   },
   "outputs": [
    {
     "name": "stdout",
     "output_type": "stream",
     "text": [
      "exome/r500_5mer.pkl: size: 179042, pos: 28051, baseline: 0.16\n"
     ]
    },
    {
     "name": "stderr",
     "output_type": "stream",
     "text": [
      "[Parallel(n_jobs=16)]: Using backend LokyBackend with 16 concurrent workers.\n",
      "[Parallel(n_jobs=16)]: Done   2 out of  16 | elapsed:   48.3s remaining:  5.6min\n",
      "[Parallel(n_jobs=16)]: Done  16 out of  16 | elapsed:  1.3min finished\n",
      "[Parallel(n_jobs=16)]: Using backend LokyBackend with 16 concurrent workers.\n",
      "[Parallel(n_jobs=16)]: Done   2 out of  16 | elapsed:   34.2s remaining:  4.0min\n",
      "[Parallel(n_jobs=16)]: Done  16 out of  16 | elapsed:   57.5s finished\n",
      "[Parallel(n_jobs=16)]: Using backend LokyBackend with 16 concurrent workers.\n",
      "[Parallel(n_jobs=16)]: Done   2 out of  16 | elapsed:   15.0s remaining:  1.8min\n",
      "[Parallel(n_jobs=16)]: Done  16 out of  16 | elapsed:   18.6s finished\n",
      "[Parallel(n_jobs=16)]: Using backend LokyBackend with 16 concurrent workers.\n",
      "[Parallel(n_jobs=16)]: Done   2 out of  16 | elapsed:   12.8s remaining:  1.5min\n",
      "[Parallel(n_jobs=16)]: Done  16 out of  16 | elapsed:   15.2s finished\n",
      "[Parallel(n_jobs=16)]: Using backend LokyBackend with 16 concurrent workers.\n",
      "[Parallel(n_jobs=16)]: Done   2 out of  16 | elapsed:   10.9s remaining:  1.3min\n",
      "[Parallel(n_jobs=16)]: Done  16 out of  16 | elapsed:   12.7s finished\n"
     ]
    }
   ],
   "source": [
    "data_prefix = '../data/Apis_mellifera/exome'\n",
    "model_prefix ='../models/Apis_mellifera/exome'\n",
    "r, k = 500, 5\n",
    "\n",
    "model = get_model(r,k,model_prefix)['l1']['estimator'][0]\n",
    "\n",
    "X, y, seqid = get_data(r, k, data_prefix)\n",
    "\n",
    "c_scores = dict()\n",
    "\n",
    "for C in [0.01, 0.005, 0.001, 0.0005, 0.0001] :\n",
    "\n",
    "    model['logisticregression'].set_params(penalty='l1', C=C, warm_start=True)\n",
    "\n",
    "    scores = cross_validate(model, X, y, cv=LeaveOneGroupOut().split(X,y,seqid),\n",
    "                            scoring=pr_auc, \n",
    "                            n_jobs=16,\n",
    "                            return_estimator=True,\n",
    "                            verbose = 1)\n",
    "    c_scores[C] = scores"
   ]
  },
  {
   "cell_type": "code",
   "execution_count": 55,
   "metadata": {
    "scrolled": true
   },
   "outputs": [
    {
     "name": "stdout",
     "output_type": "stream",
     "text": [
      "0.01 0.85 0.03\n",
      "0.005 0.86 0.03\n",
      "0.001 0.85 0.02\n",
      "0.0005 0.85 0.02\n",
      "0.0001 0.76 0.03\n"
     ]
    }
   ],
   "source": [
    "for c,scores in c_scores.items() :\n",
    "    print (c, scores['test_score'].mean().round(2), scores['test_score'].std().round(2))"
   ]
  },
  {
   "cell_type": "markdown",
   "metadata": {},
   "source": [
    "# Learning Curve"
   ]
  },
  {
   "cell_type": "code",
   "execution_count": 52,
   "metadata": {},
   "outputs": [
    {
     "name": "stdout",
     "output_type": "stream",
     "text": [
      "[learning_curve] Training set sizes: [ 15716  31432  47148  62864  78581  94297 110013 125729 141445 157162]\n"
     ]
    },
    {
     "name": "stderr",
     "output_type": "stream",
     "text": [
      "[Parallel(n_jobs=16)]: Using backend LokyBackend with 16 concurrent workers.\n",
      "[Parallel(n_jobs=16)]: Done  25 tasks      | elapsed:   39.2s\n",
      "[Parallel(n_jobs=16)]: Done 160 out of 160 | elapsed:  4.0min finished\n"
     ]
    },
    {
     "name": "stdout",
     "output_type": "stream",
     "text": [
      "[learning_curve] Training set sizes: [ 15716  31432  47148  62864  78581  94297 110013 125729 141445 157162]\n"
     ]
    },
    {
     "name": "stderr",
     "output_type": "stream",
     "text": [
      "[Parallel(n_jobs=16)]: Using backend LokyBackend with 16 concurrent workers.\n",
      "[Parallel(n_jobs=16)]: Done  25 tasks      | elapsed:   13.7s\n",
      "[Parallel(n_jobs=16)]: Done 160 out of 160 | elapsed:  1.4min finished\n"
     ]
    }
   ],
   "source": [
    "train_frac = np.linspace(0.1, 1.0, 10)\n",
    "\n",
    "train_scores=dict()\n",
    "test_scores=dict()\n",
    "\n",
    "for C in [0.01,0.001] :\n",
    "\n",
    "    model['logisticregression'].set_params(warm_start=False, C=C)\n",
    "\n",
    "    train_sizes, train_scores[C], test_scores[C] = learning_curve(model, X, y, groups=seqid, \n",
    "                        cv=LeaveOneGroupOut().split(X,y,seqid), \n",
    "                        scoring=pr_auc, \n",
    "                        n_jobs = 16 , pre_dispatch='n_jobs',\n",
    "                        verbose = 2,\n",
    "                        train_sizes = train_frac)"
   ]
  },
  {
   "cell_type": "code",
   "execution_count": 83,
   "metadata": {
    "scrolled": false
   },
   "outputs": [
    {
     "data": {
      "application/vnd.plotly.v1+json": {
       "config": {
        "plotlyServerURL": "https://plot.ly"
       },
       "data": [
        {
         "error_y": {
          "array": [
           0.01266118180612587,
           0.008859001024321434,
           0.003788115384230218,
           0.0039239010868422205,
           0.004637104271410127,
           0.0031542126711083603,
           0.002158980002068336,
           0.0026925301039138973,
           0.002304566393817693,
           0.001806665440417587
          ],
          "type": "data",
          "visible": true
         },
         "legendgroup": "all",
         "marker": {
          "color": "green",
          "opacity": 1
         },
         "name": "train",
         "type": "scatter",
         "x": [
          0.1,
          0.2,
          0.30000000000000004,
          0.4,
          0.5,
          0.6,
          0.7000000000000001,
          0.8,
          0.9,
          1
         ],
         "xaxis": "x",
         "y": [
          0.902143598054875,
          0.8982523794683165,
          0.8839553832090464,
          0.8831417747690133,
          0.8809465444482051,
          0.877000851307959,
          0.8766660213207951,
          0.8768755039671371,
          0.8753395892717939,
          0.8746724904305407
         ],
         "yaxis": "y"
        },
        {
         "error_y": {
          "array": [
           0.023242106802450733,
           0.023199766504404053,
           0.025856137766137793,
           0.02346307505879736,
           0.022828184417701257,
           0.023312174976752722,
           0.023407950736554096,
           0.023359682202426357,
           0.02667521072651897,
           0.02672893729494874
          ],
          "type": "data",
          "visible": true
         },
         "legendgroup": "all",
         "marker": {
          "color": "red",
          "opacity": 1
         },
         "name": "test",
         "type": "scatter",
         "x": [
          0.1,
          0.2,
          0.30000000000000004,
          0.4,
          0.5,
          0.6,
          0.7000000000000001,
          0.8,
          0.9,
          1
         ],
         "xaxis": "x",
         "y": [
          0.8465407894596344,
          0.8518606296103949,
          0.8498093573216823,
          0.854901972713084,
          0.856923372205817,
          0.8580588667649872,
          0.8588186133425928,
          0.8572139467939284,
          0.854497826543451,
          0.8549894556972195
         ],
         "yaxis": "y"
        },
        {
         "error_y": {
          "array": [
           0.01403419047461524,
           0.008069229251077437,
           0.0024971211126434707,
           0.0030242078908997248,
           0.0036998222531418813,
           0.002723850086780894,
           0.0020058110294813767,
           0.0026703164009121297,
           0.0021548965545700022,
           0.001623054059057357
          ],
          "type": "data",
          "visible": true
         },
         "legendgroup": "all",
         "marker": {
          "color": "green",
          "opacity": 1
         },
         "name": "train",
         "showlegend": false,
         "type": "scatter",
         "x": [
          0.1,
          0.2,
          0.30000000000000004,
          0.4,
          0.5,
          0.6,
          0.7000000000000001,
          0.8,
          0.9,
          1
         ],
         "xaxis": "x2",
         "y": [
          0.7936515988065895,
          0.8495397979759581,
          0.8552799621625754,
          0.8600344992352698,
          0.8615465275907819,
          0.8604379248652405,
          0.8612591300557372,
          0.861122098119874,
          0.8604718154230973,
          0.8603221562377357
         ],
         "yaxis": "y2"
        },
        {
         "error_y": {
          "array": [
           0.0310654483307945,
           0.027937448907392352,
           0.025670512501131695,
           0.02433485578918588,
           0.02419440180911303,
           0.023672220320790072,
           0.02308390451790165,
           0.022489350767740175,
           0.02272340553554222,
           0.02259297225358166
          ],
          "type": "data",
          "visible": true
         },
         "legendgroup": "all",
         "marker": {
          "color": "red",
          "opacity": 1
         },
         "name": "test",
         "showlegend": false,
         "type": "scatter",
         "x": [
          0.1,
          0.2,
          0.30000000000000004,
          0.4,
          0.5,
          0.6,
          0.7000000000000001,
          0.8,
          0.9,
          1
         ],
         "xaxis": "x2",
         "y": [
          0.7637333906225005,
          0.8145990978955909,
          0.8340734309550936,
          0.8420987001054719,
          0.845971802660287,
          0.8495967729918129,
          0.8517583342547336,
          0.8536593239021981,
          0.8537334995091109,
          0.8538603368942905
         ],
         "yaxis": "y2"
        }
       ],
       "layout": {
        "annotations": [
         {
          "font": {
           "size": 16
          },
          "showarrow": false,
          "text": "Moderate regularization",
          "x": 0.225,
          "xanchor": "center",
          "xref": "paper",
          "y": 1,
          "yanchor": "bottom",
          "yref": "paper"
         },
         {
          "font": {
           "size": 16
          },
          "showarrow": false,
          "text": "Strong regularization",
          "x": 0.775,
          "xanchor": "center",
          "xref": "paper",
          "y": 1,
          "yanchor": "bottom",
          "yref": "paper"
         }
        ],
        "height": 300,
        "legend": {
         "x": 0.3,
         "y": 0.15
        },
        "margin": {
         "b": 20,
         "l": 1,
         "r": 1,
         "t": 20
        },
        "template": {
         "data": {
          "bar": [
           {
            "error_x": {
             "color": "#2a3f5f"
            },
            "error_y": {
             "color": "#2a3f5f"
            },
            "marker": {
             "line": {
              "color": "#E5ECF6",
              "width": 0.5
             }
            },
            "type": "bar"
           }
          ],
          "barpolar": [
           {
            "marker": {
             "line": {
              "color": "#E5ECF6",
              "width": 0.5
             }
            },
            "type": "barpolar"
           }
          ],
          "carpet": [
           {
            "aaxis": {
             "endlinecolor": "#2a3f5f",
             "gridcolor": "white",
             "linecolor": "white",
             "minorgridcolor": "white",
             "startlinecolor": "#2a3f5f"
            },
            "baxis": {
             "endlinecolor": "#2a3f5f",
             "gridcolor": "white",
             "linecolor": "white",
             "minorgridcolor": "white",
             "startlinecolor": "#2a3f5f"
            },
            "type": "carpet"
           }
          ],
          "choropleth": [
           {
            "colorbar": {
             "outlinewidth": 0,
             "ticks": ""
            },
            "type": "choropleth"
           }
          ],
          "contour": [
           {
            "colorbar": {
             "outlinewidth": 0,
             "ticks": ""
            },
            "colorscale": [
             [
              0,
              "#0d0887"
             ],
             [
              0.1111111111111111,
              "#46039f"
             ],
             [
              0.2222222222222222,
              "#7201a8"
             ],
             [
              0.3333333333333333,
              "#9c179e"
             ],
             [
              0.4444444444444444,
              "#bd3786"
             ],
             [
              0.5555555555555556,
              "#d8576b"
             ],
             [
              0.6666666666666666,
              "#ed7953"
             ],
             [
              0.7777777777777778,
              "#fb9f3a"
             ],
             [
              0.8888888888888888,
              "#fdca26"
             ],
             [
              1,
              "#f0f921"
             ]
            ],
            "type": "contour"
           }
          ],
          "contourcarpet": [
           {
            "colorbar": {
             "outlinewidth": 0,
             "ticks": ""
            },
            "type": "contourcarpet"
           }
          ],
          "heatmap": [
           {
            "colorbar": {
             "outlinewidth": 0,
             "ticks": ""
            },
            "colorscale": [
             [
              0,
              "#0d0887"
             ],
             [
              0.1111111111111111,
              "#46039f"
             ],
             [
              0.2222222222222222,
              "#7201a8"
             ],
             [
              0.3333333333333333,
              "#9c179e"
             ],
             [
              0.4444444444444444,
              "#bd3786"
             ],
             [
              0.5555555555555556,
              "#d8576b"
             ],
             [
              0.6666666666666666,
              "#ed7953"
             ],
             [
              0.7777777777777778,
              "#fb9f3a"
             ],
             [
              0.8888888888888888,
              "#fdca26"
             ],
             [
              1,
              "#f0f921"
             ]
            ],
            "type": "heatmap"
           }
          ],
          "heatmapgl": [
           {
            "colorbar": {
             "outlinewidth": 0,
             "ticks": ""
            },
            "colorscale": [
             [
              0,
              "#0d0887"
             ],
             [
              0.1111111111111111,
              "#46039f"
             ],
             [
              0.2222222222222222,
              "#7201a8"
             ],
             [
              0.3333333333333333,
              "#9c179e"
             ],
             [
              0.4444444444444444,
              "#bd3786"
             ],
             [
              0.5555555555555556,
              "#d8576b"
             ],
             [
              0.6666666666666666,
              "#ed7953"
             ],
             [
              0.7777777777777778,
              "#fb9f3a"
             ],
             [
              0.8888888888888888,
              "#fdca26"
             ],
             [
              1,
              "#f0f921"
             ]
            ],
            "type": "heatmapgl"
           }
          ],
          "histogram": [
           {
            "marker": {
             "colorbar": {
              "outlinewidth": 0,
              "ticks": ""
             }
            },
            "type": "histogram"
           }
          ],
          "histogram2d": [
           {
            "colorbar": {
             "outlinewidth": 0,
             "ticks": ""
            },
            "colorscale": [
             [
              0,
              "#0d0887"
             ],
             [
              0.1111111111111111,
              "#46039f"
             ],
             [
              0.2222222222222222,
              "#7201a8"
             ],
             [
              0.3333333333333333,
              "#9c179e"
             ],
             [
              0.4444444444444444,
              "#bd3786"
             ],
             [
              0.5555555555555556,
              "#d8576b"
             ],
             [
              0.6666666666666666,
              "#ed7953"
             ],
             [
              0.7777777777777778,
              "#fb9f3a"
             ],
             [
              0.8888888888888888,
              "#fdca26"
             ],
             [
              1,
              "#f0f921"
             ]
            ],
            "type": "histogram2d"
           }
          ],
          "histogram2dcontour": [
           {
            "colorbar": {
             "outlinewidth": 0,
             "ticks": ""
            },
            "colorscale": [
             [
              0,
              "#0d0887"
             ],
             [
              0.1111111111111111,
              "#46039f"
             ],
             [
              0.2222222222222222,
              "#7201a8"
             ],
             [
              0.3333333333333333,
              "#9c179e"
             ],
             [
              0.4444444444444444,
              "#bd3786"
             ],
             [
              0.5555555555555556,
              "#d8576b"
             ],
             [
              0.6666666666666666,
              "#ed7953"
             ],
             [
              0.7777777777777778,
              "#fb9f3a"
             ],
             [
              0.8888888888888888,
              "#fdca26"
             ],
             [
              1,
              "#f0f921"
             ]
            ],
            "type": "histogram2dcontour"
           }
          ],
          "mesh3d": [
           {
            "colorbar": {
             "outlinewidth": 0,
             "ticks": ""
            },
            "type": "mesh3d"
           }
          ],
          "parcoords": [
           {
            "line": {
             "colorbar": {
              "outlinewidth": 0,
              "ticks": ""
             }
            },
            "type": "parcoords"
           }
          ],
          "pie": [
           {
            "automargin": true,
            "type": "pie"
           }
          ],
          "scatter": [
           {
            "marker": {
             "colorbar": {
              "outlinewidth": 0,
              "ticks": ""
             }
            },
            "type": "scatter"
           }
          ],
          "scatter3d": [
           {
            "line": {
             "colorbar": {
              "outlinewidth": 0,
              "ticks": ""
             }
            },
            "marker": {
             "colorbar": {
              "outlinewidth": 0,
              "ticks": ""
             }
            },
            "type": "scatter3d"
           }
          ],
          "scattercarpet": [
           {
            "marker": {
             "colorbar": {
              "outlinewidth": 0,
              "ticks": ""
             }
            },
            "type": "scattercarpet"
           }
          ],
          "scattergeo": [
           {
            "marker": {
             "colorbar": {
              "outlinewidth": 0,
              "ticks": ""
             }
            },
            "type": "scattergeo"
           }
          ],
          "scattergl": [
           {
            "marker": {
             "colorbar": {
              "outlinewidth": 0,
              "ticks": ""
             }
            },
            "type": "scattergl"
           }
          ],
          "scattermapbox": [
           {
            "marker": {
             "colorbar": {
              "outlinewidth": 0,
              "ticks": ""
             }
            },
            "type": "scattermapbox"
           }
          ],
          "scatterpolar": [
           {
            "marker": {
             "colorbar": {
              "outlinewidth": 0,
              "ticks": ""
             }
            },
            "type": "scatterpolar"
           }
          ],
          "scatterpolargl": [
           {
            "marker": {
             "colorbar": {
              "outlinewidth": 0,
              "ticks": ""
             }
            },
            "type": "scatterpolargl"
           }
          ],
          "scatterternary": [
           {
            "marker": {
             "colorbar": {
              "outlinewidth": 0,
              "ticks": ""
             }
            },
            "type": "scatterternary"
           }
          ],
          "surface": [
           {
            "colorbar": {
             "outlinewidth": 0,
             "ticks": ""
            },
            "colorscale": [
             [
              0,
              "#0d0887"
             ],
             [
              0.1111111111111111,
              "#46039f"
             ],
             [
              0.2222222222222222,
              "#7201a8"
             ],
             [
              0.3333333333333333,
              "#9c179e"
             ],
             [
              0.4444444444444444,
              "#bd3786"
             ],
             [
              0.5555555555555556,
              "#d8576b"
             ],
             [
              0.6666666666666666,
              "#ed7953"
             ],
             [
              0.7777777777777778,
              "#fb9f3a"
             ],
             [
              0.8888888888888888,
              "#fdca26"
             ],
             [
              1,
              "#f0f921"
             ]
            ],
            "type": "surface"
           }
          ],
          "table": [
           {
            "cells": {
             "fill": {
              "color": "#EBF0F8"
             },
             "line": {
              "color": "white"
             }
            },
            "header": {
             "fill": {
              "color": "#C8D4E3"
             },
             "line": {
              "color": "white"
             }
            },
            "type": "table"
           }
          ]
         },
         "layout": {
          "annotationdefaults": {
           "arrowcolor": "#2a3f5f",
           "arrowhead": 0,
           "arrowwidth": 1
          },
          "coloraxis": {
           "colorbar": {
            "outlinewidth": 0,
            "ticks": ""
           }
          },
          "colorscale": {
           "diverging": [
            [
             0,
             "#8e0152"
            ],
            [
             0.1,
             "#c51b7d"
            ],
            [
             0.2,
             "#de77ae"
            ],
            [
             0.3,
             "#f1b6da"
            ],
            [
             0.4,
             "#fde0ef"
            ],
            [
             0.5,
             "#f7f7f7"
            ],
            [
             0.6,
             "#e6f5d0"
            ],
            [
             0.7,
             "#b8e186"
            ],
            [
             0.8,
             "#7fbc41"
            ],
            [
             0.9,
             "#4d9221"
            ],
            [
             1,
             "#276419"
            ]
           ],
           "sequential": [
            [
             0,
             "#0d0887"
            ],
            [
             0.1111111111111111,
             "#46039f"
            ],
            [
             0.2222222222222222,
             "#7201a8"
            ],
            [
             0.3333333333333333,
             "#9c179e"
            ],
            [
             0.4444444444444444,
             "#bd3786"
            ],
            [
             0.5555555555555556,
             "#d8576b"
            ],
            [
             0.6666666666666666,
             "#ed7953"
            ],
            [
             0.7777777777777778,
             "#fb9f3a"
            ],
            [
             0.8888888888888888,
             "#fdca26"
            ],
            [
             1,
             "#f0f921"
            ]
           ],
           "sequentialminus": [
            [
             0,
             "#0d0887"
            ],
            [
             0.1111111111111111,
             "#46039f"
            ],
            [
             0.2222222222222222,
             "#7201a8"
            ],
            [
             0.3333333333333333,
             "#9c179e"
            ],
            [
             0.4444444444444444,
             "#bd3786"
            ],
            [
             0.5555555555555556,
             "#d8576b"
            ],
            [
             0.6666666666666666,
             "#ed7953"
            ],
            [
             0.7777777777777778,
             "#fb9f3a"
            ],
            [
             0.8888888888888888,
             "#fdca26"
            ],
            [
             1,
             "#f0f921"
            ]
           ]
          },
          "colorway": [
           "#636efa",
           "#EF553B",
           "#00cc96",
           "#ab63fa",
           "#FFA15A",
           "#19d3f3",
           "#FF6692",
           "#B6E880",
           "#FF97FF",
           "#FECB52"
          ],
          "font": {
           "color": "#2a3f5f"
          },
          "geo": {
           "bgcolor": "white",
           "lakecolor": "white",
           "landcolor": "#E5ECF6",
           "showlakes": true,
           "showland": true,
           "subunitcolor": "white"
          },
          "hoverlabel": {
           "align": "left"
          },
          "hovermode": "closest",
          "mapbox": {
           "style": "light"
          },
          "paper_bgcolor": "white",
          "plot_bgcolor": "#E5ECF6",
          "polar": {
           "angularaxis": {
            "gridcolor": "white",
            "linecolor": "white",
            "ticks": ""
           },
           "bgcolor": "#E5ECF6",
           "radialaxis": {
            "gridcolor": "white",
            "linecolor": "white",
            "ticks": ""
           }
          },
          "scene": {
           "xaxis": {
            "backgroundcolor": "#E5ECF6",
            "gridcolor": "white",
            "gridwidth": 2,
            "linecolor": "white",
            "showbackground": true,
            "ticks": "",
            "zerolinecolor": "white"
           },
           "yaxis": {
            "backgroundcolor": "#E5ECF6",
            "gridcolor": "white",
            "gridwidth": 2,
            "linecolor": "white",
            "showbackground": true,
            "ticks": "",
            "zerolinecolor": "white"
           },
           "zaxis": {
            "backgroundcolor": "#E5ECF6",
            "gridcolor": "white",
            "gridwidth": 2,
            "linecolor": "white",
            "showbackground": true,
            "ticks": "",
            "zerolinecolor": "white"
           }
          },
          "shapedefaults": {
           "line": {
            "color": "#2a3f5f"
           }
          },
          "ternary": {
           "aaxis": {
            "gridcolor": "white",
            "linecolor": "white",
            "ticks": ""
           },
           "baxis": {
            "gridcolor": "white",
            "linecolor": "white",
            "ticks": ""
           },
           "bgcolor": "#E5ECF6",
           "caxis": {
            "gridcolor": "white",
            "linecolor": "white",
            "ticks": ""
           }
          },
          "title": {
           "x": 0.05
          },
          "xaxis": {
           "automargin": true,
           "gridcolor": "white",
           "linecolor": "white",
           "ticks": "",
           "title": {
            "standoff": 15
           },
           "zerolinecolor": "white",
           "zerolinewidth": 2
          },
          "yaxis": {
           "automargin": true,
           "gridcolor": "white",
           "linecolor": "white",
           "ticks": "",
           "title": {
            "standoff": 15
           },
           "zerolinecolor": "white",
           "zerolinewidth": 2
          }
         }
        },
        "width": 700,
        "xaxis": {
         "anchor": "y",
         "domain": [
          0,
          0.45
         ],
         "title": {
          "text": "Training set size"
         }
        },
        "xaxis2": {
         "anchor": "y2",
         "domain": [
          0.55,
          1
         ],
         "title": {
          "text": "Training set size"
         }
        },
        "yaxis": {
         "anchor": "x",
         "domain": [
          0,
          1
         ],
         "title": {
          "text": "Score"
         }
        },
        "yaxis2": {
         "anchor": "x2",
         "domain": [
          0,
          1
         ],
         "matches": "y",
         "showticklabels": false
        }
       }
      },
      "text/html": [
       "<div>\n",
       "        \n",
       "        \n",
       "            <div id=\"c3b2bb08-e286-4d14-b7d0-99a28f58afe8\" class=\"plotly-graph-div\" style=\"height:300px; width:700px;\"></div>\n",
       "            <script type=\"text/javascript\">\n",
       "                require([\"plotly\"], function(Plotly) {\n",
       "                    window.PLOTLYENV=window.PLOTLYENV || {};\n",
       "                    \n",
       "                if (document.getElementById(\"c3b2bb08-e286-4d14-b7d0-99a28f58afe8\")) {\n",
       "                    Plotly.newPlot(\n",
       "                        'c3b2bb08-e286-4d14-b7d0-99a28f58afe8',\n",
       "                        [{\"error_y\": {\"array\": [0.01266118180612587, 0.008859001024321434, 0.003788115384230218, 0.0039239010868422205, 0.004637104271410127, 0.0031542126711083603, 0.002158980002068336, 0.0026925301039138973, 0.002304566393817693, 0.001806665440417587], \"type\": \"data\", \"visible\": true}, \"legendgroup\": \"all\", \"marker\": {\"color\": \"green\", \"opacity\": 1}, \"name\": \"train\", \"type\": \"scatter\", \"x\": [0.1, 0.2, 0.30000000000000004, 0.4, 0.5, 0.6, 0.7000000000000001, 0.8, 0.9, 1.0], \"xaxis\": \"x\", \"y\": [0.902143598054875, 0.8982523794683165, 0.8839553832090464, 0.8831417747690133, 0.8809465444482051, 0.877000851307959, 0.8766660213207951, 0.8768755039671371, 0.8753395892717939, 0.8746724904305407], \"yaxis\": \"y\"}, {\"error_y\": {\"array\": [0.023242106802450733, 0.023199766504404053, 0.025856137766137793, 0.02346307505879736, 0.022828184417701257, 0.023312174976752722, 0.023407950736554096, 0.023359682202426357, 0.02667521072651897, 0.02672893729494874], \"type\": \"data\", \"visible\": true}, \"legendgroup\": \"all\", \"marker\": {\"color\": \"red\", \"opacity\": 1}, \"name\": \"test\", \"type\": \"scatter\", \"x\": [0.1, 0.2, 0.30000000000000004, 0.4, 0.5, 0.6, 0.7000000000000001, 0.8, 0.9, 1.0], \"xaxis\": \"x\", \"y\": [0.8465407894596344, 0.8518606296103949, 0.8498093573216823, 0.854901972713084, 0.856923372205817, 0.8580588667649872, 0.8588186133425928, 0.8572139467939284, 0.854497826543451, 0.8549894556972195], \"yaxis\": \"y\"}, {\"error_y\": {\"array\": [0.01403419047461524, 0.008069229251077437, 0.0024971211126434707, 0.0030242078908997248, 0.0036998222531418813, 0.002723850086780894, 0.0020058110294813767, 0.0026703164009121297, 0.0021548965545700022, 0.001623054059057357], \"type\": \"data\", \"visible\": true}, \"legendgroup\": \"all\", \"marker\": {\"color\": \"green\", \"opacity\": 1}, \"name\": \"train\", \"showlegend\": false, \"type\": \"scatter\", \"x\": [0.1, 0.2, 0.30000000000000004, 0.4, 0.5, 0.6, 0.7000000000000001, 0.8, 0.9, 1.0], \"xaxis\": \"x2\", \"y\": [0.7936515988065895, 0.8495397979759581, 0.8552799621625754, 0.8600344992352698, 0.8615465275907819, 0.8604379248652405, 0.8612591300557372, 0.861122098119874, 0.8604718154230973, 0.8603221562377357], \"yaxis\": \"y2\"}, {\"error_y\": {\"array\": [0.0310654483307945, 0.027937448907392352, 0.025670512501131695, 0.02433485578918588, 0.02419440180911303, 0.023672220320790072, 0.02308390451790165, 0.022489350767740175, 0.02272340553554222, 0.02259297225358166], \"type\": \"data\", \"visible\": true}, \"legendgroup\": \"all\", \"marker\": {\"color\": \"red\", \"opacity\": 1}, \"name\": \"test\", \"showlegend\": false, \"type\": \"scatter\", \"x\": [0.1, 0.2, 0.30000000000000004, 0.4, 0.5, 0.6, 0.7000000000000001, 0.8, 0.9, 1.0], \"xaxis\": \"x2\", \"y\": [0.7637333906225005, 0.8145990978955909, 0.8340734309550936, 0.8420987001054719, 0.845971802660287, 0.8495967729918129, 0.8517583342547336, 0.8536593239021981, 0.8537334995091109, 0.8538603368942905], \"yaxis\": \"y2\"}],\n",
       "                        {\"annotations\": [{\"font\": {\"size\": 16}, \"showarrow\": false, \"text\": \"Moderate regularization\", \"x\": 0.225, \"xanchor\": \"center\", \"xref\": \"paper\", \"y\": 1.0, \"yanchor\": \"bottom\", \"yref\": \"paper\"}, {\"font\": {\"size\": 16}, \"showarrow\": false, \"text\": \"Strong regularization\", \"x\": 0.775, \"xanchor\": \"center\", \"xref\": \"paper\", \"y\": 1.0, \"yanchor\": \"bottom\", \"yref\": \"paper\"}], \"height\": 300, \"legend\": {\"x\": 0.3, \"y\": 0.15}, \"margin\": {\"b\": 20, \"l\": 1, \"r\": 1, \"t\": 20}, \"template\": {\"data\": {\"bar\": [{\"error_x\": {\"color\": \"#2a3f5f\"}, \"error_y\": {\"color\": \"#2a3f5f\"}, \"marker\": {\"line\": {\"color\": \"#E5ECF6\", \"width\": 0.5}}, \"type\": \"bar\"}], \"barpolar\": [{\"marker\": {\"line\": {\"color\": \"#E5ECF6\", \"width\": 0.5}}, \"type\": \"barpolar\"}], \"carpet\": [{\"aaxis\": {\"endlinecolor\": \"#2a3f5f\", \"gridcolor\": \"white\", \"linecolor\": \"white\", \"minorgridcolor\": \"white\", \"startlinecolor\": \"#2a3f5f\"}, \"baxis\": {\"endlinecolor\": \"#2a3f5f\", \"gridcolor\": \"white\", \"linecolor\": \"white\", \"minorgridcolor\": \"white\", \"startlinecolor\": \"#2a3f5f\"}, \"type\": \"carpet\"}], \"choropleth\": [{\"colorbar\": {\"outlinewidth\": 0, \"ticks\": \"\"}, \"type\": \"choropleth\"}], \"contour\": [{\"colorbar\": {\"outlinewidth\": 0, \"ticks\": \"\"}, \"colorscale\": [[0.0, \"#0d0887\"], [0.1111111111111111, \"#46039f\"], [0.2222222222222222, \"#7201a8\"], [0.3333333333333333, \"#9c179e\"], [0.4444444444444444, \"#bd3786\"], [0.5555555555555556, \"#d8576b\"], [0.6666666666666666, \"#ed7953\"], [0.7777777777777778, \"#fb9f3a\"], [0.8888888888888888, \"#fdca26\"], [1.0, \"#f0f921\"]], \"type\": \"contour\"}], \"contourcarpet\": [{\"colorbar\": {\"outlinewidth\": 0, \"ticks\": \"\"}, \"type\": \"contourcarpet\"}], \"heatmap\": [{\"colorbar\": {\"outlinewidth\": 0, \"ticks\": \"\"}, \"colorscale\": [[0.0, \"#0d0887\"], [0.1111111111111111, \"#46039f\"], [0.2222222222222222, \"#7201a8\"], [0.3333333333333333, \"#9c179e\"], [0.4444444444444444, \"#bd3786\"], [0.5555555555555556, \"#d8576b\"], [0.6666666666666666, \"#ed7953\"], [0.7777777777777778, \"#fb9f3a\"], [0.8888888888888888, \"#fdca26\"], [1.0, \"#f0f921\"]], \"type\": \"heatmap\"}], \"heatmapgl\": [{\"colorbar\": {\"outlinewidth\": 0, \"ticks\": \"\"}, \"colorscale\": [[0.0, \"#0d0887\"], [0.1111111111111111, \"#46039f\"], [0.2222222222222222, \"#7201a8\"], [0.3333333333333333, \"#9c179e\"], [0.4444444444444444, \"#bd3786\"], [0.5555555555555556, \"#d8576b\"], [0.6666666666666666, \"#ed7953\"], [0.7777777777777778, \"#fb9f3a\"], [0.8888888888888888, \"#fdca26\"], [1.0, \"#f0f921\"]], \"type\": \"heatmapgl\"}], \"histogram\": [{\"marker\": {\"colorbar\": {\"outlinewidth\": 0, \"ticks\": \"\"}}, \"type\": \"histogram\"}], \"histogram2d\": [{\"colorbar\": {\"outlinewidth\": 0, \"ticks\": \"\"}, \"colorscale\": [[0.0, \"#0d0887\"], [0.1111111111111111, \"#46039f\"], [0.2222222222222222, \"#7201a8\"], [0.3333333333333333, \"#9c179e\"], [0.4444444444444444, \"#bd3786\"], [0.5555555555555556, \"#d8576b\"], [0.6666666666666666, \"#ed7953\"], [0.7777777777777778, \"#fb9f3a\"], [0.8888888888888888, \"#fdca26\"], [1.0, \"#f0f921\"]], \"type\": \"histogram2d\"}], \"histogram2dcontour\": [{\"colorbar\": {\"outlinewidth\": 0, \"ticks\": \"\"}, \"colorscale\": [[0.0, \"#0d0887\"], [0.1111111111111111, \"#46039f\"], [0.2222222222222222, \"#7201a8\"], [0.3333333333333333, \"#9c179e\"], [0.4444444444444444, \"#bd3786\"], [0.5555555555555556, \"#d8576b\"], [0.6666666666666666, \"#ed7953\"], [0.7777777777777778, \"#fb9f3a\"], [0.8888888888888888, \"#fdca26\"], [1.0, \"#f0f921\"]], \"type\": \"histogram2dcontour\"}], \"mesh3d\": [{\"colorbar\": {\"outlinewidth\": 0, \"ticks\": \"\"}, \"type\": \"mesh3d\"}], \"parcoords\": [{\"line\": {\"colorbar\": {\"outlinewidth\": 0, \"ticks\": \"\"}}, \"type\": \"parcoords\"}], \"pie\": [{\"automargin\": true, \"type\": \"pie\"}], \"scatter\": [{\"marker\": {\"colorbar\": {\"outlinewidth\": 0, \"ticks\": \"\"}}, \"type\": \"scatter\"}], \"scatter3d\": [{\"line\": {\"colorbar\": {\"outlinewidth\": 0, \"ticks\": \"\"}}, \"marker\": {\"colorbar\": {\"outlinewidth\": 0, \"ticks\": \"\"}}, \"type\": \"scatter3d\"}], \"scattercarpet\": [{\"marker\": {\"colorbar\": {\"outlinewidth\": 0, \"ticks\": \"\"}}, \"type\": \"scattercarpet\"}], \"scattergeo\": [{\"marker\": {\"colorbar\": {\"outlinewidth\": 0, \"ticks\": \"\"}}, \"type\": \"scattergeo\"}], \"scattergl\": [{\"marker\": {\"colorbar\": {\"outlinewidth\": 0, \"ticks\": \"\"}}, \"type\": \"scattergl\"}], \"scattermapbox\": [{\"marker\": {\"colorbar\": {\"outlinewidth\": 0, \"ticks\": \"\"}}, \"type\": \"scattermapbox\"}], \"scatterpolar\": [{\"marker\": {\"colorbar\": {\"outlinewidth\": 0, \"ticks\": \"\"}}, \"type\": \"scatterpolar\"}], \"scatterpolargl\": [{\"marker\": {\"colorbar\": {\"outlinewidth\": 0, \"ticks\": \"\"}}, \"type\": \"scatterpolargl\"}], \"scatterternary\": [{\"marker\": {\"colorbar\": {\"outlinewidth\": 0, \"ticks\": \"\"}}, \"type\": \"scatterternary\"}], \"surface\": [{\"colorbar\": {\"outlinewidth\": 0, \"ticks\": \"\"}, \"colorscale\": [[0.0, \"#0d0887\"], [0.1111111111111111, \"#46039f\"], [0.2222222222222222, \"#7201a8\"], [0.3333333333333333, \"#9c179e\"], [0.4444444444444444, \"#bd3786\"], [0.5555555555555556, \"#d8576b\"], [0.6666666666666666, \"#ed7953\"], [0.7777777777777778, \"#fb9f3a\"], [0.8888888888888888, \"#fdca26\"], [1.0, \"#f0f921\"]], \"type\": \"surface\"}], \"table\": [{\"cells\": {\"fill\": {\"color\": \"#EBF0F8\"}, \"line\": {\"color\": \"white\"}}, \"header\": {\"fill\": {\"color\": \"#C8D4E3\"}, \"line\": {\"color\": \"white\"}}, \"type\": \"table\"}]}, \"layout\": {\"annotationdefaults\": {\"arrowcolor\": \"#2a3f5f\", \"arrowhead\": 0, \"arrowwidth\": 1}, \"coloraxis\": {\"colorbar\": {\"outlinewidth\": 0, \"ticks\": \"\"}}, \"colorscale\": {\"diverging\": [[0, \"#8e0152\"], [0.1, \"#c51b7d\"], [0.2, \"#de77ae\"], [0.3, \"#f1b6da\"], [0.4, \"#fde0ef\"], [0.5, \"#f7f7f7\"], [0.6, \"#e6f5d0\"], [0.7, \"#b8e186\"], [0.8, \"#7fbc41\"], [0.9, \"#4d9221\"], [1, \"#276419\"]], \"sequential\": [[0.0, \"#0d0887\"], [0.1111111111111111, \"#46039f\"], [0.2222222222222222, \"#7201a8\"], [0.3333333333333333, \"#9c179e\"], [0.4444444444444444, \"#bd3786\"], [0.5555555555555556, \"#d8576b\"], [0.6666666666666666, \"#ed7953\"], [0.7777777777777778, \"#fb9f3a\"], [0.8888888888888888, \"#fdca26\"], [1.0, \"#f0f921\"]], \"sequentialminus\": [[0.0, \"#0d0887\"], [0.1111111111111111, \"#46039f\"], [0.2222222222222222, \"#7201a8\"], [0.3333333333333333, \"#9c179e\"], [0.4444444444444444, \"#bd3786\"], [0.5555555555555556, \"#d8576b\"], [0.6666666666666666, \"#ed7953\"], [0.7777777777777778, \"#fb9f3a\"], [0.8888888888888888, \"#fdca26\"], [1.0, \"#f0f921\"]]}, \"colorway\": [\"#636efa\", \"#EF553B\", \"#00cc96\", \"#ab63fa\", \"#FFA15A\", \"#19d3f3\", \"#FF6692\", \"#B6E880\", \"#FF97FF\", \"#FECB52\"], \"font\": {\"color\": \"#2a3f5f\"}, \"geo\": {\"bgcolor\": \"white\", \"lakecolor\": \"white\", \"landcolor\": \"#E5ECF6\", \"showlakes\": true, \"showland\": true, \"subunitcolor\": \"white\"}, \"hoverlabel\": {\"align\": \"left\"}, \"hovermode\": \"closest\", \"mapbox\": {\"style\": \"light\"}, \"paper_bgcolor\": \"white\", \"plot_bgcolor\": \"#E5ECF6\", \"polar\": {\"angularaxis\": {\"gridcolor\": \"white\", \"linecolor\": \"white\", \"ticks\": \"\"}, \"bgcolor\": \"#E5ECF6\", \"radialaxis\": {\"gridcolor\": \"white\", \"linecolor\": \"white\", \"ticks\": \"\"}}, \"scene\": {\"xaxis\": {\"backgroundcolor\": \"#E5ECF6\", \"gridcolor\": \"white\", \"gridwidth\": 2, \"linecolor\": \"white\", \"showbackground\": true, \"ticks\": \"\", \"zerolinecolor\": \"white\"}, \"yaxis\": {\"backgroundcolor\": \"#E5ECF6\", \"gridcolor\": \"white\", \"gridwidth\": 2, \"linecolor\": \"white\", \"showbackground\": true, \"ticks\": \"\", \"zerolinecolor\": \"white\"}, \"zaxis\": {\"backgroundcolor\": \"#E5ECF6\", \"gridcolor\": \"white\", \"gridwidth\": 2, \"linecolor\": \"white\", \"showbackground\": true, \"ticks\": \"\", \"zerolinecolor\": \"white\"}}, \"shapedefaults\": {\"line\": {\"color\": \"#2a3f5f\"}}, \"ternary\": {\"aaxis\": {\"gridcolor\": \"white\", \"linecolor\": \"white\", \"ticks\": \"\"}, \"baxis\": {\"gridcolor\": \"white\", \"linecolor\": \"white\", \"ticks\": \"\"}, \"bgcolor\": \"#E5ECF6\", \"caxis\": {\"gridcolor\": \"white\", \"linecolor\": \"white\", \"ticks\": \"\"}}, \"title\": {\"x\": 0.05}, \"xaxis\": {\"automargin\": true, \"gridcolor\": \"white\", \"linecolor\": \"white\", \"ticks\": \"\", \"title\": {\"standoff\": 15}, \"zerolinecolor\": \"white\", \"zerolinewidth\": 2}, \"yaxis\": {\"automargin\": true, \"gridcolor\": \"white\", \"linecolor\": \"white\", \"ticks\": \"\", \"title\": {\"standoff\": 15}, \"zerolinecolor\": \"white\", \"zerolinewidth\": 2}}}, \"width\": 700, \"xaxis\": {\"anchor\": \"y\", \"domain\": [0.0, 0.45], \"title\": {\"text\": \"Training set size\"}}, \"xaxis2\": {\"anchor\": \"y2\", \"domain\": [0.55, 1.0], \"title\": {\"text\": \"Training set size\"}}, \"yaxis\": {\"anchor\": \"x\", \"domain\": [0.0, 1.0], \"title\": {\"text\": \"Score\"}}, \"yaxis2\": {\"anchor\": \"x2\", \"domain\": [0.0, 1.0], \"matches\": \"y\", \"showticklabels\": false}},\n",
       "                        {\"responsive\": true}\n",
       "                    ).then(function(){\n",
       "                            \n",
       "var gd = document.getElementById('c3b2bb08-e286-4d14-b7d0-99a28f58afe8');\n",
       "var x = new MutationObserver(function (mutations, observer) {{\n",
       "        var display = window.getComputedStyle(gd).display;\n",
       "        if (!display || display === 'none') {{\n",
       "            console.log([gd, 'removed!']);\n",
       "            Plotly.purge(gd);\n",
       "            observer.disconnect();\n",
       "        }}\n",
       "}});\n",
       "\n",
       "// Listen for the removal of the full notebook cells\n",
       "var notebookContainer = gd.closest('#notebook-container');\n",
       "if (notebookContainer) {{\n",
       "    x.observe(notebookContainer, {childList: true});\n",
       "}}\n",
       "\n",
       "// Listen for the clearing of the current output cell\n",
       "var outputEl = gd.closest('.output');\n",
       "if (outputEl) {{\n",
       "    x.observe(outputEl, {childList: true});\n",
       "}}\n",
       "\n",
       "                        })\n",
       "                };\n",
       "                });\n",
       "            </script>\n",
       "        </div>"
      ]
     },
     "metadata": {},
     "output_type": "display_data"
    }
   ],
   "source": [
    "fig = make_subplots(rows=1, cols=2, \n",
    "                    shared_yaxes=True, \n",
    "                    subplot_titles=['Moderate regularization', 'Strong regularization'])\n",
    "\n",
    "test_marker=dict(color='red', opacity=1) \n",
    "train_marker = dict(color='green', opacity=1) \n",
    "\n",
    "fig.add_traces([ go.Scatter(x=train_frac, \n",
    "                       y=train_scores[0.01].mean(axis=1), \n",
    "                       error_y=dict( type='data', array=train_scores[0.01].std(axis=1),visible=True),\n",
    "                       name='train', marker=train_marker, legendgroup = 'all'),\n",
    "            go.Scatter(x=train_frac, \n",
    "                      y= test_scores[0.01].mean(axis=1), \n",
    "                      error_y=dict( type='data', array=test_scores[0.01].std(axis=1),visible=True),\n",
    "                      name='test', marker=test_marker, legendgroup='all')], rows=(1,1), cols=(1,1))\n",
    "\n",
    "fig.add_traces( [go.Scatter(x=train_frac, \n",
    "                       y=train_scores[0.001].mean(axis=1), \n",
    "                       error_y=dict( type='data', array=train_scores[0.001].std(axis=1),visible=True),\n",
    "                       name='train', marker=train_marker, legendgroup = 'all', showlegend=False),\n",
    "                 go.Scatter(x=train_frac, \n",
    "                      y= test_scores[0.001].mean(axis=1), \n",
    "                      error_y=dict( type='data', array=test_scores[0.001].std(axis=1),visible=True),\n",
    "                      name='test', marker=test_marker, legendgroup='all', showlegend=False)], rows=(1,1), cols=(2,2))\n",
    "\n",
    "fig.update_layout(legend=dict(x=0.3, y=0.15))\n",
    "\n",
    "fig.update_xaxes(title = 'Training set size')\n",
    "\n",
    "fig.update_yaxes(title = 'Score', row=1, col=1)\n",
    "\n",
    "snap(fig, 'learning_curve.pdf')"
   ]
  },
  {
   "cell_type": "markdown",
   "metadata": {},
   "source": [
    "# Coefficients"
   ]
  },
  {
   "cell_type": "code",
   "execution_count": 56,
   "metadata": {},
   "outputs": [],
   "source": [
    "def get_coefs(scores, features) :\n",
    "    coefs = []\n",
    "\n",
    "    for model in scores['estimator'] :\n",
    "        coefs.append(model['logisticregression'].coef_.flatten())\n",
    "\n",
    "    return pd.DataFrame(np.array(coefs), columns=features ).T\n",
    "\n",
    "def get_top(coefs, n) :\n",
    "    top = set()\n",
    "    for i in coefs : \n",
    "        for kmer in coefs.abs().sort_values(i).head(n).index :\n",
    "            top.add(kmer)\n",
    "            \n",
    "    return top"
   ]
  },
  {
   "cell_type": "code",
   "execution_count": 79,
   "metadata": {},
   "outputs": [
    {
     "data": {
      "application/vnd.plotly.v1+json": {
       "config": {
        "plotlyServerURL": "https://plot.ly"
       },
       "data": [
        {
         "error_y": {
          "array": [
           0.010208351534011709,
           0.01027366074182059,
           0.010183886361116126,
           0.007163340310754619,
           0.007104191593960496,
           0.00863831256760045,
           0.011452435049084463,
           0.010541227012727061,
           0.01075589667100051,
           0.0101448762967608,
           0.007974559412633224,
           0.01064132025364895,
           0.010693880840665252,
           0.005319921582948678,
           0.009577524412888148,
           0.014986776525222123,
           0.022471399169236933,
           0.011589066688969366,
           0.0054748976374332445,
           0.019191764852445493,
           0.006474771121796361,
           0.009218878139899005,
           0.014425927752668119,
           0.008315907686624758,
           0.0076228728962369945,
           0.011379518639290768,
           0.012258029689929142,
           0.007610404080481712,
           0.006653602935403059,
           0.008733826498393998,
           0.008510290739634049,
           0.007713241583631088,
           0.006172159293150822,
           0.007459936355699367,
           0.007472206218054721,
           0.01253158454845972,
           0.008402059665286215,
           0.008692901881027235,
           0.011234487309274118,
           0.005673860932344816,
           0.005764027163724308,
           0.012275372380572771,
           0.007338644331642683,
           0.006093615540270161,
           0.008639614191842303,
           0.009312934688148386,
           0.015623531298893044,
           0.0075981050066727335,
           0.009053157386408292,
           0.013227632354641639,
           0.009438160576750058,
           0.007014913487111401,
           0.01399670049067439,
           0.010289320859418154,
           0.007601736126905679,
           0.014057225287748274,
           0.010008589298535087,
           0.00981334268618069,
           0.011495164324468728,
           0.011689246313286451,
           0.007863232775143862,
           0.01662169541936248,
           0.007737005142426713,
           0.011974078196486413,
           0.007586159760269492,
           0.006413454582690721,
           0.0057680218839942675,
           0.009563182299412769,
           0.009481622035996059,
           0.007407075806739428,
           0.006940933100276032,
           0.009293907804135684,
           0.007710251663172643,
           0.009663290942755242,
           0.017574270912534027,
           0.007015091922235943,
           0.005987052355448275,
           0.012005078267000275,
           0.00738459025923999,
           0.01396512515437169,
           0.013371041205647824,
           0.008833307208171352,
           0.0084835697946102,
           0.011327295908137448,
           0.011321589385197001,
           0.00638069586130383,
           0.004675818233307117,
           0.009434013797171207,
           0.005332243968766016,
           0.009042820386939371,
           0.011021129198733576,
           0.007493345588218289,
           0.006023018405027209,
           0.008229940432822947,
           0.008564958758296009,
           0.00607005245366178,
           0.008302697014383943,
           0.0097997238570551,
           0.008056232071263884,
           0.00667422987020898,
           0.007588395210413025,
           0.005263522255435579,
           0.007635837611814401,
           0.009161389925243762,
           0.008104114957571613,
           0.010893695681996614,
           0.01145459603619382,
           0.008444473291311583,
           0.006112626546395411,
           0.007702899338768368,
           0.004379884821991311,
           0.00643377505604771,
           0.00936124389734407,
           0.01003296214034883,
           0.016160238324364643,
           0.008914343590699403,
           0.00539015147010269,
           0.008411632526208381,
           0.005952730282878227,
           0.0054708333400773175,
           0.0099525811894939,
           0.009607893926931257,
           0.009248999569757511,
           0.007227213770347289,
           0.005533806478949413,
           0.019887534517231527,
           0.008311392803816835,
           0.00851444462516909,
           0.016463129346348013,
           0.008404539064216721,
           0.007594467289539532,
           0.0074611402956782785,
           0.013399632804380735,
           0.007431073597625818,
           0.00692483693039941,
           0.01038376983862448,
           0.006469906348462585,
           0.007612129139067886,
           0.0075857798231374115,
           0.008774355260364974,
           0.005866309097335516,
           0.01105181184048668,
           0.00552909789678406,
           0.006189064168448437,
           0.009287178630848134,
           0.006426406996679558,
           0.007120703205929468,
           0.0074536270980815784,
           0.005648485771486851,
           0.022575210241100173,
           0.020129042174062164,
           0.005753799301213996,
           0.01685775353366675,
           0.009283902845735154,
           0.007718980173787052,
           0.006707275425356835,
           0.005576395538435508,
           0.005214420145368479,
           0.0035171459701200773,
           0.005177227724062152,
           0.005387991617694658,
           0.0037596099209022942,
           0.006958439078450897,
           0.004167429317592019,
           0.004424156079532886,
           0.0041644337912312744,
           0.005837834743808971,
           0.0043839153278575,
           0.005162315243941604,
           0.005675830119608158,
           0.00460234507022492,
           0.008079242583866933,
           0.0031002578884866405,
           0.0037091701717114354,
           0.0023511970651944017,
           0.003130681850261426,
           0.004615181906305075,
           0.004779184713702584,
           0.002960579680017291,
           0.004003219554680123,
           0.0052458300322442055,
           0.00475390338283354,
           0.002899456039839374,
           0.002682471624242664,
           0.004549398575225782,
           0.0035670155579606987,
           0.002867928161810706,
           0.001759671653226299,
           0.0016396390444823976,
           0.0024860485491245395,
           0.0033988560401905484,
           0.0033540307746299613,
           0.001792294436972001,
           0.0025098788538342473,
           0.0028830837997250933,
           0.0028063097643443486,
           0.002789617451324566,
           0.0025784298652201166,
           0.001757998907819631,
           0.0017422936333048964,
           0.0011101560270726635,
           0.0022023938671386642,
           0.0015493687867903158,
           0.0008827448390265779,
           0.0010313578168750527,
           0.0006416348995890968,
           0.00032477862824042297,
           0.0002973623350064871,
           0.00022427578339861252,
           0.00020574468616759293,
           8.047577959637683e-05,
           7.819305857803357e-05,
           0,
           0,
           0,
           0,
           0,
           0,
           0,
           0,
           0,
           0,
           0,
           0,
           0,
           0,
           0,
           0,
           0,
           0,
           0,
           0,
           0,
           0,
           0,
           0,
           0,
           0,
           0,
           0,
           0,
           0,
           0,
           0,
           0,
           0,
           0,
           0,
           0,
           0,
           0,
           0,
           0,
           0,
           0,
           0,
           0,
           0,
           0,
           0,
           0,
           0,
           0,
           0,
           0,
           0,
           0,
           0,
           0,
           0,
           0,
           0,
           0,
           0,
           0,
           0,
           0,
           0,
           0,
           0,
           0,
           0,
           0,
           0,
           0,
           0,
           0,
           0,
           0,
           0,
           0,
           0,
           0,
           0,
           0,
           0,
           0,
           0,
           0,
           0,
           0,
           0,
           0,
           0,
           0,
           0,
           0,
           0,
           0,
           0,
           0,
           0,
           0,
           0,
           0,
           0,
           0,
           0,
           0,
           0,
           0,
           0,
           0,
           0,
           0,
           0,
           0,
           0.0001834523532016602,
           0.00018469971282331627,
           0.0002419273790013262,
           0.0004344853872078194,
           0.0003877913819951848,
           0.0004926950692901965,
           0.0004695983109547725,
           0.0006133352551176476,
           0.0013697416940075798,
           0.0011992727282078002,
           0.0019994074979466517,
           0.0021434175173759076,
           0.0014884425323989426,
           0.0022204794449710596,
           0.0036736734457662266,
           0.00172450932567165,
           0.0028682027508408854,
           0.0020833370691650966,
           0.0022542145040981877,
           0.002504763038016312,
           0.003523784114883829,
           0.004609996321718503,
           0.0019331296671032338,
           0.005558848811842646,
           0.0028642307837174357,
           0.002750949942321409,
           0.003115121896125785,
           0.0027690967222449635,
           0.003564980007608951,
           0.0021389599168664354,
           0.0032699550051224924,
           0.004911509323062588,
           0.006834032754253164,
           0.0039676363278848496,
           0.006134487006132726,
           0.004324036061150775,
           0.0034888764439512466,
           0.003274946056485493,
           0.004470323881915131,
           0.007547158517636868,
           0.006787572840018322,
           0.005189392394423042,
           0.007845993238129605,
           0.004981081058736017,
           0.005436754970961463,
           0.0065680748418923554,
           0.009325462433730478,
           0.004934554569621507,
           0.005307005702515732,
           0.006433094423596908,
           0.005817441855031726,
           0.006804236359402528,
           0.009968802888318149,
           0.008237083145426453,
           0.00524158571415673,
           0.012826698506073103,
           0.014152271920184877,
           0.013178949610164192,
           0.010538025472469407,
           0.012371055495279906,
           0.00621329117685012,
           0.009787869822932765,
           0.007156385892286953,
           0.0061484295043892755,
           0.005936038957611069,
           0.007697030454387241,
           0.013153504443251925,
           0.008812789291453623,
           0.018558111567918614,
           0.006421016271433157,
           0.0052703686941912645,
           0.012866569661900137,
           0.012895784817498802,
           0.006483600902810998,
           0.015800852720299626,
           0.011384275538787576,
           0.006890484647653057,
           0.014319295241562977,
           0.012585351880764208,
           0.015393246155919133,
           0.015546726464474497,
           0.0157286969458754,
           0.004896850115466819,
           0.011960829937471756,
           0.0062842126038299174,
           0.007799096347267198,
           0.007173839006282147,
           0.015024902556136857,
           0.009942043349482366,
           0.009555335739444816,
           0.015681055914738035,
           0.006320124866575647,
           0.027860616930325193,
           0.015257801920093293,
           0.019587559205872986,
           0.026933014787358496,
           0.01344015836324002,
           0.01547881962032012,
           0.01930871639289468,
           0.004485156942037334,
           0.017368621426807878,
           0.012764284439306862,
           0.006022801376080489,
           0.007784734045334836,
           0.007216091237017793,
           0.007138441072966542,
           0.005113582762406413,
           0.01670566591744242,
           0.022521619043268146,
           0.0077171554837452885,
           0.014349742222197153,
           0.012611221778151289,
           0.00961477052023253,
           0.008408660789938465,
           0.015159420164268663,
           0.014883022088962403,
           0.02497786844960383,
           0.027384483503487916,
           0.011997448437651657,
           0.020516277116961315,
           0.003872458011809345,
           0.010819550251902035,
           0.014192152889686787,
           0.025439598697410686,
           0.008776374318287265,
           0.013648332003042832,
           0.01621636173634072,
           0.01833688883057596,
           0.026521528042942676,
           0.01558023531401968,
           0.014184576593566296,
           0.02330178409226966,
           0.018830907104121032,
           0.010528376325302066,
           0.012958344455099687,
           0.00907447929346943,
           0.011021745486564085,
           0.020938306879587,
           0.014404994518793936,
           0.023263314141814043,
           0.02354665715193363,
           0.017639829122383405,
           0.036023979217291925,
           0.007779849824546471,
           0.03682720999266825,
           0.009614424894436865,
           0.03234155950059208,
           0.02273172749995847,
           0.00925070883869682,
           0.011849102711483081,
           0.01186116064235399,
           0.005428712367240372,
           0.01251677078743377,
           0.009682898102386393,
           0.016927742891779146,
           0.012970243375852048,
           0.019127530239582764,
           0.018700501985852984,
           0.0186294374717667,
           0.02320792653989679,
           0.024611548462421428,
           0.015021502872350285,
           0.027093473181838724,
           0.013256973022440558,
           0.010149518586453658,
           0.013252961825160765,
           0.027991141357656412,
           0.013555899219618082,
           0.01795740204247567,
           0.01816983964018038,
           0.024309565530640495,
           0.017398771507861736,
           0.01558166684652009,
           0.017206171123991042,
           0.022067194667432604,
           0.012691246133062327,
           0.02796205983902603,
           0.02312170244545677,
           0.012862618628328925,
           0.009471981428999136,
           0.029849690122468915,
           0.04136872361007819,
           0.026919913509122477,
           0.01114484100499115,
           0.01698492550183463
          ],
          "type": "data",
          "visible": true
         },
         "name": "moderate regularization",
         "type": "scatter",
         "xaxis": "x",
         "y": [
          0.125262559220305,
          0.11496782414780754,
          0.11105988377747418,
          0.09918809351177864,
          0.09478063473929074,
          0.09414307149415549,
          0.09372096680836807,
          0.09308581417386155,
          0.09262221019438403,
          0.08946778450242554,
          0.08790050862179177,
          0.08716448894541877,
          0.08482376722759234,
          0.08345589500830236,
          0.08285983799473058,
          0.07861647071516165,
          0.07328863647477896,
          0.07320259972654877,
          0.07195981437078573,
          0.07087296758427378,
          0.07073276407668798,
          0.06707591162043097,
          0.06463784035669248,
          0.06395489342154581,
          0.06390742104546462,
          0.06294953963185872,
          0.06231481338230888,
          0.05957759501776566,
          0.05840108964215707,
          0.058397019320059855,
          0.058346216850173035,
          0.0569436936257325,
          0.0567767072141737,
          0.05533653875797921,
          0.05470396385875289,
          0.053340288592081966,
          0.05333224452924144,
          0.05318758582041143,
          0.052598676740882255,
          0.05250394127630127,
          0.05168013579487367,
          0.05107444155552061,
          0.05085725332831546,
          0.04745116779483502,
          0.04608050750287057,
          0.0460024417315188,
          0.045717108163978774,
          0.04350947541587871,
          0.04273665529948696,
          0.042283612722874814,
          0.041694356922317856,
          0.041481795083012,
          0.040730211215096256,
          0.03972970082196024,
          0.03968964016912439,
          0.039504700573100876,
          0.03903583416887829,
          0.038649199536227884,
          0.03855536029336745,
          0.03761073312021057,
          0.036739322461116455,
          0.036179752825962974,
          0.036061532039297656,
          0.035926719839489224,
          0.035812727751109226,
          0.03576088482896983,
          0.03558118954394802,
          0.03552052227781333,
          0.035210344826399384,
          0.0346649147489097,
          0.03372404245665121,
          0.0326941871792021,
          0.03195462967578199,
          0.03160398754278297,
          0.031601358361214374,
          0.030944694214993546,
          0.030475120123381907,
          0.029996738551970388,
          0.0298539531133242,
          0.02972052151602952,
          0.02968791701953541,
          0.029289089086410716,
          0.028814008958166673,
          0.0280360689057692,
          0.028025462144525823,
          0.027562655313939907,
          0.02705763819408547,
          0.027005555322517385,
          0.026485166441485485,
          0.02641741246027015,
          0.025875066063774165,
          0.025199483947680797,
          0.025054222911606833,
          0.024947810870493047,
          0.024716607397789865,
          0.02467407298883486,
          0.024575338185922117,
          0.024510170725217238,
          0.024509991925928152,
          0.024503648516493105,
          0.024456264726779975,
          0.024244570420338618,
          0.024192119342200946,
          0.02410005775812777,
          0.0240036542651204,
          0.023200722147113224,
          0.02309199826151799,
          0.02205129383597098,
          0.02134009339776847,
          0.020944838482822907,
          0.020832404961994892,
          0.020447348629727385,
          0.018662868847884498,
          0.01843636773481325,
          0.017973134852932605,
          0.016140074678864205,
          0.016128720886354753,
          0.016080781424940946,
          0.01584531773962699,
          0.01564438702905474,
          0.015251564215013471,
          0.014892539439699412,
          0.014846857755304775,
          0.014701384778065624,
          0.014454248801977897,
          0.014177437109053195,
          0.014111956283348333,
          0.013693631988654923,
          0.013115982781552323,
          0.01310714483266245,
          0.012972263224379475,
          0.012581433710505997,
          0.012408843299407207,
          0.012175170416378955,
          0.011804570955431843,
          0.011669844793848375,
          0.011059406578480355,
          0.010856959020212784,
          0.010364359773025966,
          0.010178700303131144,
          0.009313711687119529,
          0.009247989259319201,
          0.009228524369280355,
          0.009097831628204841,
          0.00897403024785183,
          0.008758839606897112,
          0.008281051714678994,
          0.008094044630092227,
          0.007498103905607222,
          0.007341655818478514,
          0.006867062038797897,
          0.006573639783734485,
          0.006297583213278773,
          0.005843725267891575,
          0.005591067298569647,
          0.004533025190312562,
          0.004459892223886008,
          0.004250210372797302,
          0.004127816778685914,
          0.003709262477677401,
          0.003668483485486141,
          0.00346969620794953,
          0.003262076331728714,
          0.003223490468830089,
          0.0027644399402577064,
          0.002716243342522004,
          0.002524996195675957,
          0.0024777219802585067,
          0.0022645906692601928,
          0.0021388652406825522,
          0.0020477326640306916,
          0.0020198106459667327,
          0.001991474415259302,
          0.0015483138148156723,
          0.001512156578992435,
          0.0014212751304568136,
          0.0013752702050732768,
          0.001365380928934035,
          0.0013474197294020065,
          0.001332445478515433,
          0.0013114575080610514,
          0.0013063719602072162,
          0.0012450375174874867,
          0.0012306460769319447,
          0.0011373496438064454,
          0.0010808598365822531,
          0.001049547192800592,
          0.0009126103623327056,
          0.0008973006783827067,
          0.0008930156465979418,
          0.0008497140100476371,
          0.0008385076936574903,
          0.0007765803526116267,
          0.0007304353811601395,
          0.0007207709499312733,
          0.000701577441086087,
          0.0006974043628311416,
          0.0006446074663050292,
          0.0006377506925732064,
          0.0005822213246420062,
          0.000565253201435246,
          0.0005505984667846661,
          0.0005461112551329433,
          0.00029563933313656455,
          0.0002578394542187632,
          0.00016040872489727416,
          8.119465706010574e-05,
          7.434058375162177e-05,
          5.606894584965313e-05,
          5.143617154189823e-05,
          2.0118944899094206e-05,
          1.954826464450839e-05,
          0,
          0,
          0,
          0,
          0,
          0,
          0,
          0,
          0,
          0,
          0,
          0,
          0,
          0,
          0,
          0,
          0,
          0,
          0,
          0,
          0,
          0,
          0,
          0,
          0,
          0,
          0,
          0,
          0,
          0,
          0,
          0,
          0,
          0,
          0,
          0,
          0,
          0,
          0,
          0,
          0,
          0,
          0,
          0,
          0,
          0,
          0,
          0,
          0,
          0,
          0,
          0,
          0,
          0,
          0,
          0,
          0,
          0,
          0,
          0,
          0,
          0,
          0,
          0,
          0,
          0,
          0,
          0,
          0,
          0,
          0,
          0,
          0,
          0,
          0,
          0,
          0,
          0,
          0,
          0,
          0,
          0,
          0,
          0,
          0,
          0,
          0,
          0,
          0,
          0,
          0,
          0,
          0,
          0,
          0,
          0,
          0,
          0,
          0,
          0,
          0,
          0,
          0,
          0,
          0,
          0,
          0,
          0,
          0,
          0,
          0,
          0,
          0,
          0,
          0,
          -4.586308830041506e-05,
          -4.617492820582907e-05,
          -6.048184475033155e-05,
          -0.00010862134680195485,
          -0.00011581678412897249,
          -0.00012317376732254914,
          -0.00014557614495956807,
          -0.0001533338137794119,
          -0.00035029072751443293,
          -0.0004959818516353119,
          -0.0004998518744866629,
          -0.0005358543793439769,
          -0.0005393438552295765,
          -0.0005551198612427649,
          -0.0005852106538850883,
          -0.0006356091927429813,
          -0.0007905551863895367,
          -0.0008487952260355149,
          -0.0009261731540708777,
          -0.000998966754896715,
          -0.0010988898039966893,
          -0.0011524990804296258,
          -0.0011611697646067942,
          -0.0013897122029606615,
          -0.0014332022796595143,
          -0.001439082735262889,
          -0.001588148312692171,
          -0.0016771458041945969,
          -0.0017169366088651003,
          -0.0017278431170127235,
          -0.0018369575333152452,
          -0.0018433063436681483,
          -0.002042546300514712,
          -0.0020603369409540055,
          -0.0021046228646360984,
          -0.0022641297440550183,
          -0.0025801638046258316,
          -0.0028278643946928208,
          -0.002869088351757392,
          -0.003049791601078832,
          -0.003790201230398589,
          -0.003795816501292252,
          -0.003958147981885698,
          -0.004003738102010939,
          -0.004117773861128465,
          -0.004770454112073127,
          -0.00496417496108624,
          -0.005195417971567166,
          -0.005287291653053478,
          -0.005888770564507368,
          -0.005912372339874912,
          -0.00598906090210362,
          -0.006197394235632949,
          -0.006279374277040846,
          -0.007880620315366,
          -0.009010764454659396,
          -0.009510563589894171,
          -0.010547218652184057,
          -0.011133605803672016,
          -0.011417130720876249,
          -0.011902344030008172,
          -0.012065191759935914,
          -0.013086442302044789,
          -0.014005947768149122,
          -0.014331536569917164,
          -0.014496514340658018,
          -0.01522422525249356,
          -0.015866931842387355,
          -0.018939083696036765,
          -0.019199488030564482,
          -0.0192226635278401,
          -0.019257901783837735,
          -0.019467634090851827,
          -0.019869725594503285,
          -0.019913777146237117,
          -0.020452275962583578,
          -0.021996928736108277,
          -0.022684107866231644,
          -0.02328033215385833,
          -0.025028622642684337,
          -0.025671614141006355,
          -0.02571507210147381,
          -0.02585975512741298,
          -0.02691418990560762,
          -0.028346135344889688,
          -0.028398071977410497,
          -0.02852281977407317,
          -0.029007205373883984,
          -0.031212108143130735,
          -0.03150184820155934,
          -0.031531181746384335,
          -0.03174824364682097,
          -0.03176173940138082,
          -0.033555583443091744,
          -0.033673713944790865,
          -0.04407534005069948,
          -0.04600092890162727,
          -0.04691709619328589,
          -0.047588830498436804,
          -0.047930870920588245,
          -0.05030868938951895,
          -0.0506949068857795,
          -0.05231359513156668,
          -0.053578738314804586,
          -0.055134403837340654,
          -0.05559838392576846,
          -0.05720517516936893,
          -0.057561108334629,
          -0.06036918301062129,
          -0.06122562317900741,
          -0.0625725384188332,
          -0.06316628048045173,
          -0.06322235412257365,
          -0.0632554466773737,
          -0.06338156925639918,
          -0.06379453693742283,
          -0.06473910808008829,
          -0.0673989026566731,
          -0.07001561884730881,
          -0.07044823474772732,
          -0.07309373827187768,
          -0.07338747175509969,
          -0.0746903572026213,
          -0.07506471266708228,
          -0.07543944358507025,
          -0.07680951858103821,
          -0.07743672440069295,
          -0.07792085082650584,
          -0.08082551898384475,
          -0.08114622409005208,
          -0.0819953962678838,
          -0.08235323931071756,
          -0.08441270816744453,
          -0.09054846898947852,
          -0.09064041063230535,
          -0.09281811437461915,
          -0.0928361681532519,
          -0.09315573897707412,
          -0.09511088589949115,
          -0.09745285217459979,
          -0.09793198386482949,
          -0.09858403801937672,
          -0.09933266862293355,
          -0.1000774604865031,
          -0.10017232294420199,
          -0.1011781813813947,
          -0.10367244210997911,
          -0.10522800939079546,
          -0.10523947083130267,
          -0.11127448265280798,
          -0.11579037827954974,
          -0.11701706499466333,
          -0.11757894440534541,
          -0.12071313252368074,
          -0.12399730327061022,
          -0.1275561944587548,
          -0.1310705371720468,
          -0.13355943280506882,
          -0.1432090934925255,
          -0.14565020233293524,
          -0.14575227836444973,
          -0.15351353853654398,
          -0.15377667794984887,
          -0.155224246732928,
          -0.1566234310851888,
          -0.15755170656070835,
          -0.16028686966311068,
          -0.16150275013497814,
          -0.1621606503427872,
          -0.1622895827722214,
          -0.16692672056037977,
          -0.17216014569841195,
          -0.1745380961672759,
          -0.17732461301016283,
          -0.17901750211171813,
          -0.18009691428298374,
          -0.18286075960511328,
          -0.18365277773026445,
          -0.19496162440049108,
          -0.2334782340407269,
          -0.255734984092955,
          -0.2917533363049112,
          -0.4051654274713863,
          -0.4679194668587514,
          -0.46896376030615167
         ],
         "yaxis": "y"
        },
        {
         "error_y": {
          "array": [
           0.005497471272869561,
           0.0049603816775186955,
           0.004947542764511263,
           0.0038978926464217265,
           0.004533762881692042,
           0.006562560697923681,
           0.005166012160208661,
           0.004267453462554265,
           0.006666467101365312,
           0.007107966960189151,
           0.004620260675386847,
           0.005146549613833958,
           0.007213760988752138,
           0.006548744026513467,
           0.003955308378801727,
           0.003737986829179512,
           0.007113062635079292,
           0.003674728451643973,
           0.004267662512648467,
           0.006353753497390724,
           0.008635929297521456,
           0.005138795204893019,
           0.0032921577753509098,
           0.004707293389396508,
           0.004340051741905576,
           0.014428030003880597,
           0.005783532767897999,
           0.005930675928074957,
           0.006775806466068344,
           0.0030722758281698423,
           0.01267669982978353,
           0.0035834480481354335,
           0.005883159358984577,
           0.0028697474773337925,
           0.006677437141668932,
           0.004024668566462025,
           0.003883709167077376,
           0.0075820977415631844,
           0.004481983528127069,
           0.003262434431594688,
           0.0062648449168296785,
           0.006486494678155291,
           0.005267017059961043,
           0.003982560577913581,
           0.005130584201595838,
           0.0045104361036843975,
           0.005655330141171077,
           0.004694075038529797,
           0.006742382014082056,
           0.0032601983337256705,
           0.004054541926252378,
           0.005477269769168277,
           0.006418053544345784,
           0.005666255531154853,
           0.005153114825574167,
           0.0027201642860225396,
           0.0022658036292250976,
           0.0033123583536099656,
           0.003101865341615935,
           0.003076706759216647,
           0.0035485270587847467,
           0.007356731147677276,
           0.003520640192326177,
           0.004139525136925099,
           0.003395278746762918,
           0.002639455002587303,
           0.0020107193473828046,
           0.004626616719562424,
           0.0029183826232939197,
           0.0018131704471115418,
           0.0035123033180652808,
           0.002425363784610158,
           0.0011104103003877401,
           0.0003593107278639417,
           0,
           0,
           0,
           0,
           0,
           0,
           0,
           0,
           0,
           0,
           0,
           0,
           0,
           0,
           0,
           0,
           0,
           0,
           0,
           0,
           0,
           0,
           0,
           0,
           0,
           0,
           0,
           0,
           0,
           0,
           0,
           0,
           0,
           0,
           0,
           0,
           0,
           0,
           0,
           0,
           0,
           0,
           0,
           0,
           0,
           0,
           0,
           0,
           0,
           0,
           0,
           0,
           0,
           0,
           0,
           0,
           0,
           0,
           0,
           0,
           0,
           0,
           0,
           0,
           0,
           0,
           0,
           0,
           0,
           0,
           0,
           0,
           0,
           0,
           0,
           0,
           0,
           0,
           0,
           0,
           0,
           0,
           0,
           0,
           0,
           0,
           0,
           0,
           0,
           0,
           0,
           0,
           0,
           0,
           0,
           0,
           0,
           0,
           0,
           0,
           0,
           0,
           0,
           0,
           0,
           0,
           0,
           0,
           0,
           0,
           0,
           0,
           0,
           0,
           0,
           0,
           0,
           0,
           0,
           0,
           0,
           0,
           0,
           0,
           0,
           0,
           0,
           0,
           0,
           0,
           0,
           0,
           0,
           0,
           0,
           0,
           0,
           0,
           0,
           0,
           0,
           0,
           0,
           0,
           0,
           0,
           0,
           0,
           0,
           0,
           0,
           0,
           0,
           0,
           0,
           0,
           0,
           0,
           0,
           0,
           0,
           0,
           0,
           0,
           0,
           0,
           0,
           0,
           0,
           0,
           0,
           0,
           0,
           0,
           0,
           0,
           0,
           0,
           0,
           0,
           0,
           0,
           0,
           0,
           0,
           0,
           0,
           0,
           0,
           0,
           0,
           0,
           0,
           0,
           0,
           0,
           0,
           0,
           0,
           0,
           0,
           0,
           0,
           0,
           0,
           0,
           0,
           0,
           0,
           0,
           0,
           0,
           0,
           0,
           0,
           0,
           0,
           0,
           0,
           0,
           0,
           0,
           0,
           0,
           0,
           0,
           0,
           0,
           0,
           0,
           0,
           0,
           0,
           0,
           0,
           0,
           0,
           0,
           0,
           0,
           0,
           0,
           0,
           0,
           0,
           0,
           0,
           0,
           0,
           0,
           0,
           0,
           0,
           0,
           0,
           0,
           0,
           0,
           0,
           0,
           0,
           0,
           0,
           0,
           0,
           0,
           0,
           0,
           0,
           0,
           0,
           0,
           0,
           0,
           0,
           0,
           0,
           0,
           0,
           0,
           0,
           0,
           0,
           0,
           0,
           0,
           0,
           0,
           0,
           0,
           0,
           0,
           0,
           0,
           0,
           0,
           0,
           0,
           0,
           0,
           0,
           0,
           0,
           0,
           0,
           0,
           0,
           0,
           0,
           0,
           0,
           0,
           0,
           0,
           0,
           0,
           0,
           0,
           0,
           0,
           0,
           0,
           0,
           0,
           0,
           0,
           0,
           0,
           0,
           0,
           0,
           0,
           0,
           0,
           0,
           0,
           0,
           0,
           0,
           0,
           0,
           0,
           0,
           0,
           0,
           0,
           0,
           0,
           0,
           0,
           0,
           0,
           0,
           0,
           0,
           0,
           0,
           0,
           0,
           0,
           0,
           0,
           0,
           0,
           0,
           0,
           0,
           0,
           0,
           0,
           0,
           0,
           0,
           0,
           0,
           0,
           0,
           0.0002544915784419304,
           0.0002852477234417722,
           0.0008965189903178338,
           0.003195698771206402,
           0.002116656836211274,
           0.003908405733557008,
           0.005083461996439683,
           0.0064124168611625855,
           0.004916686186923474,
           0.004849855784658249,
           0.0072158794687321075,
           0.00686642164290665,
           0.004991267689349882,
           0.008237325743852943,
           0.004119109953538546,
           0.008942304054878855,
           0.006678994528319015,
           0.0066014595328068295,
           0.006751408020071085,
           0.00908646649150862,
           0.010412080388980513,
           0.003585846842259268,
           0.004011751914586256,
           0.008381369757117858,
           0.006458912064657207,
           0.006902718530356799,
           0.009983536223707916,
           0.007492864441497356,
           0.006259459049034049,
           0.009779802334310299,
           0.00812668043083147,
           0.008947587874432209,
           0.008019375479228734,
           0.012261416615943608,
           0.006949926317707488,
           0.005035431692883014,
           0.008320506896185022,
           0.0054217048152451295,
           0.006072382395020414,
           0.005762433928399973,
           0.012194810738836733,
           0.00658998158413807,
           0.00674900075539647,
           0.01619422772993685,
           0.006846900005541945,
           0.004895349486493046,
           0.007924852522075945,
           0.014392455099159178,
           0.0073554354962030895,
           0.00904969320356503,
           0.008804743961856773,
           0.007365474978424871,
           0.02124460627636348,
           0.0047637980521009135,
           0.011042451222304323,
           0.00814997995459213,
           0.011619479730456688,
           0.008386372085733838,
           0.009980752382284493,
           0.00822179424518747,
           0.00978082808396153
          ],
          "type": "data",
          "visible": true
         },
         "name": "strong regularization",
         "type": "scatter",
         "xaxis": "x",
         "y": [
          0.1424997463691444,
          0.12598791187169633,
          0.11953532282841635,
          0.11660354631956968,
          0.10181270329851243,
          0.09397713020638791,
          0.09316580181001019,
          0.09042978255821409,
          0.08171218751002976,
          0.08070796058825831,
          0.07793732270125725,
          0.07513812979216279,
          0.07452395964406067,
          0.0740161639270854,
          0.07113495106721784,
          0.07004495606885802,
          0.060352218075111784,
          0.0593703372302348,
          0.05762473541105412,
          0.05164683217017235,
          0.05065331004600344,
          0.05005214771281802,
          0.04437852294499058,
          0.04434854015040893,
          0.042826664714470046,
          0.04061104486697113,
          0.03847694712519208,
          0.036748713714002554,
          0.03648663448316813,
          0.035855387660612734,
          0.032652496078559565,
          0.03197756763959532,
          0.03100748228523133,
          0.030793092363223033,
          0.029811811798560395,
          0.025769135058510452,
          0.025426891220580273,
          0.025297635057783308,
          0.02399437877990106,
          0.023988052462769673,
          0.023812540217979232,
          0.01851425864691124,
          0.018439399232445683,
          0.01599460991943931,
          0.015322822450552415,
          0.015053979966760755,
          0.013406970708185407,
          0.01221162564934557,
          0.011285737402032309,
          0.011123529755068943,
          0.01032923440684419,
          0.00906350574329476,
          0.00874769278032331,
          0.007735089090479285,
          0.005824543473750747,
          0.005035731325742006,
          0.003583924379470302,
          0.0031760750279927847,
          0.003039953096554383,
          0.002891012293654136,
          0.0027976471996876548,
          0.002541760766055532,
          0.002365201292986875,
          0.00230664536375778,
          0.0018479783203756068,
          0.001316397045391349,
          0.0012681113365686696,
          0.001156654179890606,
          0.0011529229461687343,
          0.0009430762348538392,
          0.0008780758295163201,
          0.0006063409461525395,
          0.0005313777624196148,
          8.982768196598542e-05,
          0,
          0,
          0,
          0,
          0,
          0,
          0,
          0,
          0,
          0,
          0,
          0,
          0,
          0,
          0,
          0,
          0,
          0,
          0,
          0,
          0,
          0,
          0,
          0,
          0,
          0,
          0,
          0,
          0,
          0,
          0,
          0,
          0,
          0,
          0,
          0,
          0,
          0,
          0,
          0,
          0,
          0,
          0,
          0,
          0,
          0,
          0,
          0,
          0,
          0,
          0,
          0,
          0,
          0,
          0,
          0,
          0,
          0,
          0,
          0,
          0,
          0,
          0,
          0,
          0,
          0,
          0,
          0,
          0,
          0,
          0,
          0,
          0,
          0,
          0,
          0,
          0,
          0,
          0,
          0,
          0,
          0,
          0,
          0,
          0,
          0,
          0,
          0,
          0,
          0,
          0,
          0,
          0,
          0,
          0,
          0,
          0,
          0,
          0,
          0,
          0,
          0,
          0,
          0,
          0,
          0,
          0,
          0,
          0,
          0,
          0,
          0,
          0,
          0,
          0,
          0,
          0,
          0,
          0,
          0,
          0,
          0,
          0,
          0,
          0,
          0,
          0,
          0,
          0,
          0,
          0,
          0,
          0,
          0,
          0,
          0,
          0,
          0,
          0,
          0,
          0,
          0,
          0,
          0,
          0,
          0,
          0,
          0,
          0,
          0,
          0,
          0,
          0,
          0,
          0,
          0,
          0,
          0,
          0,
          0,
          0,
          0,
          0,
          0,
          0,
          0,
          0,
          0,
          0,
          0,
          0,
          0,
          0,
          0,
          0,
          0,
          0,
          0,
          0,
          0,
          0,
          0,
          0,
          0,
          0,
          0,
          0,
          0,
          0,
          0,
          0,
          0,
          0,
          0,
          0,
          0,
          0,
          0,
          0,
          0,
          0,
          0,
          0,
          0,
          0,
          0,
          0,
          0,
          0,
          0,
          0,
          0,
          0,
          0,
          0,
          0,
          0,
          0,
          0,
          0,
          0,
          0,
          0,
          0,
          0,
          0,
          0,
          0,
          0,
          0,
          0,
          0,
          0,
          0,
          0,
          0,
          0,
          0,
          0,
          0,
          0,
          0,
          0,
          0,
          0,
          0,
          0,
          0,
          0,
          0,
          0,
          0,
          0,
          0,
          0,
          0,
          0,
          0,
          0,
          0,
          0,
          0,
          0,
          0,
          0,
          0,
          0,
          0,
          0,
          0,
          0,
          0,
          0,
          0,
          0,
          0,
          0,
          0,
          0,
          0,
          0,
          0,
          0,
          0,
          0,
          0,
          0,
          0,
          0,
          0,
          0,
          0,
          0,
          0,
          0,
          0,
          0,
          0,
          0,
          0,
          0,
          0,
          0,
          0,
          0,
          0,
          0,
          0,
          0,
          0,
          0,
          0,
          0,
          0,
          0,
          0,
          0,
          0,
          0,
          0,
          0,
          0,
          0,
          0,
          0,
          0,
          0,
          0,
          0,
          0,
          0,
          0,
          0,
          0,
          0,
          0,
          0,
          0,
          0,
          0,
          0,
          0,
          0,
          0,
          0,
          0,
          0,
          0,
          0,
          0,
          0,
          0,
          0,
          0,
          0,
          0,
          0,
          0,
          0,
          0,
          0,
          0,
          0,
          0,
          0,
          0,
          0,
          0,
          0,
          0,
          0,
          0,
          0,
          0,
          0,
          0,
          0,
          -6.36228946104826e-05,
          -7.131193086044304e-05,
          -0.0004428005781802114,
          -0.0007989246928016004,
          -0.0010785135947892265,
          -0.001460724635980057,
          -0.005526857191382181,
          -0.0071933989761703565,
          -0.008264198569215977,
          -0.009128981610212417,
          -0.00956302561962473,
          -0.010053541759230103,
          -0.013229070566827315,
          -0.015484109336737549,
          -0.015944348930802085,
          -0.016246132377681684,
          -0.017570175077561874,
          -0.017680746773048088,
          -0.018974863101031234,
          -0.021298269544618758,
          -0.024792217955357777,
          -0.02519921569124446,
          -0.02742296639207096,
          -0.03428968442187063,
          -0.03673817255037354,
          -0.03733213359947692,
          -0.039087220103726075,
          -0.04019422487557752,
          -0.04565336938190734,
          -0.052826602990561376,
          -0.06584456119454046,
          -0.0773343088611738,
          -0.0793140132319875,
          -0.08370487162064096,
          -0.08603678701990922,
          -0.09224946096053749,
          -0.09490549009851099,
          -0.09631707657910732,
          -0.09706358072051538,
          -0.1006728526099625,
          -0.10260069373287148,
          -0.10456887473420384,
          -0.10834083292508945,
          -0.10959131051542999,
          -0.11005267857821052,
          -0.12172273461910044,
          -0.12676909306239997,
          -0.12738616161902133,
          -0.12904235658236407,
          -0.13150386075176926,
          -0.1431403832449618,
          -0.1561710309791806,
          -0.18780040290666894,
          -0.19131642077623973,
          -0.20886113585489802,
          -0.22022323682756523,
          -0.22106321776256352,
          -0.29115608869046095,
          -0.2950873802260934,
          -0.3344261069855524,
          -0.4032090814241428
         ],
         "yaxis": "y"
        },
        {
         "showlegend": false,
         "type": "scatter",
         "x": [
          1,
          2,
          3,
          4,
          5,
          6,
          7,
          8,
          9,
          10,
          11,
          12,
          13,
          14,
          15,
          16,
          17,
          18,
          19,
          20,
          21,
          22,
          23,
          24,
          25,
          26,
          27,
          28,
          29,
          30,
          31,
          32,
          33,
          34,
          35,
          36,
          37,
          38,
          39,
          40,
          41,
          42,
          43,
          44,
          45,
          46,
          47,
          48,
          49
         ],
         "xaxis": "x2",
         "y": [
          1,
          12,
          19,
          25,
          31,
          35,
          37,
          39,
          41,
          42,
          44,
          47,
          48,
          49,
          50,
          51,
          52,
          54,
          55,
          56,
          58,
          59,
          60,
          60,
          61,
          63,
          65,
          74,
          78,
          80,
          82,
          84,
          85,
          86,
          86,
          86,
          87,
          87,
          88,
          88,
          89,
          90,
          90,
          90,
          92,
          92,
          92,
          92,
          92
         ],
         "yaxis": "y2"
        },
        {
         "line": {
          "dash": "dash"
         },
         "mode": "lines+text",
         "showlegend": false,
         "text": [
          "",
          "x=y",
          ""
         ],
         "textposition": "bottom right",
         "type": "scatter",
         "x": [
          1,
          25,
          50
         ],
         "xaxis": "x2",
         "y": [
          1,
          25,
          50
         ],
         "yaxis": "y2"
        }
       ],
       "layout": {
        "height": 300,
        "legend": {
         "x": 0.05,
         "y": 0.15
        },
        "margin": {
         "b": 20,
         "l": 1,
         "r": 1,
         "t": 20
        },
        "template": {
         "data": {
          "bar": [
           {
            "error_x": {
             "color": "#2a3f5f"
            },
            "error_y": {
             "color": "#2a3f5f"
            },
            "marker": {
             "line": {
              "color": "#E5ECF6",
              "width": 0.5
             }
            },
            "type": "bar"
           }
          ],
          "barpolar": [
           {
            "marker": {
             "line": {
              "color": "#E5ECF6",
              "width": 0.5
             }
            },
            "type": "barpolar"
           }
          ],
          "carpet": [
           {
            "aaxis": {
             "endlinecolor": "#2a3f5f",
             "gridcolor": "white",
             "linecolor": "white",
             "minorgridcolor": "white",
             "startlinecolor": "#2a3f5f"
            },
            "baxis": {
             "endlinecolor": "#2a3f5f",
             "gridcolor": "white",
             "linecolor": "white",
             "minorgridcolor": "white",
             "startlinecolor": "#2a3f5f"
            },
            "type": "carpet"
           }
          ],
          "choropleth": [
           {
            "colorbar": {
             "outlinewidth": 0,
             "ticks": ""
            },
            "type": "choropleth"
           }
          ],
          "contour": [
           {
            "colorbar": {
             "outlinewidth": 0,
             "ticks": ""
            },
            "colorscale": [
             [
              0,
              "#0d0887"
             ],
             [
              0.1111111111111111,
              "#46039f"
             ],
             [
              0.2222222222222222,
              "#7201a8"
             ],
             [
              0.3333333333333333,
              "#9c179e"
             ],
             [
              0.4444444444444444,
              "#bd3786"
             ],
             [
              0.5555555555555556,
              "#d8576b"
             ],
             [
              0.6666666666666666,
              "#ed7953"
             ],
             [
              0.7777777777777778,
              "#fb9f3a"
             ],
             [
              0.8888888888888888,
              "#fdca26"
             ],
             [
              1,
              "#f0f921"
             ]
            ],
            "type": "contour"
           }
          ],
          "contourcarpet": [
           {
            "colorbar": {
             "outlinewidth": 0,
             "ticks": ""
            },
            "type": "contourcarpet"
           }
          ],
          "heatmap": [
           {
            "colorbar": {
             "outlinewidth": 0,
             "ticks": ""
            },
            "colorscale": [
             [
              0,
              "#0d0887"
             ],
             [
              0.1111111111111111,
              "#46039f"
             ],
             [
              0.2222222222222222,
              "#7201a8"
             ],
             [
              0.3333333333333333,
              "#9c179e"
             ],
             [
              0.4444444444444444,
              "#bd3786"
             ],
             [
              0.5555555555555556,
              "#d8576b"
             ],
             [
              0.6666666666666666,
              "#ed7953"
             ],
             [
              0.7777777777777778,
              "#fb9f3a"
             ],
             [
              0.8888888888888888,
              "#fdca26"
             ],
             [
              1,
              "#f0f921"
             ]
            ],
            "type": "heatmap"
           }
          ],
          "heatmapgl": [
           {
            "colorbar": {
             "outlinewidth": 0,
             "ticks": ""
            },
            "colorscale": [
             [
              0,
              "#0d0887"
             ],
             [
              0.1111111111111111,
              "#46039f"
             ],
             [
              0.2222222222222222,
              "#7201a8"
             ],
             [
              0.3333333333333333,
              "#9c179e"
             ],
             [
              0.4444444444444444,
              "#bd3786"
             ],
             [
              0.5555555555555556,
              "#d8576b"
             ],
             [
              0.6666666666666666,
              "#ed7953"
             ],
             [
              0.7777777777777778,
              "#fb9f3a"
             ],
             [
              0.8888888888888888,
              "#fdca26"
             ],
             [
              1,
              "#f0f921"
             ]
            ],
            "type": "heatmapgl"
           }
          ],
          "histogram": [
           {
            "marker": {
             "colorbar": {
              "outlinewidth": 0,
              "ticks": ""
             }
            },
            "type": "histogram"
           }
          ],
          "histogram2d": [
           {
            "colorbar": {
             "outlinewidth": 0,
             "ticks": ""
            },
            "colorscale": [
             [
              0,
              "#0d0887"
             ],
             [
              0.1111111111111111,
              "#46039f"
             ],
             [
              0.2222222222222222,
              "#7201a8"
             ],
             [
              0.3333333333333333,
              "#9c179e"
             ],
             [
              0.4444444444444444,
              "#bd3786"
             ],
             [
              0.5555555555555556,
              "#d8576b"
             ],
             [
              0.6666666666666666,
              "#ed7953"
             ],
             [
              0.7777777777777778,
              "#fb9f3a"
             ],
             [
              0.8888888888888888,
              "#fdca26"
             ],
             [
              1,
              "#f0f921"
             ]
            ],
            "type": "histogram2d"
           }
          ],
          "histogram2dcontour": [
           {
            "colorbar": {
             "outlinewidth": 0,
             "ticks": ""
            },
            "colorscale": [
             [
              0,
              "#0d0887"
             ],
             [
              0.1111111111111111,
              "#46039f"
             ],
             [
              0.2222222222222222,
              "#7201a8"
             ],
             [
              0.3333333333333333,
              "#9c179e"
             ],
             [
              0.4444444444444444,
              "#bd3786"
             ],
             [
              0.5555555555555556,
              "#d8576b"
             ],
             [
              0.6666666666666666,
              "#ed7953"
             ],
             [
              0.7777777777777778,
              "#fb9f3a"
             ],
             [
              0.8888888888888888,
              "#fdca26"
             ],
             [
              1,
              "#f0f921"
             ]
            ],
            "type": "histogram2dcontour"
           }
          ],
          "mesh3d": [
           {
            "colorbar": {
             "outlinewidth": 0,
             "ticks": ""
            },
            "type": "mesh3d"
           }
          ],
          "parcoords": [
           {
            "line": {
             "colorbar": {
              "outlinewidth": 0,
              "ticks": ""
             }
            },
            "type": "parcoords"
           }
          ],
          "pie": [
           {
            "automargin": true,
            "type": "pie"
           }
          ],
          "scatter": [
           {
            "marker": {
             "colorbar": {
              "outlinewidth": 0,
              "ticks": ""
             }
            },
            "type": "scatter"
           }
          ],
          "scatter3d": [
           {
            "line": {
             "colorbar": {
              "outlinewidth": 0,
              "ticks": ""
             }
            },
            "marker": {
             "colorbar": {
              "outlinewidth": 0,
              "ticks": ""
             }
            },
            "type": "scatter3d"
           }
          ],
          "scattercarpet": [
           {
            "marker": {
             "colorbar": {
              "outlinewidth": 0,
              "ticks": ""
             }
            },
            "type": "scattercarpet"
           }
          ],
          "scattergeo": [
           {
            "marker": {
             "colorbar": {
              "outlinewidth": 0,
              "ticks": ""
             }
            },
            "type": "scattergeo"
           }
          ],
          "scattergl": [
           {
            "marker": {
             "colorbar": {
              "outlinewidth": 0,
              "ticks": ""
             }
            },
            "type": "scattergl"
           }
          ],
          "scattermapbox": [
           {
            "marker": {
             "colorbar": {
              "outlinewidth": 0,
              "ticks": ""
             }
            },
            "type": "scattermapbox"
           }
          ],
          "scatterpolar": [
           {
            "marker": {
             "colorbar": {
              "outlinewidth": 0,
              "ticks": ""
             }
            },
            "type": "scatterpolar"
           }
          ],
          "scatterpolargl": [
           {
            "marker": {
             "colorbar": {
              "outlinewidth": 0,
              "ticks": ""
             }
            },
            "type": "scatterpolargl"
           }
          ],
          "scatterternary": [
           {
            "marker": {
             "colorbar": {
              "outlinewidth": 0,
              "ticks": ""
             }
            },
            "type": "scatterternary"
           }
          ],
          "surface": [
           {
            "colorbar": {
             "outlinewidth": 0,
             "ticks": ""
            },
            "colorscale": [
             [
              0,
              "#0d0887"
             ],
             [
              0.1111111111111111,
              "#46039f"
             ],
             [
              0.2222222222222222,
              "#7201a8"
             ],
             [
              0.3333333333333333,
              "#9c179e"
             ],
             [
              0.4444444444444444,
              "#bd3786"
             ],
             [
              0.5555555555555556,
              "#d8576b"
             ],
             [
              0.6666666666666666,
              "#ed7953"
             ],
             [
              0.7777777777777778,
              "#fb9f3a"
             ],
             [
              0.8888888888888888,
              "#fdca26"
             ],
             [
              1,
              "#f0f921"
             ]
            ],
            "type": "surface"
           }
          ],
          "table": [
           {
            "cells": {
             "fill": {
              "color": "#EBF0F8"
             },
             "line": {
              "color": "white"
             }
            },
            "header": {
             "fill": {
              "color": "#C8D4E3"
             },
             "line": {
              "color": "white"
             }
            },
            "type": "table"
           }
          ]
         },
         "layout": {
          "annotationdefaults": {
           "arrowcolor": "#2a3f5f",
           "arrowhead": 0,
           "arrowwidth": 1
          },
          "coloraxis": {
           "colorbar": {
            "outlinewidth": 0,
            "ticks": ""
           }
          },
          "colorscale": {
           "diverging": [
            [
             0,
             "#8e0152"
            ],
            [
             0.1,
             "#c51b7d"
            ],
            [
             0.2,
             "#de77ae"
            ],
            [
             0.3,
             "#f1b6da"
            ],
            [
             0.4,
             "#fde0ef"
            ],
            [
             0.5,
             "#f7f7f7"
            ],
            [
             0.6,
             "#e6f5d0"
            ],
            [
             0.7,
             "#b8e186"
            ],
            [
             0.8,
             "#7fbc41"
            ],
            [
             0.9,
             "#4d9221"
            ],
            [
             1,
             "#276419"
            ]
           ],
           "sequential": [
            [
             0,
             "#0d0887"
            ],
            [
             0.1111111111111111,
             "#46039f"
            ],
            [
             0.2222222222222222,
             "#7201a8"
            ],
            [
             0.3333333333333333,
             "#9c179e"
            ],
            [
             0.4444444444444444,
             "#bd3786"
            ],
            [
             0.5555555555555556,
             "#d8576b"
            ],
            [
             0.6666666666666666,
             "#ed7953"
            ],
            [
             0.7777777777777778,
             "#fb9f3a"
            ],
            [
             0.8888888888888888,
             "#fdca26"
            ],
            [
             1,
             "#f0f921"
            ]
           ],
           "sequentialminus": [
            [
             0,
             "#0d0887"
            ],
            [
             0.1111111111111111,
             "#46039f"
            ],
            [
             0.2222222222222222,
             "#7201a8"
            ],
            [
             0.3333333333333333,
             "#9c179e"
            ],
            [
             0.4444444444444444,
             "#bd3786"
            ],
            [
             0.5555555555555556,
             "#d8576b"
            ],
            [
             0.6666666666666666,
             "#ed7953"
            ],
            [
             0.7777777777777778,
             "#fb9f3a"
            ],
            [
             0.8888888888888888,
             "#fdca26"
            ],
            [
             1,
             "#f0f921"
            ]
           ]
          },
          "colorway": [
           "#636efa",
           "#EF553B",
           "#00cc96",
           "#ab63fa",
           "#FFA15A",
           "#19d3f3",
           "#FF6692",
           "#B6E880",
           "#FF97FF",
           "#FECB52"
          ],
          "font": {
           "color": "#2a3f5f"
          },
          "geo": {
           "bgcolor": "white",
           "lakecolor": "white",
           "landcolor": "#E5ECF6",
           "showlakes": true,
           "showland": true,
           "subunitcolor": "white"
          },
          "hoverlabel": {
           "align": "left"
          },
          "hovermode": "closest",
          "mapbox": {
           "style": "light"
          },
          "paper_bgcolor": "white",
          "plot_bgcolor": "#E5ECF6",
          "polar": {
           "angularaxis": {
            "gridcolor": "white",
            "linecolor": "white",
            "ticks": ""
           },
           "bgcolor": "#E5ECF6",
           "radialaxis": {
            "gridcolor": "white",
            "linecolor": "white",
            "ticks": ""
           }
          },
          "scene": {
           "xaxis": {
            "backgroundcolor": "#E5ECF6",
            "gridcolor": "white",
            "gridwidth": 2,
            "linecolor": "white",
            "showbackground": true,
            "ticks": "",
            "zerolinecolor": "white"
           },
           "yaxis": {
            "backgroundcolor": "#E5ECF6",
            "gridcolor": "white",
            "gridwidth": 2,
            "linecolor": "white",
            "showbackground": true,
            "ticks": "",
            "zerolinecolor": "white"
           },
           "zaxis": {
            "backgroundcolor": "#E5ECF6",
            "gridcolor": "white",
            "gridwidth": 2,
            "linecolor": "white",
            "showbackground": true,
            "ticks": "",
            "zerolinecolor": "white"
           }
          },
          "shapedefaults": {
           "line": {
            "color": "#2a3f5f"
           }
          },
          "ternary": {
           "aaxis": {
            "gridcolor": "white",
            "linecolor": "white",
            "ticks": ""
           },
           "baxis": {
            "gridcolor": "white",
            "linecolor": "white",
            "ticks": ""
           },
           "bgcolor": "#E5ECF6",
           "caxis": {
            "gridcolor": "white",
            "linecolor": "white",
            "ticks": ""
           }
          },
          "title": {
           "x": 0.05
          },
          "xaxis": {
           "automargin": true,
           "gridcolor": "white",
           "linecolor": "white",
           "ticks": "",
           "title": {
            "standoff": 15
           },
           "zerolinecolor": "white",
           "zerolinewidth": 2
          },
          "yaxis": {
           "automargin": true,
           "gridcolor": "white",
           "linecolor": "white",
           "ticks": "",
           "title": {
            "standoff": 15
           },
           "zerolinecolor": "white",
           "zerolinewidth": 2
          }
         }
        },
        "width": 700,
        "xaxis": {
         "anchor": "y",
         "domain": [
          0,
          0.45
         ],
         "title": {
          "text": "Pentamers"
         }
        },
        "xaxis2": {
         "anchor": "y2",
         "domain": [
          0.55,
          1
         ],
         "title": {
          "text": "n"
         }
        },
        "yaxis": {
         "anchor": "x",
         "domain": [
          0,
          1
         ],
         "title": {
          "text": "Coefficient"
         }
        },
        "yaxis2": {
         "anchor": "x2",
         "domain": [
          0,
          1
         ],
         "title": {
          "standoff": 5,
          "text": "Pentamers in top n across folds"
         }
        }
       }
      },
      "text/html": [
       "<div>\n",
       "        \n",
       "        \n",
       "            <div id=\"8c319900-ec46-454c-8ff3-23574cb1cce2\" class=\"plotly-graph-div\" style=\"height:300px; width:700px;\"></div>\n",
       "            <script type=\"text/javascript\">\n",
       "                require([\"plotly\"], function(Plotly) {\n",
       "                    window.PLOTLYENV=window.PLOTLYENV || {};\n",
       "                    \n",
       "                if (document.getElementById(\"8c319900-ec46-454c-8ff3-23574cb1cce2\")) {\n",
       "                    Plotly.newPlot(\n",
       "                        '8c319900-ec46-454c-8ff3-23574cb1cce2',\n",
       "                        [{\"error_y\": {\"array\": [0.010208351534011709, 0.01027366074182059, 0.010183886361116126, 0.007163340310754619, 0.007104191593960496, 0.00863831256760045, 0.011452435049084463, 0.010541227012727061, 0.01075589667100051, 0.0101448762967608, 0.007974559412633224, 0.01064132025364895, 0.010693880840665252, 0.005319921582948678, 0.009577524412888148, 0.014986776525222123, 0.022471399169236933, 0.011589066688969366, 0.0054748976374332445, 0.019191764852445493, 0.006474771121796361, 0.009218878139899005, 0.014425927752668119, 0.008315907686624758, 0.0076228728962369945, 0.011379518639290768, 0.012258029689929142, 0.007610404080481712, 0.006653602935403059, 0.008733826498393998, 0.008510290739634049, 0.007713241583631088, 0.006172159293150822, 0.007459936355699367, 0.007472206218054721, 0.01253158454845972, 0.008402059665286215, 0.008692901881027235, 0.011234487309274118, 0.005673860932344816, 0.005764027163724308, 0.012275372380572771, 0.007338644331642683, 0.006093615540270161, 0.008639614191842303, 0.009312934688148386, 0.015623531298893044, 0.0075981050066727335, 0.009053157386408292, 0.013227632354641639, 0.009438160576750058, 0.007014913487111401, 0.01399670049067439, 0.010289320859418154, 0.007601736126905679, 0.014057225287748274, 0.010008589298535087, 0.00981334268618069, 0.011495164324468728, 0.011689246313286451, 0.007863232775143862, 0.01662169541936248, 0.007737005142426713, 0.011974078196486413, 0.007586159760269492, 0.006413454582690721, 0.0057680218839942675, 0.009563182299412769, 0.009481622035996059, 0.007407075806739428, 0.006940933100276032, 0.009293907804135684, 0.007710251663172643, 0.009663290942755242, 0.017574270912534027, 0.007015091922235943, 0.005987052355448275, 0.012005078267000275, 0.00738459025923999, 0.01396512515437169, 0.013371041205647824, 0.008833307208171352, 0.0084835697946102, 0.011327295908137448, 0.011321589385197001, 0.00638069586130383, 0.004675818233307117, 0.009434013797171207, 0.005332243968766016, 0.009042820386939371, 0.011021129198733576, 0.007493345588218289, 0.006023018405027209, 0.008229940432822947, 0.008564958758296009, 0.00607005245366178, 0.008302697014383943, 0.0097997238570551, 0.008056232071263884, 0.00667422987020898, 0.007588395210413025, 0.005263522255435579, 0.007635837611814401, 0.009161389925243762, 0.008104114957571613, 0.010893695681996614, 0.01145459603619382, 0.008444473291311583, 0.006112626546395411, 0.007702899338768368, 0.004379884821991311, 0.00643377505604771, 0.00936124389734407, 0.01003296214034883, 0.016160238324364643, 0.008914343590699403, 0.00539015147010269, 0.008411632526208381, 0.005952730282878227, 0.0054708333400773175, 0.0099525811894939, 0.009607893926931257, 0.009248999569757511, 0.007227213770347289, 0.005533806478949413, 0.019887534517231527, 0.008311392803816835, 0.00851444462516909, 0.016463129346348013, 0.008404539064216721, 0.007594467289539532, 0.0074611402956782785, 0.013399632804380735, 0.007431073597625818, 0.00692483693039941, 0.01038376983862448, 0.006469906348462585, 0.007612129139067886, 0.0075857798231374115, 0.008774355260364974, 0.005866309097335516, 0.01105181184048668, 0.00552909789678406, 0.006189064168448437, 0.009287178630848134, 0.006426406996679558, 0.007120703205929468, 0.0074536270980815784, 0.005648485771486851, 0.022575210241100173, 0.020129042174062164, 0.005753799301213996, 0.01685775353366675, 0.009283902845735154, 0.007718980173787052, 0.006707275425356835, 0.005576395538435508, 0.005214420145368479, 0.0035171459701200773, 0.005177227724062152, 0.005387991617694658, 0.0037596099209022942, 0.006958439078450897, 0.004167429317592019, 0.004424156079532886, 0.0041644337912312744, 0.005837834743808971, 0.0043839153278575, 0.005162315243941604, 0.005675830119608158, 0.00460234507022492, 0.008079242583866933, 0.0031002578884866405, 0.0037091701717114354, 0.0023511970651944017, 0.003130681850261426, 0.004615181906305075, 0.004779184713702584, 0.002960579680017291, 0.004003219554680123, 0.0052458300322442055, 0.00475390338283354, 0.002899456039839374, 0.002682471624242664, 0.004549398575225782, 0.0035670155579606987, 0.002867928161810706, 0.001759671653226299, 0.0016396390444823976, 0.0024860485491245395, 0.0033988560401905484, 0.0033540307746299613, 0.001792294436972001, 0.0025098788538342473, 0.0028830837997250933, 0.0028063097643443486, 0.002789617451324566, 0.0025784298652201166, 0.001757998907819631, 0.0017422936333048964, 0.0011101560270726635, 0.0022023938671386642, 0.0015493687867903158, 0.0008827448390265779, 0.0010313578168750527, 0.0006416348995890968, 0.00032477862824042297, 0.0002973623350064871, 0.00022427578339861252, 0.00020574468616759293, 8.047577959637683e-05, 7.819305857803357e-05, 0.0, 0.0, 0.0, 0.0, 0.0, 0.0, 0.0, 0.0, 0.0, 0.0, 0.0, 0.0, 0.0, 0.0, 0.0, 0.0, 0.0, 0.0, 0.0, 0.0, 0.0, 0.0, 0.0, 0.0, 0.0, 0.0, 0.0, 0.0, 0.0, 0.0, 0.0, 0.0, 0.0, 0.0, 0.0, 0.0, 0.0, 0.0, 0.0, 0.0, 0.0, 0.0, 0.0, 0.0, 0.0, 0.0, 0.0, 0.0, 0.0, 0.0, 0.0, 0.0, 0.0, 0.0, 0.0, 0.0, 0.0, 0.0, 0.0, 0.0, 0.0, 0.0, 0.0, 0.0, 0.0, 0.0, 0.0, 0.0, 0.0, 0.0, 0.0, 0.0, 0.0, 0.0, 0.0, 0.0, 0.0, 0.0, 0.0, 0.0, 0.0, 0.0, 0.0, 0.0, 0.0, 0.0, 0.0, 0.0, 0.0, 0.0, 0.0, 0.0, 0.0, 0.0, 0.0, 0.0, 0.0, 0.0, 0.0, 0.0, 0.0, 0.0, 0.0, 0.0, 0.0, 0.0, 0.0, 0.0, 0.0, 0.0, 0.0, 0.0, 0.0, 0.0, 0.0, 0.0001834523532016602, 0.00018469971282331627, 0.0002419273790013262, 0.0004344853872078194, 0.0003877913819951848, 0.0004926950692901965, 0.0004695983109547725, 0.0006133352551176476, 0.0013697416940075798, 0.0011992727282078002, 0.0019994074979466517, 0.0021434175173759076, 0.0014884425323989426, 0.0022204794449710596, 0.0036736734457662266, 0.00172450932567165, 0.0028682027508408854, 0.0020833370691650966, 0.0022542145040981877, 0.002504763038016312, 0.003523784114883829, 0.004609996321718503, 0.0019331296671032338, 0.005558848811842646, 0.0028642307837174357, 0.002750949942321409, 0.003115121896125785, 0.0027690967222449635, 0.003564980007608951, 0.0021389599168664354, 0.0032699550051224924, 0.004911509323062588, 0.006834032754253164, 0.0039676363278848496, 0.006134487006132726, 0.004324036061150775, 0.0034888764439512466, 0.003274946056485493, 0.004470323881915131, 0.007547158517636868, 0.006787572840018322, 0.005189392394423042, 0.007845993238129605, 0.004981081058736017, 0.005436754970961463, 0.0065680748418923554, 0.009325462433730478, 0.004934554569621507, 0.005307005702515732, 0.006433094423596908, 0.005817441855031726, 0.006804236359402528, 0.009968802888318149, 0.008237083145426453, 0.00524158571415673, 0.012826698506073103, 0.014152271920184877, 0.013178949610164192, 0.010538025472469407, 0.012371055495279906, 0.00621329117685012, 0.009787869822932765, 0.007156385892286953, 0.0061484295043892755, 0.005936038957611069, 0.007697030454387241, 0.013153504443251925, 0.008812789291453623, 0.018558111567918614, 0.006421016271433157, 0.0052703686941912645, 0.012866569661900137, 0.012895784817498802, 0.006483600902810998, 0.015800852720299626, 0.011384275538787576, 0.006890484647653057, 0.014319295241562977, 0.012585351880764208, 0.015393246155919133, 0.015546726464474497, 0.0157286969458754, 0.004896850115466819, 0.011960829937471756, 0.0062842126038299174, 0.007799096347267198, 0.007173839006282147, 0.015024902556136857, 0.009942043349482366, 0.009555335739444816, 0.015681055914738035, 0.006320124866575647, 0.027860616930325193, 0.015257801920093293, 0.019587559205872986, 0.026933014787358496, 0.01344015836324002, 0.01547881962032012, 0.01930871639289468, 0.004485156942037334, 0.017368621426807878, 0.012764284439306862, 0.006022801376080489, 0.007784734045334836, 0.007216091237017793, 0.007138441072966542, 0.005113582762406413, 0.01670566591744242, 0.022521619043268146, 0.0077171554837452885, 0.014349742222197153, 0.012611221778151289, 0.00961477052023253, 0.008408660789938465, 0.015159420164268663, 0.014883022088962403, 0.02497786844960383, 0.027384483503487916, 0.011997448437651657, 0.020516277116961315, 0.003872458011809345, 0.010819550251902035, 0.014192152889686787, 0.025439598697410686, 0.008776374318287265, 0.013648332003042832, 0.01621636173634072, 0.01833688883057596, 0.026521528042942676, 0.01558023531401968, 0.014184576593566296, 0.02330178409226966, 0.018830907104121032, 0.010528376325302066, 0.012958344455099687, 0.00907447929346943, 0.011021745486564085, 0.020938306879587, 0.014404994518793936, 0.023263314141814043, 0.02354665715193363, 0.017639829122383405, 0.036023979217291925, 0.007779849824546471, 0.03682720999266825, 0.009614424894436865, 0.03234155950059208, 0.02273172749995847, 0.00925070883869682, 0.011849102711483081, 0.01186116064235399, 0.005428712367240372, 0.01251677078743377, 0.009682898102386393, 0.016927742891779146, 0.012970243375852048, 0.019127530239582764, 0.018700501985852984, 0.0186294374717667, 0.02320792653989679, 0.024611548462421428, 0.015021502872350285, 0.027093473181838724, 0.013256973022440558, 0.010149518586453658, 0.013252961825160765, 0.027991141357656412, 0.013555899219618082, 0.01795740204247567, 0.01816983964018038, 0.024309565530640495, 0.017398771507861736, 0.01558166684652009, 0.017206171123991042, 0.022067194667432604, 0.012691246133062327, 0.02796205983902603, 0.02312170244545677, 0.012862618628328925, 0.009471981428999136, 0.029849690122468915, 0.04136872361007819, 0.026919913509122477, 0.01114484100499115, 0.01698492550183463], \"type\": \"data\", \"visible\": true}, \"name\": \"moderate regularization\", \"type\": \"scatter\", \"xaxis\": \"x\", \"y\": [0.125262559220305, 0.11496782414780754, 0.11105988377747418, 0.09918809351177864, 0.09478063473929074, 0.09414307149415549, 0.09372096680836807, 0.09308581417386155, 0.09262221019438403, 0.08946778450242554, 0.08790050862179177, 0.08716448894541877, 0.08482376722759234, 0.08345589500830236, 0.08285983799473058, 0.07861647071516165, 0.07328863647477896, 0.07320259972654877, 0.07195981437078573, 0.07087296758427378, 0.07073276407668798, 0.06707591162043097, 0.06463784035669248, 0.06395489342154581, 0.06390742104546462, 0.06294953963185872, 0.06231481338230888, 0.05957759501776566, 0.05840108964215707, 0.058397019320059855, 0.058346216850173035, 0.0569436936257325, 0.0567767072141737, 0.05533653875797921, 0.05470396385875289, 0.053340288592081966, 0.05333224452924144, 0.05318758582041143, 0.052598676740882255, 0.05250394127630127, 0.05168013579487367, 0.05107444155552061, 0.05085725332831546, 0.04745116779483502, 0.04608050750287057, 0.0460024417315188, 0.045717108163978774, 0.04350947541587871, 0.04273665529948696, 0.042283612722874814, 0.041694356922317856, 0.041481795083012, 0.040730211215096256, 0.03972970082196024, 0.03968964016912439, 0.039504700573100876, 0.03903583416887829, 0.038649199536227884, 0.03855536029336745, 0.03761073312021057, 0.036739322461116455, 0.036179752825962974, 0.036061532039297656, 0.035926719839489224, 0.035812727751109226, 0.03576088482896983, 0.03558118954394802, 0.03552052227781333, 0.035210344826399384, 0.0346649147489097, 0.03372404245665121, 0.0326941871792021, 0.03195462967578199, 0.03160398754278297, 0.031601358361214374, 0.030944694214993546, 0.030475120123381907, 0.029996738551970388, 0.0298539531133242, 0.02972052151602952, 0.02968791701953541, 0.029289089086410716, 0.028814008958166673, 0.0280360689057692, 0.028025462144525823, 0.027562655313939907, 0.02705763819408547, 0.027005555322517385, 0.026485166441485485, 0.02641741246027015, 0.025875066063774165, 0.025199483947680797, 0.025054222911606833, 0.024947810870493047, 0.024716607397789865, 0.02467407298883486, 0.024575338185922117, 0.024510170725217238, 0.024509991925928152, 0.024503648516493105, 0.024456264726779975, 0.024244570420338618, 0.024192119342200946, 0.02410005775812777, 0.0240036542651204, 0.023200722147113224, 0.02309199826151799, 0.02205129383597098, 0.02134009339776847, 0.020944838482822907, 0.020832404961994892, 0.020447348629727385, 0.018662868847884498, 0.01843636773481325, 0.017973134852932605, 0.016140074678864205, 0.016128720886354753, 0.016080781424940946, 0.01584531773962699, 0.01564438702905474, 0.015251564215013471, 0.014892539439699412, 0.014846857755304775, 0.014701384778065624, 0.014454248801977897, 0.014177437109053195, 0.014111956283348333, 0.013693631988654923, 0.013115982781552323, 0.01310714483266245, 0.012972263224379475, 0.012581433710505997, 0.012408843299407207, 0.012175170416378955, 0.011804570955431843, 0.011669844793848375, 0.011059406578480355, 0.010856959020212784, 0.010364359773025966, 0.010178700303131144, 0.009313711687119529, 0.009247989259319201, 0.009228524369280355, 0.009097831628204841, 0.00897403024785183, 0.008758839606897112, 0.008281051714678994, 0.008094044630092227, 0.007498103905607222, 0.007341655818478514, 0.006867062038797897, 0.006573639783734485, 0.006297583213278773, 0.005843725267891575, 0.005591067298569647, 0.004533025190312562, 0.004459892223886008, 0.004250210372797302, 0.004127816778685914, 0.003709262477677401, 0.003668483485486141, 0.00346969620794953, 0.003262076331728714, 0.003223490468830089, 0.0027644399402577064, 0.002716243342522004, 0.002524996195675957, 0.0024777219802585067, 0.0022645906692601928, 0.0021388652406825522, 0.0020477326640306916, 0.0020198106459667327, 0.001991474415259302, 0.0015483138148156723, 0.001512156578992435, 0.0014212751304568136, 0.0013752702050732768, 0.001365380928934035, 0.0013474197294020065, 0.001332445478515433, 0.0013114575080610514, 0.0013063719602072162, 0.0012450375174874867, 0.0012306460769319447, 0.0011373496438064454, 0.0010808598365822531, 0.001049547192800592, 0.0009126103623327056, 0.0008973006783827067, 0.0008930156465979418, 0.0008497140100476371, 0.0008385076936574903, 0.0007765803526116267, 0.0007304353811601395, 0.0007207709499312733, 0.000701577441086087, 0.0006974043628311416, 0.0006446074663050292, 0.0006377506925732064, 0.0005822213246420062, 0.000565253201435246, 0.0005505984667846661, 0.0005461112551329433, 0.00029563933313656455, 0.0002578394542187632, 0.00016040872489727416, 8.119465706010574e-05, 7.434058375162177e-05, 5.606894584965313e-05, 5.143617154189823e-05, 2.0118944899094206e-05, 1.954826464450839e-05, 0.0, 0.0, 0.0, 0.0, 0.0, 0.0, 0.0, 0.0, 0.0, 0.0, 0.0, 0.0, 0.0, 0.0, 0.0, 0.0, 0.0, 0.0, 0.0, 0.0, 0.0, 0.0, 0.0, 0.0, 0.0, 0.0, 0.0, 0.0, 0.0, 0.0, 0.0, 0.0, 0.0, 0.0, 0.0, 0.0, 0.0, 0.0, 0.0, 0.0, 0.0, 0.0, 0.0, 0.0, 0.0, 0.0, 0.0, 0.0, 0.0, 0.0, 0.0, 0.0, 0.0, 0.0, 0.0, 0.0, 0.0, 0.0, 0.0, 0.0, 0.0, 0.0, 0.0, 0.0, 0.0, 0.0, 0.0, 0.0, 0.0, 0.0, 0.0, 0.0, 0.0, 0.0, 0.0, 0.0, 0.0, 0.0, 0.0, 0.0, 0.0, 0.0, 0.0, 0.0, 0.0, 0.0, 0.0, 0.0, 0.0, 0.0, 0.0, 0.0, 0.0, 0.0, 0.0, 0.0, 0.0, 0.0, 0.0, 0.0, 0.0, 0.0, 0.0, 0.0, 0.0, 0.0, 0.0, 0.0, 0.0, 0.0, 0.0, 0.0, 0.0, 0.0, 0.0, -4.586308830041506e-05, -4.617492820582907e-05, -6.048184475033155e-05, -0.00010862134680195485, -0.00011581678412897249, -0.00012317376732254914, -0.00014557614495956807, -0.0001533338137794119, -0.00035029072751443293, -0.0004959818516353119, -0.0004998518744866629, -0.0005358543793439769, -0.0005393438552295765, -0.0005551198612427649, -0.0005852106538850883, -0.0006356091927429813, -0.0007905551863895367, -0.0008487952260355149, -0.0009261731540708777, -0.000998966754896715, -0.0010988898039966893, -0.0011524990804296258, -0.0011611697646067942, -0.0013897122029606615, -0.0014332022796595143, -0.001439082735262889, -0.001588148312692171, -0.0016771458041945969, -0.0017169366088651003, -0.0017278431170127235, -0.0018369575333152452, -0.0018433063436681483, -0.002042546300514712, -0.0020603369409540055, -0.0021046228646360984, -0.0022641297440550183, -0.0025801638046258316, -0.0028278643946928208, -0.002869088351757392, -0.003049791601078832, -0.003790201230398589, -0.003795816501292252, -0.003958147981885698, -0.004003738102010939, -0.004117773861128465, -0.004770454112073127, -0.00496417496108624, -0.005195417971567166, -0.005287291653053478, -0.005888770564507368, -0.005912372339874912, -0.00598906090210362, -0.006197394235632949, -0.006279374277040846, -0.007880620315366, -0.009010764454659396, -0.009510563589894171, -0.010547218652184057, -0.011133605803672016, -0.011417130720876249, -0.011902344030008172, -0.012065191759935914, -0.013086442302044789, -0.014005947768149122, -0.014331536569917164, -0.014496514340658018, -0.01522422525249356, -0.015866931842387355, -0.018939083696036765, -0.019199488030564482, -0.0192226635278401, -0.019257901783837735, -0.019467634090851827, -0.019869725594503285, -0.019913777146237117, -0.020452275962583578, -0.021996928736108277, -0.022684107866231644, -0.02328033215385833, -0.025028622642684337, -0.025671614141006355, -0.02571507210147381, -0.02585975512741298, -0.02691418990560762, -0.028346135344889688, -0.028398071977410497, -0.02852281977407317, -0.029007205373883984, -0.031212108143130735, -0.03150184820155934, -0.031531181746384335, -0.03174824364682097, -0.03176173940138082, -0.033555583443091744, -0.033673713944790865, -0.04407534005069948, -0.04600092890162727, -0.04691709619328589, -0.047588830498436804, -0.047930870920588245, -0.05030868938951895, -0.0506949068857795, -0.05231359513156668, -0.053578738314804586, -0.055134403837340654, -0.05559838392576846, -0.05720517516936893, -0.057561108334629, -0.06036918301062129, -0.06122562317900741, -0.0625725384188332, -0.06316628048045173, -0.06322235412257365, -0.0632554466773737, -0.06338156925639918, -0.06379453693742283, -0.06473910808008829, -0.0673989026566731, -0.07001561884730881, -0.07044823474772732, -0.07309373827187768, -0.07338747175509969, -0.0746903572026213, -0.07506471266708228, -0.07543944358507025, -0.07680951858103821, -0.07743672440069295, -0.07792085082650584, -0.08082551898384475, -0.08114622409005208, -0.0819953962678838, -0.08235323931071756, -0.08441270816744453, -0.09054846898947852, -0.09064041063230535, -0.09281811437461915, -0.0928361681532519, -0.09315573897707412, -0.09511088589949115, -0.09745285217459979, -0.09793198386482949, -0.09858403801937672, -0.09933266862293355, -0.1000774604865031, -0.10017232294420199, -0.1011781813813947, -0.10367244210997911, -0.10522800939079546, -0.10523947083130267, -0.11127448265280798, -0.11579037827954974, -0.11701706499466333, -0.11757894440534541, -0.12071313252368074, -0.12399730327061022, -0.1275561944587548, -0.1310705371720468, -0.13355943280506882, -0.1432090934925255, -0.14565020233293524, -0.14575227836444973, -0.15351353853654398, -0.15377667794984887, -0.155224246732928, -0.1566234310851888, -0.15755170656070835, -0.16028686966311068, -0.16150275013497814, -0.1621606503427872, -0.1622895827722214, -0.16692672056037977, -0.17216014569841195, -0.1745380961672759, -0.17732461301016283, -0.17901750211171813, -0.18009691428298374, -0.18286075960511328, -0.18365277773026445, -0.19496162440049108, -0.2334782340407269, -0.255734984092955, -0.2917533363049112, -0.4051654274713863, -0.4679194668587514, -0.46896376030615167], \"yaxis\": \"y\"}, {\"error_y\": {\"array\": [0.005497471272869561, 0.0049603816775186955, 0.004947542764511263, 0.0038978926464217265, 0.004533762881692042, 0.006562560697923681, 0.005166012160208661, 0.004267453462554265, 0.006666467101365312, 0.007107966960189151, 0.004620260675386847, 0.005146549613833958, 0.007213760988752138, 0.006548744026513467, 0.003955308378801727, 0.003737986829179512, 0.007113062635079292, 0.003674728451643973, 0.004267662512648467, 0.006353753497390724, 0.008635929297521456, 0.005138795204893019, 0.0032921577753509098, 0.004707293389396508, 0.004340051741905576, 0.014428030003880597, 0.005783532767897999, 0.005930675928074957, 0.006775806466068344, 0.0030722758281698423, 0.01267669982978353, 0.0035834480481354335, 0.005883159358984577, 0.0028697474773337925, 0.006677437141668932, 0.004024668566462025, 0.003883709167077376, 0.0075820977415631844, 0.004481983528127069, 0.003262434431594688, 0.0062648449168296785, 0.006486494678155291, 0.005267017059961043, 0.003982560577913581, 0.005130584201595838, 0.0045104361036843975, 0.005655330141171077, 0.004694075038529797, 0.006742382014082056, 0.0032601983337256705, 0.004054541926252378, 0.005477269769168277, 0.006418053544345784, 0.005666255531154853, 0.005153114825574167, 0.0027201642860225396, 0.0022658036292250976, 0.0033123583536099656, 0.003101865341615935, 0.003076706759216647, 0.0035485270587847467, 0.007356731147677276, 0.003520640192326177, 0.004139525136925099, 0.003395278746762918, 0.002639455002587303, 0.0020107193473828046, 0.004626616719562424, 0.0029183826232939197, 0.0018131704471115418, 0.0035123033180652808, 0.002425363784610158, 0.0011104103003877401, 0.0003593107278639417, 0.0, 0.0, 0.0, 0.0, 0.0, 0.0, 0.0, 0.0, 0.0, 0.0, 0.0, 0.0, 0.0, 0.0, 0.0, 0.0, 0.0, 0.0, 0.0, 0.0, 0.0, 0.0, 0.0, 0.0, 0.0, 0.0, 0.0, 0.0, 0.0, 0.0, 0.0, 0.0, 0.0, 0.0, 0.0, 0.0, 0.0, 0.0, 0.0, 0.0, 0.0, 0.0, 0.0, 0.0, 0.0, 0.0, 0.0, 0.0, 0.0, 0.0, 0.0, 0.0, 0.0, 0.0, 0.0, 0.0, 0.0, 0.0, 0.0, 0.0, 0.0, 0.0, 0.0, 0.0, 0.0, 0.0, 0.0, 0.0, 0.0, 0.0, 0.0, 0.0, 0.0, 0.0, 0.0, 0.0, 0.0, 0.0, 0.0, 0.0, 0.0, 0.0, 0.0, 0.0, 0.0, 0.0, 0.0, 0.0, 0.0, 0.0, 0.0, 0.0, 0.0, 0.0, 0.0, 0.0, 0.0, 0.0, 0.0, 0.0, 0.0, 0.0, 0.0, 0.0, 0.0, 0.0, 0.0, 0.0, 0.0, 0.0, 0.0, 0.0, 0.0, 0.0, 0.0, 0.0, 0.0, 0.0, 0.0, 0.0, 0.0, 0.0, 0.0, 0.0, 0.0, 0.0, 0.0, 0.0, 0.0, 0.0, 0.0, 0.0, 0.0, 0.0, 0.0, 0.0, 0.0, 0.0, 0.0, 0.0, 0.0, 0.0, 0.0, 0.0, 0.0, 0.0, 0.0, 0.0, 0.0, 0.0, 0.0, 0.0, 0.0, 0.0, 0.0, 0.0, 0.0, 0.0, 0.0, 0.0, 0.0, 0.0, 0.0, 0.0, 0.0, 0.0, 0.0, 0.0, 0.0, 0.0, 0.0, 0.0, 0.0, 0.0, 0.0, 0.0, 0.0, 0.0, 0.0, 0.0, 0.0, 0.0, 0.0, 0.0, 0.0, 0.0, 0.0, 0.0, 0.0, 0.0, 0.0, 0.0, 0.0, 0.0, 0.0, 0.0, 0.0, 0.0, 0.0, 0.0, 0.0, 0.0, 0.0, 0.0, 0.0, 0.0, 0.0, 0.0, 0.0, 0.0, 0.0, 0.0, 0.0, 0.0, 0.0, 0.0, 0.0, 0.0, 0.0, 0.0, 0.0, 0.0, 0.0, 0.0, 0.0, 0.0, 0.0, 0.0, 0.0, 0.0, 0.0, 0.0, 0.0, 0.0, 0.0, 0.0, 0.0, 0.0, 0.0, 0.0, 0.0, 0.0, 0.0, 0.0, 0.0, 0.0, 0.0, 0.0, 0.0, 0.0, 0.0, 0.0, 0.0, 0.0, 0.0, 0.0, 0.0, 0.0, 0.0, 0.0, 0.0, 0.0, 0.0, 0.0, 0.0, 0.0, 0.0, 0.0, 0.0, 0.0, 0.0, 0.0, 0.0, 0.0, 0.0, 0.0, 0.0, 0.0, 0.0, 0.0, 0.0, 0.0, 0.0, 0.0, 0.0, 0.0, 0.0, 0.0, 0.0, 0.0, 0.0, 0.0, 0.0, 0.0, 0.0, 0.0, 0.0, 0.0, 0.0, 0.0, 0.0, 0.0, 0.0, 0.0, 0.0, 0.0, 0.0, 0.0, 0.0, 0.0, 0.0, 0.0, 0.0, 0.0, 0.0, 0.0, 0.0, 0.0, 0.0, 0.0, 0.0, 0.0, 0.0, 0.0, 0.0, 0.0, 0.0, 0.0, 0.0, 0.0, 0.0, 0.0, 0.0, 0.0, 0.0, 0.0, 0.0, 0.0, 0.0, 0.0, 0.0, 0.0, 0.0, 0.0, 0.0, 0.0, 0.0, 0.0, 0.0, 0.0, 0.0, 0.0, 0.0, 0.0, 0.0, 0.0, 0.0, 0.0, 0.0, 0.0, 0.0, 0.0, 0.0, 0.0, 0.0, 0.0, 0.0, 0.0, 0.0, 0.0, 0.0, 0.0, 0.0, 0.0, 0.0, 0.0, 0.0, 0.0002544915784419304, 0.0002852477234417722, 0.0008965189903178338, 0.003195698771206402, 0.002116656836211274, 0.003908405733557008, 0.005083461996439683, 0.0064124168611625855, 0.004916686186923474, 0.004849855784658249, 0.0072158794687321075, 0.00686642164290665, 0.004991267689349882, 0.008237325743852943, 0.004119109953538546, 0.008942304054878855, 0.006678994528319015, 0.0066014595328068295, 0.006751408020071085, 0.00908646649150862, 0.010412080388980513, 0.003585846842259268, 0.004011751914586256, 0.008381369757117858, 0.006458912064657207, 0.006902718530356799, 0.009983536223707916, 0.007492864441497356, 0.006259459049034049, 0.009779802334310299, 0.00812668043083147, 0.008947587874432209, 0.008019375479228734, 0.012261416615943608, 0.006949926317707488, 0.005035431692883014, 0.008320506896185022, 0.0054217048152451295, 0.006072382395020414, 0.005762433928399973, 0.012194810738836733, 0.00658998158413807, 0.00674900075539647, 0.01619422772993685, 0.006846900005541945, 0.004895349486493046, 0.007924852522075945, 0.014392455099159178, 0.0073554354962030895, 0.00904969320356503, 0.008804743961856773, 0.007365474978424871, 0.02124460627636348, 0.0047637980521009135, 0.011042451222304323, 0.00814997995459213, 0.011619479730456688, 0.008386372085733838, 0.009980752382284493, 0.00822179424518747, 0.00978082808396153], \"type\": \"data\", \"visible\": true}, \"name\": \"strong regularization\", \"type\": \"scatter\", \"xaxis\": \"x\", \"y\": [0.1424997463691444, 0.12598791187169633, 0.11953532282841635, 0.11660354631956968, 0.10181270329851243, 0.09397713020638791, 0.09316580181001019, 0.09042978255821409, 0.08171218751002976, 0.08070796058825831, 0.07793732270125725, 0.07513812979216279, 0.07452395964406067, 0.0740161639270854, 0.07113495106721784, 0.07004495606885802, 0.060352218075111784, 0.0593703372302348, 0.05762473541105412, 0.05164683217017235, 0.05065331004600344, 0.05005214771281802, 0.04437852294499058, 0.04434854015040893, 0.042826664714470046, 0.04061104486697113, 0.03847694712519208, 0.036748713714002554, 0.03648663448316813, 0.035855387660612734, 0.032652496078559565, 0.03197756763959532, 0.03100748228523133, 0.030793092363223033, 0.029811811798560395, 0.025769135058510452, 0.025426891220580273, 0.025297635057783308, 0.02399437877990106, 0.023988052462769673, 0.023812540217979232, 0.01851425864691124, 0.018439399232445683, 0.01599460991943931, 0.015322822450552415, 0.015053979966760755, 0.013406970708185407, 0.01221162564934557, 0.011285737402032309, 0.011123529755068943, 0.01032923440684419, 0.00906350574329476, 0.00874769278032331, 0.007735089090479285, 0.005824543473750747, 0.005035731325742006, 0.003583924379470302, 0.0031760750279927847, 0.003039953096554383, 0.002891012293654136, 0.0027976471996876548, 0.002541760766055532, 0.002365201292986875, 0.00230664536375778, 0.0018479783203756068, 0.001316397045391349, 0.0012681113365686696, 0.001156654179890606, 0.0011529229461687343, 0.0009430762348538392, 0.0008780758295163201, 0.0006063409461525395, 0.0005313777624196148, 8.982768196598542e-05, 0.0, 0.0, 0.0, 0.0, 0.0, 0.0, 0.0, 0.0, 0.0, 0.0, 0.0, 0.0, 0.0, 0.0, 0.0, 0.0, 0.0, 0.0, 0.0, 0.0, 0.0, 0.0, 0.0, 0.0, 0.0, 0.0, 0.0, 0.0, 0.0, 0.0, 0.0, 0.0, 0.0, 0.0, 0.0, 0.0, 0.0, 0.0, 0.0, 0.0, 0.0, 0.0, 0.0, 0.0, 0.0, 0.0, 0.0, 0.0, 0.0, 0.0, 0.0, 0.0, 0.0, 0.0, 0.0, 0.0, 0.0, 0.0, 0.0, 0.0, 0.0, 0.0, 0.0, 0.0, 0.0, 0.0, 0.0, 0.0, 0.0, 0.0, 0.0, 0.0, 0.0, 0.0, 0.0, 0.0, 0.0, 0.0, 0.0, 0.0, 0.0, 0.0, 0.0, 0.0, 0.0, 0.0, 0.0, 0.0, 0.0, 0.0, 0.0, 0.0, 0.0, 0.0, 0.0, 0.0, 0.0, 0.0, 0.0, 0.0, 0.0, 0.0, 0.0, 0.0, 0.0, 0.0, 0.0, 0.0, 0.0, 0.0, 0.0, 0.0, 0.0, 0.0, 0.0, 0.0, 0.0, 0.0, 0.0, 0.0, 0.0, 0.0, 0.0, 0.0, 0.0, 0.0, 0.0, 0.0, 0.0, 0.0, 0.0, 0.0, 0.0, 0.0, 0.0, 0.0, 0.0, 0.0, 0.0, 0.0, 0.0, 0.0, 0.0, 0.0, 0.0, 0.0, 0.0, 0.0, 0.0, 0.0, 0.0, 0.0, 0.0, 0.0, 0.0, 0.0, 0.0, 0.0, 0.0, 0.0, 0.0, 0.0, 0.0, 0.0, 0.0, 0.0, 0.0, 0.0, 0.0, 0.0, 0.0, 0.0, 0.0, 0.0, 0.0, 0.0, 0.0, 0.0, 0.0, 0.0, 0.0, 0.0, 0.0, 0.0, 0.0, 0.0, 0.0, 0.0, 0.0, 0.0, 0.0, 0.0, 0.0, 0.0, 0.0, 0.0, 0.0, 0.0, 0.0, 0.0, 0.0, 0.0, 0.0, 0.0, 0.0, 0.0, 0.0, 0.0, 0.0, 0.0, 0.0, 0.0, 0.0, 0.0, 0.0, 0.0, 0.0, 0.0, 0.0, 0.0, 0.0, 0.0, 0.0, 0.0, 0.0, 0.0, 0.0, 0.0, 0.0, 0.0, 0.0, 0.0, 0.0, 0.0, 0.0, 0.0, 0.0, 0.0, 0.0, 0.0, 0.0, 0.0, 0.0, 0.0, 0.0, 0.0, 0.0, 0.0, 0.0, 0.0, 0.0, 0.0, 0.0, 0.0, 0.0, 0.0, 0.0, 0.0, 0.0, 0.0, 0.0, 0.0, 0.0, 0.0, 0.0, 0.0, 0.0, 0.0, 0.0, 0.0, 0.0, 0.0, 0.0, 0.0, 0.0, 0.0, 0.0, 0.0, 0.0, 0.0, 0.0, 0.0, 0.0, 0.0, 0.0, 0.0, 0.0, 0.0, 0.0, 0.0, 0.0, 0.0, 0.0, 0.0, 0.0, 0.0, 0.0, 0.0, 0.0, 0.0, 0.0, 0.0, 0.0, 0.0, 0.0, 0.0, 0.0, 0.0, 0.0, 0.0, 0.0, 0.0, 0.0, 0.0, 0.0, 0.0, 0.0, 0.0, 0.0, 0.0, 0.0, 0.0, 0.0, 0.0, 0.0, 0.0, 0.0, 0.0, 0.0, 0.0, 0.0, 0.0, 0.0, 0.0, 0.0, 0.0, 0.0, 0.0, 0.0, 0.0, 0.0, 0.0, 0.0, 0.0, 0.0, 0.0, 0.0, 0.0, 0.0, 0.0, 0.0, 0.0, 0.0, 0.0, 0.0, 0.0, 0.0, 0.0, 0.0, 0.0, 0.0, 0.0, 0.0, 0.0, 0.0, 0.0, 0.0, 0.0, 0.0, 0.0, 0.0, 0.0, 0.0, 0.0, 0.0, 0.0, 0.0, -6.36228946104826e-05, -7.131193086044304e-05, -0.0004428005781802114, -0.0007989246928016004, -0.0010785135947892265, -0.001460724635980057, -0.005526857191382181, -0.0071933989761703565, -0.008264198569215977, -0.009128981610212417, -0.00956302561962473, -0.010053541759230103, -0.013229070566827315, -0.015484109336737549, -0.015944348930802085, -0.016246132377681684, -0.017570175077561874, -0.017680746773048088, -0.018974863101031234, -0.021298269544618758, -0.024792217955357777, -0.02519921569124446, -0.02742296639207096, -0.03428968442187063, -0.03673817255037354, -0.03733213359947692, -0.039087220103726075, -0.04019422487557752, -0.04565336938190734, -0.052826602990561376, -0.06584456119454046, -0.0773343088611738, -0.0793140132319875, -0.08370487162064096, -0.08603678701990922, -0.09224946096053749, -0.09490549009851099, -0.09631707657910732, -0.09706358072051538, -0.1006728526099625, -0.10260069373287148, -0.10456887473420384, -0.10834083292508945, -0.10959131051542999, -0.11005267857821052, -0.12172273461910044, -0.12676909306239997, -0.12738616161902133, -0.12904235658236407, -0.13150386075176926, -0.1431403832449618, -0.1561710309791806, -0.18780040290666894, -0.19131642077623973, -0.20886113585489802, -0.22022323682756523, -0.22106321776256352, -0.29115608869046095, -0.2950873802260934, -0.3344261069855524, -0.4032090814241428], \"yaxis\": \"y\"}, {\"showlegend\": false, \"type\": \"scatter\", \"x\": [1, 2, 3, 4, 5, 6, 7, 8, 9, 10, 11, 12, 13, 14, 15, 16, 17, 18, 19, 20, 21, 22, 23, 24, 25, 26, 27, 28, 29, 30, 31, 32, 33, 34, 35, 36, 37, 38, 39, 40, 41, 42, 43, 44, 45, 46, 47, 48, 49], \"xaxis\": \"x2\", \"y\": [1, 12, 19, 25, 31, 35, 37, 39, 41, 42, 44, 47, 48, 49, 50, 51, 52, 54, 55, 56, 58, 59, 60, 60, 61, 63, 65, 74, 78, 80, 82, 84, 85, 86, 86, 86, 87, 87, 88, 88, 89, 90, 90, 90, 92, 92, 92, 92, 92], \"yaxis\": \"y2\"}, {\"line\": {\"dash\": \"dash\"}, \"mode\": \"lines+text\", \"showlegend\": false, \"text\": [\"\", \"x=y\", \"\"], \"textposition\": \"bottom right\", \"type\": \"scatter\", \"x\": [1, 25, 50], \"xaxis\": \"x2\", \"y\": [1, 25, 50], \"yaxis\": \"y2\"}],\n",
       "                        {\"height\": 300, \"legend\": {\"x\": 0.05, \"y\": 0.15}, \"margin\": {\"b\": 20, \"l\": 1, \"r\": 1, \"t\": 20}, \"template\": {\"data\": {\"bar\": [{\"error_x\": {\"color\": \"#2a3f5f\"}, \"error_y\": {\"color\": \"#2a3f5f\"}, \"marker\": {\"line\": {\"color\": \"#E5ECF6\", \"width\": 0.5}}, \"type\": \"bar\"}], \"barpolar\": [{\"marker\": {\"line\": {\"color\": \"#E5ECF6\", \"width\": 0.5}}, \"type\": \"barpolar\"}], \"carpet\": [{\"aaxis\": {\"endlinecolor\": \"#2a3f5f\", \"gridcolor\": \"white\", \"linecolor\": \"white\", \"minorgridcolor\": \"white\", \"startlinecolor\": \"#2a3f5f\"}, \"baxis\": {\"endlinecolor\": \"#2a3f5f\", \"gridcolor\": \"white\", \"linecolor\": \"white\", \"minorgridcolor\": \"white\", \"startlinecolor\": \"#2a3f5f\"}, \"type\": \"carpet\"}], \"choropleth\": [{\"colorbar\": {\"outlinewidth\": 0, \"ticks\": \"\"}, \"type\": \"choropleth\"}], \"contour\": [{\"colorbar\": {\"outlinewidth\": 0, \"ticks\": \"\"}, \"colorscale\": [[0.0, \"#0d0887\"], [0.1111111111111111, \"#46039f\"], [0.2222222222222222, \"#7201a8\"], [0.3333333333333333, \"#9c179e\"], [0.4444444444444444, \"#bd3786\"], [0.5555555555555556, \"#d8576b\"], [0.6666666666666666, \"#ed7953\"], [0.7777777777777778, \"#fb9f3a\"], [0.8888888888888888, \"#fdca26\"], [1.0, \"#f0f921\"]], \"type\": \"contour\"}], \"contourcarpet\": [{\"colorbar\": {\"outlinewidth\": 0, \"ticks\": \"\"}, \"type\": \"contourcarpet\"}], \"heatmap\": [{\"colorbar\": {\"outlinewidth\": 0, \"ticks\": \"\"}, \"colorscale\": [[0.0, \"#0d0887\"], [0.1111111111111111, \"#46039f\"], [0.2222222222222222, \"#7201a8\"], [0.3333333333333333, \"#9c179e\"], [0.4444444444444444, \"#bd3786\"], [0.5555555555555556, \"#d8576b\"], [0.6666666666666666, \"#ed7953\"], [0.7777777777777778, \"#fb9f3a\"], [0.8888888888888888, \"#fdca26\"], [1.0, \"#f0f921\"]], \"type\": \"heatmap\"}], \"heatmapgl\": [{\"colorbar\": {\"outlinewidth\": 0, \"ticks\": \"\"}, \"colorscale\": [[0.0, \"#0d0887\"], [0.1111111111111111, \"#46039f\"], [0.2222222222222222, \"#7201a8\"], [0.3333333333333333, \"#9c179e\"], [0.4444444444444444, \"#bd3786\"], [0.5555555555555556, \"#d8576b\"], [0.6666666666666666, \"#ed7953\"], [0.7777777777777778, \"#fb9f3a\"], [0.8888888888888888, \"#fdca26\"], [1.0, \"#f0f921\"]], \"type\": \"heatmapgl\"}], \"histogram\": [{\"marker\": {\"colorbar\": {\"outlinewidth\": 0, \"ticks\": \"\"}}, \"type\": \"histogram\"}], \"histogram2d\": [{\"colorbar\": {\"outlinewidth\": 0, \"ticks\": \"\"}, \"colorscale\": [[0.0, \"#0d0887\"], [0.1111111111111111, \"#46039f\"], [0.2222222222222222, \"#7201a8\"], [0.3333333333333333, \"#9c179e\"], [0.4444444444444444, \"#bd3786\"], [0.5555555555555556, \"#d8576b\"], [0.6666666666666666, \"#ed7953\"], [0.7777777777777778, \"#fb9f3a\"], [0.8888888888888888, \"#fdca26\"], [1.0, \"#f0f921\"]], \"type\": \"histogram2d\"}], \"histogram2dcontour\": [{\"colorbar\": {\"outlinewidth\": 0, \"ticks\": \"\"}, \"colorscale\": [[0.0, \"#0d0887\"], [0.1111111111111111, \"#46039f\"], [0.2222222222222222, \"#7201a8\"], [0.3333333333333333, \"#9c179e\"], [0.4444444444444444, \"#bd3786\"], [0.5555555555555556, \"#d8576b\"], [0.6666666666666666, \"#ed7953\"], [0.7777777777777778, \"#fb9f3a\"], [0.8888888888888888, \"#fdca26\"], [1.0, \"#f0f921\"]], \"type\": \"histogram2dcontour\"}], \"mesh3d\": [{\"colorbar\": {\"outlinewidth\": 0, \"ticks\": \"\"}, \"type\": \"mesh3d\"}], \"parcoords\": [{\"line\": {\"colorbar\": {\"outlinewidth\": 0, \"ticks\": \"\"}}, \"type\": \"parcoords\"}], \"pie\": [{\"automargin\": true, \"type\": \"pie\"}], \"scatter\": [{\"marker\": {\"colorbar\": {\"outlinewidth\": 0, \"ticks\": \"\"}}, \"type\": \"scatter\"}], \"scatter3d\": [{\"line\": {\"colorbar\": {\"outlinewidth\": 0, \"ticks\": \"\"}}, \"marker\": {\"colorbar\": {\"outlinewidth\": 0, \"ticks\": \"\"}}, \"type\": \"scatter3d\"}], \"scattercarpet\": [{\"marker\": {\"colorbar\": {\"outlinewidth\": 0, \"ticks\": \"\"}}, \"type\": \"scattercarpet\"}], \"scattergeo\": [{\"marker\": {\"colorbar\": {\"outlinewidth\": 0, \"ticks\": \"\"}}, \"type\": \"scattergeo\"}], \"scattergl\": [{\"marker\": {\"colorbar\": {\"outlinewidth\": 0, \"ticks\": \"\"}}, \"type\": \"scattergl\"}], \"scattermapbox\": [{\"marker\": {\"colorbar\": {\"outlinewidth\": 0, \"ticks\": \"\"}}, \"type\": \"scattermapbox\"}], \"scatterpolar\": [{\"marker\": {\"colorbar\": {\"outlinewidth\": 0, \"ticks\": \"\"}}, \"type\": \"scatterpolar\"}], \"scatterpolargl\": [{\"marker\": {\"colorbar\": {\"outlinewidth\": 0, \"ticks\": \"\"}}, \"type\": \"scatterpolargl\"}], \"scatterternary\": [{\"marker\": {\"colorbar\": {\"outlinewidth\": 0, \"ticks\": \"\"}}, \"type\": \"scatterternary\"}], \"surface\": [{\"colorbar\": {\"outlinewidth\": 0, \"ticks\": \"\"}, \"colorscale\": [[0.0, \"#0d0887\"], [0.1111111111111111, \"#46039f\"], [0.2222222222222222, \"#7201a8\"], [0.3333333333333333, \"#9c179e\"], [0.4444444444444444, \"#bd3786\"], [0.5555555555555556, \"#d8576b\"], [0.6666666666666666, \"#ed7953\"], [0.7777777777777778, \"#fb9f3a\"], [0.8888888888888888, \"#fdca26\"], [1.0, \"#f0f921\"]], \"type\": \"surface\"}], \"table\": [{\"cells\": {\"fill\": {\"color\": \"#EBF0F8\"}, \"line\": {\"color\": \"white\"}}, \"header\": {\"fill\": {\"color\": \"#C8D4E3\"}, \"line\": {\"color\": \"white\"}}, \"type\": \"table\"}]}, \"layout\": {\"annotationdefaults\": {\"arrowcolor\": \"#2a3f5f\", \"arrowhead\": 0, \"arrowwidth\": 1}, \"coloraxis\": {\"colorbar\": {\"outlinewidth\": 0, \"ticks\": \"\"}}, \"colorscale\": {\"diverging\": [[0, \"#8e0152\"], [0.1, \"#c51b7d\"], [0.2, \"#de77ae\"], [0.3, \"#f1b6da\"], [0.4, \"#fde0ef\"], [0.5, \"#f7f7f7\"], [0.6, \"#e6f5d0\"], [0.7, \"#b8e186\"], [0.8, \"#7fbc41\"], [0.9, \"#4d9221\"], [1, \"#276419\"]], \"sequential\": [[0.0, \"#0d0887\"], [0.1111111111111111, \"#46039f\"], [0.2222222222222222, \"#7201a8\"], [0.3333333333333333, \"#9c179e\"], [0.4444444444444444, \"#bd3786\"], [0.5555555555555556, \"#d8576b\"], [0.6666666666666666, \"#ed7953\"], [0.7777777777777778, \"#fb9f3a\"], [0.8888888888888888, \"#fdca26\"], [1.0, \"#f0f921\"]], \"sequentialminus\": [[0.0, \"#0d0887\"], [0.1111111111111111, \"#46039f\"], [0.2222222222222222, \"#7201a8\"], [0.3333333333333333, \"#9c179e\"], [0.4444444444444444, \"#bd3786\"], [0.5555555555555556, \"#d8576b\"], [0.6666666666666666, \"#ed7953\"], [0.7777777777777778, \"#fb9f3a\"], [0.8888888888888888, \"#fdca26\"], [1.0, \"#f0f921\"]]}, \"colorway\": [\"#636efa\", \"#EF553B\", \"#00cc96\", \"#ab63fa\", \"#FFA15A\", \"#19d3f3\", \"#FF6692\", \"#B6E880\", \"#FF97FF\", \"#FECB52\"], \"font\": {\"color\": \"#2a3f5f\"}, \"geo\": {\"bgcolor\": \"white\", \"lakecolor\": \"white\", \"landcolor\": \"#E5ECF6\", \"showlakes\": true, \"showland\": true, \"subunitcolor\": \"white\"}, \"hoverlabel\": {\"align\": \"left\"}, \"hovermode\": \"closest\", \"mapbox\": {\"style\": \"light\"}, \"paper_bgcolor\": \"white\", \"plot_bgcolor\": \"#E5ECF6\", \"polar\": {\"angularaxis\": {\"gridcolor\": \"white\", \"linecolor\": \"white\", \"ticks\": \"\"}, \"bgcolor\": \"#E5ECF6\", \"radialaxis\": {\"gridcolor\": \"white\", \"linecolor\": \"white\", \"ticks\": \"\"}}, \"scene\": {\"xaxis\": {\"backgroundcolor\": \"#E5ECF6\", \"gridcolor\": \"white\", \"gridwidth\": 2, \"linecolor\": \"white\", \"showbackground\": true, \"ticks\": \"\", \"zerolinecolor\": \"white\"}, \"yaxis\": {\"backgroundcolor\": \"#E5ECF6\", \"gridcolor\": \"white\", \"gridwidth\": 2, \"linecolor\": \"white\", \"showbackground\": true, \"ticks\": \"\", \"zerolinecolor\": \"white\"}, \"zaxis\": {\"backgroundcolor\": \"#E5ECF6\", \"gridcolor\": \"white\", \"gridwidth\": 2, \"linecolor\": \"white\", \"showbackground\": true, \"ticks\": \"\", \"zerolinecolor\": \"white\"}}, \"shapedefaults\": {\"line\": {\"color\": \"#2a3f5f\"}}, \"ternary\": {\"aaxis\": {\"gridcolor\": \"white\", \"linecolor\": \"white\", \"ticks\": \"\"}, \"baxis\": {\"gridcolor\": \"white\", \"linecolor\": \"white\", \"ticks\": \"\"}, \"bgcolor\": \"#E5ECF6\", \"caxis\": {\"gridcolor\": \"white\", \"linecolor\": \"white\", \"ticks\": \"\"}}, \"title\": {\"x\": 0.05}, \"xaxis\": {\"automargin\": true, \"gridcolor\": \"white\", \"linecolor\": \"white\", \"ticks\": \"\", \"title\": {\"standoff\": 15}, \"zerolinecolor\": \"white\", \"zerolinewidth\": 2}, \"yaxis\": {\"automargin\": true, \"gridcolor\": \"white\", \"linecolor\": \"white\", \"ticks\": \"\", \"title\": {\"standoff\": 15}, \"zerolinecolor\": \"white\", \"zerolinewidth\": 2}}}, \"width\": 700, \"xaxis\": {\"anchor\": \"y\", \"domain\": [0.0, 0.45], \"title\": {\"text\": \"Pentamers\"}}, \"xaxis2\": {\"anchor\": \"y2\", \"domain\": [0.55, 1.0], \"title\": {\"text\": \"n\"}}, \"yaxis\": {\"anchor\": \"x\", \"domain\": [0.0, 1.0], \"title\": {\"text\": \"Coefficient\"}}, \"yaxis2\": {\"anchor\": \"x2\", \"domain\": [0.0, 1.0], \"title\": {\"standoff\": 5, \"text\": \"Pentamers in top n across folds\"}}},\n",
       "                        {\"responsive\": true}\n",
       "                    ).then(function(){\n",
       "                            \n",
       "var gd = document.getElementById('8c319900-ec46-454c-8ff3-23574cb1cce2');\n",
       "var x = new MutationObserver(function (mutations, observer) {{\n",
       "        var display = window.getComputedStyle(gd).display;\n",
       "        if (!display || display === 'none') {{\n",
       "            console.log([gd, 'removed!']);\n",
       "            Plotly.purge(gd);\n",
       "            observer.disconnect();\n",
       "        }}\n",
       "}});\n",
       "\n",
       "// Listen for the removal of the full notebook cells\n",
       "var notebookContainer = gd.closest('#notebook-container');\n",
       "if (notebookContainer) {{\n",
       "    x.observe(notebookContainer, {childList: true});\n",
       "}}\n",
       "\n",
       "// Listen for the clearing of the current output cell\n",
       "var outputEl = gd.closest('.output');\n",
       "if (outputEl) {{\n",
       "    x.observe(outputEl, {childList: true});\n",
       "}}\n",
       "\n",
       "                        })\n",
       "                };\n",
       "                });\n",
       "            </script>\n",
       "        </div>"
      ]
     },
     "metadata": {},
     "output_type": "display_data"
    }
   ],
   "source": [
    "fig = make_subplots(rows=1, cols=2)\n",
    "\n",
    "coefs = get_coefs(c_scores[0.01], kmers[k])\n",
    "\n",
    "mean_coefs = coefs.mean(axis=1).sort_values(ascending=False)\n",
    "std_coefs = coefs.std(axis=1).reindex(mean_coefs.index)\n",
    "\n",
    "weak_coefs = go.Scatter(name = 'moderate regularization' ,\n",
    "                        y=mean_coefs, \n",
    "                        error_y=dict(type='data', array=std_coefs, visible=True) )\n",
    "\n",
    "coefs = get_coefs(c_scores[0.001], kmers[k])\n",
    "\n",
    "mean_coefs = coefs.mean(axis=1).sort_values(ascending=False)\n",
    "std_coefs = coefs.std(axis=1).reindex(mean_coefs.index)\n",
    "\n",
    "strong_coefs = go.Scatter(name= 'strong regularization', \n",
    "                          y= mean_coefs, \n",
    "                          error_y=dict(type='data', array=std_coefs, visible=True) )\n",
    "\n",
    "fig.add_traces([weak_coefs, strong_coefs], rows=(1,1), cols=(1,1))\n",
    "\n",
    "\n",
    "top_n = dict()\n",
    "for i in range(1,50) :\n",
    "    top = get_top(coefs, i)\n",
    "    top_n[i]=len(top)\n",
    "top_n = pd.Series(top_n)\n",
    "\n",
    "fig.add_traces([ go.Scatter(x=top_n.index, y=top_n, showlegend=False), \n",
    "                 go.Scatter(x=(1,25,50), y=(1,25,50), showlegend=False,\n",
    "                            text = ['','x=y',''],\n",
    "                            textposition='bottom right',\n",
    "                            mode='lines+text', line_dash='dash')], rows=(1,1), cols=(2,2) )\n",
    "\n",
    "fig.update_layout(legend=dict(x=0.05, y=0.15),\n",
    "                  width=800, height=400,\n",
    "                  margin = dict(l=1, r=1, t=20, b=20))\n",
    "\n",
    "fig.update_xaxes(title = 'Pentamers', row=1, col=1)\n",
    "fig.update_xaxes(title = 'n', row=1, col=2)\n",
    "\n",
    "fig.update_yaxes(title = 'Coefficient', row=1, col=1)\n",
    "fig.update_yaxes(title = 'Pentamers in top n across folds', title_standoff=5, row=1, col=2)\n",
    "\n",
    "snap(fig, 'feature_selection.pdf')"
   ]
  },
  {
   "cell_type": "markdown",
   "metadata": {},
   "source": [
    "# Select nonzero features\n",
    "\n",
    "With the way tanking looks, no amount of statistical testing will do much. \n",
    "Crude guess as good as any, so we chose those coefs 2 std away from 0."
   ]
  },
  {
   "cell_type": "code",
   "execution_count": 71,
   "metadata": {},
   "outputs": [
    {
     "data": {
      "text/plain": [
       "97"
      ]
     },
     "execution_count": 71,
     "metadata": {},
     "output_type": "execute_result"
    }
   ],
   "source": [
    "nonzero_coefs = coefs[(coefs.mean(axis=1).abs()>2*coefs.std(axis=1))]\n",
    "nonzero = nonzero_coefs.index.to_list()\n",
    "len(nonzero)"
   ]
  },
  {
   "cell_type": "code",
   "execution_count": 72,
   "metadata": {},
   "outputs": [
    {
     "name": "stdout",
     "output_type": "stream",
     "text": [
      "50 enhancing and 47 repressing kmers.\n"
     ]
    }
   ],
   "source": [
    "positive = nonzero_coefs[nonzero_coefs.mean(axis=1)>0].index\n",
    "negative = nonzero_coefs[nonzero_coefs.mean(axis=1)<0].index\n",
    "print(f'{len(positive)} enhancing and {len(negative)} repressing kmers.')"
   ]
  },
  {
   "cell_type": "markdown",
   "metadata": {},
   "source": [
    "# Clustering selected kmers"
   ]
  },
  {
   "cell_type": "code",
   "execution_count": 19,
   "metadata": {},
   "outputs": [],
   "source": [
    "from scipy.spatial.distance import hamming\n",
    "from sklearn.cluster import AgglomerativeClustering"
   ]
  },
  {
   "cell_type": "code",
   "execution_count": 952,
   "metadata": {},
   "outputs": [],
   "source": [
    "def cluster_kmers(kmers, threshold=0.21) :    \n",
    "    tmp = list(map(list, kmers))\n",
    "\n",
    "    dist = np.zeros((len(tmp), len(tmp)))\n",
    "\n",
    "    for i, kmer1 in enumerate(tmp) :\n",
    "        for j, kmer2 in enumerate(tmp[i+1:], start=i+1) :\n",
    "            dist[i,j] = dist[j,i]= hamming(kmer1, kmer2)\n",
    "\n",
    "    dist =  pd.DataFrame(dist, index=kmers, columns=kmers )\n",
    "\n",
    "    agg = AgglomerativeClustering(affinity='precomputed', \n",
    "                                  linkage='complete', \n",
    "                                  distance_threshold=threshold, \n",
    "                                  n_clusters=None)\n",
    "\n",
    "    clusters = pd.Series(agg.fit_predict(dist), index=kmers)\n",
    "\n",
    "    return clusters    "
   ]
  },
  {
   "cell_type": "code",
   "execution_count": 928,
   "metadata": {},
   "outputs": [],
   "source": [
    "rc_positive = [str(Seq.Seq(kmer).reverse_complement()) for kmer in positive]"
   ]
  },
  {
   "cell_type": "code",
   "execution_count": 935,
   "metadata": {},
   "outputs": [],
   "source": [
    "full_positive = positive.to_list()+rc_positive"
   ]
  },
  {
   "cell_type": "code",
   "execution_count": 911,
   "metadata": {},
   "outputs": [
    {
     "data": {
      "text/plain": [
       "1    10\n",
       "2     8\n",
       "4     3\n",
       "3     3\n",
       "dtype: int64"
      ]
     },
     "execution_count": 911,
     "metadata": {},
     "output_type": "execute_result"
    }
   ],
   "source": [
    "tmp = list(map(list, negative))\n",
    "\n",
    "dist = np.zeros((len(tmp), len(tmp)))\n",
    "\n",
    "for i, kmer1 in enumerate(tmp) :\n",
    "    for j, kmer2 in enumerate(tmp[i+1:], start=i+1) :\n",
    "        dist[i,j] = dist[j,i]= hamming(kmer1, kmer2)\n",
    "        \n",
    "dist =  pd.DataFrame(dist, index=negative, columns=negative )\n",
    "\n",
    "agg = AgglomerativeClustering(affinity='precomputed', linkage='complete', distance_threshold=0.21, n_clusters=None)\n",
    "\n",
    "clusters = pd.Series(agg.fit_predict(dist), index=negative)\n",
    "\n",
    "clusters.value_counts().value_counts()"
   ]
  },
  {
   "cell_type": "markdown",
   "metadata": {},
   "source": [
    "# Position distribution of selected kmers"
   ]
  },
  {
   "cell_type": "code",
   "execution_count": 90,
   "metadata": {},
   "outputs": [],
   "source": [
    "from Bio import Seq, SeqIO"
   ]
  },
  {
   "cell_type": "code",
   "execution_count": 91,
   "metadata": {},
   "outputs": [],
   "source": [
    "rc = { kmer:str(Seq.Seq(kmer).reverse_complement()) for kmer in nonzero}"
   ]
  },
  {
   "cell_type": "code",
   "execution_count": 94,
   "metadata": {},
   "outputs": [
    {
     "name": "stdout",
     "output_type": "stream",
     "text": [
      "\r"
     ]
    }
   ],
   "source": [
    "sequences = list(SeqIO.parse(f'../data/Apis_mellifera/exome/r{r}.fa', 'fasta'))"
   ]
  },
  {
   "cell_type": "code",
   "execution_count": 95,
   "metadata": {},
   "outputs": [
    {
     "data": {
      "application/vnd.jupyter.widget-view+json": {
       "model_id": "",
       "version_major": 2,
       "version_minor": 0
      },
      "text/plain": [
       "HBox(children=(FloatProgress(value=0.0, max=199122.0), HTML(value='')))"
      ]
     },
     "metadata": {},
     "output_type": "display_data"
    },
    {
     "name": "stdout",
     "output_type": "stream",
     "text": [
      "\r"
     ]
    }
   ],
   "source": [
    "robust_counts = np.zeros((len(nonzero), 2*r+2))\n",
    "never_counts = np.zeros((len(nonzero), 2*r+2))\n",
    "\n",
    "for record in tqdm(sequences, leave=False) :\n",
    "    pos, data = parse_fasta_description(record)\n",
    "    seq = record.seq.upper()\n",
    "\n",
    "    for i, kmer in enumerate(nonzero) : \n",
    "        \n",
    "        j=0\n",
    "        while j<len(seq):\n",
    "            j = seq.find(kmer, j+1)\n",
    "            \n",
    "            if j>= 0 :\n",
    "                if data['methylatedin'] >1 and data['methylated_ratio'] >0.75 :\n",
    "                    \n",
    "                    robust_counts[i,j:j+k] +=1\n",
    "                \n",
    "                elif data['methylatedin'] == 0:\n",
    "                    never_counts[i,j:j+k] +=1\n",
    "            else : \n",
    "                break\n",
    "        \n",
    "        while j<len(seq):\n",
    "            j = seq.find(rc[kmer], j+1)\n",
    "            \n",
    "            if j>= 0 :\n",
    "                if data['methylatedin'] >1 and data['methylated_ratio'] >0.75 :\n",
    "                    \n",
    "                    robust_counts[i,j:j+k] +=1\n",
    "                \n",
    "                elif data['methylatedin'] == 0:\n",
    "                    never_counts[i,j:j+k] +=1\n",
    "            else : \n",
    "                break"
   ]
  },
  {
   "cell_type": "code",
   "execution_count": 101,
   "metadata": {},
   "outputs": [],
   "source": [
    "radial_pos = np.concatenate( [np.arange(-r, 1), np.arange(0, r+1)])\n",
    "block_size = 20\n",
    "\n",
    "\n",
    "df_robust = pd.DataFrame(robust_counts, index=nonzero, columns = radial_pos).T\n",
    "# Fold over symmetry\n",
    "df_robust = df_robust.groupby(df_robust.index.to_series().abs()).sum()\n",
    "# Trim\n",
    "df_robust = df_robust.loc[1:]\n",
    "# Block\n",
    "df_robust = df_robust.groupby(df_robust.index // block_size).sum()\n",
    "# Normalize\n",
    "df_robust /= df_robust.sum()\n",
    "\n",
    "df_never = pd.DataFrame(never_counts, index=nonzero, columns = radial_pos ).T\n",
    "# Fold over symmetry\n",
    "df_never = df_never.groupby(df_never.index.to_series().abs()).sum()\n",
    "# Trim\n",
    "df_never = df_never.loc[1:]\n",
    "# Block\n",
    "df_never = df_never.groupby(df_never.index // block_size).sum()\n",
    "# Normalize\n",
    "df_never /= df_never.sum()\n",
    "\n",
    "# Odds ratio\n",
    "df=df_robust/df_never\n",
    "#Trim\n",
    "df = df.iloc[:-1]"
   ]
  },
  {
   "cell_type": "code",
   "execution_count": 103,
   "metadata": {},
   "outputs": [
    {
     "data": {
      "application/vnd.plotly.v1+json": {
       "config": {
        "plotlyServerURL": "https://plot.ly"
       },
       "data": [
        {
         "type": "heatmap",
         "x": [
          "AATGC",
          "AATGG",
          "AACAT",
          "AACTT",
          "AACCA",
          "AAGTA",
          "AAGCA",
          "AAGCT",
          "AAGGT",
          "ATATG",
          "ATACC",
          "ATTAG",
          "ATCAG",
          "ATCTG",
          "ATCCA",
          "ATGTA",
          "ATGCT",
          "ATGGA",
          "ATGGT",
          "ACAAA",
          "ACAAG",
          "ACATA",
          "ACCTA",
          "AGAAC",
          "AGATG",
          "AGCTA",
          "AGCTG",
          "AGGTA",
          "TAAAG",
          "TAATG",
          "TATAG",
          "TATGG",
          "TACAG",
          "TACTG",
          "TACCA",
          "TAGCA",
          "TAGGA",
          "TTACA",
          "TTAGG",
          "TTTAG",
          "TTTGG",
          "TTCTG",
          "TTGCA",
          "TCTTG",
          "TGAAG",
          "TGATG",
          "TGTAG",
          "TGTTG",
          "TGCAG",
          "TGGAG"
         ],
         "xaxis": "x",
         "y": [
          0,
          20,
          40,
          60,
          80,
          100,
          120,
          140,
          160,
          180,
          200,
          220,
          240,
          260,
          280,
          300,
          320,
          340,
          360,
          380,
          400,
          420,
          440,
          460,
          480
         ],
         "yaxis": "y",
         "z": [
          [
           1.1538784772279398,
           1.1211710672966058,
           1.106904286634972,
           1.100335608627893,
           1.1520085908062443,
           1.0611384627755185,
           1.1510713554006222,
           1.1546164642514987,
           0.9847293005189753,
           1.0927179607237478,
           0.9977014649987164,
           1.217612859331983,
           1.1137164597345555,
           1.0404802780686992,
           1.2167959222503442,
           1.079483201484043,
           1.1337691212371193,
           1.2021862549209714,
           1.117352130860733,
           0.9779108440750647,
           1.147097803453263,
           1.0193665744697293,
           1.040592475109551,
           1.2293340932348356,
           1.1490161057414667,
           1.1742656115106196,
           1.0984381254413969,
           0.8417652363909629,
           1.1746828526329773,
           1.1563257974120766,
           1.091446878523868,
           1.1496110082446287,
           1.022062734328336,
           1.0272918179641657,
           1.0639085271848012,
           1.1430393963934302,
           1.1383079174833897,
           0.992323352840283,
           1.0172758346010626,
           1.0930373733408634,
           1.0972026025175066,
           1.083805409216035,
           1.0080360934879926,
           1.1779566283941443,
           1.0982717808585682,
           1.1401467869141035,
           1.1273504665151999,
           1.11430342363119,
           0.974575289257578,
           1.1423493020709488
          ],
          [
           1.1369032637100338,
           1.188937181465214,
           1.0608281549360794,
           1.1576663303138275,
           1.1249146792759745,
           1.049099270291578,
           1.1047909362324344,
           1.1182273874007795,
           1.0366187391881423,
           1.083871505527991,
           1.060770415392945,
           1.2211008604625817,
           1.0871013514158954,
           1.1584613610505747,
           1.1728321570268392,
           1.0530266408207114,
           1.1013983363412705,
           1.1907723895603022,
           1.1059079990008265,
           1.076493227473189,
           1.133318204749181,
           1.0055161372277395,
           1.0842747612140466,
           1.1021964862935802,
           1.1497780175717107,
           1.1440977495087568,
           1.0502742800027396,
           1.0343850060260613,
           1.161564290714995,
           1.167128425150161,
           1.0964194414472104,
           1.1129039363251632,
           1.1120687384293564,
           1.0829363007704418,
           1.0940308955184814,
           1.1434789108588008,
           1.1699839900213267,
           1.0693140380265584,
           1.1574525385306351,
           1.1609043479755226,
           1.1365561565615274,
           1.098270720225224,
           1.1088647614107585,
           1.152017087276151,
           1.136024174727454,
           1.0910781412390402,
           1.1105839390161427,
           1.1065291908605117,
           1.0802680441321497,
           1.1787514065060778
          ],
          [
           1.056299790020799,
           1.070501223503206,
           1.0622192067205234,
           1.0763505698204874,
           1.0568894997494234,
           1.0426942821185636,
           1.0487452874712013,
           1.078681576057659,
           1.01219841356596,
           1.049335299738256,
           0.9876308545718744,
           1.1696782234881993,
           1.0468823094669144,
           1.0608233252414159,
           1.1391608160804736,
           1.0467346365391847,
           1.0743874902765347,
           1.1113153827912088,
           1.0346531512345751,
           1.0751397277355086,
           1.039980775587456,
           1.0397857720315182,
           1.030875317839127,
           1.0148044494273134,
           1.0822406336816024,
           1.1269573212235502,
           0.9868633618604095,
           1.0428330504853713,
           1.1533117777614275,
           1.1380126189754136,
           1.055270016094105,
           1.0598896414289567,
           1.0660667334918008,
           1.0675926828196236,
           1.081064991401037,
           1.138239908256672,
           1.0818891261212564,
           1.0918869128469872,
           1.1038163292005565,
           1.159234172143914,
           1.0904551655053625,
           1.0888364084717828,
           1.0828647438931067,
           1.0608839730256572,
           1.0665968536577901,
           1.0711926991778833,
           1.1038088735323917,
           1.057019044662829,
           1.0601677149507893,
           1.057649086980736
          ],
          [
           1.0128904341233924,
           1.0759391231789153,
           1.0412426729332738,
           1.0295501490436878,
           1.0172726241560823,
           1.0818167644826295,
           1.0132564568199929,
           1.0260902335153863,
           1.0294762081943578,
           1.055353895246734,
           0.9412112136243498,
           1.1216995689232643,
           0.9701908485460831,
           1.0462345423442008,
           1.0005399363273195,
           1.0473935076202132,
           0.9992174034667729,
           1.0628716695361449,
           1.022774634440936,
           1.0506305813663819,
           1.0130760074820375,
           1.0439145383715243,
           0.9641925881642911,
           0.9743339013566604,
           1.0254488107559787,
           1.090563806795023,
           0.9567553253225107,
           1.0114390021662334,
           1.1017416793894148,
           1.112800162105836,
           1.0361537571304966,
           0.9929697545425845,
           1.044479669353361,
           1.0135573508206823,
           0.9942964908619473,
           1.0278334945107117,
           1.0663150087605722,
           1.0853571500418795,
           1.0115578553996243,
           1.1515912531776606,
           1.0408139689092637,
           1.0382824122968684,
           1.0645734041903734,
           1.021203384060646,
           1.0224869757154216,
           1.0107476137637113,
           1.0244730617961724,
           0.9873109472471311,
           0.9921296826579346,
           1.022181841504312
          ],
          [
           0.9664152333769548,
           0.9887795806432593,
           1.0312585196212298,
           1.0609810324493205,
           1.0052905358876723,
           1.0620901001863674,
           0.9993776976544227,
           0.9777475612760349,
           1.0231077592071516,
           1.0632220904937824,
           0.979951424605015,
           1.0922115278706346,
           0.9649772601455048,
           1.0277086187572226,
           0.9849835660860878,
           1.0579181196379914,
           0.9576614261965452,
           0.9927026575879865,
           0.9342024507434745,
           1.0584501633998455,
           1.0189976681719892,
           1.0739723944607564,
           1.042838400997332,
           0.9520871343910196,
           1.0031171530929055,
           0.9911218441896124,
           0.9147075331409347,
           1.0839340979932448,
           1.0990540892339764,
           1.0692649065238675,
           1.1506570947167412,
           0.9392543684676254,
           1.0287240694748174,
           0.9765167772897233,
           0.9767365376743197,
           1.0387900633066245,
           1.0546254999268327,
           1.0892501651380226,
           1.0907796422896017,
           1.13285261818782,
           1.0328945451247646,
           0.9857813120129002,
           1.0041999464931948,
           0.9710630625837376,
           0.9883660596998985,
           0.9673923555148323,
           1.0034461802679184,
           0.9716390378043465,
           0.9396752573261996,
           0.9592992989802831
          ],
          [
           0.972521921722723,
           0.984416316100773,
           1.0487470831018553,
           1.0506194765978107,
           0.9558238660355454,
           1.0625509738493664,
           0.9868470274973317,
           0.9373480897004322,
           0.9365090874264478,
           1.1324128257674648,
           0.9850956444668166,
           1.1105970963135905,
           1.0125488411319528,
           0.9534115333332477,
           0.9890769559159915,
           1.1006413706590275,
           0.9974220706893644,
           0.9976183840106001,
           0.9319794317930491,
           1.0687679276222921,
           0.9892361284845347,
           1.1106498492593426,
           1.0059261236347785,
           0.9305209811591064,
           0.9570940761085974,
           1.0551884167460208,
           0.9556844635276835,
           0.953606177393016,
           1.0898636765714074,
           1.0955114619258526,
           1.1669670993318164,
           1.0004923525682565,
           0.963068879152284,
           0.9255679281678495,
           0.9995882374767003,
           1.065077709035029,
           1.0590664928885387,
           1.0742702175805294,
           1.062493082645973,
           1.090335820728882,
           0.988582146248775,
           1.0147685303954947,
           0.9475564641725693,
           1.000203104446573,
           0.990001746807296,
           1.006750440568034,
           1.0120196959570817,
           0.9724299225239279,
           0.8808048257029634,
           0.9938979408028101
          ],
          [
           0.9842423841546913,
           0.9676395012637112,
           1.0086976314528642,
           0.9964955299595741,
           0.9091868881013139,
           0.9959736388650863,
           0.9435320670919829,
           0.9468021681410734,
           0.9429313541502216,
           1.0657256033705569,
           0.9986210773364551,
           1.0553025824107445,
           0.9004731944897462,
           0.9122174550965112,
           0.9886527982939414,
           1.030108897860491,
           0.9626042343057659,
           0.9662581395939148,
           0.9335295989834731,
           0.9913656757142676,
           0.9298784049007839,
           1.0322444629695462,
           1.008836632116656,
           0.952231838467051,
           0.9679481232872782,
           0.9334263836229666,
           0.8946862832329319,
           0.9689904861349102,
           1.0127472724293294,
           1.0474119885604114,
           1.1131754940596459,
           1.0030912437598416,
           0.9396398364566761,
           0.92541901393272,
           0.956602907514629,
           0.9714431062420773,
           0.9973841082658731,
           1.0285137898654366,
           1.0456523685160721,
           1.0500375992746553,
           0.9575313366439329,
           0.952908145245116,
           0.9879757593021857,
           0.9700043357533491,
           0.9318488336324409,
           0.9396048806998439,
           0.9409664346318334,
           0.9194717363350194,
           0.8884904058241861,
           0.9745065902408542
          ],
          [
           0.9711674906514383,
           0.973636481200109,
           1.0004058230496629,
           0.9804166887892349,
           0.9947964813149308,
           0.981722647700834,
           0.971218833047156,
           1.0120688862584188,
           0.9775737749469938,
           1.0276076461029606,
           1.0206047095809911,
           1.0195658247040857,
           0.9498151191827112,
           0.9858435989479164,
           0.9549009668818065,
           1.0325059098462195,
           0.963127620958146,
           0.9592694028663926,
           0.9769888193125288,
           1.009925059416362,
           0.9365491547205761,
           1.02166248877917,
           1.0284250559263668,
           0.9271652037358732,
           0.9966530178938072,
           0.9591194796240325,
           0.9236277510490409,
           1.0286533442178651,
           1.0177703508730767,
           1.0112771876572855,
           1.0483408536147176,
           0.9758523515859918,
           0.9764080954642033,
           0.9672094508549484,
           1.0081575198160357,
           0.9706610021065482,
           0.9921833730479898,
           1.0351628405313655,
           1.032825556461864,
           1.0377723819896123,
           0.9906103153582708,
           0.9404866044587916,
           1.0044172140447067,
           0.9374617303846983,
           0.9264349357391688,
           0.9259979561456707,
           1.0002142761473862,
           0.9040665983620076,
           0.9521780057571662,
           0.9076917590375976
          ],
          [
           0.9878119391807747,
           0.9800345027080127,
           1.0029225634061119,
           1.0018435868892597,
           0.9837158728204063,
           1.0117740744225803,
           0.9909980782305912,
           0.9521277288662515,
           0.9918404431163315,
           1.058400496318694,
           1.0651364300163446,
           1.0173703384227306,
           0.96556888290815,
           0.9873885593847884,
           0.9767594252670861,
           1.0281227093812668,
           0.9662709365247184,
           0.9803454192393521,
           1.0167143588210386,
           0.9880953799837155,
           0.9558046608168381,
           1.0405194178097708,
           1.047328116128645,
           0.987556662242618,
           0.9803465003083501,
           0.9906900972344395,
           0.9463343021806563,
           1.0724794828550752,
           1.0022465917485852,
           1.0249270123127272,
           1.0401763523748515,
           1.030358994230563,
           1.0516598647989146,
           0.9895789826473911,
           1.0452604500100928,
           0.9852840991258622,
           1.008074359882919,
           1.0142146065864395,
           1.0336834912230002,
           1.0292432252057846,
           0.9873983274041954,
           1.0149595268235467,
           1.0043888651779795,
           0.9890498192926858,
           0.9744680435391643,
           0.9586461479983707,
           1.009677593831429,
           0.9581626776825533,
           1.02633478784466,
           0.9595734541429876
          ],
          [
           1.008607024990203,
           0.9757436309941918,
           1.030346142165729,
           1.0093357153039817,
           0.973569493624973,
           1.0369629189884781,
           1.0232380942609598,
           0.9780782910859152,
           1.0238425865113487,
           1.0090316268828599,
           1.027339232324186,
           1.012188048365839,
           0.9848659474607967,
           0.9855623873946893,
           1.005989491694462,
           1.0005928896479241,
           1.0420744387790295,
           1.00946339835316,
           0.9789489143552587,
           0.9957598955662423,
           0.9623259975518719,
           1.0094614430773587,
           1.0377697804358634,
           0.9714604807147983,
           1.0158509548626453,
           1.0366121807651285,
           0.9964112839593895,
           1.0824662714331605,
           1.0050138808265214,
           1.0306273772871026,
           1.0167840349730946,
           1.0241685054644887,
           1.005723905071282,
           1.0268067146056732,
           0.9799247448832652,
           1.0030543938431835,
           0.9894891731935451,
           1.0062059465693878,
           0.9859247493760751,
           1.011636257497461,
           1.0180129063564116,
           0.9678562075380738,
           0.9594278936376538,
           0.9850521476029903,
           1.0094247526523021,
           0.9954025099851914,
           1.018662203559569,
           1.0162250222429392,
           0.9889671008185359,
           0.9554669013747061
          ],
          [
           1.0233013249155187,
           1.0436034218310413,
           1.00142884837128,
           1.0284207885014214,
           1.0209474172661628,
           1.0220640052564705,
           1.0350477388721175,
           1.039753630917288,
           0.979816979984568,
           1.0266914834959007,
           1.0251750326334303,
           1.0174875368171763,
           1.0158643151217523,
           1.0310257390327322,
           0.9925477647987327,
           1.0341036908396999,
           1.0119198200139992,
           0.9941637220778885,
           1.0435977887906955,
           1.001464787259218,
           1.0158574766654929,
           1.0254284191468142,
           1.015668098350675,
           1.006323029112815,
           1.0136557495667464,
           1.0198727985179266,
           1.0445550927814051,
           1.0149505798513494,
           0.9852446347379853,
           1.0294255383648163,
           1.0198908754398388,
           1.045746160568598,
           1.0054204390189376,
           0.9828142720927773,
           1.0319564611574015,
           1.0101749897624475,
           0.9951029105784235,
           1.015120718573527,
           1.0234530484093167,
           1.0177421005129,
           1.025916303745572,
           1.018061781628188,
           0.9935157460816686,
           1.014916923117849,
           1.02673712886359,
           1.056667893974328,
           1.0705913670166605,
           0.9919703986491862,
           1.0204224311991408,
           1.019776867583616
          ],
          [
           0.9997714641111901,
           1.003371468549323,
           0.9907228774818861,
           0.9806955113400891,
           0.9799142729272747,
           0.9736357818129808,
           0.9867595493624786,
           0.9925511446597389,
           0.9240564073763531,
           0.9923775675068822,
           1.009433345615921,
           1.0127267751356863,
           1.0293369592611898,
           1.0214977986508955,
           1.0146319030992856,
           0.9978741099576095,
           1.0028660008245678,
           1.0085172936917708,
           1.0065925112720597,
           1.015956668680739,
           1.0028499854797086,
           1.0017638136969178,
           0.9129609301535447,
           0.9933796958074002,
           1.0089902773211297,
           1.020740726292472,
           1.0474124214190355,
           0.9393935501747771,
           0.9577067587572686,
           1.0095141207752207,
           0.9723087346233694,
           1.0237611286132473,
           0.9917150706203003,
           1.000469728775759,
           1.0335174924060528,
           1.015196183246913,
           0.963045261624696,
           1.0034972396501929,
           0.9385024386859653,
           1.005665785290687,
           0.9841929963666518,
           0.9816505799520926,
           1.027873087620989,
           0.9940490966610812,
           0.9853397573577354,
           1.0100035284924183,
           1.0010569912365774,
           0.9915115183218633,
           0.9807162724021634,
           1.0444404516957484
          ],
          [
           1.021638710423207,
           0.9864637640266197,
           0.9905674979068507,
           0.9760756790411186,
           1.0059553950906712,
           0.9763632291331731,
           1.0051026465094488,
           1.043799749567635,
           1.0264098817164025,
           0.9632158539219016,
           1.0214538742379407,
           0.9777988868954057,
           1.004139254251376,
           1.0074850430138738,
           0.98166740812831,
           0.9670055966123722,
           1.0087648288849307,
           0.9869254779698307,
           1.0112547756426282,
           1.0134505232298772,
           0.9964877552341086,
           0.9527752492196707,
           1.0067993599068468,
           0.9796844379903761,
           1.0269726319128996,
           1.0079917963345535,
           1.0262085423531682,
           0.9882818484262641,
           1.004762222474641,
           1.0004138333725292,
           1.002183362307507,
           1.0069720720466993,
           1.0392886685341414,
           1.0259331378885166,
           1.0026749555250598,
           1.0025863754321784,
           1.0121117127093289,
           0.9785555341580097,
           0.9806017870068341,
           0.992975652445965,
           1.0019497488967835,
           1.032659678283082,
           1.0143248518465708,
           1.0048792769815162,
           1.0243671241846275,
           1.0035342987230353,
           0.9771683084329047,
           0.9607389134073012,
           1.0326730217664624,
           1.0094328774438521
          ],
          [
           1.0282310985025422,
           1.0036032648428557,
           0.991085186054409,
           0.9896454410379775,
           1.0137322368726527,
           0.9664941107789767,
           0.9945733193170249,
           0.9909834637838418,
           0.9930165310887815,
           0.9767585022150209,
           0.999156750312509,
           0.9993140919617697,
           0.9986883097533811,
           1.0224897572746603,
           1.0128423099645718,
           0.9702370581085118,
           1.0102858233251213,
           0.9929830139166652,
           1.0438937021374872,
           0.9805873699507819,
           0.9662068048774827,
           0.9715682197128783,
           1.0002702942975088,
           1.012160551550855,
           0.9882570063941758,
           0.989654935614316,
           1.0639726443660569,
           0.975448241777954,
           0.9612546512880632,
           0.9718248963406321,
           0.9648487778768766,
           1.0215309400998185,
           0.9961954388973056,
           1.0008894564794022,
           1.0201059128757537,
           0.9770744082216778,
           0.9995775929740373,
           0.9771728061527053,
           1.0122645211930927,
           0.9551986143244563,
           0.9858621542183009,
           1.0053681723727548,
           1.0606898106720613,
           0.9704122651753607,
           1.018094331733024,
           0.9856915917033039,
           1.0008616736936753,
           0.998341601822903,
           1.0839825506394698,
           0.970221894651505
          ],
          [
           0.997430133077685,
           0.9651840070396736,
           0.9955113001727018,
           0.9939311321681816,
           1.0095072582016704,
           1.0001638357138773,
           0.9905745979174385,
           1.027494237298493,
           0.9805597386426487,
           0.9708013233343961,
           1.017471053843045,
           0.9486759983600044,
           1.0573394897247304,
           1.0417567633099742,
           0.9952982130219461,
           0.9793411763506457,
           1.0305965281300216,
           0.9647552038917264,
           1.0278957455786055,
           0.9690513767504263,
           1.0150374316189201,
           0.9835214127498283,
           1.0137338201419308,
           1.0279695323801772,
           0.9860452850184563,
           0.9909300423951682,
           1.0016480578861626,
           1.019532150932397,
           0.978307869194282,
           0.9599006971848093,
           0.9756857835016817,
           0.9910675487279986,
           0.9784371386299759,
           0.9906195184594666,
           1.023589046202167,
           0.9628693906595561,
           0.9642806905849965,
           0.9767059502202529,
           0.9524575292091685,
           0.9533803419931077,
           1.0049682051201057,
           1.026253609415996,
           1.0043515635989237,
           1.0103313565520473,
           1.0110213333573548,
           1.0059930304733657,
           1.0349904455668282,
           1.0147691014329538,
           1.0957944821396326,
           0.9817892962197428
          ],
          [
           0.9958937828326465,
           1.0373055433252,
           0.9735081798861228,
           0.9600006497500883,
           1.0319302648400346,
           0.9550322603007241,
           1.034856533132521,
           1.0262091992185747,
           1.0603675195160094,
           0.9841719380886857,
           1.0010489851377904,
           0.9404697814941739,
           1.0160017019714622,
           1.010143920168732,
           1.0313437841981818,
           0.9809138503097704,
           0.9953074015916644,
           1.0335441105686467,
           1.0176069967782264,
           0.9951784165977513,
           1.003759897647495,
           0.9871789946330455,
           1.0535140509514582,
           0.9881220192765044,
           1.0165900633022211,
           1.0110041784584456,
           1.0648320785503484,
           1.0484168234574944,
           0.9706810886930226,
           0.9462572800902695,
           0.9532949730133481,
           0.9879881667165024,
           0.9733237669362241,
           1.0374151751456187,
           0.9877384296640939,
           0.9807352123773413,
           1.0175318959348587,
           0.9598339571600912,
           1.0318351947214226,
           0.9794577042722217,
           1.0540153020104,
           0.9702392980029266,
           0.9839471103459119,
           0.9869096907936147,
           0.9806306722673755,
           1.0142665039749907,
           1.0456098759096115,
           1.0499724537439858,
           1.0438204149487198,
           1.0621003466519947
          ],
          [
           0.9540601937090899,
           0.9850135305662492,
           0.9795651319036125,
           0.9920025340642851,
           0.9928644231409077,
           0.978427617821498,
           0.9759230085187603,
           0.9837131942840043,
           1.0176793342698178,
           0.9634584306576777,
           0.98350831654157,
           0.9447365809977121,
           1.0140655156278457,
           0.9619480106146903,
           0.9904109417344807,
           0.9689825166140151,
           0.9560669505501056,
           0.9765210810242421,
           1.0000893918772964,
           0.9645290200453797,
           1.0169374579759534,
           0.9761437296377613,
           1.00064986791561,
           0.9857681181815443,
           0.9679309479592305,
           1.0049394843611346,
           1.0727092361469286,
           0.9963141794503357,
           0.9447685720582842,
           0.9481321366443172,
           0.9503854900993037,
           0.9820573011541462,
           0.9990310173814693,
           1.0335498726068575,
           0.9895082590955555,
           0.9712156217585423,
           0.9969928106150395,
           0.9774723520993873,
           0.9923155694392863,
           0.9419847805112965,
           0.975014533525262,
           0.9707759685428319,
           0.9772429067853956,
           0.991202177947528,
           0.9936272911722134,
           1.0305806560727988,
           0.940864469540225,
           1.0314370235131036,
           1.0022365487362344,
           1.0007870373903172
          ],
          [
           1.0102157112011068,
           0.9869223002592705,
           0.9677635246307974,
           0.9428433203666075,
           1.000971358062855,
           0.9655673400161401,
           0.9708739202170084,
           0.9681515992032088,
           1.021711795139981,
           0.9617550424805921,
           1.0090936826477659,
           0.9221833275574022,
           0.9916506482921027,
           0.99556848298862,
           0.9408730442787204,
           0.9778588382605984,
           1.008332421670151,
           0.9585168172573347,
           1.0108934346641842,
           0.9773938708186362,
           1.0027217196358282,
           0.9640936157385943,
           0.9981159011753411,
           0.9958917067097333,
           0.972466926209682,
           0.9970762319766289,
           1.0092298793719479,
           1.0046124119422117,
           0.9551361058148027,
           0.9359042820015948,
           0.9520973465261974,
           0.9762775795664559,
           0.9968318253094589,
           0.9915002552278739,
           0.9993027064337842,
           1.0086937583293694,
           0.9965437364647873,
           0.9666392070761571,
           0.9613906600535395,
           0.9320881076980374,
           0.9555938305464738,
           1.0091351910821056,
           0.973136007154635,
           0.9809256494215822,
           0.982402403743939,
           0.9675928786839902,
           0.9901986539504348,
           0.995965563998689,
           1.0025384082371347,
           1.0083470897965199
          ],
          [
           0.982070931465854,
           0.9556928456544684,
           0.9837261560583656,
           0.9537589805435817,
           0.9966217530754206,
           0.9773569113043679,
           0.9769961236149862,
           0.9914282040948564,
           1.0431118970254385,
           0.9218151105108933,
           0.9890574126276692,
           0.9334096585003929,
           0.9802384024775426,
           0.9890905117082966,
           0.9365065079661992,
           0.9720704500112101,
           0.9942881031872598,
           0.934430061732106,
           0.9600025705763884,
           0.9606164336842958,
           0.9683946499795357,
           0.9626660697454361,
           0.9774156312141327,
           1.017847719309696,
           0.9829122096741252,
           0.9550036609331145,
           1.0462242882303732,
           1.0118813937663729,
           0.9176851962375121,
           0.9283064608846553,
           0.9600111385581349,
           0.9353919053526957,
           1.0054360719886761,
           0.9589209820904864,
           0.969129197133914,
           0.9692180945861825,
           0.9973517486011807,
           0.96969145482773,
           0.9808559698438696,
           0.9310637207730426,
           0.9579871560269144,
           1.0001333899232085,
           0.98460768799295,
           0.9647787664314648,
           0.9995628471636683,
           1.0124587679994774,
           0.9555596775184373,
           1.0125537922288124,
           1.0431215963846263,
           1.001168021337513
          ],
          [
           0.9412885753012201,
           0.9608848803237835,
           0.948213875912254,
           0.9594649205421869,
           0.9734886941269106,
           0.9623595598645037,
           0.9776125621002112,
           0.947972084404915,
           1.017534525236976,
           0.9582597805359347,
           1.0022231865240423,
           0.9370594201149027,
           0.9857553581168248,
           0.9573273395497636,
           0.9642986979464708,
           0.9758992279762937,
           0.9312736018225336,
           0.9384127589631108,
           0.9709326969474198,
           0.9774691325022657,
           0.9931448683337866,
           0.9687411933423072,
           0.9690345793512036,
           1.0042901686459196,
           0.9617710906493264,
           0.9409407273105946,
           1.0000155906425188,
           1.041338863419094,
           0.9307862220886716,
           0.9215859961242381,
           0.9231247683323688,
           0.9513533471876655,
           0.9615284934121057,
           0.9772002198262835,
           1.0030149134268793,
           0.9027485045065399,
           0.9431968563867597,
           0.9632276154521778,
           0.9564621719311212,
           0.9125600192902232,
           0.9925911032897929,
           0.9750121885898654,
           0.9559664818552166,
           0.9635986414678698,
           0.976729627345796,
           0.958862501195406,
           0.9401146140593314,
           0.9911835642665056,
           1.032957113381804,
           0.9521923378548437
          ],
          [
           0.9297969987419197,
           0.9373103578281287,
           0.9625289245639174,
           0.9920483144249802,
           0.934196467899068,
           0.9694943123935912,
           0.9664741331848865,
           0.9232840553465502,
           0.97221055738483,
           0.9412207293133971,
           0.9923887131696222,
           0.9251673939257342,
           0.9963975434846728,
           1.0071702808564797,
           0.9559869471341711,
           0.9813478761771414,
           0.970547752446522,
           0.9351605043813521,
           0.953207337310239,
           0.9878613044665295,
           0.9824814583194025,
           0.98637059040343,
           0.980796298476327,
           0.9963792815656184,
           0.9477857526244924,
           0.9257423825662581,
           1.0131459065523298,
           1.0061084868504708,
           0.9332583109400139,
           0.9550795653894433,
           0.9184129493385532,
           0.9303604111495948,
           0.9692982157048149,
           1.0435489315669688,
           0.9768689087596191,
           0.9641618498481997,
           0.9563674043986212,
           0.9857532751138252,
           0.9795615816227725,
           0.9251078355435878,
           0.9631452593160922,
           0.962110635974357,
           0.9997483372023284,
           0.9863226687170621,
           0.9779393370114584,
           0.9522950613366327,
           0.9727019526854092,
           0.9824585602795074,
           1.035795575180011,
           0.9044484808453036
          ],
          [
           0.9702902971878202,
           0.9450437719983483,
           0.9677138611242592,
           0.9829109356454507,
           0.9432022900294491,
           0.9818845795389994,
           0.9387839237486473,
           0.951188740713051,
           1.0308403997014464,
           0.9597330647033963,
           0.9634976782138434,
           0.890667953215908,
           0.963184735423176,
           0.9436647126945659,
           0.9550650637358473,
           0.9346590620892093,
           0.9971998682815447,
           0.9694324260927911,
           0.9322457148624039,
           0.984689264275604,
           1.0029040625381844,
           0.969582220522113,
           0.9420407493773161,
           0.9745210718554583,
           0.9181560972087938,
           0.9264467074572686,
           0.9503205702626233,
           1.0090590282790666,
           0.9532453056999219,
           0.9569069728150735,
           0.9366309784743804,
           0.9597765824417218,
           0.9862136017274613,
           0.9570081837573909,
           0.9194133235335422,
           0.9697586831635878,
           0.9229576327893819,
           0.9690737573414,
           0.9527860425251955,
           0.9515383657216507,
           0.9117840085244803,
           0.9424963325780802,
           0.9721543922052432,
           0.9937521629686803,
           0.9550935789170543,
           0.9817388092697502,
           0.926128610903038,
           1.0181005561797793,
           0.9647530326716616,
           0.9537482192815897
          ],
          [
           0.9644638721774746,
           0.9428677121513316,
           0.963172004148082,
           0.9410547283950874,
           0.953959364890175,
           0.9849987146419118,
           0.969032935458964,
           0.9660532259825815,
           0.9938000371997268,
           0.9462380621589709,
           0.981490820025842,
           0.894135029747754,
           1.011136172222707,
           0.9147295208868064,
           0.935422283807677,
           0.9510983288021129,
           0.9755900601337962,
           0.9343438509742216,
           0.9659928675051499,
           0.9570891421405311,
           0.9389222893059972,
           0.9675243276252372,
           0.9552385080802411,
           0.9716553132963897,
           0.9311921092587092,
           0.9302201538553354,
           1.001576512611192,
           0.9691600552713465,
           0.9483702329298731,
           0.9402531763558204,
           0.9388414513856033,
           0.9652070433111891,
           0.9512449415133891,
           1.0161858836843725,
           0.9448478107325128,
           0.9095547287823217,
           0.9257818402152685,
           0.9337735362709608,
           0.8985194338657496,
           0.8959120950456518,
           0.9592252742982336,
           0.9733044932238396,
           0.9422084713976501,
           0.9719734439146084,
           0.9666443769739526,
           0.9817975346438333,
           0.9275967836192088,
           0.9963433980191839,
           0.9590520726495368,
           0.9655888399170365
          ],
          [
           0.9492622055354407,
           0.9435883030118707,
           0.9462796198004277,
           0.9601015326176323,
           0.9706419292836882,
           0.9704728991142187,
           0.9555857713267831,
           0.9803392434081997,
           1.010298498976095,
           0.9472755507706269,
           0.9710583932392925,
           0.9006416688962597,
           0.9441964852275299,
           0.9467191275886483,
           0.9083857780142476,
           0.9544273720173166,
           0.9419288435152592,
           0.9534535614882276,
           0.9962573755473327,
           0.9830129149382599,
           0.9687683689355029,
           0.9839129336645583,
           0.9561225455908275,
           0.9782857975263773,
           0.9472843923684378,
           0.8825911493469024,
           1.0134242707931949,
           0.9795101761181013,
           0.9187151141470024,
           0.873132049490896,
           0.9241443175804189,
           0.9569338117701588,
           0.9464984245487781,
           0.953270702111445,
           0.9314526264554809,
           0.9544475040006902,
           0.8892792016632016,
           0.9425888886500943,
           0.9100994106162599,
           0.9183423688189676,
           0.9331768205976512,
           0.9246338296183881,
           0.9690887981448406,
           0.9321480256807901,
           0.9548222281968406,
           0.9492026079223777,
           0.9267128482934672,
           0.9685868485767096,
           0.9673028898164606,
           0.922537526954727
          ],
          [
           0.9652476647940448,
           0.9326942745219735,
           0.977357655741522,
           0.923737570866446,
           0.9440413792113964,
           0.96019544320234,
           0.9638836055937176,
           0.9367377927848078,
           0.9874967066960207,
           0.9424095615033845,
           0.9627765954694631,
           0.891470762036096,
           0.9748229938616337,
           0.9605304123729874,
           0.8997686162683314,
           0.9492023732557155,
           0.9360792730659722,
           0.9142172196631647,
           0.9649619843088029,
           0.9614492021321552,
           0.9765263461045179,
           0.948797798375165,
           0.9108193828466867,
           0.9894938803241559,
           0.9645804624501355,
           0.8516009758144761,
           0.922667414526234,
           0.933214802859468,
           0.931928272405513,
           0.9038747596925891,
           0.912392362368996,
           0.9467976561872412,
           0.9679975506363887,
           1.018076636774532,
           0.9256049870440002,
           0.8982815082743524,
           0.8575756280989117,
           0.9428461727068023,
           0.8867864573163483,
           0.8901275574491981,
           0.910568518035765,
           0.9916463002845357,
           0.9580226631208341,
           0.9327489649522784,
           0.9645668283752139,
           0.9563559964069408,
           0.9222040059537039,
           0.9699413990767958,
           0.9725197445493781,
           0.9686570818836485
          ]
         ],
         "zmax": 1.5,
         "zmin": 0.5
        },
        {
         "type": "heatmap",
         "x": [
          "AAAAA",
          "AAACG",
          "AATCG",
          "AACCG",
          "AACGA",
          "AAGCG",
          "ATACG",
          "ATTTC",
          "ATTCG",
          "ATTGA",
          "ATCCG",
          "ATCGA",
          "ATCGT",
          "ATGCG",
          "ACACG",
          "ACTCG",
          "ACCGA",
          "ACGAA",
          "AGTCG",
          "AGGCG",
          "TAACG",
          "TATTC",
          "TATCG",
          "TACCG",
          "TAGCG",
          "TTACG",
          "TTTCG",
          "TTCAA",
          "TTCCG",
          "TTCGA",
          "TTCGG",
          "TTGCG",
          "TCACG",
          "TCTCG",
          "TCCGG",
          "TCGCA",
          "TGACG",
          "TGTCG",
          "TGCCG",
          "TGCGC",
          "TGGCG",
          "CAACG",
          "CATCG",
          "CACCG",
          "CAGCG",
          "CTTCG",
          "GTCAC"
         ],
         "xaxis": "x2",
         "y": [
          0,
          20,
          40,
          60,
          80,
          100,
          120,
          140,
          160,
          180,
          200,
          220,
          240,
          260,
          280,
          300,
          320,
          340,
          360,
          380,
          400,
          420,
          440,
          460,
          480
         ],
         "yaxis": "y2",
         "z": [
          [
           0.8684321885076746,
           1.5333383432026346,
           1.9384336969419764,
           1.899606068647853,
           1.744351036749271,
           1.8064713076574088,
           2.01329349677906,
           1.0340333026390633,
           1.7913554873073931,
           1.081437507322997,
           1.8412265605392422,
           2.129540095426571,
           2.0622045858998677,
           1.8167068201049539,
           2.1028994823029183,
           1.8699680920886426,
           1.706638221214361,
           1.7904718762285843,
           1.7495780318053051,
           1.4340567863440041,
           1.5689221234797954,
           1.1393786913204,
           1.9351069719219038,
           1.6754698722022874,
           1.4321870612348957,
           2.0854502516485596,
           1.6335765872395795,
           1.1061845635966647,
           1.6132252757212604,
           2.002893801992376,
           1.589597342479148,
           1.734821669359337,
           1.7012673209370357,
           1.8447212146265652,
           1.6623042023404542,
           1.6971410898883579,
           1.7209570879948288,
           1.771480514828183,
           1.5684053907513535,
           1.4765700244633653,
           1.3836273250196855,
           2.058961325355617,
           2.1526500774998025,
           1.8494664144126323,
           1.7385744224103301,
           2.141680713395502,
           1.1502112892334195
          ],
          [
           0.9001846863436767,
           0.70263171709044,
           0.6580607694686653,
           0.6394451680307582,
           0.7064700001734847,
           0.6124128355335999,
           0.7785298552993215,
           1.08498544197778,
           0.6445256084588886,
           1.1090267357666879,
           0.600251374945747,
           0.6524398130711252,
           0.7124897874005434,
           0.6631983879873388,
           0.7285935841290172,
           0.7376294378868157,
           0.5434163967274114,
           0.6832343043225965,
           0.6513043736187559,
           0.6217473761655987,
           0.6590199548292504,
           1.0453406968824717,
           0.6791712784509816,
           0.47766123251780435,
           0.5956102111867593,
           0.7760778760430992,
           0.6699055704652335,
           1.1265983920552134,
           0.5380048483244554,
           0.6732232929980987,
           0.5633001444069775,
           0.6347411060670332,
           0.7345354974991016,
           0.6929780075007708,
           0.5971822923415834,
           0.6689568113971616,
           0.5880932147273157,
           0.6898320449798407,
           0.5676107583212644,
           0.577195369124491,
           0.6572699540808975,
           0.683981250319034,
           0.6777263363698844,
           0.5975500574681276,
           0.5691289284680947,
           0.6543178344741396,
           1.0283334900333523
          ],
          [
           1.029529470111094,
           0.7167803363284765,
           0.7070800131556955,
           0.5579969135981505,
           0.7312798743507003,
           0.7257840684793778,
           0.7216520312819249,
           1.076518384273828,
           0.7087072878066576,
           1.1206244458967052,
           0.7372355519562788,
           0.711975537482627,
           0.6734602470830832,
           0.65425742649942,
           0.6773428296091129,
           0.7902325609293684,
           0.570088559850997,
           0.6937995002939894,
           0.6984577917470841,
           0.7068099325281197,
           0.7462426065174861,
           1.0457780090501843,
           0.710854521825469,
           0.5851855885698233,
           0.7410043408653373,
           0.6910593438332818,
           0.6247421357161781,
           1.1072706363354163,
           0.6867297995951648,
           0.635840164394897,
           0.5964723126046096,
           0.6601666848924665,
           0.7176732856802259,
           0.7394546226273845,
           0.6176562173549591,
           0.6499689142366706,
           0.7150419116697718,
           0.6797625119602836,
           0.5923148893008967,
           0.7561175686243314,
           0.6736062475698305,
           0.7101500688104485,
           0.6577785226721633,
           0.5901272831948635,
           0.5761472598083021,
           0.6514330119475648,
           0.910286672178348
          ],
          [
           1.0709919534287209,
           0.7159808041389518,
           0.678214978612955,
           0.6362751537351613,
           0.7151218025635567,
           0.7488438079810468,
           0.7628494663625662,
           1.0534726301800117,
           0.7941744561020617,
           1.0882397191563327,
           0.6907225336161575,
           0.6816704535451911,
           0.6612822115182381,
           0.664487810681466,
           0.6590940993517077,
           0.6635696696078064,
           0.6812371234397574,
           0.7279537272201063,
           0.6149586301581976,
           0.7012461954325319,
           0.7087644012365517,
           1.059642401090387,
           0.6662814120250681,
           0.6226130649810656,
           0.66674806944921,
           0.7349658850533559,
           0.6905179643512941,
           1.079173973570197,
           0.6468871521129285,
           0.7280226306108498,
           0.6764099251858043,
           0.7361048594812402,
           0.7421127759715191,
           0.7378898448055035,
           0.6583130742823036,
           0.6872755159948263,
           0.7007900832778605,
           0.6821645088081684,
           0.5239261547164169,
           0.6728298379489821,
           0.6738205430206172,
           0.6604653155666625,
           0.6802343251458707,
           0.6542597166040434,
           0.646977607873065,
           0.6570931309961009,
           0.896634902469366
          ],
          [
           1.1422071434921977,
           0.8036150564268243,
           0.7182408079238838,
           0.7692328538877156,
           0.7833028669452204,
           0.6790125400094184,
           0.7577321693273146,
           1.0617195373692627,
           0.7325108519113663,
           1.0777712272021296,
           0.637723960766382,
           0.771318337023094,
           0.7297659064424434,
           0.7202844723500806,
           0.7164724599225103,
           0.7461378923969219,
           0.7234335200459854,
           0.7440818226422878,
           0.6735934945933123,
           0.6536123603156209,
           0.7866182121789694,
           1.0793842195079857,
           0.7985970098116416,
           0.6333810662605646,
           0.7750418201172566,
           0.7537918616456054,
           0.7529527459589023,
           1.0739377384684134,
           0.6936298143433548,
           0.7291850520403735,
           0.7191006196359209,
           0.7079595906143731,
           0.7150701957640074,
           0.8161910516146688,
           0.5934139196273707,
           0.6672889137695753,
           0.6275524780833196,
           0.6631343051873267,
           0.6844189987601318,
           0.7086122353975063,
           0.7280362618506607,
           0.7484195350336014,
           0.7404362467203401,
           0.7530640899534765,
           0.6617863843052475,
           0.7171170727250036,
           0.8180799272116298
          ],
          [
           1.1870037490120517,
           0.9452919343442061,
           0.9258785742446387,
           0.9019634272005064,
           0.9367725689305748,
           0.9445208304892074,
           0.8989691416055414,
           1.0536237424626047,
           0.9111173291800854,
           1.0611827274060706,
           0.937590222571324,
           0.9064523121277385,
           0.880933112343499,
           0.9424598824033661,
           0.8479542696971686,
           0.9184539306212762,
           0.8239430587324326,
           0.9289491875075824,
           0.9818960785428879,
           0.9336632854252241,
           0.9789889862966549,
           1.0509548383186236,
           0.8304800977400697,
           0.866241934046949,
           0.9205638412414471,
           0.9411106104862752,
           0.9361090540836808,
           1.0574617851767372,
           0.8666569966357698,
           0.929887274832157,
           0.8581834721550308,
           0.9651318490711205,
           0.9522750488111188,
           0.9089384172498856,
           0.8374645839445888,
           0.8982895581390634,
           0.9709199842972198,
           0.9216190860843494,
           0.8693702241459085,
           0.9639875329708125,
           0.8338126437778717,
           0.9304049453290707,
           0.8736673647106321,
           0.78917849907166,
           0.8538379150303463,
           0.9152101610670839,
           0.8505521277659519
          ],
          [
           1.0525910508349654,
           1.0084142006652792,
           0.9838825231243462,
           0.8929808366121996,
           0.9620657531993332,
           1.0155672434835468,
           0.9801987207489782,
           1.0050801205164521,
           0.9844635852351873,
           1.0184745975378702,
           0.9329179535174531,
           0.8663673306409732,
           0.9711088242066522,
           0.963576278599857,
           0.9444508914545209,
           0.9707941212131925,
           0.869544821565212,
           1.0190898029258053,
           0.8527529011530616,
           0.9850405042938228,
           0.9245014013763238,
           0.9966750544227987,
           0.9010501861729975,
           0.887946090586132,
           0.9030620474254661,
           1.0070245715906982,
           0.9730311538457215,
           1.0042780995225804,
           0.9077790942303458,
           0.9811267692786199,
           0.799220507774615,
           0.9558723993298167,
           0.9064503010676749,
           0.8886264907833029,
           0.9210691224551534,
           1.0134342675768904,
           0.9908967850914475,
           0.854331469712321,
           0.9481324411341039,
           0.9542903841154474,
           0.975593566591837,
           0.948341630711387,
           0.8820259393637281,
           0.9826933481677514,
           1.0722220161040403,
           0.940255548414091,
           0.93835273324616
          ],
          [
           1.0263645376802795,
           0.9688187054678024,
           0.9012264842211761,
           0.8522008037110098,
           0.9018559544398861,
           0.8531868542751189,
           0.947480680517001,
           0.9904503846766078,
           0.9271234183521937,
           1.026592627683907,
           0.8988710704853895,
           0.8289821453772847,
           0.9000123789984857,
           0.8910800602527701,
           0.9053433567150971,
           0.8778885299496935,
           0.8743296090143073,
           0.9052822073017545,
           0.8378913304829625,
           0.997303888078244,
           0.8916843142759503,
           1.0179946287528003,
           0.8603847542474778,
           0.9074735186104768,
           0.979241665505524,
           0.9132907759523701,
           0.9043406657933004,
           1.0139829296187848,
           1.025348327518033,
           0.8405067367996092,
           0.9743827162335088,
           0.9525460544335584,
           0.8790609553995818,
           0.7966524994424717,
           0.9550378806451608,
           0.8971968216078743,
           0.8704705870619944,
           0.8881142025332741,
           0.7801942729415791,
           0.8471004335275198,
           0.8481077218765908,
           0.9608819087844881,
           0.8276732788641611,
           0.8561607088502229,
           0.9508255064394181,
           0.8807522570263167,
           0.9635460834461308
          ],
          [
           0.996180917323645,
           0.8832371701185282,
           0.8202650599104747,
           0.9403781739226202,
           0.8485090219168461,
           0.8448954947920774,
           0.9009717271987269,
           1.0074317590274893,
           0.836770915241488,
           0.9679611957921189,
           1.0238734337887776,
           0.8241016938038516,
           0.8642015293923525,
           0.851172916294446,
           0.8320018118459646,
           0.9062886166747295,
           0.9089956003432719,
           0.8731415358781345,
           0.9041630645485107,
           0.9368604377877707,
           0.7850687994324935,
           0.984734789517773,
           0.8333765075189024,
           0.9711716106994824,
           0.9317103331363814,
           0.9079197778318543,
           0.8413194722102615,
           0.9692946415873848,
           0.8628913461821367,
           0.7847910619565138,
           0.8831993899894911,
           0.9153761488149276,
           0.8918029888794241,
           0.860128669770756,
           0.7996227340695331,
           0.8705638383792149,
           0.877167868935032,
           0.8083691876528631,
           0.91289885598109,
           0.853709602898315,
           0.7323691223826169,
           0.8681062641289484,
           0.8932623211925624,
           0.7474009159367021,
           0.8500712865678606,
           0.918798445056345,
           0.9053731739340826
          ],
          [
           1.0059799512214864,
           0.8583018200484194,
           0.8825570930793409,
           0.871444756885237,
           0.8568290136229219,
           0.899936129938971,
           0.8314215570047563,
           0.9880209549101222,
           0.8586358455790024,
           0.9859087015986248,
           0.8646370386526793,
           0.8124837546518094,
           0.8530467477105919,
           0.8511314582898968,
           0.8449286048486683,
           0.97740138605034,
           0.9002966256728916,
           0.8394501890892972,
           0.8117970253862096,
           0.9245729442067063,
           0.8208788667896989,
           0.9933515637274738,
           0.8285124006103345,
           0.8615351034219642,
           0.9290819674323193,
           0.8296353853468731,
           0.8240263534199925,
           1.0226467435819315,
           0.8729097889959145,
           0.8338143162655373,
           0.8999910651968152,
           0.8820098285716729,
           0.857871779962215,
           0.8494656062131491,
           0.8806314249624376,
           0.8430846929671845,
           0.8687238751716088,
           0.8596685400030957,
           0.7016328661454598,
           0.9061596644202774,
           0.9011072057505305,
           0.8540025365276767,
           0.8300856639509133,
           0.884122479678439,
           0.8414725647635838,
           0.8598542860290674,
           0.9133266336702811
          ],
          [
           1.0430242121330369,
           0.8560992124099287,
           0.8433809289814085,
           0.8755059093266543,
           0.8379561372481883,
           0.7707448648472909,
           0.9508139620147389,
           0.9954258643112494,
           0.8934834373082962,
           1.0178693580207583,
           0.8348066586670181,
           0.871908949079657,
           0.8467070344981752,
           0.9112267844537612,
           0.8407329420440264,
           0.8519812366950151,
           0.846451263402896,
           0.8558084329366163,
           0.872652591334249,
           0.7785520253832088,
           0.8763696392396209,
           1.0041942853909993,
           0.8745114722478009,
           0.8656254275675395,
           0.8821126318631578,
           0.8792748223875382,
           0.8707121559595203,
           1.0177158031318705,
           0.8808576996932288,
           0.8998210979701743,
           0.8988291840731814,
           0.8915339575949522,
           0.9067801956050128,
           0.9144304205439409,
           0.9137897135897963,
           0.8332575063026342,
           0.8773302535640735,
           0.840734702512822,
           0.9111016792001235,
           0.9788140508020141,
           0.8750764895317085,
           0.8225409726372604,
           0.8559414177685408,
           1.0166640568805803,
           0.9576197619079395,
           0.8935352394211271,
           0.9627608192738596
          ],
          [
           1.0050444718675082,
           1.0003620948843133,
           0.9377493634990133,
           0.9244974448302313,
           0.9985718700835807,
           0.9242288625082715,
           0.9376368770958422,
           0.9777770228150088,
           0.9413246767179295,
           0.9960252409472858,
           0.9787378158430704,
           0.9024084058945592,
           1.0018774064503473,
           0.9800377529731479,
           0.900151488662519,
           0.8981627852336515,
           0.9593851794482006,
           0.9645191733496195,
           1.0542330415099943,
           1.0556617389988643,
           1.0252064384742274,
           0.9575119918872402,
           0.9801974341393923,
           1.0895630456845449,
           0.8614020452280166,
           0.9380264042269748,
           0.965774925173981,
           0.9734201611172021,
           0.9729457636323999,
           0.9515687630582069,
           0.9384893845739217,
           1.0156738242892982,
           0.9287443861069089,
           0.993276034994966,
           1.079683523798549,
           1.063423744367483,
           1.0400795251425121,
           0.981276866958811,
           1.0466420807071066,
           0.8969628534323235,
           1.0307971066518744,
           1.0050641056277467,
           0.9650722302338506,
           0.8786516857618243,
           1.0114124284937613,
           0.9347207724634511,
           0.9817236960706297
          ],
          [
           0.9697487035801413,
           1.0142858854617522,
           0.9464193515291482,
           0.940795593786505,
           1.0379186778713596,
           0.9763441911197432,
           0.9767518574113888,
           0.9755906282034414,
           0.9689712170214427,
           0.9598810814705517,
           1.0295886094407611,
           0.9115079024436756,
           1.020828101324919,
           0.8946957605682822,
           0.9634712023889087,
           0.9895222754074164,
           1.0435316032983364,
           0.9510707577050109,
           1.0099994102375183,
           1.0116851289381203,
           0.9604239462148835,
           0.9924068586027885,
           0.9733076866367393,
           1.0399268928050642,
           1.009753336428507,
           1.0234925254108733,
           0.9646153112594815,
           0.9670388224323336,
           1.0210447342977325,
           1.0032590742156529,
           0.9701448269218228,
           0.9965082508701091,
           1.035229651160317,
           0.9480950297622315,
           0.9954908807197667,
           0.9720481944887441,
           1.008401170054542,
           0.9737214320637059,
           1.165836304125817,
           1.000078433461667,
           1.072937651140352,
           1.0374618834524512,
           0.9401290578520576,
           1.0594273345936591,
           1.0860337193174803,
           0.9743289812201743,
           0.9863583010889825
          ],
          [
           0.9498350162060889,
           1.0816142895024932,
           1.0197707609152984,
           1.0019612838660672,
           1.0455825137836505,
           0.960318073150455,
           1.0434422601265974,
           1.0029279275742167,
           0.9920035803089812,
           0.9836319423409126,
           0.9780992868581454,
           0.9650109903420531,
           1.0024578420824861,
           1.0326659679280705,
           0.9655975998991634,
           0.9537403972458154,
           1.0695308245381996,
           1.0330523674566536,
           1.1401043981035066,
           0.9228284045508944,
           1.0076722458126361,
           0.9662455309754658,
           0.9798611608946676,
           1.0982371661216501,
           1.1080482181413105,
           0.9978285411197915,
           1.0270053254441447,
           0.9756339178988017,
           1.0162131068842735,
           0.957143951429814,
           1.036010917369182,
           1.0152192176719692,
           1.0888209087954532,
           1.0560231530527775,
           1.0714060189560644,
           1.0637911311324983,
           1.0013911738077341,
           1.085135023936255,
           1.076142949459707,
           0.9294346591908842,
           0.9225557729549149,
           1.001621927295528,
           1.0115989168290427,
           1.0914297310200614,
           0.9067700392877077,
           0.982748459575045,
           1.0368432163880235
          ],
          [
           0.956711817382854,
           1.0260102730980238,
           1.0458162994223261,
           1.0257449205638434,
           1.018607795178307,
           0.9703426453082602,
           0.9649616465889368,
           0.9761398145844833,
           0.9778990058469974,
           0.962075088911163,
           1.116405181045757,
           1.0598130442991087,
           1.0225984395782095,
           1.0470255014355467,
           1.0152812259170736,
           1.0619236778040075,
           1.0227618269613692,
           0.9972990405507925,
           0.9497199936685982,
           1.0531429025526762,
           1.0062200197890498,
           0.9720065070413603,
           1.0216712940708434,
           1.045650954834987,
           1.1471992278253527,
           1.0081441712313282,
           0.9838632238740416,
           0.9954043644434484,
           1.1078913879062273,
           0.9722549762386511,
           1.0464175818024177,
           1.0332936106854795,
           1.008409977862068,
           1.0522155947455356,
           1.0337303338959547,
           1.0336633161331414,
           1.0497252657777747,
           1.0393622220100553,
           1.0785699828644206,
           1.0217637713620784,
           1.0911572316899152,
           1.0447473529535145,
           1.0724428630237257,
           1.1062673596121597,
           0.9330517964559157,
           0.9967902797332064,
           1.0482939411669676
          ],
          [
           0.9644633358861296,
           1.0628007310912906,
           1.0475527248773466,
           1.097724702924347,
           1.0465688891188825,
           1.1357606505460554,
           0.9540510679240404,
           0.9860240045294875,
           1.0139388616033156,
           0.9674452963034358,
           1.1384800109297213,
           1.0173277046477678,
           1.0686861420499858,
           1.0600412141271003,
           1.023453336222763,
           1.0209218901536024,
           1.1551464094616357,
           1.053286540430625,
           1.0099918760770912,
           1.004565522769505,
           1.0201554812742633,
           0.9728725147498838,
           0.9969519381557947,
           1.1090315053661923,
           1.0709111096735044,
           1.0625109512553712,
           1.091110625228405,
           0.9747884535707977,
           0.998527627074891,
           0.9643546917583301,
           1.1444938253290313,
           1.107139950640112,
           1.080337720514462,
           1.040818273673692,
           1.191050587500361,
           1.1154746039769243,
           1.037258630331698,
           1.0291835719857725,
           1.0680299058743397,
           1.0832685791516512,
           1.089443845858256,
           0.9847362569891199,
           1.067285234119036,
           1.1139146956013202,
           0.9610417219941109,
           0.9788303100254743,
           0.972506621495022
          ],
          [
           0.9667794665014151,
           1.0055137769716906,
           1.0529793907884806,
           1.0702317870179983,
           0.9886223825294789,
           1.099736502927354,
           1.0142648697252221,
           0.9738030623703013,
           0.9914526887090446,
           0.9690669516262771,
           1.0214339920056559,
           1.0298505512536604,
           1.0075014765080528,
           1.167427068053447,
           1.11729445983055,
           1.0959805692988525,
           1.088140894838491,
           1.0009826313757606,
           1.0768963294721783,
           1.1418690729858776,
           1.1253877439940814,
           0.9663187232002812,
           0.9911454751170464,
           1.0181943090336674,
           1.020729746342144,
           0.9759385669688897,
           1.0985642073644653,
           0.9658809548382521,
           1.1347600058031617,
           1.056491002212032,
           1.2164056853608445,
           1.0294040310945032,
           1.0789129217507782,
           1.0053314588818305,
           1.0643878819564945,
           1.0884869175851455,
           1.0332997429524013,
           0.9998113172347648,
           1.1540131297951215,
           1.1292596220480837,
           1.174598825225345,
           0.9996521255703639,
           1.1103555109909875,
           1.1374077473137294,
           1.2658504059629043,
           1.0719832876377502,
           1.0613811880793333
          ],
          [
           0.9752940994560819,
           1.0290172594853397,
           1.0386214586472904,
           1.1694436659589476,
           1.0335062852486212,
           1.095678908124416,
           1.063585763885202,
           0.9668473885112515,
           1.0944601424188216,
           0.9462822518575894,
           1.2503880782474965,
           1.0975146930521116,
           1.0055667188038784,
           1.0585787458043179,
           1.0775307141708663,
           1.030629354973051,
           1.0442652671161867,
           1.0749788860456921,
           1.04223254011894,
           1.1494728434490635,
           1.0599997631998077,
           0.9998814613675603,
           1.001959349822694,
           1.1845805954508006,
           1.0945012859766112,
           1.064501986580334,
           1.0813444462500885,
           0.9587897066003386,
           1.0605224579483101,
           1.0662866996177514,
           1.1140890123396225,
           1.0211394391064883,
           1.0993395681977258,
           1.0496142464858806,
           1.19071553499393,
           1.1010732178790388,
           1.02761015491363,
           1.223328184042325,
           1.0942779669010871,
           1.1701702244694578,
           1.1694503237149796,
           1.1228667582050325,
           1.0426925990655913,
           1.0635792054699558,
           1.162204705985153,
           1.0303326804691006,
           1.0704890589264182
          ],
          [
           0.9606195998360232,
           1.1048855939181463,
           1.0992806275508076,
           1.152506547325461,
           1.1244322435363208,
           1.129151223174023,
           1.0221106651753071,
           0.9792821647089726,
           1.119087200211777,
           0.9724552735776859,
           1.015030887541262,
           1.1064609506377696,
           1.1182246856653622,
           1.1259029183915403,
           1.153278008074351,
           1.034420458575423,
           1.1882198604685326,
           1.1196202701914493,
           1.0584602750605892,
           1.1137968375618723,
           1.0939362669659292,
           0.9551145384355001,
           1.1383285679667743,
           1.249953887131285,
           1.0721818397261755,
           1.053466148793782,
           1.143180606578945,
           0.9419174376294559,
           1.0882756291999063,
           1.1416773163616687,
           1.0919006092006853,
           1.1201004821512026,
           1.094537515995646,
           1.1056290054124567,
           1.1754024422313483,
           1.1211291566631398,
           1.186060276859347,
           1.144098437659377,
           1.2086874007693793,
           1.2773263342346117,
           1.2423551561731656,
           1.0515660405365923,
           1.0945666439483441,
           1.1599866320238643,
           1.2885284905716128,
           1.1157831375685707,
           1.175594154982886
          ],
          [
           0.9731149118688935,
           1.1521293303361577,
           1.1193152055563955,
           1.257771007390543,
           1.1303347038561822,
           1.1226165802752395,
           1.0961118514915806,
           0.9761014894792142,
           1.1245603602697016,
           0.9755907005771157,
           1.121659476040217,
           1.105609653900823,
           1.0998605477201133,
           1.125710108945539,
           1.0321822150172326,
           1.0956419962349488,
           1.190729520701588,
           1.135468027845825,
           1.2934214635098693,
           1.1966922943719396,
           1.0930144295902895,
           0.9970279122240528,
           1.0880784059508042,
           1.117142790791229,
           1.1539279652686782,
           1.0492762040638597,
           1.1743089349294435,
           0.9592785613638479,
           1.1773260602567885,
           1.167466804931219,
           1.1697995828223247,
           1.0497848589506802,
           1.1455925655140873,
           1.1647503797078975,
           1.3061353533617066,
           1.0304517722440814,
           1.1773786920283884,
           1.1658504049727016,
           1.1933947190635512,
           1.0091957140961318,
           1.169727760941282,
           1.0679408070948297,
           1.0877024241838427,
           1.2421785498110653,
           1.121589913991948,
           1.170322414331073,
           1.1431950037407441
          ],
          [
           0.9932594562369695,
           1.0513387945374641,
           1.1086107451004492,
           1.0677685384087958,
           1.0812875647761826,
           1.0511867331905353,
           1.0488933958761841,
           0.9742099858371599,
           1.13410212376027,
           0.9165622267599255,
           1.241661364545273,
           1.1659240194327178,
           1.0913282205801333,
           1.0475080595761548,
           1.0252035258204077,
           1.0498700891929813,
           1.0819347246019533,
           1.1116517946705367,
           0.9566116732888676,
           1.2521410491328475,
           1.0825818471182238,
           0.9836742019176704,
           1.1580179932629928,
           1.115630038683038,
           1.0850479809777975,
           1.04019523817511,
           1.0870005115880592,
           0.934966959274121,
           1.1965012731657831,
           1.0968554708288076,
           1.2679602600916362,
           1.0716525696038348,
           1.0338063044094414,
           1.059113426715315,
           1.1801342849321133,
           1.0892958729600668,
           1.0391213764217802,
           1.1254219152663145,
           1.2083005304419994,
           1.1946718598624537,
           1.1905840045772493,
           0.9914617701072459,
           1.082095333153582,
           0.9988046645468567,
           1.0952101116642878,
           1.0800684455428895,
           1.0631530528412907
          ],
          [
           1.0041990076952116,
           1.0887700060304137,
           1.0906515238086236,
           1.1998597216878237,
           1.1133188077383525,
           1.094535585847011,
           0.9820478454355424,
           0.9657534735103485,
           1.0694366283172658,
           0.9705358911115165,
           0.9821098802477513,
           1.088449019499928,
           1.0512017936853055,
           1.1020015357447002,
           1.0835250079356513,
           1.1237163245322686,
           1.2357407454840599,
           1.0854694458386758,
           1.164564650694255,
           1.1130259521278738,
           1.144598623111782,
           0.9715217763451046,
           1.1693717591379895,
           1.0837066867132552,
           1.1446694250992817,
           0.9696258406552637,
           1.1138938517021357,
           0.9651094980702832,
           1.1791858719947415,
           1.0221957602684086,
           1.2279478751194526,
           1.1134619926472709,
           1.0402249228234552,
           1.142915339547034,
           1.2139452078177746,
           1.165300446321803,
           1.0831564921380616,
           1.1427934206669617,
           1.320006854648341,
           1.081016297437404,
           1.2376573759882614,
           1.0896259705409845,
           1.019009632307705,
           1.1825343500407959,
           1.213506045410531,
           1.0813502127781938,
           1.0786281057865437
          ],
          [
           1.001730846212146,
           1.1011223119302633,
           1.1376178136362771,
           0.9795437458367577,
           1.1302226136996252,
           1.1973776837988974,
           1.0692310288625315,
           0.9772919633876392,
           1.1015631474869818,
           0.9587892228606366,
           1.084476953135066,
           1.1416875923911762,
           1.1250344892232822,
           1.1229131502792313,
           1.1124128038273196,
           1.1653177651230857,
           1.166256477370535,
           1.086663063705851,
           1.2397313876564107,
           1.2078710089643399,
           1.2621706588660886,
           0.9916148206225475,
           1.1838173264149212,
           1.1831354659127213,
           1.1904063987613627,
           1.006021210822141,
           1.138637252054506,
           0.9669144070874797,
           1.294806620494762,
           1.1161947936770191,
           1.130670539508333,
           1.0785762607073839,
           1.1810989796789617,
           1.104570445318377,
           1.1342346464771023,
           1.1909622275372034,
           1.1749017308678595,
           1.0895960830594764,
           1.2146440631641002,
           1.145384599985234,
           1.1588128780284281,
           1.1760995843895934,
           1.130307189859246,
           1.0702297260136413,
           1.1978823980161066,
           0.9974184608103455,
           1.0805821794080632
          ],
          [
           0.9791915111525633,
           1.1839747307686666,
           1.1765774235557858,
           1.1907337063763892,
           1.171971143682292,
           1.120365698755073,
           1.1197473965215765,
           0.9918856827815553,
           1.237170011174552,
           0.9759034125184888,
           0.9647557483968707,
           1.2378052064990077,
           1.141246565260808,
           1.0697800923537575,
           1.1845344547601524,
           1.1889773992582635,
           1.2701603633418603,
           1.1786755486478204,
           1.2401281368461838,
           1.2136293627104793,
           1.1963900028215972,
           0.9618879742941321,
           1.1996993107328926,
           1.24527709817,
           1.286655844091934,
           1.117212824427444,
           1.2076934428534176,
           0.9736095810393873,
           1.2153071880838158,
           1.246463277186013,
           1.2020955472193342,
           1.124234628880289,
           1.0531227155175282,
           1.1095138455509233,
           1.1457415991254982,
           1.108190374825982,
           1.1959253277954212,
           1.2815960598352858,
           1.3456108146846197,
           1.2972174137539438,
           1.247059240644217,
           1.106541606462943,
           1.1985878384704851,
           1.3796643901708139,
           1.2028403644940906,
           1.2070714673466232,
           1.0221485810575166
          ],
          [
           0.9834055472045512,
           1.1041658894531936,
           1.1561202352877291,
           1.2544494162652957,
           1.082281162228676,
           1.3052073851029142,
           1.1113118433976692,
           0.9687171102169461,
           1.1728441228454405,
           0.9779146370119389,
           1.1853963023438692,
           1.1772829472014232,
           1.1197572304277343,
           1.246167856801112,
           1.3365278486471655,
           1.0280898563533594,
           1.2854440772404212,
           1.153440569885222,
           1.2549360620804149,
           1.253405465572238,
           1.1498421293641836,
           0.9591787286959506,
           1.209866965962232,
           1.1940110630563407,
           1.0842952377857265,
           1.0977580394139708,
           1.2074201711947088,
           0.9442618223961543,
           1.1438084987823736,
           1.241655716684111,
           1.2283771789448676,
           1.237118561067933,
           1.2078290174584918,
           1.2262683067242173,
           1.2028968915366063,
           1.2075719445003006,
           1.271365990628617,
           1.2219287878314196,
           1.2849078074238582,
           1.259696023625369,
           1.3293441637606402,
           1.115215129048926,
           1.1554947840439358,
           1.1244121014702597,
           1.125869337286043,
           1.184778845452489,
           1.0324774918781945
          ]
         ],
         "zmax": 1.5,
         "zmin": 0.5
        }
       ],
       "layout": {
        "template": {
         "data": {
          "bar": [
           {
            "error_x": {
             "color": "#2a3f5f"
            },
            "error_y": {
             "color": "#2a3f5f"
            },
            "marker": {
             "line": {
              "color": "#E5ECF6",
              "width": 0.5
             }
            },
            "type": "bar"
           }
          ],
          "barpolar": [
           {
            "marker": {
             "line": {
              "color": "#E5ECF6",
              "width": 0.5
             }
            },
            "type": "barpolar"
           }
          ],
          "carpet": [
           {
            "aaxis": {
             "endlinecolor": "#2a3f5f",
             "gridcolor": "white",
             "linecolor": "white",
             "minorgridcolor": "white",
             "startlinecolor": "#2a3f5f"
            },
            "baxis": {
             "endlinecolor": "#2a3f5f",
             "gridcolor": "white",
             "linecolor": "white",
             "minorgridcolor": "white",
             "startlinecolor": "#2a3f5f"
            },
            "type": "carpet"
           }
          ],
          "choropleth": [
           {
            "colorbar": {
             "outlinewidth": 0,
             "ticks": ""
            },
            "type": "choropleth"
           }
          ],
          "contour": [
           {
            "colorbar": {
             "outlinewidth": 0,
             "ticks": ""
            },
            "colorscale": [
             [
              0,
              "#0d0887"
             ],
             [
              0.1111111111111111,
              "#46039f"
             ],
             [
              0.2222222222222222,
              "#7201a8"
             ],
             [
              0.3333333333333333,
              "#9c179e"
             ],
             [
              0.4444444444444444,
              "#bd3786"
             ],
             [
              0.5555555555555556,
              "#d8576b"
             ],
             [
              0.6666666666666666,
              "#ed7953"
             ],
             [
              0.7777777777777778,
              "#fb9f3a"
             ],
             [
              0.8888888888888888,
              "#fdca26"
             ],
             [
              1,
              "#f0f921"
             ]
            ],
            "type": "contour"
           }
          ],
          "contourcarpet": [
           {
            "colorbar": {
             "outlinewidth": 0,
             "ticks": ""
            },
            "type": "contourcarpet"
           }
          ],
          "heatmap": [
           {
            "colorbar": {
             "outlinewidth": 0,
             "ticks": ""
            },
            "colorscale": [
             [
              0,
              "#0d0887"
             ],
             [
              0.1111111111111111,
              "#46039f"
             ],
             [
              0.2222222222222222,
              "#7201a8"
             ],
             [
              0.3333333333333333,
              "#9c179e"
             ],
             [
              0.4444444444444444,
              "#bd3786"
             ],
             [
              0.5555555555555556,
              "#d8576b"
             ],
             [
              0.6666666666666666,
              "#ed7953"
             ],
             [
              0.7777777777777778,
              "#fb9f3a"
             ],
             [
              0.8888888888888888,
              "#fdca26"
             ],
             [
              1,
              "#f0f921"
             ]
            ],
            "type": "heatmap"
           }
          ],
          "heatmapgl": [
           {
            "colorbar": {
             "outlinewidth": 0,
             "ticks": ""
            },
            "colorscale": [
             [
              0,
              "#0d0887"
             ],
             [
              0.1111111111111111,
              "#46039f"
             ],
             [
              0.2222222222222222,
              "#7201a8"
             ],
             [
              0.3333333333333333,
              "#9c179e"
             ],
             [
              0.4444444444444444,
              "#bd3786"
             ],
             [
              0.5555555555555556,
              "#d8576b"
             ],
             [
              0.6666666666666666,
              "#ed7953"
             ],
             [
              0.7777777777777778,
              "#fb9f3a"
             ],
             [
              0.8888888888888888,
              "#fdca26"
             ],
             [
              1,
              "#f0f921"
             ]
            ],
            "type": "heatmapgl"
           }
          ],
          "histogram": [
           {
            "marker": {
             "colorbar": {
              "outlinewidth": 0,
              "ticks": ""
             }
            },
            "type": "histogram"
           }
          ],
          "histogram2d": [
           {
            "colorbar": {
             "outlinewidth": 0,
             "ticks": ""
            },
            "colorscale": [
             [
              0,
              "#0d0887"
             ],
             [
              0.1111111111111111,
              "#46039f"
             ],
             [
              0.2222222222222222,
              "#7201a8"
             ],
             [
              0.3333333333333333,
              "#9c179e"
             ],
             [
              0.4444444444444444,
              "#bd3786"
             ],
             [
              0.5555555555555556,
              "#d8576b"
             ],
             [
              0.6666666666666666,
              "#ed7953"
             ],
             [
              0.7777777777777778,
              "#fb9f3a"
             ],
             [
              0.8888888888888888,
              "#fdca26"
             ],
             [
              1,
              "#f0f921"
             ]
            ],
            "type": "histogram2d"
           }
          ],
          "histogram2dcontour": [
           {
            "colorbar": {
             "outlinewidth": 0,
             "ticks": ""
            },
            "colorscale": [
             [
              0,
              "#0d0887"
             ],
             [
              0.1111111111111111,
              "#46039f"
             ],
             [
              0.2222222222222222,
              "#7201a8"
             ],
             [
              0.3333333333333333,
              "#9c179e"
             ],
             [
              0.4444444444444444,
              "#bd3786"
             ],
             [
              0.5555555555555556,
              "#d8576b"
             ],
             [
              0.6666666666666666,
              "#ed7953"
             ],
             [
              0.7777777777777778,
              "#fb9f3a"
             ],
             [
              0.8888888888888888,
              "#fdca26"
             ],
             [
              1,
              "#f0f921"
             ]
            ],
            "type": "histogram2dcontour"
           }
          ],
          "mesh3d": [
           {
            "colorbar": {
             "outlinewidth": 0,
             "ticks": ""
            },
            "type": "mesh3d"
           }
          ],
          "parcoords": [
           {
            "line": {
             "colorbar": {
              "outlinewidth": 0,
              "ticks": ""
             }
            },
            "type": "parcoords"
           }
          ],
          "pie": [
           {
            "automargin": true,
            "type": "pie"
           }
          ],
          "scatter": [
           {
            "marker": {
             "colorbar": {
              "outlinewidth": 0,
              "ticks": ""
             }
            },
            "type": "scatter"
           }
          ],
          "scatter3d": [
           {
            "line": {
             "colorbar": {
              "outlinewidth": 0,
              "ticks": ""
             }
            },
            "marker": {
             "colorbar": {
              "outlinewidth": 0,
              "ticks": ""
             }
            },
            "type": "scatter3d"
           }
          ],
          "scattercarpet": [
           {
            "marker": {
             "colorbar": {
              "outlinewidth": 0,
              "ticks": ""
             }
            },
            "type": "scattercarpet"
           }
          ],
          "scattergeo": [
           {
            "marker": {
             "colorbar": {
              "outlinewidth": 0,
              "ticks": ""
             }
            },
            "type": "scattergeo"
           }
          ],
          "scattergl": [
           {
            "marker": {
             "colorbar": {
              "outlinewidth": 0,
              "ticks": ""
             }
            },
            "type": "scattergl"
           }
          ],
          "scattermapbox": [
           {
            "marker": {
             "colorbar": {
              "outlinewidth": 0,
              "ticks": ""
             }
            },
            "type": "scattermapbox"
           }
          ],
          "scatterpolar": [
           {
            "marker": {
             "colorbar": {
              "outlinewidth": 0,
              "ticks": ""
             }
            },
            "type": "scatterpolar"
           }
          ],
          "scatterpolargl": [
           {
            "marker": {
             "colorbar": {
              "outlinewidth": 0,
              "ticks": ""
             }
            },
            "type": "scatterpolargl"
           }
          ],
          "scatterternary": [
           {
            "marker": {
             "colorbar": {
              "outlinewidth": 0,
              "ticks": ""
             }
            },
            "type": "scatterternary"
           }
          ],
          "surface": [
           {
            "colorbar": {
             "outlinewidth": 0,
             "ticks": ""
            },
            "colorscale": [
             [
              0,
              "#0d0887"
             ],
             [
              0.1111111111111111,
              "#46039f"
             ],
             [
              0.2222222222222222,
              "#7201a8"
             ],
             [
              0.3333333333333333,
              "#9c179e"
             ],
             [
              0.4444444444444444,
              "#bd3786"
             ],
             [
              0.5555555555555556,
              "#d8576b"
             ],
             [
              0.6666666666666666,
              "#ed7953"
             ],
             [
              0.7777777777777778,
              "#fb9f3a"
             ],
             [
              0.8888888888888888,
              "#fdca26"
             ],
             [
              1,
              "#f0f921"
             ]
            ],
            "type": "surface"
           }
          ],
          "table": [
           {
            "cells": {
             "fill": {
              "color": "#EBF0F8"
             },
             "line": {
              "color": "white"
             }
            },
            "header": {
             "fill": {
              "color": "#C8D4E3"
             },
             "line": {
              "color": "white"
             }
            },
            "type": "table"
           }
          ]
         },
         "layout": {
          "annotationdefaults": {
           "arrowcolor": "#2a3f5f",
           "arrowhead": 0,
           "arrowwidth": 1
          },
          "coloraxis": {
           "colorbar": {
            "outlinewidth": 0,
            "ticks": ""
           }
          },
          "colorscale": {
           "diverging": [
            [
             0,
             "#8e0152"
            ],
            [
             0.1,
             "#c51b7d"
            ],
            [
             0.2,
             "#de77ae"
            ],
            [
             0.3,
             "#f1b6da"
            ],
            [
             0.4,
             "#fde0ef"
            ],
            [
             0.5,
             "#f7f7f7"
            ],
            [
             0.6,
             "#e6f5d0"
            ],
            [
             0.7,
             "#b8e186"
            ],
            [
             0.8,
             "#7fbc41"
            ],
            [
             0.9,
             "#4d9221"
            ],
            [
             1,
             "#276419"
            ]
           ],
           "sequential": [
            [
             0,
             "#0d0887"
            ],
            [
             0.1111111111111111,
             "#46039f"
            ],
            [
             0.2222222222222222,
             "#7201a8"
            ],
            [
             0.3333333333333333,
             "#9c179e"
            ],
            [
             0.4444444444444444,
             "#bd3786"
            ],
            [
             0.5555555555555556,
             "#d8576b"
            ],
            [
             0.6666666666666666,
             "#ed7953"
            ],
            [
             0.7777777777777778,
             "#fb9f3a"
            ],
            [
             0.8888888888888888,
             "#fdca26"
            ],
            [
             1,
             "#f0f921"
            ]
           ],
           "sequentialminus": [
            [
             0,
             "#0d0887"
            ],
            [
             0.1111111111111111,
             "#46039f"
            ],
            [
             0.2222222222222222,
             "#7201a8"
            ],
            [
             0.3333333333333333,
             "#9c179e"
            ],
            [
             0.4444444444444444,
             "#bd3786"
            ],
            [
             0.5555555555555556,
             "#d8576b"
            ],
            [
             0.6666666666666666,
             "#ed7953"
            ],
            [
             0.7777777777777778,
             "#fb9f3a"
            ],
            [
             0.8888888888888888,
             "#fdca26"
            ],
            [
             1,
             "#f0f921"
            ]
           ]
          },
          "colorway": [
           "#636efa",
           "#EF553B",
           "#00cc96",
           "#ab63fa",
           "#FFA15A",
           "#19d3f3",
           "#FF6692",
           "#B6E880",
           "#FF97FF",
           "#FECB52"
          ],
          "font": {
           "color": "#2a3f5f"
          },
          "geo": {
           "bgcolor": "white",
           "lakecolor": "white",
           "landcolor": "#E5ECF6",
           "showlakes": true,
           "showland": true,
           "subunitcolor": "white"
          },
          "hoverlabel": {
           "align": "left"
          },
          "hovermode": "closest",
          "mapbox": {
           "style": "light"
          },
          "paper_bgcolor": "white",
          "plot_bgcolor": "#E5ECF6",
          "polar": {
           "angularaxis": {
            "gridcolor": "white",
            "linecolor": "white",
            "ticks": ""
           },
           "bgcolor": "#E5ECF6",
           "radialaxis": {
            "gridcolor": "white",
            "linecolor": "white",
            "ticks": ""
           }
          },
          "scene": {
           "xaxis": {
            "backgroundcolor": "#E5ECF6",
            "gridcolor": "white",
            "gridwidth": 2,
            "linecolor": "white",
            "showbackground": true,
            "ticks": "",
            "zerolinecolor": "white"
           },
           "yaxis": {
            "backgroundcolor": "#E5ECF6",
            "gridcolor": "white",
            "gridwidth": 2,
            "linecolor": "white",
            "showbackground": true,
            "ticks": "",
            "zerolinecolor": "white"
           },
           "zaxis": {
            "backgroundcolor": "#E5ECF6",
            "gridcolor": "white",
            "gridwidth": 2,
            "linecolor": "white",
            "showbackground": true,
            "ticks": "",
            "zerolinecolor": "white"
           }
          },
          "shapedefaults": {
           "line": {
            "color": "#2a3f5f"
           }
          },
          "ternary": {
           "aaxis": {
            "gridcolor": "white",
            "linecolor": "white",
            "ticks": ""
           },
           "baxis": {
            "gridcolor": "white",
            "linecolor": "white",
            "ticks": ""
           },
           "bgcolor": "#E5ECF6",
           "caxis": {
            "gridcolor": "white",
            "linecolor": "white",
            "ticks": ""
           }
          },
          "title": {
           "x": 0.05
          },
          "xaxis": {
           "automargin": true,
           "gridcolor": "white",
           "linecolor": "white",
           "ticks": "",
           "title": {
            "standoff": 15
           },
           "zerolinecolor": "white",
           "zerolinewidth": 2
          },
          "yaxis": {
           "automargin": true,
           "gridcolor": "white",
           "linecolor": "white",
           "ticks": "",
           "title": {
            "standoff": 15
           },
           "zerolinecolor": "white",
           "zerolinewidth": 2
          }
         }
        },
        "xaxis": {
         "anchor": "y",
         "domain": [
          0,
          0.45
         ]
        },
        "xaxis2": {
         "anchor": "y2",
         "domain": [
          0.55,
          1
         ]
        },
        "yaxis": {
         "anchor": "x",
         "domain": [
          0,
          1
         ]
        },
        "yaxis2": {
         "anchor": "x2",
         "domain": [
          0,
          1
         ],
         "matches": "y",
         "showticklabels": false
        }
       }
      },
      "text/html": [
       "<div>\n",
       "        \n",
       "        \n",
       "            <div id=\"76be3451-4943-4959-9dc4-a0b197784ad2\" class=\"plotly-graph-div\" style=\"height:525px; width:100%;\"></div>\n",
       "            <script type=\"text/javascript\">\n",
       "                require([\"plotly\"], function(Plotly) {\n",
       "                    window.PLOTLYENV=window.PLOTLYENV || {};\n",
       "                    \n",
       "                if (document.getElementById(\"76be3451-4943-4959-9dc4-a0b197784ad2\")) {\n",
       "                    Plotly.newPlot(\n",
       "                        '76be3451-4943-4959-9dc4-a0b197784ad2',\n",
       "                        [{\"type\": \"heatmap\", \"x\": [\"AATGC\", \"AATGG\", \"AACAT\", \"AACTT\", \"AACCA\", \"AAGTA\", \"AAGCA\", \"AAGCT\", \"AAGGT\", \"ATATG\", \"ATACC\", \"ATTAG\", \"ATCAG\", \"ATCTG\", \"ATCCA\", \"ATGTA\", \"ATGCT\", \"ATGGA\", \"ATGGT\", \"ACAAA\", \"ACAAG\", \"ACATA\", \"ACCTA\", \"AGAAC\", \"AGATG\", \"AGCTA\", \"AGCTG\", \"AGGTA\", \"TAAAG\", \"TAATG\", \"TATAG\", \"TATGG\", \"TACAG\", \"TACTG\", \"TACCA\", \"TAGCA\", \"TAGGA\", \"TTACA\", \"TTAGG\", \"TTTAG\", \"TTTGG\", \"TTCTG\", \"TTGCA\", \"TCTTG\", \"TGAAG\", \"TGATG\", \"TGTAG\", \"TGTTG\", \"TGCAG\", \"TGGAG\"], \"xaxis\": \"x\", \"y\": [0, 20, 40, 60, 80, 100, 120, 140, 160, 180, 200, 220, 240, 260, 280, 300, 320, 340, 360, 380, 400, 420, 440, 460, 480], \"yaxis\": \"y\", \"z\": [[1.1538784772279398, 1.1211710672966058, 1.106904286634972, 1.100335608627893, 1.1520085908062443, 1.0611384627755185, 1.1510713554006222, 1.1546164642514987, 0.9847293005189753, 1.0927179607237478, 0.9977014649987164, 1.217612859331983, 1.1137164597345555, 1.0404802780686992, 1.2167959222503442, 1.079483201484043, 1.1337691212371193, 1.2021862549209714, 1.117352130860733, 0.9779108440750647, 1.147097803453263, 1.0193665744697293, 1.040592475109551, 1.2293340932348356, 1.1490161057414667, 1.1742656115106196, 1.0984381254413969, 0.8417652363909629, 1.1746828526329773, 1.1563257974120766, 1.091446878523868, 1.1496110082446287, 1.022062734328336, 1.0272918179641657, 1.0639085271848012, 1.1430393963934302, 1.1383079174833897, 0.992323352840283, 1.0172758346010626, 1.0930373733408634, 1.0972026025175066, 1.083805409216035, 1.0080360934879926, 1.1779566283941443, 1.0982717808585682, 1.1401467869141035, 1.1273504665151999, 1.11430342363119, 0.974575289257578, 1.1423493020709488], [1.1369032637100338, 1.188937181465214, 1.0608281549360794, 1.1576663303138275, 1.1249146792759745, 1.049099270291578, 1.1047909362324344, 1.1182273874007795, 1.0366187391881423, 1.083871505527991, 1.060770415392945, 1.2211008604625817, 1.0871013514158954, 1.1584613610505747, 1.1728321570268392, 1.0530266408207114, 1.1013983363412705, 1.1907723895603022, 1.1059079990008265, 1.076493227473189, 1.133318204749181, 1.0055161372277395, 1.0842747612140466, 1.1021964862935802, 1.1497780175717107, 1.1440977495087568, 1.0502742800027396, 1.0343850060260613, 1.161564290714995, 1.167128425150161, 1.0964194414472104, 1.1129039363251632, 1.1120687384293564, 1.0829363007704418, 1.0940308955184814, 1.1434789108588008, 1.1699839900213267, 1.0693140380265584, 1.1574525385306351, 1.1609043479755226, 1.1365561565615274, 1.098270720225224, 1.1088647614107585, 1.152017087276151, 1.136024174727454, 1.0910781412390402, 1.1105839390161427, 1.1065291908605117, 1.0802680441321497, 1.1787514065060778], [1.056299790020799, 1.070501223503206, 1.0622192067205234, 1.0763505698204874, 1.0568894997494234, 1.0426942821185636, 1.0487452874712013, 1.078681576057659, 1.01219841356596, 1.049335299738256, 0.9876308545718744, 1.1696782234881993, 1.0468823094669144, 1.0608233252414159, 1.1391608160804736, 1.0467346365391847, 1.0743874902765347, 1.1113153827912088, 1.0346531512345751, 1.0751397277355086, 1.039980775587456, 1.0397857720315182, 1.030875317839127, 1.0148044494273134, 1.0822406336816024, 1.1269573212235502, 0.9868633618604095, 1.0428330504853713, 1.1533117777614275, 1.1380126189754136, 1.055270016094105, 1.0598896414289567, 1.0660667334918008, 1.0675926828196236, 1.081064991401037, 1.138239908256672, 1.0818891261212564, 1.0918869128469872, 1.1038163292005565, 1.159234172143914, 1.0904551655053625, 1.0888364084717828, 1.0828647438931067, 1.0608839730256572, 1.0665968536577901, 1.0711926991778833, 1.1038088735323917, 1.057019044662829, 1.0601677149507893, 1.057649086980736], [1.0128904341233924, 1.0759391231789153, 1.0412426729332738, 1.0295501490436878, 1.0172726241560823, 1.0818167644826295, 1.0132564568199929, 1.0260902335153863, 1.0294762081943578, 1.055353895246734, 0.9412112136243498, 1.1216995689232643, 0.9701908485460831, 1.0462345423442008, 1.0005399363273195, 1.0473935076202132, 0.9992174034667729, 1.0628716695361449, 1.022774634440936, 1.0506305813663819, 1.0130760074820375, 1.0439145383715243, 0.9641925881642911, 0.9743339013566604, 1.0254488107559787, 1.090563806795023, 0.9567553253225107, 1.0114390021662334, 1.1017416793894148, 1.112800162105836, 1.0361537571304966, 0.9929697545425845, 1.044479669353361, 1.0135573508206823, 0.9942964908619473, 1.0278334945107117, 1.0663150087605722, 1.0853571500418795, 1.0115578553996243, 1.1515912531776606, 1.0408139689092637, 1.0382824122968684, 1.0645734041903734, 1.021203384060646, 1.0224869757154216, 1.0107476137637113, 1.0244730617961724, 0.9873109472471311, 0.9921296826579346, 1.022181841504312], [0.9664152333769548, 0.9887795806432593, 1.0312585196212298, 1.0609810324493205, 1.0052905358876723, 1.0620901001863674, 0.9993776976544227, 0.9777475612760349, 1.0231077592071516, 1.0632220904937824, 0.979951424605015, 1.0922115278706346, 0.9649772601455048, 1.0277086187572226, 0.9849835660860878, 1.0579181196379914, 0.9576614261965452, 0.9927026575879865, 0.9342024507434745, 1.0584501633998455, 1.0189976681719892, 1.0739723944607564, 1.042838400997332, 0.9520871343910196, 1.0031171530929055, 0.9911218441896124, 0.9147075331409347, 1.0839340979932448, 1.0990540892339764, 1.0692649065238675, 1.1506570947167412, 0.9392543684676254, 1.0287240694748174, 0.9765167772897233, 0.9767365376743197, 1.0387900633066245, 1.0546254999268327, 1.0892501651380226, 1.0907796422896017, 1.13285261818782, 1.0328945451247646, 0.9857813120129002, 1.0041999464931948, 0.9710630625837376, 0.9883660596998985, 0.9673923555148323, 1.0034461802679184, 0.9716390378043465, 0.9396752573261996, 0.9592992989802831], [0.972521921722723, 0.984416316100773, 1.0487470831018553, 1.0506194765978107, 0.9558238660355454, 1.0625509738493664, 0.9868470274973317, 0.9373480897004322, 0.9365090874264478, 1.1324128257674648, 0.9850956444668166, 1.1105970963135905, 1.0125488411319528, 0.9534115333332477, 0.9890769559159915, 1.1006413706590275, 0.9974220706893644, 0.9976183840106001, 0.9319794317930491, 1.0687679276222921, 0.9892361284845347, 1.1106498492593426, 1.0059261236347785, 0.9305209811591064, 0.9570940761085974, 1.0551884167460208, 0.9556844635276835, 0.953606177393016, 1.0898636765714074, 1.0955114619258526, 1.1669670993318164, 1.0004923525682565, 0.963068879152284, 0.9255679281678495, 0.9995882374767003, 1.065077709035029, 1.0590664928885387, 1.0742702175805294, 1.062493082645973, 1.090335820728882, 0.988582146248775, 1.0147685303954947, 0.9475564641725693, 1.000203104446573, 0.990001746807296, 1.006750440568034, 1.0120196959570817, 0.9724299225239279, 0.8808048257029634, 0.9938979408028101], [0.9842423841546913, 0.9676395012637112, 1.0086976314528642, 0.9964955299595741, 0.9091868881013139, 0.9959736388650863, 0.9435320670919829, 0.9468021681410734, 0.9429313541502216, 1.0657256033705569, 0.9986210773364551, 1.0553025824107445, 0.9004731944897462, 0.9122174550965112, 0.9886527982939414, 1.030108897860491, 0.9626042343057659, 0.9662581395939148, 0.9335295989834731, 0.9913656757142676, 0.9298784049007839, 1.0322444629695462, 1.008836632116656, 0.952231838467051, 0.9679481232872782, 0.9334263836229666, 0.8946862832329319, 0.9689904861349102, 1.0127472724293294, 1.0474119885604114, 1.1131754940596459, 1.0030912437598416, 0.9396398364566761, 0.92541901393272, 0.956602907514629, 0.9714431062420773, 0.9973841082658731, 1.0285137898654366, 1.0456523685160721, 1.0500375992746553, 0.9575313366439329, 0.952908145245116, 0.9879757593021857, 0.9700043357533491, 0.9318488336324409, 0.9396048806998439, 0.9409664346318334, 0.9194717363350194, 0.8884904058241861, 0.9745065902408542], [0.9711674906514383, 0.973636481200109, 1.0004058230496629, 0.9804166887892349, 0.9947964813149308, 0.981722647700834, 0.971218833047156, 1.0120688862584188, 0.9775737749469938, 1.0276076461029606, 1.0206047095809911, 1.0195658247040857, 0.9498151191827112, 0.9858435989479164, 0.9549009668818065, 1.0325059098462195, 0.963127620958146, 0.9592694028663926, 0.9769888193125288, 1.009925059416362, 0.9365491547205761, 1.02166248877917, 1.0284250559263668, 0.9271652037358732, 0.9966530178938072, 0.9591194796240325, 0.9236277510490409, 1.0286533442178651, 1.0177703508730767, 1.0112771876572855, 1.0483408536147176, 0.9758523515859918, 0.9764080954642033, 0.9672094508549484, 1.0081575198160357, 0.9706610021065482, 0.9921833730479898, 1.0351628405313655, 1.032825556461864, 1.0377723819896123, 0.9906103153582708, 0.9404866044587916, 1.0044172140447067, 0.9374617303846983, 0.9264349357391688, 0.9259979561456707, 1.0002142761473862, 0.9040665983620076, 0.9521780057571662, 0.9076917590375976], [0.9878119391807747, 0.9800345027080127, 1.0029225634061119, 1.0018435868892597, 0.9837158728204063, 1.0117740744225803, 0.9909980782305912, 0.9521277288662515, 0.9918404431163315, 1.058400496318694, 1.0651364300163446, 1.0173703384227306, 0.96556888290815, 0.9873885593847884, 0.9767594252670861, 1.0281227093812668, 0.9662709365247184, 0.9803454192393521, 1.0167143588210386, 0.9880953799837155, 0.9558046608168381, 1.0405194178097708, 1.047328116128645, 0.987556662242618, 0.9803465003083501, 0.9906900972344395, 0.9463343021806563, 1.0724794828550752, 1.0022465917485852, 1.0249270123127272, 1.0401763523748515, 1.030358994230563, 1.0516598647989146, 0.9895789826473911, 1.0452604500100928, 0.9852840991258622, 1.008074359882919, 1.0142146065864395, 1.0336834912230002, 1.0292432252057846, 0.9873983274041954, 1.0149595268235467, 1.0043888651779795, 0.9890498192926858, 0.9744680435391643, 0.9586461479983707, 1.009677593831429, 0.9581626776825533, 1.02633478784466, 0.9595734541429876], [1.008607024990203, 0.9757436309941918, 1.030346142165729, 1.0093357153039817, 0.973569493624973, 1.0369629189884781, 1.0232380942609598, 0.9780782910859152, 1.0238425865113487, 1.0090316268828599, 1.027339232324186, 1.012188048365839, 0.9848659474607967, 0.9855623873946893, 1.005989491694462, 1.0005928896479241, 1.0420744387790295, 1.00946339835316, 0.9789489143552587, 0.9957598955662423, 0.9623259975518719, 1.0094614430773587, 1.0377697804358634, 0.9714604807147983, 1.0158509548626453, 1.0366121807651285, 0.9964112839593895, 1.0824662714331605, 1.0050138808265214, 1.0306273772871026, 1.0167840349730946, 1.0241685054644887, 1.005723905071282, 1.0268067146056732, 0.9799247448832652, 1.0030543938431835, 0.9894891731935451, 1.0062059465693878, 0.9859247493760751, 1.011636257497461, 1.0180129063564116, 0.9678562075380738, 0.9594278936376538, 0.9850521476029903, 1.0094247526523021, 0.9954025099851914, 1.018662203559569, 1.0162250222429392, 0.9889671008185359, 0.9554669013747061], [1.0233013249155187, 1.0436034218310413, 1.00142884837128, 1.0284207885014214, 1.0209474172661628, 1.0220640052564705, 1.0350477388721175, 1.039753630917288, 0.979816979984568, 1.0266914834959007, 1.0251750326334303, 1.0174875368171763, 1.0158643151217523, 1.0310257390327322, 0.9925477647987327, 1.0341036908396999, 1.0119198200139992, 0.9941637220778885, 1.0435977887906955, 1.001464787259218, 1.0158574766654929, 1.0254284191468142, 1.015668098350675, 1.006323029112815, 1.0136557495667464, 1.0198727985179266, 1.0445550927814051, 1.0149505798513494, 0.9852446347379853, 1.0294255383648163, 1.0198908754398388, 1.045746160568598, 1.0054204390189376, 0.9828142720927773, 1.0319564611574015, 1.0101749897624475, 0.9951029105784235, 1.015120718573527, 1.0234530484093167, 1.0177421005129, 1.025916303745572, 1.018061781628188, 0.9935157460816686, 1.014916923117849, 1.02673712886359, 1.056667893974328, 1.0705913670166605, 0.9919703986491862, 1.0204224311991408, 1.019776867583616], [0.9997714641111901, 1.003371468549323, 0.9907228774818861, 0.9806955113400891, 0.9799142729272747, 0.9736357818129808, 0.9867595493624786, 0.9925511446597389, 0.9240564073763531, 0.9923775675068822, 1.009433345615921, 1.0127267751356863, 1.0293369592611898, 1.0214977986508955, 1.0146319030992856, 0.9978741099576095, 1.0028660008245678, 1.0085172936917708, 1.0065925112720597, 1.015956668680739, 1.0028499854797086, 1.0017638136969178, 0.9129609301535447, 0.9933796958074002, 1.0089902773211297, 1.020740726292472, 1.0474124214190355, 0.9393935501747771, 0.9577067587572686, 1.0095141207752207, 0.9723087346233694, 1.0237611286132473, 0.9917150706203003, 1.000469728775759, 1.0335174924060528, 1.015196183246913, 0.963045261624696, 1.0034972396501929, 0.9385024386859653, 1.005665785290687, 0.9841929963666518, 0.9816505799520926, 1.027873087620989, 0.9940490966610812, 0.9853397573577354, 1.0100035284924183, 1.0010569912365774, 0.9915115183218633, 0.9807162724021634, 1.0444404516957484], [1.021638710423207, 0.9864637640266197, 0.9905674979068507, 0.9760756790411186, 1.0059553950906712, 0.9763632291331731, 1.0051026465094488, 1.043799749567635, 1.0264098817164025, 0.9632158539219016, 1.0214538742379407, 0.9777988868954057, 1.004139254251376, 1.0074850430138738, 0.98166740812831, 0.9670055966123722, 1.0087648288849307, 0.9869254779698307, 1.0112547756426282, 1.0134505232298772, 0.9964877552341086, 0.9527752492196707, 1.0067993599068468, 0.9796844379903761, 1.0269726319128996, 1.0079917963345535, 1.0262085423531682, 0.9882818484262641, 1.004762222474641, 1.0004138333725292, 1.002183362307507, 1.0069720720466993, 1.0392886685341414, 1.0259331378885166, 1.0026749555250598, 1.0025863754321784, 1.0121117127093289, 0.9785555341580097, 0.9806017870068341, 0.992975652445965, 1.0019497488967835, 1.032659678283082, 1.0143248518465708, 1.0048792769815162, 1.0243671241846275, 1.0035342987230353, 0.9771683084329047, 0.9607389134073012, 1.0326730217664624, 1.0094328774438521], [1.0282310985025422, 1.0036032648428557, 0.991085186054409, 0.9896454410379775, 1.0137322368726527, 0.9664941107789767, 0.9945733193170249, 0.9909834637838418, 0.9930165310887815, 0.9767585022150209, 0.999156750312509, 0.9993140919617697, 0.9986883097533811, 1.0224897572746603, 1.0128423099645718, 0.9702370581085118, 1.0102858233251213, 0.9929830139166652, 1.0438937021374872, 0.9805873699507819, 0.9662068048774827, 0.9715682197128783, 1.0002702942975088, 1.012160551550855, 0.9882570063941758, 0.989654935614316, 1.0639726443660569, 0.975448241777954, 0.9612546512880632, 0.9718248963406321, 0.9648487778768766, 1.0215309400998185, 0.9961954388973056, 1.0008894564794022, 1.0201059128757537, 0.9770744082216778, 0.9995775929740373, 0.9771728061527053, 1.0122645211930927, 0.9551986143244563, 0.9858621542183009, 1.0053681723727548, 1.0606898106720613, 0.9704122651753607, 1.018094331733024, 0.9856915917033039, 1.0008616736936753, 0.998341601822903, 1.0839825506394698, 0.970221894651505], [0.997430133077685, 0.9651840070396736, 0.9955113001727018, 0.9939311321681816, 1.0095072582016704, 1.0001638357138773, 0.9905745979174385, 1.027494237298493, 0.9805597386426487, 0.9708013233343961, 1.017471053843045, 0.9486759983600044, 1.0573394897247304, 1.0417567633099742, 0.9952982130219461, 0.9793411763506457, 1.0305965281300216, 0.9647552038917264, 1.0278957455786055, 0.9690513767504263, 1.0150374316189201, 0.9835214127498283, 1.0137338201419308, 1.0279695323801772, 0.9860452850184563, 0.9909300423951682, 1.0016480578861626, 1.019532150932397, 0.978307869194282, 0.9599006971848093, 0.9756857835016817, 0.9910675487279986, 0.9784371386299759, 0.9906195184594666, 1.023589046202167, 0.9628693906595561, 0.9642806905849965, 0.9767059502202529, 0.9524575292091685, 0.9533803419931077, 1.0049682051201057, 1.026253609415996, 1.0043515635989237, 1.0103313565520473, 1.0110213333573548, 1.0059930304733657, 1.0349904455668282, 1.0147691014329538, 1.0957944821396326, 0.9817892962197428], [0.9958937828326465, 1.0373055433252, 0.9735081798861228, 0.9600006497500883, 1.0319302648400346, 0.9550322603007241, 1.034856533132521, 1.0262091992185747, 1.0603675195160094, 0.9841719380886857, 1.0010489851377904, 0.9404697814941739, 1.0160017019714622, 1.010143920168732, 1.0313437841981818, 0.9809138503097704, 0.9953074015916644, 1.0335441105686467, 1.0176069967782264, 0.9951784165977513, 1.003759897647495, 0.9871789946330455, 1.0535140509514582, 0.9881220192765044, 1.0165900633022211, 1.0110041784584456, 1.0648320785503484, 1.0484168234574944, 0.9706810886930226, 0.9462572800902695, 0.9532949730133481, 0.9879881667165024, 0.9733237669362241, 1.0374151751456187, 0.9877384296640939, 0.9807352123773413, 1.0175318959348587, 0.9598339571600912, 1.0318351947214226, 0.9794577042722217, 1.0540153020104, 0.9702392980029266, 0.9839471103459119, 0.9869096907936147, 0.9806306722673755, 1.0142665039749907, 1.0456098759096115, 1.0499724537439858, 1.0438204149487198, 1.0621003466519947], [0.9540601937090899, 0.9850135305662492, 0.9795651319036125, 0.9920025340642851, 0.9928644231409077, 0.978427617821498, 0.9759230085187603, 0.9837131942840043, 1.0176793342698178, 0.9634584306576777, 0.98350831654157, 0.9447365809977121, 1.0140655156278457, 0.9619480106146903, 0.9904109417344807, 0.9689825166140151, 0.9560669505501056, 0.9765210810242421, 1.0000893918772964, 0.9645290200453797, 1.0169374579759534, 0.9761437296377613, 1.00064986791561, 0.9857681181815443, 0.9679309479592305, 1.0049394843611346, 1.0727092361469286, 0.9963141794503357, 0.9447685720582842, 0.9481321366443172, 0.9503854900993037, 0.9820573011541462, 0.9990310173814693, 1.0335498726068575, 0.9895082590955555, 0.9712156217585423, 0.9969928106150395, 0.9774723520993873, 0.9923155694392863, 0.9419847805112965, 0.975014533525262, 0.9707759685428319, 0.9772429067853956, 0.991202177947528, 0.9936272911722134, 1.0305806560727988, 0.940864469540225, 1.0314370235131036, 1.0022365487362344, 1.0007870373903172], [1.0102157112011068, 0.9869223002592705, 0.9677635246307974, 0.9428433203666075, 1.000971358062855, 0.9655673400161401, 0.9708739202170084, 0.9681515992032088, 1.021711795139981, 0.9617550424805921, 1.0090936826477659, 0.9221833275574022, 0.9916506482921027, 0.99556848298862, 0.9408730442787204, 0.9778588382605984, 1.008332421670151, 0.9585168172573347, 1.0108934346641842, 0.9773938708186362, 1.0027217196358282, 0.9640936157385943, 0.9981159011753411, 0.9958917067097333, 0.972466926209682, 0.9970762319766289, 1.0092298793719479, 1.0046124119422117, 0.9551361058148027, 0.9359042820015948, 0.9520973465261974, 0.9762775795664559, 0.9968318253094589, 0.9915002552278739, 0.9993027064337842, 1.0086937583293694, 0.9965437364647873, 0.9666392070761571, 0.9613906600535395, 0.9320881076980374, 0.9555938305464738, 1.0091351910821056, 0.973136007154635, 0.9809256494215822, 0.982402403743939, 0.9675928786839902, 0.9901986539504348, 0.995965563998689, 1.0025384082371347, 1.0083470897965199], [0.982070931465854, 0.9556928456544684, 0.9837261560583656, 0.9537589805435817, 0.9966217530754206, 0.9773569113043679, 0.9769961236149862, 0.9914282040948564, 1.0431118970254385, 0.9218151105108933, 0.9890574126276692, 0.9334096585003929, 0.9802384024775426, 0.9890905117082966, 0.9365065079661992, 0.9720704500112101, 0.9942881031872598, 0.934430061732106, 0.9600025705763884, 0.9606164336842958, 0.9683946499795357, 0.9626660697454361, 0.9774156312141327, 1.017847719309696, 0.9829122096741252, 0.9550036609331145, 1.0462242882303732, 1.0118813937663729, 0.9176851962375121, 0.9283064608846553, 0.9600111385581349, 0.9353919053526957, 1.0054360719886761, 0.9589209820904864, 0.969129197133914, 0.9692180945861825, 0.9973517486011807, 0.96969145482773, 0.9808559698438696, 0.9310637207730426, 0.9579871560269144, 1.0001333899232085, 0.98460768799295, 0.9647787664314648, 0.9995628471636683, 1.0124587679994774, 0.9555596775184373, 1.0125537922288124, 1.0431215963846263, 1.001168021337513], [0.9412885753012201, 0.9608848803237835, 0.948213875912254, 0.9594649205421869, 0.9734886941269106, 0.9623595598645037, 0.9776125621002112, 0.947972084404915, 1.017534525236976, 0.9582597805359347, 1.0022231865240423, 0.9370594201149027, 0.9857553581168248, 0.9573273395497636, 0.9642986979464708, 0.9758992279762937, 0.9312736018225336, 0.9384127589631108, 0.9709326969474198, 0.9774691325022657, 0.9931448683337866, 0.9687411933423072, 0.9690345793512036, 1.0042901686459196, 0.9617710906493264, 0.9409407273105946, 1.0000155906425188, 1.041338863419094, 0.9307862220886716, 0.9215859961242381, 0.9231247683323688, 0.9513533471876655, 0.9615284934121057, 0.9772002198262835, 1.0030149134268793, 0.9027485045065399, 0.9431968563867597, 0.9632276154521778, 0.9564621719311212, 0.9125600192902232, 0.9925911032897929, 0.9750121885898654, 0.9559664818552166, 0.9635986414678698, 0.976729627345796, 0.958862501195406, 0.9401146140593314, 0.9911835642665056, 1.032957113381804, 0.9521923378548437], [0.9297969987419197, 0.9373103578281287, 0.9625289245639174, 0.9920483144249802, 0.934196467899068, 0.9694943123935912, 0.9664741331848865, 0.9232840553465502, 0.97221055738483, 0.9412207293133971, 0.9923887131696222, 0.9251673939257342, 0.9963975434846728, 1.0071702808564797, 0.9559869471341711, 0.9813478761771414, 0.970547752446522, 0.9351605043813521, 0.953207337310239, 0.9878613044665295, 0.9824814583194025, 0.98637059040343, 0.980796298476327, 0.9963792815656184, 0.9477857526244924, 0.9257423825662581, 1.0131459065523298, 1.0061084868504708, 0.9332583109400139, 0.9550795653894433, 0.9184129493385532, 0.9303604111495948, 0.9692982157048149, 1.0435489315669688, 0.9768689087596191, 0.9641618498481997, 0.9563674043986212, 0.9857532751138252, 0.9795615816227725, 0.9251078355435878, 0.9631452593160922, 0.962110635974357, 0.9997483372023284, 0.9863226687170621, 0.9779393370114584, 0.9522950613366327, 0.9727019526854092, 0.9824585602795074, 1.035795575180011, 0.9044484808453036], [0.9702902971878202, 0.9450437719983483, 0.9677138611242592, 0.9829109356454507, 0.9432022900294491, 0.9818845795389994, 0.9387839237486473, 0.951188740713051, 1.0308403997014464, 0.9597330647033963, 0.9634976782138434, 0.890667953215908, 0.963184735423176, 0.9436647126945659, 0.9550650637358473, 0.9346590620892093, 0.9971998682815447, 0.9694324260927911, 0.9322457148624039, 0.984689264275604, 1.0029040625381844, 0.969582220522113, 0.9420407493773161, 0.9745210718554583, 0.9181560972087938, 0.9264467074572686, 0.9503205702626233, 1.0090590282790666, 0.9532453056999219, 0.9569069728150735, 0.9366309784743804, 0.9597765824417218, 0.9862136017274613, 0.9570081837573909, 0.9194133235335422, 0.9697586831635878, 0.9229576327893819, 0.9690737573414, 0.9527860425251955, 0.9515383657216507, 0.9117840085244803, 0.9424963325780802, 0.9721543922052432, 0.9937521629686803, 0.9550935789170543, 0.9817388092697502, 0.926128610903038, 1.0181005561797793, 0.9647530326716616, 0.9537482192815897], [0.9644638721774746, 0.9428677121513316, 0.963172004148082, 0.9410547283950874, 0.953959364890175, 0.9849987146419118, 0.969032935458964, 0.9660532259825815, 0.9938000371997268, 0.9462380621589709, 0.981490820025842, 0.894135029747754, 1.011136172222707, 0.9147295208868064, 0.935422283807677, 0.9510983288021129, 0.9755900601337962, 0.9343438509742216, 0.9659928675051499, 0.9570891421405311, 0.9389222893059972, 0.9675243276252372, 0.9552385080802411, 0.9716553132963897, 0.9311921092587092, 0.9302201538553354, 1.001576512611192, 0.9691600552713465, 0.9483702329298731, 0.9402531763558204, 0.9388414513856033, 0.9652070433111891, 0.9512449415133891, 1.0161858836843725, 0.9448478107325128, 0.9095547287823217, 0.9257818402152685, 0.9337735362709608, 0.8985194338657496, 0.8959120950456518, 0.9592252742982336, 0.9733044932238396, 0.9422084713976501, 0.9719734439146084, 0.9666443769739526, 0.9817975346438333, 0.9275967836192088, 0.9963433980191839, 0.9590520726495368, 0.9655888399170365], [0.9492622055354407, 0.9435883030118707, 0.9462796198004277, 0.9601015326176323, 0.9706419292836882, 0.9704728991142187, 0.9555857713267831, 0.9803392434081997, 1.010298498976095, 0.9472755507706269, 0.9710583932392925, 0.9006416688962597, 0.9441964852275299, 0.9467191275886483, 0.9083857780142476, 0.9544273720173166, 0.9419288435152592, 0.9534535614882276, 0.9962573755473327, 0.9830129149382599, 0.9687683689355029, 0.9839129336645583, 0.9561225455908275, 0.9782857975263773, 0.9472843923684378, 0.8825911493469024, 1.0134242707931949, 0.9795101761181013, 0.9187151141470024, 0.873132049490896, 0.9241443175804189, 0.9569338117701588, 0.9464984245487781, 0.953270702111445, 0.9314526264554809, 0.9544475040006902, 0.8892792016632016, 0.9425888886500943, 0.9100994106162599, 0.9183423688189676, 0.9331768205976512, 0.9246338296183881, 0.9690887981448406, 0.9321480256807901, 0.9548222281968406, 0.9492026079223777, 0.9267128482934672, 0.9685868485767096, 0.9673028898164606, 0.922537526954727], [0.9652476647940448, 0.9326942745219735, 0.977357655741522, 0.923737570866446, 0.9440413792113964, 0.96019544320234, 0.9638836055937176, 0.9367377927848078, 0.9874967066960207, 0.9424095615033845, 0.9627765954694631, 0.891470762036096, 0.9748229938616337, 0.9605304123729874, 0.8997686162683314, 0.9492023732557155, 0.9360792730659722, 0.9142172196631647, 0.9649619843088029, 0.9614492021321552, 0.9765263461045179, 0.948797798375165, 0.9108193828466867, 0.9894938803241559, 0.9645804624501355, 0.8516009758144761, 0.922667414526234, 0.933214802859468, 0.931928272405513, 0.9038747596925891, 0.912392362368996, 0.9467976561872412, 0.9679975506363887, 1.018076636774532, 0.9256049870440002, 0.8982815082743524, 0.8575756280989117, 0.9428461727068023, 0.8867864573163483, 0.8901275574491981, 0.910568518035765, 0.9916463002845357, 0.9580226631208341, 0.9327489649522784, 0.9645668283752139, 0.9563559964069408, 0.9222040059537039, 0.9699413990767958, 0.9725197445493781, 0.9686570818836485]], \"zmax\": 1.5, \"zmin\": 0.5}, {\"type\": \"heatmap\", \"x\": [\"AAAAA\", \"AAACG\", \"AATCG\", \"AACCG\", \"AACGA\", \"AAGCG\", \"ATACG\", \"ATTTC\", \"ATTCG\", \"ATTGA\", \"ATCCG\", \"ATCGA\", \"ATCGT\", \"ATGCG\", \"ACACG\", \"ACTCG\", \"ACCGA\", \"ACGAA\", \"AGTCG\", \"AGGCG\", \"TAACG\", \"TATTC\", \"TATCG\", \"TACCG\", \"TAGCG\", \"TTACG\", \"TTTCG\", \"TTCAA\", \"TTCCG\", \"TTCGA\", \"TTCGG\", \"TTGCG\", \"TCACG\", \"TCTCG\", \"TCCGG\", \"TCGCA\", \"TGACG\", \"TGTCG\", \"TGCCG\", \"TGCGC\", \"TGGCG\", \"CAACG\", \"CATCG\", \"CACCG\", \"CAGCG\", \"CTTCG\", \"GTCAC\"], \"xaxis\": \"x2\", \"y\": [0, 20, 40, 60, 80, 100, 120, 140, 160, 180, 200, 220, 240, 260, 280, 300, 320, 340, 360, 380, 400, 420, 440, 460, 480], \"yaxis\": \"y2\", \"z\": [[0.8684321885076746, 1.5333383432026346, 1.9384336969419764, 1.899606068647853, 1.744351036749271, 1.8064713076574088, 2.01329349677906, 1.0340333026390633, 1.7913554873073931, 1.081437507322997, 1.8412265605392422, 2.129540095426571, 2.0622045858998677, 1.8167068201049539, 2.1028994823029183, 1.8699680920886426, 1.706638221214361, 1.7904718762285843, 1.7495780318053051, 1.4340567863440041, 1.5689221234797954, 1.1393786913204, 1.9351069719219038, 1.6754698722022874, 1.4321870612348957, 2.0854502516485596, 1.6335765872395795, 1.1061845635966647, 1.6132252757212604, 2.002893801992376, 1.589597342479148, 1.734821669359337, 1.7012673209370357, 1.8447212146265652, 1.6623042023404542, 1.6971410898883579, 1.7209570879948288, 1.771480514828183, 1.5684053907513535, 1.4765700244633653, 1.3836273250196855, 2.058961325355617, 2.1526500774998025, 1.8494664144126323, 1.7385744224103301, 2.141680713395502, 1.1502112892334195], [0.9001846863436767, 0.70263171709044, 0.6580607694686653, 0.6394451680307582, 0.7064700001734847, 0.6124128355335999, 0.7785298552993215, 1.08498544197778, 0.6445256084588886, 1.1090267357666879, 0.600251374945747, 0.6524398130711252, 0.7124897874005434, 0.6631983879873388, 0.7285935841290172, 0.7376294378868157, 0.5434163967274114, 0.6832343043225965, 0.6513043736187559, 0.6217473761655987, 0.6590199548292504, 1.0453406968824717, 0.6791712784509816, 0.47766123251780435, 0.5956102111867593, 0.7760778760430992, 0.6699055704652335, 1.1265983920552134, 0.5380048483244554, 0.6732232929980987, 0.5633001444069775, 0.6347411060670332, 0.7345354974991016, 0.6929780075007708, 0.5971822923415834, 0.6689568113971616, 0.5880932147273157, 0.6898320449798407, 0.5676107583212644, 0.577195369124491, 0.6572699540808975, 0.683981250319034, 0.6777263363698844, 0.5975500574681276, 0.5691289284680947, 0.6543178344741396, 1.0283334900333523], [1.029529470111094, 0.7167803363284765, 0.7070800131556955, 0.5579969135981505, 0.7312798743507003, 0.7257840684793778, 0.7216520312819249, 1.076518384273828, 0.7087072878066576, 1.1206244458967052, 0.7372355519562788, 0.711975537482627, 0.6734602470830832, 0.65425742649942, 0.6773428296091129, 0.7902325609293684, 0.570088559850997, 0.6937995002939894, 0.6984577917470841, 0.7068099325281197, 0.7462426065174861, 1.0457780090501843, 0.710854521825469, 0.5851855885698233, 0.7410043408653373, 0.6910593438332818, 0.6247421357161781, 1.1072706363354163, 0.6867297995951648, 0.635840164394897, 0.5964723126046096, 0.6601666848924665, 0.7176732856802259, 0.7394546226273845, 0.6176562173549591, 0.6499689142366706, 0.7150419116697718, 0.6797625119602836, 0.5923148893008967, 0.7561175686243314, 0.6736062475698305, 0.7101500688104485, 0.6577785226721633, 0.5901272831948635, 0.5761472598083021, 0.6514330119475648, 0.910286672178348], [1.0709919534287209, 0.7159808041389518, 0.678214978612955, 0.6362751537351613, 0.7151218025635567, 0.7488438079810468, 0.7628494663625662, 1.0534726301800117, 0.7941744561020617, 1.0882397191563327, 0.6907225336161575, 0.6816704535451911, 0.6612822115182381, 0.664487810681466, 0.6590940993517077, 0.6635696696078064, 0.6812371234397574, 0.7279537272201063, 0.6149586301581976, 0.7012461954325319, 0.7087644012365517, 1.059642401090387, 0.6662814120250681, 0.6226130649810656, 0.66674806944921, 0.7349658850533559, 0.6905179643512941, 1.079173973570197, 0.6468871521129285, 0.7280226306108498, 0.6764099251858043, 0.7361048594812402, 0.7421127759715191, 0.7378898448055035, 0.6583130742823036, 0.6872755159948263, 0.7007900832778605, 0.6821645088081684, 0.5239261547164169, 0.6728298379489821, 0.6738205430206172, 0.6604653155666625, 0.6802343251458707, 0.6542597166040434, 0.646977607873065, 0.6570931309961009, 0.896634902469366], [1.1422071434921977, 0.8036150564268243, 0.7182408079238838, 0.7692328538877156, 0.7833028669452204, 0.6790125400094184, 0.7577321693273146, 1.0617195373692627, 0.7325108519113663, 1.0777712272021296, 0.637723960766382, 0.771318337023094, 0.7297659064424434, 0.7202844723500806, 0.7164724599225103, 0.7461378923969219, 0.7234335200459854, 0.7440818226422878, 0.6735934945933123, 0.6536123603156209, 0.7866182121789694, 1.0793842195079857, 0.7985970098116416, 0.6333810662605646, 0.7750418201172566, 0.7537918616456054, 0.7529527459589023, 1.0739377384684134, 0.6936298143433548, 0.7291850520403735, 0.7191006196359209, 0.7079595906143731, 0.7150701957640074, 0.8161910516146688, 0.5934139196273707, 0.6672889137695753, 0.6275524780833196, 0.6631343051873267, 0.6844189987601318, 0.7086122353975063, 0.7280362618506607, 0.7484195350336014, 0.7404362467203401, 0.7530640899534765, 0.6617863843052475, 0.7171170727250036, 0.8180799272116298], [1.1870037490120517, 0.9452919343442061, 0.9258785742446387, 0.9019634272005064, 0.9367725689305748, 0.9445208304892074, 0.8989691416055414, 1.0536237424626047, 0.9111173291800854, 1.0611827274060706, 0.937590222571324, 0.9064523121277385, 0.880933112343499, 0.9424598824033661, 0.8479542696971686, 0.9184539306212762, 0.8239430587324326, 0.9289491875075824, 0.9818960785428879, 0.9336632854252241, 0.9789889862966549, 1.0509548383186236, 0.8304800977400697, 0.866241934046949, 0.9205638412414471, 0.9411106104862752, 0.9361090540836808, 1.0574617851767372, 0.8666569966357698, 0.929887274832157, 0.8581834721550308, 0.9651318490711205, 0.9522750488111188, 0.9089384172498856, 0.8374645839445888, 0.8982895581390634, 0.9709199842972198, 0.9216190860843494, 0.8693702241459085, 0.9639875329708125, 0.8338126437778717, 0.9304049453290707, 0.8736673647106321, 0.78917849907166, 0.8538379150303463, 0.9152101610670839, 0.8505521277659519], [1.0525910508349654, 1.0084142006652792, 0.9838825231243462, 0.8929808366121996, 0.9620657531993332, 1.0155672434835468, 0.9801987207489782, 1.0050801205164521, 0.9844635852351873, 1.0184745975378702, 0.9329179535174531, 0.8663673306409732, 0.9711088242066522, 0.963576278599857, 0.9444508914545209, 0.9707941212131925, 0.869544821565212, 1.0190898029258053, 0.8527529011530616, 0.9850405042938228, 0.9245014013763238, 0.9966750544227987, 0.9010501861729975, 0.887946090586132, 0.9030620474254661, 1.0070245715906982, 0.9730311538457215, 1.0042780995225804, 0.9077790942303458, 0.9811267692786199, 0.799220507774615, 0.9558723993298167, 0.9064503010676749, 0.8886264907833029, 0.9210691224551534, 1.0134342675768904, 0.9908967850914475, 0.854331469712321, 0.9481324411341039, 0.9542903841154474, 0.975593566591837, 0.948341630711387, 0.8820259393637281, 0.9826933481677514, 1.0722220161040403, 0.940255548414091, 0.93835273324616], [1.0263645376802795, 0.9688187054678024, 0.9012264842211761, 0.8522008037110098, 0.9018559544398861, 0.8531868542751189, 0.947480680517001, 0.9904503846766078, 0.9271234183521937, 1.026592627683907, 0.8988710704853895, 0.8289821453772847, 0.9000123789984857, 0.8910800602527701, 0.9053433567150971, 0.8778885299496935, 0.8743296090143073, 0.9052822073017545, 0.8378913304829625, 0.997303888078244, 0.8916843142759503, 1.0179946287528003, 0.8603847542474778, 0.9074735186104768, 0.979241665505524, 0.9132907759523701, 0.9043406657933004, 1.0139829296187848, 1.025348327518033, 0.8405067367996092, 0.9743827162335088, 0.9525460544335584, 0.8790609553995818, 0.7966524994424717, 0.9550378806451608, 0.8971968216078743, 0.8704705870619944, 0.8881142025332741, 0.7801942729415791, 0.8471004335275198, 0.8481077218765908, 0.9608819087844881, 0.8276732788641611, 0.8561607088502229, 0.9508255064394181, 0.8807522570263167, 0.9635460834461308], [0.996180917323645, 0.8832371701185282, 0.8202650599104747, 0.9403781739226202, 0.8485090219168461, 0.8448954947920774, 0.9009717271987269, 1.0074317590274893, 0.836770915241488, 0.9679611957921189, 1.0238734337887776, 0.8241016938038516, 0.8642015293923525, 0.851172916294446, 0.8320018118459646, 0.9062886166747295, 0.9089956003432719, 0.8731415358781345, 0.9041630645485107, 0.9368604377877707, 0.7850687994324935, 0.984734789517773, 0.8333765075189024, 0.9711716106994824, 0.9317103331363814, 0.9079197778318543, 0.8413194722102615, 0.9692946415873848, 0.8628913461821367, 0.7847910619565138, 0.8831993899894911, 0.9153761488149276, 0.8918029888794241, 0.860128669770756, 0.7996227340695331, 0.8705638383792149, 0.877167868935032, 0.8083691876528631, 0.91289885598109, 0.853709602898315, 0.7323691223826169, 0.8681062641289484, 0.8932623211925624, 0.7474009159367021, 0.8500712865678606, 0.918798445056345, 0.9053731739340826], [1.0059799512214864, 0.8583018200484194, 0.8825570930793409, 0.871444756885237, 0.8568290136229219, 0.899936129938971, 0.8314215570047563, 0.9880209549101222, 0.8586358455790024, 0.9859087015986248, 0.8646370386526793, 0.8124837546518094, 0.8530467477105919, 0.8511314582898968, 0.8449286048486683, 0.97740138605034, 0.9002966256728916, 0.8394501890892972, 0.8117970253862096, 0.9245729442067063, 0.8208788667896989, 0.9933515637274738, 0.8285124006103345, 0.8615351034219642, 0.9290819674323193, 0.8296353853468731, 0.8240263534199925, 1.0226467435819315, 0.8729097889959145, 0.8338143162655373, 0.8999910651968152, 0.8820098285716729, 0.857871779962215, 0.8494656062131491, 0.8806314249624376, 0.8430846929671845, 0.8687238751716088, 0.8596685400030957, 0.7016328661454598, 0.9061596644202774, 0.9011072057505305, 0.8540025365276767, 0.8300856639509133, 0.884122479678439, 0.8414725647635838, 0.8598542860290674, 0.9133266336702811], [1.0430242121330369, 0.8560992124099287, 0.8433809289814085, 0.8755059093266543, 0.8379561372481883, 0.7707448648472909, 0.9508139620147389, 0.9954258643112494, 0.8934834373082962, 1.0178693580207583, 0.8348066586670181, 0.871908949079657, 0.8467070344981752, 0.9112267844537612, 0.8407329420440264, 0.8519812366950151, 0.846451263402896, 0.8558084329366163, 0.872652591334249, 0.7785520253832088, 0.8763696392396209, 1.0041942853909993, 0.8745114722478009, 0.8656254275675395, 0.8821126318631578, 0.8792748223875382, 0.8707121559595203, 1.0177158031318705, 0.8808576996932288, 0.8998210979701743, 0.8988291840731814, 0.8915339575949522, 0.9067801956050128, 0.9144304205439409, 0.9137897135897963, 0.8332575063026342, 0.8773302535640735, 0.840734702512822, 0.9111016792001235, 0.9788140508020141, 0.8750764895317085, 0.8225409726372604, 0.8559414177685408, 1.0166640568805803, 0.9576197619079395, 0.8935352394211271, 0.9627608192738596], [1.0050444718675082, 1.0003620948843133, 0.9377493634990133, 0.9244974448302313, 0.9985718700835807, 0.9242288625082715, 0.9376368770958422, 0.9777770228150088, 0.9413246767179295, 0.9960252409472858, 0.9787378158430704, 0.9024084058945592, 1.0018774064503473, 0.9800377529731479, 0.900151488662519, 0.8981627852336515, 0.9593851794482006, 0.9645191733496195, 1.0542330415099943, 1.0556617389988643, 1.0252064384742274, 0.9575119918872402, 0.9801974341393923, 1.0895630456845449, 0.8614020452280166, 0.9380264042269748, 0.965774925173981, 0.9734201611172021, 0.9729457636323999, 0.9515687630582069, 0.9384893845739217, 1.0156738242892982, 0.9287443861069089, 0.993276034994966, 1.079683523798549, 1.063423744367483, 1.0400795251425121, 0.981276866958811, 1.0466420807071066, 0.8969628534323235, 1.0307971066518744, 1.0050641056277467, 0.9650722302338506, 0.8786516857618243, 1.0114124284937613, 0.9347207724634511, 0.9817236960706297], [0.9697487035801413, 1.0142858854617522, 0.9464193515291482, 0.940795593786505, 1.0379186778713596, 0.9763441911197432, 0.9767518574113888, 0.9755906282034414, 0.9689712170214427, 0.9598810814705517, 1.0295886094407611, 0.9115079024436756, 1.020828101324919, 0.8946957605682822, 0.9634712023889087, 0.9895222754074164, 1.0435316032983364, 0.9510707577050109, 1.0099994102375183, 1.0116851289381203, 0.9604239462148835, 0.9924068586027885, 0.9733076866367393, 1.0399268928050642, 1.009753336428507, 1.0234925254108733, 0.9646153112594815, 0.9670388224323336, 1.0210447342977325, 1.0032590742156529, 0.9701448269218228, 0.9965082508701091, 1.035229651160317, 0.9480950297622315, 0.9954908807197667, 0.9720481944887441, 1.008401170054542, 0.9737214320637059, 1.165836304125817, 1.000078433461667, 1.072937651140352, 1.0374618834524512, 0.9401290578520576, 1.0594273345936591, 1.0860337193174803, 0.9743289812201743, 0.9863583010889825], [0.9498350162060889, 1.0816142895024932, 1.0197707609152984, 1.0019612838660672, 1.0455825137836505, 0.960318073150455, 1.0434422601265974, 1.0029279275742167, 0.9920035803089812, 0.9836319423409126, 0.9780992868581454, 0.9650109903420531, 1.0024578420824861, 1.0326659679280705, 0.9655975998991634, 0.9537403972458154, 1.0695308245381996, 1.0330523674566536, 1.1401043981035066, 0.9228284045508944, 1.0076722458126361, 0.9662455309754658, 0.9798611608946676, 1.0982371661216501, 1.1080482181413105, 0.9978285411197915, 1.0270053254441447, 0.9756339178988017, 1.0162131068842735, 0.957143951429814, 1.036010917369182, 1.0152192176719692, 1.0888209087954532, 1.0560231530527775, 1.0714060189560644, 1.0637911311324983, 1.0013911738077341, 1.085135023936255, 1.076142949459707, 0.9294346591908842, 0.9225557729549149, 1.001621927295528, 1.0115989168290427, 1.0914297310200614, 0.9067700392877077, 0.982748459575045, 1.0368432163880235], [0.956711817382854, 1.0260102730980238, 1.0458162994223261, 1.0257449205638434, 1.018607795178307, 0.9703426453082602, 0.9649616465889368, 0.9761398145844833, 0.9778990058469974, 0.962075088911163, 1.116405181045757, 1.0598130442991087, 1.0225984395782095, 1.0470255014355467, 1.0152812259170736, 1.0619236778040075, 1.0227618269613692, 0.9972990405507925, 0.9497199936685982, 1.0531429025526762, 1.0062200197890498, 0.9720065070413603, 1.0216712940708434, 1.045650954834987, 1.1471992278253527, 1.0081441712313282, 0.9838632238740416, 0.9954043644434484, 1.1078913879062273, 0.9722549762386511, 1.0464175818024177, 1.0332936106854795, 1.008409977862068, 1.0522155947455356, 1.0337303338959547, 1.0336633161331414, 1.0497252657777747, 1.0393622220100553, 1.0785699828644206, 1.0217637713620784, 1.0911572316899152, 1.0447473529535145, 1.0724428630237257, 1.1062673596121597, 0.9330517964559157, 0.9967902797332064, 1.0482939411669676], [0.9644633358861296, 1.0628007310912906, 1.0475527248773466, 1.097724702924347, 1.0465688891188825, 1.1357606505460554, 0.9540510679240404, 0.9860240045294875, 1.0139388616033156, 0.9674452963034358, 1.1384800109297213, 1.0173277046477678, 1.0686861420499858, 1.0600412141271003, 1.023453336222763, 1.0209218901536024, 1.1551464094616357, 1.053286540430625, 1.0099918760770912, 1.004565522769505, 1.0201554812742633, 0.9728725147498838, 0.9969519381557947, 1.1090315053661923, 1.0709111096735044, 1.0625109512553712, 1.091110625228405, 0.9747884535707977, 0.998527627074891, 0.9643546917583301, 1.1444938253290313, 1.107139950640112, 1.080337720514462, 1.040818273673692, 1.191050587500361, 1.1154746039769243, 1.037258630331698, 1.0291835719857725, 1.0680299058743397, 1.0832685791516512, 1.089443845858256, 0.9847362569891199, 1.067285234119036, 1.1139146956013202, 0.9610417219941109, 0.9788303100254743, 0.972506621495022], [0.9667794665014151, 1.0055137769716906, 1.0529793907884806, 1.0702317870179983, 0.9886223825294789, 1.099736502927354, 1.0142648697252221, 0.9738030623703013, 0.9914526887090446, 0.9690669516262771, 1.0214339920056559, 1.0298505512536604, 1.0075014765080528, 1.167427068053447, 1.11729445983055, 1.0959805692988525, 1.088140894838491, 1.0009826313757606, 1.0768963294721783, 1.1418690729858776, 1.1253877439940814, 0.9663187232002812, 0.9911454751170464, 1.0181943090336674, 1.020729746342144, 0.9759385669688897, 1.0985642073644653, 0.9658809548382521, 1.1347600058031617, 1.056491002212032, 1.2164056853608445, 1.0294040310945032, 1.0789129217507782, 1.0053314588818305, 1.0643878819564945, 1.0884869175851455, 1.0332997429524013, 0.9998113172347648, 1.1540131297951215, 1.1292596220480837, 1.174598825225345, 0.9996521255703639, 1.1103555109909875, 1.1374077473137294, 1.2658504059629043, 1.0719832876377502, 1.0613811880793333], [0.9752940994560819, 1.0290172594853397, 1.0386214586472904, 1.1694436659589476, 1.0335062852486212, 1.095678908124416, 1.063585763885202, 0.9668473885112515, 1.0944601424188216, 0.9462822518575894, 1.2503880782474965, 1.0975146930521116, 1.0055667188038784, 1.0585787458043179, 1.0775307141708663, 1.030629354973051, 1.0442652671161867, 1.0749788860456921, 1.04223254011894, 1.1494728434490635, 1.0599997631998077, 0.9998814613675603, 1.001959349822694, 1.1845805954508006, 1.0945012859766112, 1.064501986580334, 1.0813444462500885, 0.9587897066003386, 1.0605224579483101, 1.0662866996177514, 1.1140890123396225, 1.0211394391064883, 1.0993395681977258, 1.0496142464858806, 1.19071553499393, 1.1010732178790388, 1.02761015491363, 1.223328184042325, 1.0942779669010871, 1.1701702244694578, 1.1694503237149796, 1.1228667582050325, 1.0426925990655913, 1.0635792054699558, 1.162204705985153, 1.0303326804691006, 1.0704890589264182], [0.9606195998360232, 1.1048855939181463, 1.0992806275508076, 1.152506547325461, 1.1244322435363208, 1.129151223174023, 1.0221106651753071, 0.9792821647089726, 1.119087200211777, 0.9724552735776859, 1.015030887541262, 1.1064609506377696, 1.1182246856653622, 1.1259029183915403, 1.153278008074351, 1.034420458575423, 1.1882198604685326, 1.1196202701914493, 1.0584602750605892, 1.1137968375618723, 1.0939362669659292, 0.9551145384355001, 1.1383285679667743, 1.249953887131285, 1.0721818397261755, 1.053466148793782, 1.143180606578945, 0.9419174376294559, 1.0882756291999063, 1.1416773163616687, 1.0919006092006853, 1.1201004821512026, 1.094537515995646, 1.1056290054124567, 1.1754024422313483, 1.1211291566631398, 1.186060276859347, 1.144098437659377, 1.2086874007693793, 1.2773263342346117, 1.2423551561731656, 1.0515660405365923, 1.0945666439483441, 1.1599866320238643, 1.2885284905716128, 1.1157831375685707, 1.175594154982886], [0.9731149118688935, 1.1521293303361577, 1.1193152055563955, 1.257771007390543, 1.1303347038561822, 1.1226165802752395, 1.0961118514915806, 0.9761014894792142, 1.1245603602697016, 0.9755907005771157, 1.121659476040217, 1.105609653900823, 1.0998605477201133, 1.125710108945539, 1.0321822150172326, 1.0956419962349488, 1.190729520701588, 1.135468027845825, 1.2934214635098693, 1.1966922943719396, 1.0930144295902895, 0.9970279122240528, 1.0880784059508042, 1.117142790791229, 1.1539279652686782, 1.0492762040638597, 1.1743089349294435, 0.9592785613638479, 1.1773260602567885, 1.167466804931219, 1.1697995828223247, 1.0497848589506802, 1.1455925655140873, 1.1647503797078975, 1.3061353533617066, 1.0304517722440814, 1.1773786920283884, 1.1658504049727016, 1.1933947190635512, 1.0091957140961318, 1.169727760941282, 1.0679408070948297, 1.0877024241838427, 1.2421785498110653, 1.121589913991948, 1.170322414331073, 1.1431950037407441], [0.9932594562369695, 1.0513387945374641, 1.1086107451004492, 1.0677685384087958, 1.0812875647761826, 1.0511867331905353, 1.0488933958761841, 0.9742099858371599, 1.13410212376027, 0.9165622267599255, 1.241661364545273, 1.1659240194327178, 1.0913282205801333, 1.0475080595761548, 1.0252035258204077, 1.0498700891929813, 1.0819347246019533, 1.1116517946705367, 0.9566116732888676, 1.2521410491328475, 1.0825818471182238, 0.9836742019176704, 1.1580179932629928, 1.115630038683038, 1.0850479809777975, 1.04019523817511, 1.0870005115880592, 0.934966959274121, 1.1965012731657831, 1.0968554708288076, 1.2679602600916362, 1.0716525696038348, 1.0338063044094414, 1.059113426715315, 1.1801342849321133, 1.0892958729600668, 1.0391213764217802, 1.1254219152663145, 1.2083005304419994, 1.1946718598624537, 1.1905840045772493, 0.9914617701072459, 1.082095333153582, 0.9988046645468567, 1.0952101116642878, 1.0800684455428895, 1.0631530528412907], [1.0041990076952116, 1.0887700060304137, 1.0906515238086236, 1.1998597216878237, 1.1133188077383525, 1.094535585847011, 0.9820478454355424, 0.9657534735103485, 1.0694366283172658, 0.9705358911115165, 0.9821098802477513, 1.088449019499928, 1.0512017936853055, 1.1020015357447002, 1.0835250079356513, 1.1237163245322686, 1.2357407454840599, 1.0854694458386758, 1.164564650694255, 1.1130259521278738, 1.144598623111782, 0.9715217763451046, 1.1693717591379895, 1.0837066867132552, 1.1446694250992817, 0.9696258406552637, 1.1138938517021357, 0.9651094980702832, 1.1791858719947415, 1.0221957602684086, 1.2279478751194526, 1.1134619926472709, 1.0402249228234552, 1.142915339547034, 1.2139452078177746, 1.165300446321803, 1.0831564921380616, 1.1427934206669617, 1.320006854648341, 1.081016297437404, 1.2376573759882614, 1.0896259705409845, 1.019009632307705, 1.1825343500407959, 1.213506045410531, 1.0813502127781938, 1.0786281057865437], [1.001730846212146, 1.1011223119302633, 1.1376178136362771, 0.9795437458367577, 1.1302226136996252, 1.1973776837988974, 1.0692310288625315, 0.9772919633876392, 1.1015631474869818, 0.9587892228606366, 1.084476953135066, 1.1416875923911762, 1.1250344892232822, 1.1229131502792313, 1.1124128038273196, 1.1653177651230857, 1.166256477370535, 1.086663063705851, 1.2397313876564107, 1.2078710089643399, 1.2621706588660886, 0.9916148206225475, 1.1838173264149212, 1.1831354659127213, 1.1904063987613627, 1.006021210822141, 1.138637252054506, 0.9669144070874797, 1.294806620494762, 1.1161947936770191, 1.130670539508333, 1.0785762607073839, 1.1810989796789617, 1.104570445318377, 1.1342346464771023, 1.1909622275372034, 1.1749017308678595, 1.0895960830594764, 1.2146440631641002, 1.145384599985234, 1.1588128780284281, 1.1760995843895934, 1.130307189859246, 1.0702297260136413, 1.1978823980161066, 0.9974184608103455, 1.0805821794080632], [0.9791915111525633, 1.1839747307686666, 1.1765774235557858, 1.1907337063763892, 1.171971143682292, 1.120365698755073, 1.1197473965215765, 0.9918856827815553, 1.237170011174552, 0.9759034125184888, 0.9647557483968707, 1.2378052064990077, 1.141246565260808, 1.0697800923537575, 1.1845344547601524, 1.1889773992582635, 1.2701603633418603, 1.1786755486478204, 1.2401281368461838, 1.2136293627104793, 1.1963900028215972, 0.9618879742941321, 1.1996993107328926, 1.24527709817, 1.286655844091934, 1.117212824427444, 1.2076934428534176, 0.9736095810393873, 1.2153071880838158, 1.246463277186013, 1.2020955472193342, 1.124234628880289, 1.0531227155175282, 1.1095138455509233, 1.1457415991254982, 1.108190374825982, 1.1959253277954212, 1.2815960598352858, 1.3456108146846197, 1.2972174137539438, 1.247059240644217, 1.106541606462943, 1.1985878384704851, 1.3796643901708139, 1.2028403644940906, 1.2070714673466232, 1.0221485810575166], [0.9834055472045512, 1.1041658894531936, 1.1561202352877291, 1.2544494162652957, 1.082281162228676, 1.3052073851029142, 1.1113118433976692, 0.9687171102169461, 1.1728441228454405, 0.9779146370119389, 1.1853963023438692, 1.1772829472014232, 1.1197572304277343, 1.246167856801112, 1.3365278486471655, 1.0280898563533594, 1.2854440772404212, 1.153440569885222, 1.2549360620804149, 1.253405465572238, 1.1498421293641836, 0.9591787286959506, 1.209866965962232, 1.1940110630563407, 1.0842952377857265, 1.0977580394139708, 1.2074201711947088, 0.9442618223961543, 1.1438084987823736, 1.241655716684111, 1.2283771789448676, 1.237118561067933, 1.2078290174584918, 1.2262683067242173, 1.2028968915366063, 1.2075719445003006, 1.271365990628617, 1.2219287878314196, 1.2849078074238582, 1.259696023625369, 1.3293441637606402, 1.115215129048926, 1.1554947840439358, 1.1244121014702597, 1.125869337286043, 1.184778845452489, 1.0324774918781945]], \"zmax\": 1.5, \"zmin\": 0.5}],\n",
       "                        {\"template\": {\"data\": {\"bar\": [{\"error_x\": {\"color\": \"#2a3f5f\"}, \"error_y\": {\"color\": \"#2a3f5f\"}, \"marker\": {\"line\": {\"color\": \"#E5ECF6\", \"width\": 0.5}}, \"type\": \"bar\"}], \"barpolar\": [{\"marker\": {\"line\": {\"color\": \"#E5ECF6\", \"width\": 0.5}}, \"type\": \"barpolar\"}], \"carpet\": [{\"aaxis\": {\"endlinecolor\": \"#2a3f5f\", \"gridcolor\": \"white\", \"linecolor\": \"white\", \"minorgridcolor\": \"white\", \"startlinecolor\": \"#2a3f5f\"}, \"baxis\": {\"endlinecolor\": \"#2a3f5f\", \"gridcolor\": \"white\", \"linecolor\": \"white\", \"minorgridcolor\": \"white\", \"startlinecolor\": \"#2a3f5f\"}, \"type\": \"carpet\"}], \"choropleth\": [{\"colorbar\": {\"outlinewidth\": 0, \"ticks\": \"\"}, \"type\": \"choropleth\"}], \"contour\": [{\"colorbar\": {\"outlinewidth\": 0, \"ticks\": \"\"}, \"colorscale\": [[0.0, \"#0d0887\"], [0.1111111111111111, \"#46039f\"], [0.2222222222222222, \"#7201a8\"], [0.3333333333333333, \"#9c179e\"], [0.4444444444444444, \"#bd3786\"], [0.5555555555555556, \"#d8576b\"], [0.6666666666666666, \"#ed7953\"], [0.7777777777777778, \"#fb9f3a\"], [0.8888888888888888, \"#fdca26\"], [1.0, \"#f0f921\"]], \"type\": \"contour\"}], \"contourcarpet\": [{\"colorbar\": {\"outlinewidth\": 0, \"ticks\": \"\"}, \"type\": \"contourcarpet\"}], \"heatmap\": [{\"colorbar\": {\"outlinewidth\": 0, \"ticks\": \"\"}, \"colorscale\": [[0.0, \"#0d0887\"], [0.1111111111111111, \"#46039f\"], [0.2222222222222222, \"#7201a8\"], [0.3333333333333333, \"#9c179e\"], [0.4444444444444444, \"#bd3786\"], [0.5555555555555556, \"#d8576b\"], [0.6666666666666666, \"#ed7953\"], [0.7777777777777778, \"#fb9f3a\"], [0.8888888888888888, \"#fdca26\"], [1.0, \"#f0f921\"]], \"type\": \"heatmap\"}], \"heatmapgl\": [{\"colorbar\": {\"outlinewidth\": 0, \"ticks\": \"\"}, \"colorscale\": [[0.0, \"#0d0887\"], [0.1111111111111111, \"#46039f\"], [0.2222222222222222, \"#7201a8\"], [0.3333333333333333, \"#9c179e\"], [0.4444444444444444, \"#bd3786\"], [0.5555555555555556, \"#d8576b\"], [0.6666666666666666, \"#ed7953\"], [0.7777777777777778, \"#fb9f3a\"], [0.8888888888888888, \"#fdca26\"], [1.0, \"#f0f921\"]], \"type\": \"heatmapgl\"}], \"histogram\": [{\"marker\": {\"colorbar\": {\"outlinewidth\": 0, \"ticks\": \"\"}}, \"type\": \"histogram\"}], \"histogram2d\": [{\"colorbar\": {\"outlinewidth\": 0, \"ticks\": \"\"}, \"colorscale\": [[0.0, \"#0d0887\"], [0.1111111111111111, \"#46039f\"], [0.2222222222222222, \"#7201a8\"], [0.3333333333333333, \"#9c179e\"], [0.4444444444444444, \"#bd3786\"], [0.5555555555555556, \"#d8576b\"], [0.6666666666666666, \"#ed7953\"], [0.7777777777777778, \"#fb9f3a\"], [0.8888888888888888, \"#fdca26\"], [1.0, \"#f0f921\"]], \"type\": \"histogram2d\"}], \"histogram2dcontour\": [{\"colorbar\": {\"outlinewidth\": 0, \"ticks\": \"\"}, \"colorscale\": [[0.0, \"#0d0887\"], [0.1111111111111111, \"#46039f\"], [0.2222222222222222, \"#7201a8\"], [0.3333333333333333, \"#9c179e\"], [0.4444444444444444, \"#bd3786\"], [0.5555555555555556, \"#d8576b\"], [0.6666666666666666, \"#ed7953\"], [0.7777777777777778, \"#fb9f3a\"], [0.8888888888888888, \"#fdca26\"], [1.0, \"#f0f921\"]], \"type\": \"histogram2dcontour\"}], \"mesh3d\": [{\"colorbar\": {\"outlinewidth\": 0, \"ticks\": \"\"}, \"type\": \"mesh3d\"}], \"parcoords\": [{\"line\": {\"colorbar\": {\"outlinewidth\": 0, \"ticks\": \"\"}}, \"type\": \"parcoords\"}], \"pie\": [{\"automargin\": true, \"type\": \"pie\"}], \"scatter\": [{\"marker\": {\"colorbar\": {\"outlinewidth\": 0, \"ticks\": \"\"}}, \"type\": \"scatter\"}], \"scatter3d\": [{\"line\": {\"colorbar\": {\"outlinewidth\": 0, \"ticks\": \"\"}}, \"marker\": {\"colorbar\": {\"outlinewidth\": 0, \"ticks\": \"\"}}, \"type\": \"scatter3d\"}], \"scattercarpet\": [{\"marker\": {\"colorbar\": {\"outlinewidth\": 0, \"ticks\": \"\"}}, \"type\": \"scattercarpet\"}], \"scattergeo\": [{\"marker\": {\"colorbar\": {\"outlinewidth\": 0, \"ticks\": \"\"}}, \"type\": \"scattergeo\"}], \"scattergl\": [{\"marker\": {\"colorbar\": {\"outlinewidth\": 0, \"ticks\": \"\"}}, \"type\": \"scattergl\"}], \"scattermapbox\": [{\"marker\": {\"colorbar\": {\"outlinewidth\": 0, \"ticks\": \"\"}}, \"type\": \"scattermapbox\"}], \"scatterpolar\": [{\"marker\": {\"colorbar\": {\"outlinewidth\": 0, \"ticks\": \"\"}}, \"type\": \"scatterpolar\"}], \"scatterpolargl\": [{\"marker\": {\"colorbar\": {\"outlinewidth\": 0, \"ticks\": \"\"}}, \"type\": \"scatterpolargl\"}], \"scatterternary\": [{\"marker\": {\"colorbar\": {\"outlinewidth\": 0, \"ticks\": \"\"}}, \"type\": \"scatterternary\"}], \"surface\": [{\"colorbar\": {\"outlinewidth\": 0, \"ticks\": \"\"}, \"colorscale\": [[0.0, \"#0d0887\"], [0.1111111111111111, \"#46039f\"], [0.2222222222222222, \"#7201a8\"], [0.3333333333333333, \"#9c179e\"], [0.4444444444444444, \"#bd3786\"], [0.5555555555555556, \"#d8576b\"], [0.6666666666666666, \"#ed7953\"], [0.7777777777777778, \"#fb9f3a\"], [0.8888888888888888, \"#fdca26\"], [1.0, \"#f0f921\"]], \"type\": \"surface\"}], \"table\": [{\"cells\": {\"fill\": {\"color\": \"#EBF0F8\"}, \"line\": {\"color\": \"white\"}}, \"header\": {\"fill\": {\"color\": \"#C8D4E3\"}, \"line\": {\"color\": \"white\"}}, \"type\": \"table\"}]}, \"layout\": {\"annotationdefaults\": {\"arrowcolor\": \"#2a3f5f\", \"arrowhead\": 0, \"arrowwidth\": 1}, \"coloraxis\": {\"colorbar\": {\"outlinewidth\": 0, \"ticks\": \"\"}}, \"colorscale\": {\"diverging\": [[0, \"#8e0152\"], [0.1, \"#c51b7d\"], [0.2, \"#de77ae\"], [0.3, \"#f1b6da\"], [0.4, \"#fde0ef\"], [0.5, \"#f7f7f7\"], [0.6, \"#e6f5d0\"], [0.7, \"#b8e186\"], [0.8, \"#7fbc41\"], [0.9, \"#4d9221\"], [1, \"#276419\"]], \"sequential\": [[0.0, \"#0d0887\"], [0.1111111111111111, \"#46039f\"], [0.2222222222222222, \"#7201a8\"], [0.3333333333333333, \"#9c179e\"], [0.4444444444444444, \"#bd3786\"], [0.5555555555555556, \"#d8576b\"], [0.6666666666666666, \"#ed7953\"], [0.7777777777777778, \"#fb9f3a\"], [0.8888888888888888, \"#fdca26\"], [1.0, \"#f0f921\"]], \"sequentialminus\": [[0.0, \"#0d0887\"], [0.1111111111111111, \"#46039f\"], [0.2222222222222222, \"#7201a8\"], [0.3333333333333333, \"#9c179e\"], [0.4444444444444444, \"#bd3786\"], [0.5555555555555556, \"#d8576b\"], [0.6666666666666666, \"#ed7953\"], [0.7777777777777778, \"#fb9f3a\"], [0.8888888888888888, \"#fdca26\"], [1.0, \"#f0f921\"]]}, \"colorway\": [\"#636efa\", \"#EF553B\", \"#00cc96\", \"#ab63fa\", \"#FFA15A\", \"#19d3f3\", \"#FF6692\", \"#B6E880\", \"#FF97FF\", \"#FECB52\"], \"font\": {\"color\": \"#2a3f5f\"}, \"geo\": {\"bgcolor\": \"white\", \"lakecolor\": \"white\", \"landcolor\": \"#E5ECF6\", \"showlakes\": true, \"showland\": true, \"subunitcolor\": \"white\"}, \"hoverlabel\": {\"align\": \"left\"}, \"hovermode\": \"closest\", \"mapbox\": {\"style\": \"light\"}, \"paper_bgcolor\": \"white\", \"plot_bgcolor\": \"#E5ECF6\", \"polar\": {\"angularaxis\": {\"gridcolor\": \"white\", \"linecolor\": \"white\", \"ticks\": \"\"}, \"bgcolor\": \"#E5ECF6\", \"radialaxis\": {\"gridcolor\": \"white\", \"linecolor\": \"white\", \"ticks\": \"\"}}, \"scene\": {\"xaxis\": {\"backgroundcolor\": \"#E5ECF6\", \"gridcolor\": \"white\", \"gridwidth\": 2, \"linecolor\": \"white\", \"showbackground\": true, \"ticks\": \"\", \"zerolinecolor\": \"white\"}, \"yaxis\": {\"backgroundcolor\": \"#E5ECF6\", \"gridcolor\": \"white\", \"gridwidth\": 2, \"linecolor\": \"white\", \"showbackground\": true, \"ticks\": \"\", \"zerolinecolor\": \"white\"}, \"zaxis\": {\"backgroundcolor\": \"#E5ECF6\", \"gridcolor\": \"white\", \"gridwidth\": 2, \"linecolor\": \"white\", \"showbackground\": true, \"ticks\": \"\", \"zerolinecolor\": \"white\"}}, \"shapedefaults\": {\"line\": {\"color\": \"#2a3f5f\"}}, \"ternary\": {\"aaxis\": {\"gridcolor\": \"white\", \"linecolor\": \"white\", \"ticks\": \"\"}, \"baxis\": {\"gridcolor\": \"white\", \"linecolor\": \"white\", \"ticks\": \"\"}, \"bgcolor\": \"#E5ECF6\", \"caxis\": {\"gridcolor\": \"white\", \"linecolor\": \"white\", \"ticks\": \"\"}}, \"title\": {\"x\": 0.05}, \"xaxis\": {\"automargin\": true, \"gridcolor\": \"white\", \"linecolor\": \"white\", \"ticks\": \"\", \"title\": {\"standoff\": 15}, \"zerolinecolor\": \"white\", \"zerolinewidth\": 2}, \"yaxis\": {\"automargin\": true, \"gridcolor\": \"white\", \"linecolor\": \"white\", \"ticks\": \"\", \"title\": {\"standoff\": 15}, \"zerolinecolor\": \"white\", \"zerolinewidth\": 2}}}, \"xaxis\": {\"anchor\": \"y\", \"domain\": [0.0, 0.45]}, \"xaxis2\": {\"anchor\": \"y2\", \"domain\": [0.55, 1.0]}, \"yaxis\": {\"anchor\": \"x\", \"domain\": [0.0, 1.0]}, \"yaxis2\": {\"anchor\": \"x2\", \"domain\": [0.0, 1.0], \"matches\": \"y\", \"showticklabels\": false}},\n",
       "                        {\"responsive\": true}\n",
       "                    ).then(function(){\n",
       "                            \n",
       "var gd = document.getElementById('76be3451-4943-4959-9dc4-a0b197784ad2');\n",
       "var x = new MutationObserver(function (mutations, observer) {{\n",
       "        var display = window.getComputedStyle(gd).display;\n",
       "        if (!display || display === 'none') {{\n",
       "            console.log([gd, 'removed!']);\n",
       "            Plotly.purge(gd);\n",
       "            observer.disconnect();\n",
       "        }}\n",
       "}});\n",
       "\n",
       "// Listen for the removal of the full notebook cells\n",
       "var notebookContainer = gd.closest('#notebook-container');\n",
       "if (notebookContainer) {{\n",
       "    x.observe(notebookContainer, {childList: true});\n",
       "}}\n",
       "\n",
       "// Listen for the clearing of the current output cell\n",
       "var outputEl = gd.closest('.output');\n",
       "if (outputEl) {{\n",
       "    x.observe(outputEl, {childList: true});\n",
       "}}\n",
       "\n",
       "                        })\n",
       "                };\n",
       "                });\n",
       "            </script>\n",
       "        </div>"
      ]
     },
     "metadata": {},
     "output_type": "display_data"
    }
   ],
   "source": [
    "fig = make_subplots(rows=1, cols=2, shared_yaxes=True)\n",
    "\n",
    "pos_trace = go.Heatmap(z=df[positive] , x=df[positive].columns, y=df[positive].index*block_size)\n",
    "\n",
    "neg_trace = go.Heatmap(z=df[negative] , x=df[negative].columns, y=df[negative].index*block_size)\n",
    "\n",
    "fig.add_traces([pos_trace, neg_trace], rows=(1,1), cols=(1,2))\n",
    "fig.update_traces( zmin=0.5, zmax=1.5)"
   ]
  },
  {
   "cell_type": "code",
   "execution_count": 108,
   "metadata": {},
   "outputs": [
    {
     "data": {
      "application/vnd.plotly.v1+json": {
       "config": {
        "plotlyServerURL": "https://plot.ly"
       },
       "data": [
        {
         "coloraxis": "coloraxis",
         "type": "heatmap",
         "x": [
          "ATTAG",
          "TAAAG",
          "TAATG",
          "TTTAG",
          "ACAAA",
          "TTACA",
          "ATATG",
          "ATGTA",
          "ACATA",
          "AAGTA",
          "AACAT",
          "TATAG",
          "TTAGG",
          "TGGAG",
          "AATGG",
          "ATGGA",
          "ATCCA",
          "AGCTA",
          "TAGGA",
          "TAGCA",
          "AACTT",
          "TACAG",
          "TTGCA",
          "ATCTG",
          "TGTAG",
          "TTTGG",
          "AGATG",
          "AAGCA",
          "AACCA",
          "AAGCT",
          "ATGGT",
          "TACCA",
          "TTCTG",
          "TGAAG",
          "ATGCT",
          "AATGC",
          "TATGG",
          "TGTTG",
          "TGATG",
          "ATCAG",
          "TCTTG",
          "ACAAG",
          "AGAAC",
          "ACCTA",
          "ATACC",
          "AGGTA",
          "AAGGT",
          "TACTG",
          "TGCAG",
          "AGCTG"
         ],
         "xaxis": "x",
         "y": [
          0,
          20,
          40,
          60,
          80,
          100,
          120,
          140,
          160,
          180,
          200,
          220,
          240,
          260,
          280,
          300,
          320,
          340,
          360,
          380,
          400,
          420,
          440,
          460,
          480
         ],
         "yaxis": "y",
         "z": [
          [
           1.217612859331983,
           1.1746828526329773,
           1.1563257974120766,
           1.0930373733408634,
           0.9779108440750647,
           0.992323352840283,
           1.0927179607237478,
           1.079483201484043,
           1.0193665744697293,
           1.0611384627755185,
           1.106904286634972,
           1.091446878523868,
           1.0172758346010626,
           1.1423493020709488,
           1.1211710672966058,
           1.2021862549209714,
           1.2167959222503442,
           1.1742656115106196,
           1.1383079174833897,
           1.1430393963934302,
           1.100335608627893,
           1.022062734328336,
           1.0080360934879926,
           1.0404802780686992,
           1.1273504665151999,
           1.0972026025175066,
           1.1490161057414667,
           1.1510713554006222,
           1.1520085908062443,
           1.1546164642514987,
           1.117352130860733,
           1.0639085271848012,
           1.083805409216035,
           1.0982717808585682,
           1.1337691212371193,
           1.1538784772279398,
           1.1496110082446287,
           1.11430342363119,
           1.1401467869141035,
           1.1137164597345555,
           1.1779566283941443,
           1.147097803453263,
           1.2293340932348356,
           1.040592475109551,
           0.9977014649987164,
           0.8417652363909629,
           0.9847293005189753,
           1.0272918179641657,
           0.974575289257578,
           1.0984381254413969
          ],
          [
           1.2211008604625817,
           1.161564290714995,
           1.167128425150161,
           1.1609043479755226,
           1.076493227473189,
           1.0693140380265584,
           1.083871505527991,
           1.0530266408207114,
           1.0055161372277395,
           1.049099270291578,
           1.0608281549360794,
           1.0964194414472104,
           1.1574525385306351,
           1.1787514065060778,
           1.188937181465214,
           1.1907723895603022,
           1.1728321570268392,
           1.1440977495087568,
           1.1699839900213267,
           1.1434789108588008,
           1.1576663303138275,
           1.1120687384293564,
           1.1088647614107585,
           1.1584613610505747,
           1.1105839390161427,
           1.1365561565615274,
           1.1497780175717107,
           1.1047909362324344,
           1.1249146792759745,
           1.1182273874007795,
           1.1059079990008265,
           1.0940308955184814,
           1.098270720225224,
           1.136024174727454,
           1.1013983363412705,
           1.1369032637100338,
           1.1129039363251632,
           1.1065291908605117,
           1.0910781412390402,
           1.0871013514158954,
           1.152017087276151,
           1.133318204749181,
           1.1021964862935802,
           1.0842747612140466,
           1.060770415392945,
           1.0343850060260613,
           1.0366187391881423,
           1.0829363007704418,
           1.0802680441321497,
           1.0502742800027396
          ],
          [
           1.1696782234881993,
           1.1533117777614275,
           1.1380126189754136,
           1.159234172143914,
           1.0751397277355086,
           1.0918869128469872,
           1.049335299738256,
           1.0467346365391847,
           1.0397857720315182,
           1.0426942821185636,
           1.0622192067205234,
           1.055270016094105,
           1.1038163292005565,
           1.057649086980736,
           1.070501223503206,
           1.1113153827912088,
           1.1391608160804736,
           1.1269573212235502,
           1.0818891261212564,
           1.138239908256672,
           1.0763505698204874,
           1.0660667334918008,
           1.0828647438931067,
           1.0608233252414159,
           1.1038088735323917,
           1.0904551655053625,
           1.0822406336816024,
           1.0487452874712013,
           1.0568894997494234,
           1.078681576057659,
           1.0346531512345751,
           1.081064991401037,
           1.0888364084717828,
           1.0665968536577901,
           1.0743874902765347,
           1.056299790020799,
           1.0598896414289567,
           1.057019044662829,
           1.0711926991778833,
           1.0468823094669144,
           1.0608839730256572,
           1.039980775587456,
           1.0148044494273134,
           1.030875317839127,
           0.9876308545718744,
           1.0428330504853713,
           1.01219841356596,
           1.0675926828196236,
           1.0601677149507893,
           0.9868633618604095
          ],
          [
           1.1216995689232643,
           1.1017416793894148,
           1.112800162105836,
           1.1515912531776606,
           1.0506305813663819,
           1.0853571500418795,
           1.055353895246734,
           1.0473935076202132,
           1.0439145383715243,
           1.0818167644826295,
           1.0412426729332738,
           1.0361537571304966,
           1.0115578553996243,
           1.022181841504312,
           1.0759391231789153,
           1.0628716695361449,
           1.0005399363273195,
           1.090563806795023,
           1.0663150087605722,
           1.0278334945107117,
           1.0295501490436878,
           1.044479669353361,
           1.0645734041903734,
           1.0462345423442008,
           1.0244730617961724,
           1.0408139689092637,
           1.0254488107559787,
           1.0132564568199929,
           1.0172726241560823,
           1.0260902335153863,
           1.022774634440936,
           0.9942964908619473,
           1.0382824122968684,
           1.0224869757154216,
           0.9992174034667729,
           1.0128904341233924,
           0.9929697545425845,
           0.9873109472471311,
           1.0107476137637113,
           0.9701908485460831,
           1.021203384060646,
           1.0130760074820375,
           0.9743339013566604,
           0.9641925881642911,
           0.9412112136243498,
           1.0114390021662334,
           1.0294762081943578,
           1.0135573508206823,
           0.9921296826579346,
           0.9567553253225107
          ],
          [
           1.0922115278706346,
           1.0990540892339764,
           1.0692649065238675,
           1.13285261818782,
           1.0584501633998455,
           1.0892501651380226,
           1.0632220904937824,
           1.0579181196379914,
           1.0739723944607564,
           1.0620901001863674,
           1.0312585196212298,
           1.1506570947167412,
           1.0907796422896017,
           0.9592992989802831,
           0.9887795806432593,
           0.9927026575879865,
           0.9849835660860878,
           0.9911218441896124,
           1.0546254999268327,
           1.0387900633066245,
           1.0609810324493205,
           1.0287240694748174,
           1.0041999464931948,
           1.0277086187572226,
           1.0034461802679184,
           1.0328945451247646,
           1.0031171530929055,
           0.9993776976544227,
           1.0052905358876723,
           0.9777475612760349,
           0.9342024507434745,
           0.9767365376743197,
           0.9857813120129002,
           0.9883660596998985,
           0.9576614261965452,
           0.9664152333769548,
           0.9392543684676254,
           0.9716390378043465,
           0.9673923555148323,
           0.9649772601455048,
           0.9710630625837376,
           1.0189976681719892,
           0.9520871343910196,
           1.042838400997332,
           0.979951424605015,
           1.0839340979932448,
           1.0231077592071516,
           0.9765167772897233,
           0.9396752573261996,
           0.9147075331409347
          ],
          [
           1.1105970963135905,
           1.0898636765714074,
           1.0955114619258526,
           1.090335820728882,
           1.0687679276222921,
           1.0742702175805294,
           1.1324128257674648,
           1.1006413706590275,
           1.1106498492593426,
           1.0625509738493664,
           1.0487470831018553,
           1.1669670993318164,
           1.062493082645973,
           0.9938979408028101,
           0.984416316100773,
           0.9976183840106001,
           0.9890769559159915,
           1.0551884167460208,
           1.0590664928885387,
           1.065077709035029,
           1.0506194765978107,
           0.963068879152284,
           0.9475564641725693,
           0.9534115333332477,
           1.0120196959570817,
           0.988582146248775,
           0.9570940761085974,
           0.9868470274973317,
           0.9558238660355454,
           0.9373480897004322,
           0.9319794317930491,
           0.9995882374767003,
           1.0147685303954947,
           0.990001746807296,
           0.9974220706893644,
           0.972521921722723,
           1.0004923525682565,
           0.9724299225239279,
           1.006750440568034,
           1.0125488411319528,
           1.000203104446573,
           0.9892361284845347,
           0.9305209811591064,
           1.0059261236347785,
           0.9850956444668166,
           0.953606177393016,
           0.9365090874264478,
           0.9255679281678495,
           0.8808048257029634,
           0.9556844635276835
          ],
          [
           1.0553025824107445,
           1.0127472724293294,
           1.0474119885604114,
           1.0500375992746553,
           0.9913656757142676,
           1.0285137898654366,
           1.0657256033705569,
           1.030108897860491,
           1.0322444629695462,
           0.9959736388650863,
           1.0086976314528642,
           1.1131754940596459,
           1.0456523685160721,
           0.9745065902408542,
           0.9676395012637112,
           0.9662581395939148,
           0.9886527982939414,
           0.9334263836229666,
           0.9973841082658731,
           0.9714431062420773,
           0.9964955299595741,
           0.9396398364566761,
           0.9879757593021857,
           0.9122174550965112,
           0.9409664346318334,
           0.9575313366439329,
           0.9679481232872782,
           0.9435320670919829,
           0.9091868881013139,
           0.9468021681410734,
           0.9335295989834731,
           0.956602907514629,
           0.952908145245116,
           0.9318488336324409,
           0.9626042343057659,
           0.9842423841546913,
           1.0030912437598416,
           0.9194717363350194,
           0.9396048806998439,
           0.9004731944897462,
           0.9700043357533491,
           0.9298784049007839,
           0.952231838467051,
           1.008836632116656,
           0.9986210773364551,
           0.9689904861349102,
           0.9429313541502216,
           0.92541901393272,
           0.8884904058241861,
           0.8946862832329319
          ],
          [
           1.0195658247040857,
           1.0177703508730767,
           1.0112771876572855,
           1.0377723819896123,
           1.009925059416362,
           1.0351628405313655,
           1.0276076461029606,
           1.0325059098462195,
           1.02166248877917,
           0.981722647700834,
           1.0004058230496629,
           1.0483408536147176,
           1.032825556461864,
           0.9076917590375976,
           0.973636481200109,
           0.9592694028663926,
           0.9549009668818065,
           0.9591194796240325,
           0.9921833730479898,
           0.9706610021065482,
           0.9804166887892349,
           0.9764080954642033,
           1.0044172140447067,
           0.9858435989479164,
           1.0002142761473862,
           0.9906103153582708,
           0.9966530178938072,
           0.971218833047156,
           0.9947964813149308,
           1.0120688862584188,
           0.9769888193125288,
           1.0081575198160357,
           0.9404866044587916,
           0.9264349357391688,
           0.963127620958146,
           0.9711674906514383,
           0.9758523515859918,
           0.9040665983620076,
           0.9259979561456707,
           0.9498151191827112,
           0.9374617303846983,
           0.9365491547205761,
           0.9271652037358732,
           1.0284250559263668,
           1.0206047095809911,
           1.0286533442178651,
           0.9775737749469938,
           0.9672094508549484,
           0.9521780057571662,
           0.9236277510490409
          ],
          [
           1.0173703384227306,
           1.0022465917485852,
           1.0249270123127272,
           1.0292432252057846,
           0.9880953799837155,
           1.0142146065864395,
           1.058400496318694,
           1.0281227093812668,
           1.0405194178097708,
           1.0117740744225803,
           1.0029225634061119,
           1.0401763523748515,
           1.0336834912230002,
           0.9595734541429876,
           0.9800345027080127,
           0.9803454192393521,
           0.9767594252670861,
           0.9906900972344395,
           1.008074359882919,
           0.9852840991258622,
           1.0018435868892597,
           1.0516598647989146,
           1.0043888651779795,
           0.9873885593847884,
           1.009677593831429,
           0.9873983274041954,
           0.9803465003083501,
           0.9909980782305912,
           0.9837158728204063,
           0.9521277288662515,
           1.0167143588210386,
           1.0452604500100928,
           1.0149595268235467,
           0.9744680435391643,
           0.9662709365247184,
           0.9878119391807747,
           1.030358994230563,
           0.9581626776825533,
           0.9586461479983707,
           0.96556888290815,
           0.9890498192926858,
           0.9558046608168381,
           0.987556662242618,
           1.047328116128645,
           1.0651364300163446,
           1.0724794828550752,
           0.9918404431163315,
           0.9895789826473911,
           1.02633478784466,
           0.9463343021806563
          ],
          [
           1.012188048365839,
           1.0050138808265214,
           1.0306273772871026,
           1.011636257497461,
           0.9957598955662423,
           1.0062059465693878,
           1.0090316268828599,
           1.0005928896479241,
           1.0094614430773587,
           1.0369629189884781,
           1.030346142165729,
           1.0167840349730946,
           0.9859247493760751,
           0.9554669013747061,
           0.9757436309941918,
           1.00946339835316,
           1.005989491694462,
           1.0366121807651285,
           0.9894891731935451,
           1.0030543938431835,
           1.0093357153039817,
           1.005723905071282,
           0.9594278936376538,
           0.9855623873946893,
           1.018662203559569,
           1.0180129063564116,
           1.0158509548626453,
           1.0232380942609598,
           0.973569493624973,
           0.9780782910859152,
           0.9789489143552587,
           0.9799247448832652,
           0.9678562075380738,
           1.0094247526523021,
           1.0420744387790295,
           1.008607024990203,
           1.0241685054644887,
           1.0162250222429392,
           0.9954025099851914,
           0.9848659474607967,
           0.9850521476029903,
           0.9623259975518719,
           0.9714604807147983,
           1.0377697804358634,
           1.027339232324186,
           1.0824662714331605,
           1.0238425865113487,
           1.0268067146056732,
           0.9889671008185359,
           0.9964112839593895
          ],
          [
           1.0174875368171763,
           0.9852446347379853,
           1.0294255383648163,
           1.0177421005129,
           1.001464787259218,
           1.015120718573527,
           1.0266914834959007,
           1.0341036908396999,
           1.0254284191468142,
           1.0220640052564705,
           1.00142884837128,
           1.0198908754398388,
           1.0234530484093167,
           1.019776867583616,
           1.0436034218310413,
           0.9941637220778885,
           0.9925477647987327,
           1.0198727985179266,
           0.9951029105784235,
           1.0101749897624475,
           1.0284207885014214,
           1.0054204390189376,
           0.9935157460816686,
           1.0310257390327322,
           1.0705913670166605,
           1.025916303745572,
           1.0136557495667464,
           1.0350477388721175,
           1.0209474172661628,
           1.039753630917288,
           1.0435977887906955,
           1.0319564611574015,
           1.018061781628188,
           1.02673712886359,
           1.0119198200139992,
           1.0233013249155187,
           1.045746160568598,
           0.9919703986491862,
           1.056667893974328,
           1.0158643151217523,
           1.014916923117849,
           1.0158574766654929,
           1.006323029112815,
           1.015668098350675,
           1.0251750326334303,
           1.0149505798513494,
           0.979816979984568,
           0.9828142720927773,
           1.0204224311991408,
           1.0445550927814051
          ],
          [
           1.0127267751356863,
           0.9577067587572686,
           1.0095141207752207,
           1.005665785290687,
           1.015956668680739,
           1.0034972396501929,
           0.9923775675068822,
           0.9978741099576095,
           1.0017638136969178,
           0.9736357818129808,
           0.9907228774818861,
           0.9723087346233694,
           0.9385024386859653,
           1.0444404516957484,
           1.003371468549323,
           1.0085172936917708,
           1.0146319030992856,
           1.020740726292472,
           0.963045261624696,
           1.015196183246913,
           0.9806955113400891,
           0.9917150706203003,
           1.027873087620989,
           1.0214977986508955,
           1.0010569912365774,
           0.9841929963666518,
           1.0089902773211297,
           0.9867595493624786,
           0.9799142729272747,
           0.9925511446597389,
           1.0065925112720597,
           1.0335174924060528,
           0.9816505799520926,
           0.9853397573577354,
           1.0028660008245678,
           0.9997714641111901,
           1.0237611286132473,
           0.9915115183218633,
           1.0100035284924183,
           1.0293369592611898,
           0.9940490966610812,
           1.0028499854797086,
           0.9933796958074002,
           0.9129609301535447,
           1.009433345615921,
           0.9393935501747771,
           0.9240564073763531,
           1.000469728775759,
           0.9807162724021634,
           1.0474124214190355
          ],
          [
           0.9777988868954057,
           1.004762222474641,
           1.0004138333725292,
           0.992975652445965,
           1.0134505232298772,
           0.9785555341580097,
           0.9632158539219016,
           0.9670055966123722,
           0.9527752492196707,
           0.9763632291331731,
           0.9905674979068507,
           1.002183362307507,
           0.9806017870068341,
           1.0094328774438521,
           0.9864637640266197,
           0.9869254779698307,
           0.98166740812831,
           1.0079917963345535,
           1.0121117127093289,
           1.0025863754321784,
           0.9760756790411186,
           1.0392886685341414,
           1.0143248518465708,
           1.0074850430138738,
           0.9771683084329047,
           1.0019497488967835,
           1.0269726319128996,
           1.0051026465094488,
           1.0059553950906712,
           1.043799749567635,
           1.0112547756426282,
           1.0026749555250598,
           1.032659678283082,
           1.0243671241846275,
           1.0087648288849307,
           1.021638710423207,
           1.0069720720466993,
           0.9607389134073012,
           1.0035342987230353,
           1.004139254251376,
           1.0048792769815162,
           0.9964877552341086,
           0.9796844379903761,
           1.0067993599068468,
           1.0214538742379407,
           0.9882818484262641,
           1.0264098817164025,
           1.0259331378885166,
           1.0326730217664624,
           1.0262085423531682
          ],
          [
           0.9993140919617697,
           0.9612546512880632,
           0.9718248963406321,
           0.9551986143244563,
           0.9805873699507819,
           0.9771728061527053,
           0.9767585022150209,
           0.9702370581085118,
           0.9715682197128783,
           0.9664941107789767,
           0.991085186054409,
           0.9648487778768766,
           1.0122645211930927,
           0.970221894651505,
           1.0036032648428557,
           0.9929830139166652,
           1.0128423099645718,
           0.989654935614316,
           0.9995775929740373,
           0.9770744082216778,
           0.9896454410379775,
           0.9961954388973056,
           1.0606898106720613,
           1.0224897572746603,
           1.0008616736936753,
           0.9858621542183009,
           0.9882570063941758,
           0.9945733193170249,
           1.0137322368726527,
           0.9909834637838418,
           1.0438937021374872,
           1.0201059128757537,
           1.0053681723727548,
           1.018094331733024,
           1.0102858233251213,
           1.0282310985025422,
           1.0215309400998185,
           0.998341601822903,
           0.9856915917033039,
           0.9986883097533811,
           0.9704122651753607,
           0.9662068048774827,
           1.012160551550855,
           1.0002702942975088,
           0.999156750312509,
           0.975448241777954,
           0.9930165310887815,
           1.0008894564794022,
           1.0839825506394698,
           1.0639726443660569
          ],
          [
           0.9486759983600044,
           0.978307869194282,
           0.9599006971848093,
           0.9533803419931077,
           0.9690513767504263,
           0.9767059502202529,
           0.9708013233343961,
           0.9793411763506457,
           0.9835214127498283,
           1.0001638357138773,
           0.9955113001727018,
           0.9756857835016817,
           0.9524575292091685,
           0.9817892962197428,
           0.9651840070396736,
           0.9647552038917264,
           0.9952982130219461,
           0.9909300423951682,
           0.9642806905849965,
           0.9628693906595561,
           0.9939311321681816,
           0.9784371386299759,
           1.0043515635989237,
           1.0417567633099742,
           1.0349904455668282,
           1.0049682051201057,
           0.9860452850184563,
           0.9905745979174385,
           1.0095072582016704,
           1.027494237298493,
           1.0278957455786055,
           1.023589046202167,
           1.026253609415996,
           1.0110213333573548,
           1.0305965281300216,
           0.997430133077685,
           0.9910675487279986,
           1.0147691014329538,
           1.0059930304733657,
           1.0573394897247304,
           1.0103313565520473,
           1.0150374316189201,
           1.0279695323801772,
           1.0137338201419308,
           1.017471053843045,
           1.019532150932397,
           0.9805597386426487,
           0.9906195184594666,
           1.0957944821396326,
           1.0016480578861626
          ],
          [
           0.9404697814941739,
           0.9706810886930226,
           0.9462572800902695,
           0.9794577042722217,
           0.9951784165977513,
           0.9598339571600912,
           0.9841719380886857,
           0.9809138503097704,
           0.9871789946330455,
           0.9550322603007241,
           0.9735081798861228,
           0.9532949730133481,
           1.0318351947214226,
           1.0621003466519947,
           1.0373055433252,
           1.0335441105686467,
           1.0313437841981818,
           1.0110041784584456,
           1.0175318959348587,
           0.9807352123773413,
           0.9600006497500883,
           0.9733237669362241,
           0.9839471103459119,
           1.010143920168732,
           1.0456098759096115,
           1.0540153020104,
           1.0165900633022211,
           1.034856533132521,
           1.0319302648400346,
           1.0262091992185747,
           1.0176069967782264,
           0.9877384296640939,
           0.9702392980029266,
           0.9806306722673755,
           0.9953074015916644,
           0.9958937828326465,
           0.9879881667165024,
           1.0499724537439858,
           1.0142665039749907,
           1.0160017019714622,
           0.9869096907936147,
           1.003759897647495,
           0.9881220192765044,
           1.0535140509514582,
           1.0010489851377904,
           1.0484168234574944,
           1.0603675195160094,
           1.0374151751456187,
           1.0438204149487198,
           1.0648320785503484
          ],
          [
           0.9447365809977121,
           0.9447685720582842,
           0.9481321366443172,
           0.9419847805112965,
           0.9645290200453797,
           0.9774723520993873,
           0.9634584306576777,
           0.9689825166140151,
           0.9761437296377613,
           0.978427617821498,
           0.9795651319036125,
           0.9503854900993037,
           0.9923155694392863,
           1.0007870373903172,
           0.9850135305662492,
           0.9765210810242421,
           0.9904109417344807,
           1.0049394843611346,
           0.9969928106150395,
           0.9712156217585423,
           0.9920025340642851,
           0.9990310173814693,
           0.9772429067853956,
           0.9619480106146903,
           0.940864469540225,
           0.975014533525262,
           0.9679309479592305,
           0.9759230085187603,
           0.9928644231409077,
           0.9837131942840043,
           1.0000893918772964,
           0.9895082590955555,
           0.9707759685428319,
           0.9936272911722134,
           0.9560669505501056,
           0.9540601937090899,
           0.9820573011541462,
           1.0314370235131036,
           1.0305806560727988,
           1.0140655156278457,
           0.991202177947528,
           1.0169374579759534,
           0.9857681181815443,
           1.00064986791561,
           0.98350831654157,
           0.9963141794503357,
           1.0176793342698178,
           1.0335498726068575,
           1.0022365487362344,
           1.0727092361469286
          ],
          [
           0.9221833275574022,
           0.9551361058148027,
           0.9359042820015948,
           0.9320881076980374,
           0.9773938708186362,
           0.9666392070761571,
           0.9617550424805921,
           0.9778588382605984,
           0.9640936157385943,
           0.9655673400161401,
           0.9677635246307974,
           0.9520973465261974,
           0.9613906600535395,
           1.0083470897965199,
           0.9869223002592705,
           0.9585168172573347,
           0.9408730442787204,
           0.9970762319766289,
           0.9965437364647873,
           1.0086937583293694,
           0.9428433203666075,
           0.9968318253094589,
           0.973136007154635,
           0.99556848298862,
           0.9901986539504348,
           0.9555938305464738,
           0.972466926209682,
           0.9708739202170084,
           1.000971358062855,
           0.9681515992032088,
           1.0108934346641842,
           0.9993027064337842,
           1.0091351910821056,
           0.982402403743939,
           1.008332421670151,
           1.0102157112011068,
           0.9762775795664559,
           0.995965563998689,
           0.9675928786839902,
           0.9916506482921027,
           0.9809256494215822,
           1.0027217196358282,
           0.9958917067097333,
           0.9981159011753411,
           1.0090936826477659,
           1.0046124119422117,
           1.021711795139981,
           0.9915002552278739,
           1.0025384082371347,
           1.0092298793719479
          ],
          [
           0.9334096585003929,
           0.9176851962375121,
           0.9283064608846553,
           0.9310637207730426,
           0.9606164336842958,
           0.96969145482773,
           0.9218151105108933,
           0.9720704500112101,
           0.9626660697454361,
           0.9773569113043679,
           0.9837261560583656,
           0.9600111385581349,
           0.9808559698438696,
           1.001168021337513,
           0.9556928456544684,
           0.934430061732106,
           0.9365065079661992,
           0.9550036609331145,
           0.9973517486011807,
           0.9692180945861825,
           0.9537589805435817,
           1.0054360719886761,
           0.98460768799295,
           0.9890905117082966,
           0.9555596775184373,
           0.9579871560269144,
           0.9829122096741252,
           0.9769961236149862,
           0.9966217530754206,
           0.9914282040948564,
           0.9600025705763884,
           0.969129197133914,
           1.0001333899232085,
           0.9995628471636683,
           0.9942881031872598,
           0.982070931465854,
           0.9353919053526957,
           1.0125537922288124,
           1.0124587679994774,
           0.9802384024775426,
           0.9647787664314648,
           0.9683946499795357,
           1.017847719309696,
           0.9774156312141327,
           0.9890574126276692,
           1.0118813937663729,
           1.0431118970254385,
           0.9589209820904864,
           1.0431215963846263,
           1.0462242882303732
          ],
          [
           0.9370594201149027,
           0.9307862220886716,
           0.9215859961242381,
           0.9125600192902232,
           0.9774691325022657,
           0.9632276154521778,
           0.9582597805359347,
           0.9758992279762937,
           0.9687411933423072,
           0.9623595598645037,
           0.948213875912254,
           0.9231247683323688,
           0.9564621719311212,
           0.9521923378548437,
           0.9608848803237835,
           0.9384127589631108,
           0.9642986979464708,
           0.9409407273105946,
           0.9431968563867597,
           0.9027485045065399,
           0.9594649205421869,
           0.9615284934121057,
           0.9559664818552166,
           0.9573273395497636,
           0.9401146140593314,
           0.9925911032897929,
           0.9617710906493264,
           0.9776125621002112,
           0.9734886941269106,
           0.947972084404915,
           0.9709326969474198,
           1.0030149134268793,
           0.9750121885898654,
           0.976729627345796,
           0.9312736018225336,
           0.9412885753012201,
           0.9513533471876655,
           0.9911835642665056,
           0.958862501195406,
           0.9857553581168248,
           0.9635986414678698,
           0.9931448683337866,
           1.0042901686459196,
           0.9690345793512036,
           1.0022231865240423,
           1.041338863419094,
           1.017534525236976,
           0.9772002198262835,
           1.032957113381804,
           1.0000155906425188
          ],
          [
           0.9251673939257342,
           0.9332583109400139,
           0.9550795653894433,
           0.9251078355435878,
           0.9878613044665295,
           0.9857532751138252,
           0.9412207293133971,
           0.9813478761771414,
           0.98637059040343,
           0.9694943123935912,
           0.9625289245639174,
           0.9184129493385532,
           0.9795615816227725,
           0.9044484808453036,
           0.9373103578281287,
           0.9351605043813521,
           0.9559869471341711,
           0.9257423825662581,
           0.9563674043986212,
           0.9641618498481997,
           0.9920483144249802,
           0.9692982157048149,
           0.9997483372023284,
           1.0071702808564797,
           0.9727019526854092,
           0.9631452593160922,
           0.9477857526244924,
           0.9664741331848865,
           0.934196467899068,
           0.9232840553465502,
           0.953207337310239,
           0.9768689087596191,
           0.962110635974357,
           0.9779393370114584,
           0.970547752446522,
           0.9297969987419197,
           0.9303604111495948,
           0.9824585602795074,
           0.9522950613366327,
           0.9963975434846728,
           0.9863226687170621,
           0.9824814583194025,
           0.9963792815656184,
           0.980796298476327,
           0.9923887131696222,
           1.0061084868504708,
           0.97221055738483,
           1.0435489315669688,
           1.035795575180011,
           1.0131459065523298
          ],
          [
           0.890667953215908,
           0.9532453056999219,
           0.9569069728150735,
           0.9515383657216507,
           0.984689264275604,
           0.9690737573414,
           0.9597330647033963,
           0.9346590620892093,
           0.969582220522113,
           0.9818845795389994,
           0.9677138611242592,
           0.9366309784743804,
           0.9527860425251955,
           0.9537482192815897,
           0.9450437719983483,
           0.9694324260927911,
           0.9550650637358473,
           0.9264467074572686,
           0.9229576327893819,
           0.9697586831635878,
           0.9829109356454507,
           0.9862136017274613,
           0.9721543922052432,
           0.9436647126945659,
           0.926128610903038,
           0.9117840085244803,
           0.9181560972087938,
           0.9387839237486473,
           0.9432022900294491,
           0.951188740713051,
           0.9322457148624039,
           0.9194133235335422,
           0.9424963325780802,
           0.9550935789170543,
           0.9971998682815447,
           0.9702902971878202,
           0.9597765824417218,
           1.0181005561797793,
           0.9817388092697502,
           0.963184735423176,
           0.9937521629686803,
           1.0029040625381844,
           0.9745210718554583,
           0.9420407493773161,
           0.9634976782138434,
           1.0090590282790666,
           1.0308403997014464,
           0.9570081837573909,
           0.9647530326716616,
           0.9503205702626233
          ],
          [
           0.894135029747754,
           0.9483702329298731,
           0.9402531763558204,
           0.8959120950456518,
           0.9570891421405311,
           0.9337735362709608,
           0.9462380621589709,
           0.9510983288021129,
           0.9675243276252372,
           0.9849987146419118,
           0.963172004148082,
           0.9388414513856033,
           0.8985194338657496,
           0.9655888399170365,
           0.9428677121513316,
           0.9343438509742216,
           0.935422283807677,
           0.9302201538553354,
           0.9257818402152685,
           0.9095547287823217,
           0.9410547283950874,
           0.9512449415133891,
           0.9422084713976501,
           0.9147295208868064,
           0.9275967836192088,
           0.9592252742982336,
           0.9311921092587092,
           0.969032935458964,
           0.953959364890175,
           0.9660532259825815,
           0.9659928675051499,
           0.9448478107325128,
           0.9733044932238396,
           0.9666443769739526,
           0.9755900601337962,
           0.9644638721774746,
           0.9652070433111891,
           0.9963433980191839,
           0.9817975346438333,
           1.011136172222707,
           0.9719734439146084,
           0.9389222893059972,
           0.9716553132963897,
           0.9552385080802411,
           0.981490820025842,
           0.9691600552713465,
           0.9938000371997268,
           1.0161858836843725,
           0.9590520726495368,
           1.001576512611192
          ],
          [
           0.9006416688962597,
           0.9187151141470024,
           0.873132049490896,
           0.9183423688189676,
           0.9830129149382599,
           0.9425888886500943,
           0.9472755507706269,
           0.9544273720173166,
           0.9839129336645583,
           0.9704728991142187,
           0.9462796198004277,
           0.9241443175804189,
           0.9100994106162599,
           0.922537526954727,
           0.9435883030118707,
           0.9534535614882276,
           0.9083857780142476,
           0.8825911493469024,
           0.8892792016632016,
           0.9544475040006902,
           0.9601015326176323,
           0.9464984245487781,
           0.9690887981448406,
           0.9467191275886483,
           0.9267128482934672,
           0.9331768205976512,
           0.9472843923684378,
           0.9555857713267831,
           0.9706419292836882,
           0.9803392434081997,
           0.9962573755473327,
           0.9314526264554809,
           0.9246338296183881,
           0.9548222281968406,
           0.9419288435152592,
           0.9492622055354407,
           0.9569338117701588,
           0.9685868485767096,
           0.9492026079223777,
           0.9441964852275299,
           0.9321480256807901,
           0.9687683689355029,
           0.9782857975263773,
           0.9561225455908275,
           0.9710583932392925,
           0.9795101761181013,
           1.010298498976095,
           0.953270702111445,
           0.9673028898164606,
           1.0134242707931949
          ],
          [
           0.891470762036096,
           0.931928272405513,
           0.9038747596925891,
           0.8901275574491981,
           0.9614492021321552,
           0.9428461727068023,
           0.9424095615033845,
           0.9492023732557155,
           0.948797798375165,
           0.96019544320234,
           0.977357655741522,
           0.912392362368996,
           0.8867864573163483,
           0.9686570818836485,
           0.9326942745219735,
           0.9142172196631647,
           0.8997686162683314,
           0.8516009758144761,
           0.8575756280989117,
           0.8982815082743524,
           0.923737570866446,
           0.9679975506363887,
           0.9580226631208341,
           0.9605304123729874,
           0.9222040059537039,
           0.910568518035765,
           0.9645804624501355,
           0.9638836055937176,
           0.9440413792113964,
           0.9367377927848078,
           0.9649619843088029,
           0.9256049870440002,
           0.9916463002845357,
           0.9645668283752139,
           0.9360792730659722,
           0.9652476647940448,
           0.9467976561872412,
           0.9699413990767958,
           0.9563559964069408,
           0.9748229938616337,
           0.9327489649522784,
           0.9765263461045179,
           0.9894938803241559,
           0.9108193828466867,
           0.9627765954694631,
           0.933214802859468,
           0.9874967066960207,
           1.018076636774532,
           0.9725197445493781,
           0.922667414526234
          ]
         ],
         "zmax": 1.5,
         "zmin": 0.5
        },
        {
         "coloraxis": "coloraxis",
         "type": "heatmap",
         "x": [
          "AAAAA",
          "TTCAA",
          "ATTGA",
          "ATTTC",
          "TATTC",
          "GTCAC",
          "TGCGC",
          "TGGCG",
          "AGGCG",
          "TTCCG",
          "TTCGG",
          "TAACG",
          "TTTCG",
          "AAACG",
          "TAGCG",
          "CACCG",
          "AACCG",
          "TGCCG",
          "TACCG",
          "ACCGA",
          "TCCGG",
          "CAGCG",
          "TGTCG",
          "ATTCG",
          "ACGAA",
          "AACGA",
          "TCTCG",
          "TATCG",
          "TCACG",
          "ATGCG",
          "TTGCG",
          "TCGCA",
          "TGACG",
          "AAGCG",
          "AGTCG",
          "ATCCG",
          "ATCGA",
          "CATCG",
          "CTTCG",
          "TTCGA",
          "ACACG",
          "ATACG",
          "TTACG",
          "CAACG",
          "ATCGT",
          "AATCG",
          "ACTCG"
         ],
         "xaxis": "x2",
         "y": [
          0,
          20,
          40,
          60,
          80,
          100,
          120,
          140,
          160,
          180,
          200,
          220,
          240,
          260,
          280,
          300,
          320,
          340,
          360,
          380,
          400,
          420,
          440,
          460,
          480
         ],
         "yaxis": "y2",
         "z": [
          [
           0.8684321885076746,
           1.1061845635966647,
           1.081437507322997,
           1.0340333026390633,
           1.1393786913204,
           1.1502112892334195,
           1.4765700244633653,
           1.3836273250196855,
           1.4340567863440041,
           1.6132252757212604,
           1.589597342479148,
           1.5689221234797954,
           1.6335765872395795,
           1.5333383432026346,
           1.4321870612348957,
           1.8494664144126323,
           1.899606068647853,
           1.5684053907513535,
           1.6754698722022874,
           1.706638221214361,
           1.6623042023404542,
           1.7385744224103301,
           1.771480514828183,
           1.7913554873073931,
           1.7904718762285843,
           1.744351036749271,
           1.8447212146265652,
           1.9351069719219038,
           1.7012673209370357,
           1.8167068201049539,
           1.734821669359337,
           1.6971410898883579,
           1.7209570879948288,
           1.8064713076574088,
           1.7495780318053051,
           1.8412265605392422,
           2.129540095426571,
           2.1526500774998025,
           2.141680713395502,
           2.002893801992376,
           2.1028994823029183,
           2.01329349677906,
           2.0854502516485596,
           2.058961325355617,
           2.0622045858998677,
           1.9384336969419764,
           1.8699680920886426
          ],
          [
           0.9001846863436767,
           1.1265983920552134,
           1.1090267357666879,
           1.08498544197778,
           1.0453406968824717,
           1.0283334900333523,
           0.577195369124491,
           0.6572699540808975,
           0.6217473761655987,
           0.5380048483244554,
           0.5633001444069775,
           0.6590199548292504,
           0.6699055704652335,
           0.70263171709044,
           0.5956102111867593,
           0.5975500574681276,
           0.6394451680307582,
           0.5676107583212644,
           0.47766123251780435,
           0.5434163967274114,
           0.5971822923415834,
           0.5691289284680947,
           0.6898320449798407,
           0.6445256084588886,
           0.6832343043225965,
           0.7064700001734847,
           0.6929780075007708,
           0.6791712784509816,
           0.7345354974991016,
           0.6631983879873388,
           0.6347411060670332,
           0.6689568113971616,
           0.5880932147273157,
           0.6124128355335999,
           0.6513043736187559,
           0.600251374945747,
           0.6524398130711252,
           0.6777263363698844,
           0.6543178344741396,
           0.6732232929980987,
           0.7285935841290172,
           0.7785298552993215,
           0.7760778760430992,
           0.683981250319034,
           0.7124897874005434,
           0.6580607694686653,
           0.7376294378868157
          ],
          [
           1.029529470111094,
           1.1072706363354163,
           1.1206244458967052,
           1.076518384273828,
           1.0457780090501843,
           0.910286672178348,
           0.7561175686243314,
           0.6736062475698305,
           0.7068099325281197,
           0.6867297995951648,
           0.5964723126046096,
           0.7462426065174861,
           0.6247421357161781,
           0.7167803363284765,
           0.7410043408653373,
           0.5901272831948635,
           0.5579969135981505,
           0.5923148893008967,
           0.5851855885698233,
           0.570088559850997,
           0.6176562173549591,
           0.5761472598083021,
           0.6797625119602836,
           0.7087072878066576,
           0.6937995002939894,
           0.7312798743507003,
           0.7394546226273845,
           0.710854521825469,
           0.7176732856802259,
           0.65425742649942,
           0.6601666848924665,
           0.6499689142366706,
           0.7150419116697718,
           0.7257840684793778,
           0.6984577917470841,
           0.7372355519562788,
           0.711975537482627,
           0.6577785226721633,
           0.6514330119475648,
           0.635840164394897,
           0.6773428296091129,
           0.7216520312819249,
           0.6910593438332818,
           0.7101500688104485,
           0.6734602470830832,
           0.7070800131556955,
           0.7902325609293684
          ],
          [
           1.0709919534287209,
           1.079173973570197,
           1.0882397191563327,
           1.0534726301800117,
           1.059642401090387,
           0.896634902469366,
           0.6728298379489821,
           0.6738205430206172,
           0.7012461954325319,
           0.6468871521129285,
           0.6764099251858043,
           0.7087644012365517,
           0.6905179643512941,
           0.7159808041389518,
           0.66674806944921,
           0.6542597166040434,
           0.6362751537351613,
           0.5239261547164169,
           0.6226130649810656,
           0.6812371234397574,
           0.6583130742823036,
           0.646977607873065,
           0.6821645088081684,
           0.7941744561020617,
           0.7279537272201063,
           0.7151218025635567,
           0.7378898448055035,
           0.6662814120250681,
           0.7421127759715191,
           0.664487810681466,
           0.7361048594812402,
           0.6872755159948263,
           0.7007900832778605,
           0.7488438079810468,
           0.6149586301581976,
           0.6907225336161575,
           0.6816704535451911,
           0.6802343251458707,
           0.6570931309961009,
           0.7280226306108498,
           0.6590940993517077,
           0.7628494663625662,
           0.7349658850533559,
           0.6604653155666625,
           0.6612822115182381,
           0.678214978612955,
           0.6635696696078064
          ],
          [
           1.1422071434921977,
           1.0739377384684134,
           1.0777712272021296,
           1.0617195373692627,
           1.0793842195079857,
           0.8180799272116298,
           0.7086122353975063,
           0.7280362618506607,
           0.6536123603156209,
           0.6936298143433548,
           0.7191006196359209,
           0.7866182121789694,
           0.7529527459589023,
           0.8036150564268243,
           0.7750418201172566,
           0.7530640899534765,
           0.7692328538877156,
           0.6844189987601318,
           0.6333810662605646,
           0.7234335200459854,
           0.5934139196273707,
           0.6617863843052475,
           0.6631343051873267,
           0.7325108519113663,
           0.7440818226422878,
           0.7833028669452204,
           0.8161910516146688,
           0.7985970098116416,
           0.7150701957640074,
           0.7202844723500806,
           0.7079595906143731,
           0.6672889137695753,
           0.6275524780833196,
           0.6790125400094184,
           0.6735934945933123,
           0.637723960766382,
           0.771318337023094,
           0.7404362467203401,
           0.7171170727250036,
           0.7291850520403735,
           0.7164724599225103,
           0.7577321693273146,
           0.7537918616456054,
           0.7484195350336014,
           0.7297659064424434,
           0.7182408079238838,
           0.7461378923969219
          ],
          [
           1.1870037490120517,
           1.0574617851767372,
           1.0611827274060706,
           1.0536237424626047,
           1.0509548383186236,
           0.8505521277659519,
           0.9639875329708125,
           0.8338126437778717,
           0.9336632854252241,
           0.8666569966357698,
           0.8581834721550308,
           0.9789889862966549,
           0.9361090540836808,
           0.9452919343442061,
           0.9205638412414471,
           0.78917849907166,
           0.9019634272005064,
           0.8693702241459085,
           0.866241934046949,
           0.8239430587324326,
           0.8374645839445888,
           0.8538379150303463,
           0.9216190860843494,
           0.9111173291800854,
           0.9289491875075824,
           0.9367725689305748,
           0.9089384172498856,
           0.8304800977400697,
           0.9522750488111188,
           0.9424598824033661,
           0.9651318490711205,
           0.8982895581390634,
           0.9709199842972198,
           0.9445208304892074,
           0.9818960785428879,
           0.937590222571324,
           0.9064523121277385,
           0.8736673647106321,
           0.9152101610670839,
           0.929887274832157,
           0.8479542696971686,
           0.8989691416055414,
           0.9411106104862752,
           0.9304049453290707,
           0.880933112343499,
           0.9258785742446387,
           0.9184539306212762
          ],
          [
           1.0525910508349654,
           1.0042780995225804,
           1.0184745975378702,
           1.0050801205164521,
           0.9966750544227987,
           0.93835273324616,
           0.9542903841154474,
           0.975593566591837,
           0.9850405042938228,
           0.9077790942303458,
           0.799220507774615,
           0.9245014013763238,
           0.9730311538457215,
           1.0084142006652792,
           0.9030620474254661,
           0.9826933481677514,
           0.8929808366121996,
           0.9481324411341039,
           0.887946090586132,
           0.869544821565212,
           0.9210691224551534,
           1.0722220161040403,
           0.854331469712321,
           0.9844635852351873,
           1.0190898029258053,
           0.9620657531993332,
           0.8886264907833029,
           0.9010501861729975,
           0.9064503010676749,
           0.963576278599857,
           0.9558723993298167,
           1.0134342675768904,
           0.9908967850914475,
           1.0155672434835468,
           0.8527529011530616,
           0.9329179535174531,
           0.8663673306409732,
           0.8820259393637281,
           0.940255548414091,
           0.9811267692786199,
           0.9444508914545209,
           0.9801987207489782,
           1.0070245715906982,
           0.948341630711387,
           0.9711088242066522,
           0.9838825231243462,
           0.9707941212131925
          ],
          [
           1.0263645376802795,
           1.0139829296187848,
           1.026592627683907,
           0.9904503846766078,
           1.0179946287528003,
           0.9635460834461308,
           0.8471004335275198,
           0.8481077218765908,
           0.997303888078244,
           1.025348327518033,
           0.9743827162335088,
           0.8916843142759503,
           0.9043406657933004,
           0.9688187054678024,
           0.979241665505524,
           0.8561607088502229,
           0.8522008037110098,
           0.7801942729415791,
           0.9074735186104768,
           0.8743296090143073,
           0.9550378806451608,
           0.9508255064394181,
           0.8881142025332741,
           0.9271234183521937,
           0.9052822073017545,
           0.9018559544398861,
           0.7966524994424717,
           0.8603847542474778,
           0.8790609553995818,
           0.8910800602527701,
           0.9525460544335584,
           0.8971968216078743,
           0.8704705870619944,
           0.8531868542751189,
           0.8378913304829625,
           0.8988710704853895,
           0.8289821453772847,
           0.8276732788641611,
           0.8807522570263167,
           0.8405067367996092,
           0.9053433567150971,
           0.947480680517001,
           0.9132907759523701,
           0.9608819087844881,
           0.9000123789984857,
           0.9012264842211761,
           0.8778885299496935
          ],
          [
           0.996180917323645,
           0.9692946415873848,
           0.9679611957921189,
           1.0074317590274893,
           0.984734789517773,
           0.9053731739340826,
           0.853709602898315,
           0.7323691223826169,
           0.9368604377877707,
           0.8628913461821367,
           0.8831993899894911,
           0.7850687994324935,
           0.8413194722102615,
           0.8832371701185282,
           0.9317103331363814,
           0.7474009159367021,
           0.9403781739226202,
           0.91289885598109,
           0.9711716106994824,
           0.9089956003432719,
           0.7996227340695331,
           0.8500712865678606,
           0.8083691876528631,
           0.836770915241488,
           0.8731415358781345,
           0.8485090219168461,
           0.860128669770756,
           0.8333765075189024,
           0.8918029888794241,
           0.851172916294446,
           0.9153761488149276,
           0.8705638383792149,
           0.877167868935032,
           0.8448954947920774,
           0.9041630645485107,
           1.0238734337887776,
           0.8241016938038516,
           0.8932623211925624,
           0.918798445056345,
           0.7847910619565138,
           0.8320018118459646,
           0.9009717271987269,
           0.9079197778318543,
           0.8681062641289484,
           0.8642015293923525,
           0.8202650599104747,
           0.9062886166747295
          ],
          [
           1.0059799512214864,
           1.0226467435819315,
           0.9859087015986248,
           0.9880209549101222,
           0.9933515637274738,
           0.9133266336702811,
           0.9061596644202774,
           0.9011072057505305,
           0.9245729442067063,
           0.8729097889959145,
           0.8999910651968152,
           0.8208788667896989,
           0.8240263534199925,
           0.8583018200484194,
           0.9290819674323193,
           0.884122479678439,
           0.871444756885237,
           0.7016328661454598,
           0.8615351034219642,
           0.9002966256728916,
           0.8806314249624376,
           0.8414725647635838,
           0.8596685400030957,
           0.8586358455790024,
           0.8394501890892972,
           0.8568290136229219,
           0.8494656062131491,
           0.8285124006103345,
           0.857871779962215,
           0.8511314582898968,
           0.8820098285716729,
           0.8430846929671845,
           0.8687238751716088,
           0.899936129938971,
           0.8117970253862096,
           0.8646370386526793,
           0.8124837546518094,
           0.8300856639509133,
           0.8598542860290674,
           0.8338143162655373,
           0.8449286048486683,
           0.8314215570047563,
           0.8296353853468731,
           0.8540025365276767,
           0.8530467477105919,
           0.8825570930793409,
           0.97740138605034
          ],
          [
           1.0430242121330369,
           1.0177158031318705,
           1.0178693580207583,
           0.9954258643112494,
           1.0041942853909993,
           0.9627608192738596,
           0.9788140508020141,
           0.8750764895317085,
           0.7785520253832088,
           0.8808576996932288,
           0.8988291840731814,
           0.8763696392396209,
           0.8707121559595203,
           0.8560992124099287,
           0.8821126318631578,
           1.0166640568805803,
           0.8755059093266543,
           0.9111016792001235,
           0.8656254275675395,
           0.846451263402896,
           0.9137897135897963,
           0.9576197619079395,
           0.840734702512822,
           0.8934834373082962,
           0.8558084329366163,
           0.8379561372481883,
           0.9144304205439409,
           0.8745114722478009,
           0.9067801956050128,
           0.9112267844537612,
           0.8915339575949522,
           0.8332575063026342,
           0.8773302535640735,
           0.7707448648472909,
           0.872652591334249,
           0.8348066586670181,
           0.871908949079657,
           0.8559414177685408,
           0.8935352394211271,
           0.8998210979701743,
           0.8407329420440264,
           0.9508139620147389,
           0.8792748223875382,
           0.8225409726372604,
           0.8467070344981752,
           0.8433809289814085,
           0.8519812366950151
          ],
          [
           1.0050444718675082,
           0.9734201611172021,
           0.9960252409472858,
           0.9777770228150088,
           0.9575119918872402,
           0.9817236960706297,
           0.8969628534323235,
           1.0307971066518744,
           1.0556617389988643,
           0.9729457636323999,
           0.9384893845739217,
           1.0252064384742274,
           0.965774925173981,
           1.0003620948843133,
           0.8614020452280166,
           0.8786516857618243,
           0.9244974448302313,
           1.0466420807071066,
           1.0895630456845449,
           0.9593851794482006,
           1.079683523798549,
           1.0114124284937613,
           0.981276866958811,
           0.9413246767179295,
           0.9645191733496195,
           0.9985718700835807,
           0.993276034994966,
           0.9801974341393923,
           0.9287443861069089,
           0.9800377529731479,
           1.0156738242892982,
           1.063423744367483,
           1.0400795251425121,
           0.9242288625082715,
           1.0542330415099943,
           0.9787378158430704,
           0.9024084058945592,
           0.9650722302338506,
           0.9347207724634511,
           0.9515687630582069,
           0.900151488662519,
           0.9376368770958422,
           0.9380264042269748,
           1.0050641056277467,
           1.0018774064503473,
           0.9377493634990133,
           0.8981627852336515
          ],
          [
           0.9697487035801413,
           0.9670388224323336,
           0.9598810814705517,
           0.9755906282034414,
           0.9924068586027885,
           0.9863583010889825,
           1.000078433461667,
           1.072937651140352,
           1.0116851289381203,
           1.0210447342977325,
           0.9701448269218228,
           0.9604239462148835,
           0.9646153112594815,
           1.0142858854617522,
           1.009753336428507,
           1.0594273345936591,
           0.940795593786505,
           1.165836304125817,
           1.0399268928050642,
           1.0435316032983364,
           0.9954908807197667,
           1.0860337193174803,
           0.9737214320637059,
           0.9689712170214427,
           0.9510707577050109,
           1.0379186778713596,
           0.9480950297622315,
           0.9733076866367393,
           1.035229651160317,
           0.8946957605682822,
           0.9965082508701091,
           0.9720481944887441,
           1.008401170054542,
           0.9763441911197432,
           1.0099994102375183,
           1.0295886094407611,
           0.9115079024436756,
           0.9401290578520576,
           0.9743289812201743,
           1.0032590742156529,
           0.9634712023889087,
           0.9767518574113888,
           1.0234925254108733,
           1.0374618834524512,
           1.020828101324919,
           0.9464193515291482,
           0.9895222754074164
          ],
          [
           0.9498350162060889,
           0.9756339178988017,
           0.9836319423409126,
           1.0029279275742167,
           0.9662455309754658,
           1.0368432163880235,
           0.9294346591908842,
           0.9225557729549149,
           0.9228284045508944,
           1.0162131068842735,
           1.036010917369182,
           1.0076722458126361,
           1.0270053254441447,
           1.0816142895024932,
           1.1080482181413105,
           1.0914297310200614,
           1.0019612838660672,
           1.076142949459707,
           1.0982371661216501,
           1.0695308245381996,
           1.0714060189560644,
           0.9067700392877077,
           1.085135023936255,
           0.9920035803089812,
           1.0330523674566536,
           1.0455825137836505,
           1.0560231530527775,
           0.9798611608946676,
           1.0888209087954532,
           1.0326659679280705,
           1.0152192176719692,
           1.0637911311324983,
           1.0013911738077341,
           0.960318073150455,
           1.1401043981035066,
           0.9780992868581454,
           0.9650109903420531,
           1.0115989168290427,
           0.982748459575045,
           0.957143951429814,
           0.9655975998991634,
           1.0434422601265974,
           0.9978285411197915,
           1.001621927295528,
           1.0024578420824861,
           1.0197707609152984,
           0.9537403972458154
          ],
          [
           0.956711817382854,
           0.9954043644434484,
           0.962075088911163,
           0.9761398145844833,
           0.9720065070413603,
           1.0482939411669676,
           1.0217637713620784,
           1.0911572316899152,
           1.0531429025526762,
           1.1078913879062273,
           1.0464175818024177,
           1.0062200197890498,
           0.9838632238740416,
           1.0260102730980238,
           1.1471992278253527,
           1.1062673596121597,
           1.0257449205638434,
           1.0785699828644206,
           1.045650954834987,
           1.0227618269613692,
           1.0337303338959547,
           0.9330517964559157,
           1.0393622220100553,
           0.9778990058469974,
           0.9972990405507925,
           1.018607795178307,
           1.0522155947455356,
           1.0216712940708434,
           1.008409977862068,
           1.0470255014355467,
           1.0332936106854795,
           1.0336633161331414,
           1.0497252657777747,
           0.9703426453082602,
           0.9497199936685982,
           1.116405181045757,
           1.0598130442991087,
           1.0724428630237257,
           0.9967902797332064,
           0.9722549762386511,
           1.0152812259170736,
           0.9649616465889368,
           1.0081441712313282,
           1.0447473529535145,
           1.0225984395782095,
           1.0458162994223261,
           1.0619236778040075
          ],
          [
           0.9644633358861296,
           0.9747884535707977,
           0.9674452963034358,
           0.9860240045294875,
           0.9728725147498838,
           0.972506621495022,
           1.0832685791516512,
           1.089443845858256,
           1.004565522769505,
           0.998527627074891,
           1.1444938253290313,
           1.0201554812742633,
           1.091110625228405,
           1.0628007310912906,
           1.0709111096735044,
           1.1139146956013202,
           1.097724702924347,
           1.0680299058743397,
           1.1090315053661923,
           1.1551464094616357,
           1.191050587500361,
           0.9610417219941109,
           1.0291835719857725,
           1.0139388616033156,
           1.053286540430625,
           1.0465688891188825,
           1.040818273673692,
           0.9969519381557947,
           1.080337720514462,
           1.0600412141271003,
           1.107139950640112,
           1.1154746039769243,
           1.037258630331698,
           1.1357606505460554,
           1.0099918760770912,
           1.1384800109297213,
           1.0173277046477678,
           1.067285234119036,
           0.9788303100254743,
           0.9643546917583301,
           1.023453336222763,
           0.9540510679240404,
           1.0625109512553712,
           0.9847362569891199,
           1.0686861420499858,
           1.0475527248773466,
           1.0209218901536024
          ],
          [
           0.9667794665014151,
           0.9658809548382521,
           0.9690669516262771,
           0.9738030623703013,
           0.9663187232002812,
           1.0613811880793333,
           1.1292596220480837,
           1.174598825225345,
           1.1418690729858776,
           1.1347600058031617,
           1.2164056853608445,
           1.1253877439940814,
           1.0985642073644653,
           1.0055137769716906,
           1.020729746342144,
           1.1374077473137294,
           1.0702317870179983,
           1.1540131297951215,
           1.0181943090336674,
           1.088140894838491,
           1.0643878819564945,
           1.2658504059629043,
           0.9998113172347648,
           0.9914526887090446,
           1.0009826313757606,
           0.9886223825294789,
           1.0053314588818305,
           0.9911454751170464,
           1.0789129217507782,
           1.167427068053447,
           1.0294040310945032,
           1.0884869175851455,
           1.0332997429524013,
           1.099736502927354,
           1.0768963294721783,
           1.0214339920056559,
           1.0298505512536604,
           1.1103555109909875,
           1.0719832876377502,
           1.056491002212032,
           1.11729445983055,
           1.0142648697252221,
           0.9759385669688897,
           0.9996521255703639,
           1.0075014765080528,
           1.0529793907884806,
           1.0959805692988525
          ],
          [
           0.9752940994560819,
           0.9587897066003386,
           0.9462822518575894,
           0.9668473885112515,
           0.9998814613675603,
           1.0704890589264182,
           1.1701702244694578,
           1.1694503237149796,
           1.1494728434490635,
           1.0605224579483101,
           1.1140890123396225,
           1.0599997631998077,
           1.0813444462500885,
           1.0290172594853397,
           1.0945012859766112,
           1.0635792054699558,
           1.1694436659589476,
           1.0942779669010871,
           1.1845805954508006,
           1.0442652671161867,
           1.19071553499393,
           1.162204705985153,
           1.223328184042325,
           1.0944601424188216,
           1.0749788860456921,
           1.0335062852486212,
           1.0496142464858806,
           1.001959349822694,
           1.0993395681977258,
           1.0585787458043179,
           1.0211394391064883,
           1.1010732178790388,
           1.02761015491363,
           1.095678908124416,
           1.04223254011894,
           1.2503880782474965,
           1.0975146930521116,
           1.0426925990655913,
           1.0303326804691006,
           1.0662866996177514,
           1.0775307141708663,
           1.063585763885202,
           1.064501986580334,
           1.1228667582050325,
           1.0055667188038784,
           1.0386214586472904,
           1.030629354973051
          ],
          [
           0.9606195998360232,
           0.9419174376294559,
           0.9724552735776859,
           0.9792821647089726,
           0.9551145384355001,
           1.175594154982886,
           1.2773263342346117,
           1.2423551561731656,
           1.1137968375618723,
           1.0882756291999063,
           1.0919006092006853,
           1.0939362669659292,
           1.143180606578945,
           1.1048855939181463,
           1.0721818397261755,
           1.1599866320238643,
           1.152506547325461,
           1.2086874007693793,
           1.249953887131285,
           1.1882198604685326,
           1.1754024422313483,
           1.2885284905716128,
           1.144098437659377,
           1.119087200211777,
           1.1196202701914493,
           1.1244322435363208,
           1.1056290054124567,
           1.1383285679667743,
           1.094537515995646,
           1.1259029183915403,
           1.1201004821512026,
           1.1211291566631398,
           1.186060276859347,
           1.129151223174023,
           1.0584602750605892,
           1.015030887541262,
           1.1064609506377696,
           1.0945666439483441,
           1.1157831375685707,
           1.1416773163616687,
           1.153278008074351,
           1.0221106651753071,
           1.053466148793782,
           1.0515660405365923,
           1.1182246856653622,
           1.0992806275508076,
           1.034420458575423
          ],
          [
           0.9731149118688935,
           0.9592785613638479,
           0.9755907005771157,
           0.9761014894792142,
           0.9970279122240528,
           1.1431950037407441,
           1.0091957140961318,
           1.169727760941282,
           1.1966922943719396,
           1.1773260602567885,
           1.1697995828223247,
           1.0930144295902895,
           1.1743089349294435,
           1.1521293303361577,
           1.1539279652686782,
           1.2421785498110653,
           1.257771007390543,
           1.1933947190635512,
           1.117142790791229,
           1.190729520701588,
           1.3061353533617066,
           1.121589913991948,
           1.1658504049727016,
           1.1245603602697016,
           1.135468027845825,
           1.1303347038561822,
           1.1647503797078975,
           1.0880784059508042,
           1.1455925655140873,
           1.125710108945539,
           1.0497848589506802,
           1.0304517722440814,
           1.1773786920283884,
           1.1226165802752395,
           1.2934214635098693,
           1.121659476040217,
           1.105609653900823,
           1.0877024241838427,
           1.170322414331073,
           1.167466804931219,
           1.0321822150172326,
           1.0961118514915806,
           1.0492762040638597,
           1.0679408070948297,
           1.0998605477201133,
           1.1193152055563955,
           1.0956419962349488
          ],
          [
           0.9932594562369695,
           0.934966959274121,
           0.9165622267599255,
           0.9742099858371599,
           0.9836742019176704,
           1.0631530528412907,
           1.1946718598624537,
           1.1905840045772493,
           1.2521410491328475,
           1.1965012731657831,
           1.2679602600916362,
           1.0825818471182238,
           1.0870005115880592,
           1.0513387945374641,
           1.0850479809777975,
           0.9988046645468567,
           1.0677685384087958,
           1.2083005304419994,
           1.115630038683038,
           1.0819347246019533,
           1.1801342849321133,
           1.0952101116642878,
           1.1254219152663145,
           1.13410212376027,
           1.1116517946705367,
           1.0812875647761826,
           1.059113426715315,
           1.1580179932629928,
           1.0338063044094414,
           1.0475080595761548,
           1.0716525696038348,
           1.0892958729600668,
           1.0391213764217802,
           1.0511867331905353,
           0.9566116732888676,
           1.241661364545273,
           1.1659240194327178,
           1.082095333153582,
           1.0800684455428895,
           1.0968554708288076,
           1.0252035258204077,
           1.0488933958761841,
           1.04019523817511,
           0.9914617701072459,
           1.0913282205801333,
           1.1086107451004492,
           1.0498700891929813
          ],
          [
           1.0041990076952116,
           0.9651094980702832,
           0.9705358911115165,
           0.9657534735103485,
           0.9715217763451046,
           1.0786281057865437,
           1.081016297437404,
           1.2376573759882614,
           1.1130259521278738,
           1.1791858719947415,
           1.2279478751194526,
           1.144598623111782,
           1.1138938517021357,
           1.0887700060304137,
           1.1446694250992817,
           1.1825343500407959,
           1.1998597216878237,
           1.320006854648341,
           1.0837066867132552,
           1.2357407454840599,
           1.2139452078177746,
           1.213506045410531,
           1.1427934206669617,
           1.0694366283172658,
           1.0854694458386758,
           1.1133188077383525,
           1.142915339547034,
           1.1693717591379895,
           1.0402249228234552,
           1.1020015357447002,
           1.1134619926472709,
           1.165300446321803,
           1.0831564921380616,
           1.094535585847011,
           1.164564650694255,
           0.9821098802477513,
           1.088449019499928,
           1.019009632307705,
           1.0813502127781938,
           1.0221957602684086,
           1.0835250079356513,
           0.9820478454355424,
           0.9696258406552637,
           1.0896259705409845,
           1.0512017936853055,
           1.0906515238086236,
           1.1237163245322686
          ],
          [
           1.001730846212146,
           0.9669144070874797,
           0.9587892228606366,
           0.9772919633876392,
           0.9916148206225475,
           1.0805821794080632,
           1.145384599985234,
           1.1588128780284281,
           1.2078710089643399,
           1.294806620494762,
           1.130670539508333,
           1.2621706588660886,
           1.138637252054506,
           1.1011223119302633,
           1.1904063987613627,
           1.0702297260136413,
           0.9795437458367577,
           1.2146440631641002,
           1.1831354659127213,
           1.166256477370535,
           1.1342346464771023,
           1.1978823980161066,
           1.0895960830594764,
           1.1015631474869818,
           1.086663063705851,
           1.1302226136996252,
           1.104570445318377,
           1.1838173264149212,
           1.1810989796789617,
           1.1229131502792313,
           1.0785762607073839,
           1.1909622275372034,
           1.1749017308678595,
           1.1973776837988974,
           1.2397313876564107,
           1.084476953135066,
           1.1416875923911762,
           1.130307189859246,
           0.9974184608103455,
           1.1161947936770191,
           1.1124128038273196,
           1.0692310288625315,
           1.006021210822141,
           1.1760995843895934,
           1.1250344892232822,
           1.1376178136362771,
           1.1653177651230857
          ],
          [
           0.9791915111525633,
           0.9736095810393873,
           0.9759034125184888,
           0.9918856827815553,
           0.9618879742941321,
           1.0221485810575166,
           1.2972174137539438,
           1.247059240644217,
           1.2136293627104793,
           1.2153071880838158,
           1.2020955472193342,
           1.1963900028215972,
           1.2076934428534176,
           1.1839747307686666,
           1.286655844091934,
           1.3796643901708139,
           1.1907337063763892,
           1.3456108146846197,
           1.24527709817,
           1.2701603633418603,
           1.1457415991254982,
           1.2028403644940906,
           1.2815960598352858,
           1.237170011174552,
           1.1786755486478204,
           1.171971143682292,
           1.1095138455509233,
           1.1996993107328926,
           1.0531227155175282,
           1.0697800923537575,
           1.124234628880289,
           1.108190374825982,
           1.1959253277954212,
           1.120365698755073,
           1.2401281368461838,
           0.9647557483968707,
           1.2378052064990077,
           1.1985878384704851,
           1.2070714673466232,
           1.246463277186013,
           1.1845344547601524,
           1.1197473965215765,
           1.117212824427444,
           1.106541606462943,
           1.141246565260808,
           1.1765774235557858,
           1.1889773992582635
          ],
          [
           0.9834055472045512,
           0.9442618223961543,
           0.9779146370119389,
           0.9687171102169461,
           0.9591787286959506,
           1.0324774918781945,
           1.259696023625369,
           1.3293441637606402,
           1.253405465572238,
           1.1438084987823736,
           1.2283771789448676,
           1.1498421293641836,
           1.2074201711947088,
           1.1041658894531936,
           1.0842952377857265,
           1.1244121014702597,
           1.2544494162652957,
           1.2849078074238582,
           1.1940110630563407,
           1.2854440772404212,
           1.2028968915366063,
           1.125869337286043,
           1.2219287878314196,
           1.1728441228454405,
           1.153440569885222,
           1.082281162228676,
           1.2262683067242173,
           1.209866965962232,
           1.2078290174584918,
           1.246167856801112,
           1.237118561067933,
           1.2075719445003006,
           1.271365990628617,
           1.3052073851029142,
           1.2549360620804149,
           1.1853963023438692,
           1.1772829472014232,
           1.1554947840439358,
           1.184778845452489,
           1.241655716684111,
           1.3365278486471655,
           1.1113118433976692,
           1.0977580394139708,
           1.115215129048926,
           1.1197572304277343,
           1.1561202352877291,
           1.0280898563533594
          ]
         ],
         "zmax": 1.5,
         "zmin": 0.5
        }
       ],
       "layout": {
        "coloraxis": {
         "colorbar": {
          "title": {
           "text": "Odds ratio"
          }
         }
        },
        "height": 300,
        "margin": {
         "b": 20,
         "l": 1,
         "r": 1,
         "t": 20
        },
        "template": {
         "data": {
          "bar": [
           {
            "error_x": {
             "color": "#2a3f5f"
            },
            "error_y": {
             "color": "#2a3f5f"
            },
            "marker": {
             "line": {
              "color": "#E5ECF6",
              "width": 0.5
             }
            },
            "type": "bar"
           }
          ],
          "barpolar": [
           {
            "marker": {
             "line": {
              "color": "#E5ECF6",
              "width": 0.5
             }
            },
            "type": "barpolar"
           }
          ],
          "carpet": [
           {
            "aaxis": {
             "endlinecolor": "#2a3f5f",
             "gridcolor": "white",
             "linecolor": "white",
             "minorgridcolor": "white",
             "startlinecolor": "#2a3f5f"
            },
            "baxis": {
             "endlinecolor": "#2a3f5f",
             "gridcolor": "white",
             "linecolor": "white",
             "minorgridcolor": "white",
             "startlinecolor": "#2a3f5f"
            },
            "type": "carpet"
           }
          ],
          "choropleth": [
           {
            "colorbar": {
             "outlinewidth": 0,
             "ticks": ""
            },
            "type": "choropleth"
           }
          ],
          "contour": [
           {
            "colorbar": {
             "outlinewidth": 0,
             "ticks": ""
            },
            "colorscale": [
             [
              0,
              "#0d0887"
             ],
             [
              0.1111111111111111,
              "#46039f"
             ],
             [
              0.2222222222222222,
              "#7201a8"
             ],
             [
              0.3333333333333333,
              "#9c179e"
             ],
             [
              0.4444444444444444,
              "#bd3786"
             ],
             [
              0.5555555555555556,
              "#d8576b"
             ],
             [
              0.6666666666666666,
              "#ed7953"
             ],
             [
              0.7777777777777778,
              "#fb9f3a"
             ],
             [
              0.8888888888888888,
              "#fdca26"
             ],
             [
              1,
              "#f0f921"
             ]
            ],
            "type": "contour"
           }
          ],
          "contourcarpet": [
           {
            "colorbar": {
             "outlinewidth": 0,
             "ticks": ""
            },
            "type": "contourcarpet"
           }
          ],
          "heatmap": [
           {
            "colorbar": {
             "outlinewidth": 0,
             "ticks": ""
            },
            "colorscale": [
             [
              0,
              "#0d0887"
             ],
             [
              0.1111111111111111,
              "#46039f"
             ],
             [
              0.2222222222222222,
              "#7201a8"
             ],
             [
              0.3333333333333333,
              "#9c179e"
             ],
             [
              0.4444444444444444,
              "#bd3786"
             ],
             [
              0.5555555555555556,
              "#d8576b"
             ],
             [
              0.6666666666666666,
              "#ed7953"
             ],
             [
              0.7777777777777778,
              "#fb9f3a"
             ],
             [
              0.8888888888888888,
              "#fdca26"
             ],
             [
              1,
              "#f0f921"
             ]
            ],
            "type": "heatmap"
           }
          ],
          "heatmapgl": [
           {
            "colorbar": {
             "outlinewidth": 0,
             "ticks": ""
            },
            "colorscale": [
             [
              0,
              "#0d0887"
             ],
             [
              0.1111111111111111,
              "#46039f"
             ],
             [
              0.2222222222222222,
              "#7201a8"
             ],
             [
              0.3333333333333333,
              "#9c179e"
             ],
             [
              0.4444444444444444,
              "#bd3786"
             ],
             [
              0.5555555555555556,
              "#d8576b"
             ],
             [
              0.6666666666666666,
              "#ed7953"
             ],
             [
              0.7777777777777778,
              "#fb9f3a"
             ],
             [
              0.8888888888888888,
              "#fdca26"
             ],
             [
              1,
              "#f0f921"
             ]
            ],
            "type": "heatmapgl"
           }
          ],
          "histogram": [
           {
            "marker": {
             "colorbar": {
              "outlinewidth": 0,
              "ticks": ""
             }
            },
            "type": "histogram"
           }
          ],
          "histogram2d": [
           {
            "colorbar": {
             "outlinewidth": 0,
             "ticks": ""
            },
            "colorscale": [
             [
              0,
              "#0d0887"
             ],
             [
              0.1111111111111111,
              "#46039f"
             ],
             [
              0.2222222222222222,
              "#7201a8"
             ],
             [
              0.3333333333333333,
              "#9c179e"
             ],
             [
              0.4444444444444444,
              "#bd3786"
             ],
             [
              0.5555555555555556,
              "#d8576b"
             ],
             [
              0.6666666666666666,
              "#ed7953"
             ],
             [
              0.7777777777777778,
              "#fb9f3a"
             ],
             [
              0.8888888888888888,
              "#fdca26"
             ],
             [
              1,
              "#f0f921"
             ]
            ],
            "type": "histogram2d"
           }
          ],
          "histogram2dcontour": [
           {
            "colorbar": {
             "outlinewidth": 0,
             "ticks": ""
            },
            "colorscale": [
             [
              0,
              "#0d0887"
             ],
             [
              0.1111111111111111,
              "#46039f"
             ],
             [
              0.2222222222222222,
              "#7201a8"
             ],
             [
              0.3333333333333333,
              "#9c179e"
             ],
             [
              0.4444444444444444,
              "#bd3786"
             ],
             [
              0.5555555555555556,
              "#d8576b"
             ],
             [
              0.6666666666666666,
              "#ed7953"
             ],
             [
              0.7777777777777778,
              "#fb9f3a"
             ],
             [
              0.8888888888888888,
              "#fdca26"
             ],
             [
              1,
              "#f0f921"
             ]
            ],
            "type": "histogram2dcontour"
           }
          ],
          "mesh3d": [
           {
            "colorbar": {
             "outlinewidth": 0,
             "ticks": ""
            },
            "type": "mesh3d"
           }
          ],
          "parcoords": [
           {
            "line": {
             "colorbar": {
              "outlinewidth": 0,
              "ticks": ""
             }
            },
            "type": "parcoords"
           }
          ],
          "pie": [
           {
            "automargin": true,
            "type": "pie"
           }
          ],
          "scatter": [
           {
            "marker": {
             "colorbar": {
              "outlinewidth": 0,
              "ticks": ""
             }
            },
            "type": "scatter"
           }
          ],
          "scatter3d": [
           {
            "line": {
             "colorbar": {
              "outlinewidth": 0,
              "ticks": ""
             }
            },
            "marker": {
             "colorbar": {
              "outlinewidth": 0,
              "ticks": ""
             }
            },
            "type": "scatter3d"
           }
          ],
          "scattercarpet": [
           {
            "marker": {
             "colorbar": {
              "outlinewidth": 0,
              "ticks": ""
             }
            },
            "type": "scattercarpet"
           }
          ],
          "scattergeo": [
           {
            "marker": {
             "colorbar": {
              "outlinewidth": 0,
              "ticks": ""
             }
            },
            "type": "scattergeo"
           }
          ],
          "scattergl": [
           {
            "marker": {
             "colorbar": {
              "outlinewidth": 0,
              "ticks": ""
             }
            },
            "type": "scattergl"
           }
          ],
          "scattermapbox": [
           {
            "marker": {
             "colorbar": {
              "outlinewidth": 0,
              "ticks": ""
             }
            },
            "type": "scattermapbox"
           }
          ],
          "scatterpolar": [
           {
            "marker": {
             "colorbar": {
              "outlinewidth": 0,
              "ticks": ""
             }
            },
            "type": "scatterpolar"
           }
          ],
          "scatterpolargl": [
           {
            "marker": {
             "colorbar": {
              "outlinewidth": 0,
              "ticks": ""
             }
            },
            "type": "scatterpolargl"
           }
          ],
          "scatterternary": [
           {
            "marker": {
             "colorbar": {
              "outlinewidth": 0,
              "ticks": ""
             }
            },
            "type": "scatterternary"
           }
          ],
          "surface": [
           {
            "colorbar": {
             "outlinewidth": 0,
             "ticks": ""
            },
            "colorscale": [
             [
              0,
              "#0d0887"
             ],
             [
              0.1111111111111111,
              "#46039f"
             ],
             [
              0.2222222222222222,
              "#7201a8"
             ],
             [
              0.3333333333333333,
              "#9c179e"
             ],
             [
              0.4444444444444444,
              "#bd3786"
             ],
             [
              0.5555555555555556,
              "#d8576b"
             ],
             [
              0.6666666666666666,
              "#ed7953"
             ],
             [
              0.7777777777777778,
              "#fb9f3a"
             ],
             [
              0.8888888888888888,
              "#fdca26"
             ],
             [
              1,
              "#f0f921"
             ]
            ],
            "type": "surface"
           }
          ],
          "table": [
           {
            "cells": {
             "fill": {
              "color": "#EBF0F8"
             },
             "line": {
              "color": "white"
             }
            },
            "header": {
             "fill": {
              "color": "#C8D4E3"
             },
             "line": {
              "color": "white"
             }
            },
            "type": "table"
           }
          ]
         },
         "layout": {
          "annotationdefaults": {
           "arrowcolor": "#2a3f5f",
           "arrowhead": 0,
           "arrowwidth": 1
          },
          "coloraxis": {
           "colorbar": {
            "outlinewidth": 0,
            "ticks": ""
           }
          },
          "colorscale": {
           "diverging": [
            [
             0,
             "#8e0152"
            ],
            [
             0.1,
             "#c51b7d"
            ],
            [
             0.2,
             "#de77ae"
            ],
            [
             0.3,
             "#f1b6da"
            ],
            [
             0.4,
             "#fde0ef"
            ],
            [
             0.5,
             "#f7f7f7"
            ],
            [
             0.6,
             "#e6f5d0"
            ],
            [
             0.7,
             "#b8e186"
            ],
            [
             0.8,
             "#7fbc41"
            ],
            [
             0.9,
             "#4d9221"
            ],
            [
             1,
             "#276419"
            ]
           ],
           "sequential": [
            [
             0,
             "#0d0887"
            ],
            [
             0.1111111111111111,
             "#46039f"
            ],
            [
             0.2222222222222222,
             "#7201a8"
            ],
            [
             0.3333333333333333,
             "#9c179e"
            ],
            [
             0.4444444444444444,
             "#bd3786"
            ],
            [
             0.5555555555555556,
             "#d8576b"
            ],
            [
             0.6666666666666666,
             "#ed7953"
            ],
            [
             0.7777777777777778,
             "#fb9f3a"
            ],
            [
             0.8888888888888888,
             "#fdca26"
            ],
            [
             1,
             "#f0f921"
            ]
           ],
           "sequentialminus": [
            [
             0,
             "#0d0887"
            ],
            [
             0.1111111111111111,
             "#46039f"
            ],
            [
             0.2222222222222222,
             "#7201a8"
            ],
            [
             0.3333333333333333,
             "#9c179e"
            ],
            [
             0.4444444444444444,
             "#bd3786"
            ],
            [
             0.5555555555555556,
             "#d8576b"
            ],
            [
             0.6666666666666666,
             "#ed7953"
            ],
            [
             0.7777777777777778,
             "#fb9f3a"
            ],
            [
             0.8888888888888888,
             "#fdca26"
            ],
            [
             1,
             "#f0f921"
            ]
           ]
          },
          "colorway": [
           "#636efa",
           "#EF553B",
           "#00cc96",
           "#ab63fa",
           "#FFA15A",
           "#19d3f3",
           "#FF6692",
           "#B6E880",
           "#FF97FF",
           "#FECB52"
          ],
          "font": {
           "color": "#2a3f5f"
          },
          "geo": {
           "bgcolor": "white",
           "lakecolor": "white",
           "landcolor": "#E5ECF6",
           "showlakes": true,
           "showland": true,
           "subunitcolor": "white"
          },
          "hoverlabel": {
           "align": "left"
          },
          "hovermode": "closest",
          "mapbox": {
           "style": "light"
          },
          "paper_bgcolor": "white",
          "plot_bgcolor": "#E5ECF6",
          "polar": {
           "angularaxis": {
            "gridcolor": "white",
            "linecolor": "white",
            "ticks": ""
           },
           "bgcolor": "#E5ECF6",
           "radialaxis": {
            "gridcolor": "white",
            "linecolor": "white",
            "ticks": ""
           }
          },
          "scene": {
           "xaxis": {
            "backgroundcolor": "#E5ECF6",
            "gridcolor": "white",
            "gridwidth": 2,
            "linecolor": "white",
            "showbackground": true,
            "ticks": "",
            "zerolinecolor": "white"
           },
           "yaxis": {
            "backgroundcolor": "#E5ECF6",
            "gridcolor": "white",
            "gridwidth": 2,
            "linecolor": "white",
            "showbackground": true,
            "ticks": "",
            "zerolinecolor": "white"
           },
           "zaxis": {
            "backgroundcolor": "#E5ECF6",
            "gridcolor": "white",
            "gridwidth": 2,
            "linecolor": "white",
            "showbackground": true,
            "ticks": "",
            "zerolinecolor": "white"
           }
          },
          "shapedefaults": {
           "line": {
            "color": "#2a3f5f"
           }
          },
          "ternary": {
           "aaxis": {
            "gridcolor": "white",
            "linecolor": "white",
            "ticks": ""
           },
           "baxis": {
            "gridcolor": "white",
            "linecolor": "white",
            "ticks": ""
           },
           "bgcolor": "#E5ECF6",
           "caxis": {
            "gridcolor": "white",
            "linecolor": "white",
            "ticks": ""
           }
          },
          "title": {
           "x": 0.05
          },
          "xaxis": {
           "automargin": true,
           "gridcolor": "white",
           "linecolor": "white",
           "ticks": "",
           "title": {
            "standoff": 15
           },
           "zerolinecolor": "white",
           "zerolinewidth": 2
          },
          "yaxis": {
           "automargin": true,
           "gridcolor": "white",
           "linecolor": "white",
           "ticks": "",
           "title": {
            "standoff": 15
           },
           "zerolinecolor": "white",
           "zerolinewidth": 2
          }
         }
        },
        "width": 700,
        "xaxis": {
         "anchor": "y",
         "domain": [
          0,
          0.4875
         ],
         "showticklabels": false,
         "title": {
          "text": "Enhancing kmers"
         }
        },
        "xaxis2": {
         "anchor": "y2",
         "domain": [
          0.5125,
          1
         ],
         "showticklabels": false,
         "title": {
          "text": "Repressing kmers"
         }
        },
        "yaxis": {
         "anchor": "x",
         "domain": [
          0,
          1
         ],
         "title": {
          "text": "Distance from CpG"
         }
        },
        "yaxis2": {
         "anchor": "x2",
         "domain": [
          0,
          1
         ],
         "matches": "y",
         "showticklabels": false
        }
       }
      },
      "text/html": [
       "<div>\n",
       "        \n",
       "        \n",
       "            <div id=\"eb68e32a-701f-45d1-8af0-b454a7c35537\" class=\"plotly-graph-div\" style=\"height:300px; width:700px;\"></div>\n",
       "            <script type=\"text/javascript\">\n",
       "                require([\"plotly\"], function(Plotly) {\n",
       "                    window.PLOTLYENV=window.PLOTLYENV || {};\n",
       "                    \n",
       "                if (document.getElementById(\"eb68e32a-701f-45d1-8af0-b454a7c35537\")) {\n",
       "                    Plotly.newPlot(\n",
       "                        'eb68e32a-701f-45d1-8af0-b454a7c35537',\n",
       "                        [{\"coloraxis\": \"coloraxis\", \"type\": \"heatmap\", \"x\": [\"ATTAG\", \"TAAAG\", \"TAATG\", \"TTTAG\", \"ACAAA\", \"TTACA\", \"ATATG\", \"ATGTA\", \"ACATA\", \"AAGTA\", \"AACAT\", \"TATAG\", \"TTAGG\", \"TGGAG\", \"AATGG\", \"ATGGA\", \"ATCCA\", \"AGCTA\", \"TAGGA\", \"TAGCA\", \"AACTT\", \"TACAG\", \"TTGCA\", \"ATCTG\", \"TGTAG\", \"TTTGG\", \"AGATG\", \"AAGCA\", \"AACCA\", \"AAGCT\", \"ATGGT\", \"TACCA\", \"TTCTG\", \"TGAAG\", \"ATGCT\", \"AATGC\", \"TATGG\", \"TGTTG\", \"TGATG\", \"ATCAG\", \"TCTTG\", \"ACAAG\", \"AGAAC\", \"ACCTA\", \"ATACC\", \"AGGTA\", \"AAGGT\", \"TACTG\", \"TGCAG\", \"AGCTG\"], \"xaxis\": \"x\", \"y\": [0, 20, 40, 60, 80, 100, 120, 140, 160, 180, 200, 220, 240, 260, 280, 300, 320, 340, 360, 380, 400, 420, 440, 460, 480], \"yaxis\": \"y\", \"z\": [[1.217612859331983, 1.1746828526329773, 1.1563257974120766, 1.0930373733408634, 0.9779108440750647, 0.992323352840283, 1.0927179607237478, 1.079483201484043, 1.0193665744697293, 1.0611384627755185, 1.106904286634972, 1.091446878523868, 1.0172758346010626, 1.1423493020709488, 1.1211710672966058, 1.2021862549209714, 1.2167959222503442, 1.1742656115106196, 1.1383079174833897, 1.1430393963934302, 1.100335608627893, 1.022062734328336, 1.0080360934879926, 1.0404802780686992, 1.1273504665151999, 1.0972026025175066, 1.1490161057414667, 1.1510713554006222, 1.1520085908062443, 1.1546164642514987, 1.117352130860733, 1.0639085271848012, 1.083805409216035, 1.0982717808585682, 1.1337691212371193, 1.1538784772279398, 1.1496110082446287, 1.11430342363119, 1.1401467869141035, 1.1137164597345555, 1.1779566283941443, 1.147097803453263, 1.2293340932348356, 1.040592475109551, 0.9977014649987164, 0.8417652363909629, 0.9847293005189753, 1.0272918179641657, 0.974575289257578, 1.0984381254413969], [1.2211008604625817, 1.161564290714995, 1.167128425150161, 1.1609043479755226, 1.076493227473189, 1.0693140380265584, 1.083871505527991, 1.0530266408207114, 1.0055161372277395, 1.049099270291578, 1.0608281549360794, 1.0964194414472104, 1.1574525385306351, 1.1787514065060778, 1.188937181465214, 1.1907723895603022, 1.1728321570268392, 1.1440977495087568, 1.1699839900213267, 1.1434789108588008, 1.1576663303138275, 1.1120687384293564, 1.1088647614107585, 1.1584613610505747, 1.1105839390161427, 1.1365561565615274, 1.1497780175717107, 1.1047909362324344, 1.1249146792759745, 1.1182273874007795, 1.1059079990008265, 1.0940308955184814, 1.098270720225224, 1.136024174727454, 1.1013983363412705, 1.1369032637100338, 1.1129039363251632, 1.1065291908605117, 1.0910781412390402, 1.0871013514158954, 1.152017087276151, 1.133318204749181, 1.1021964862935802, 1.0842747612140466, 1.060770415392945, 1.0343850060260613, 1.0366187391881423, 1.0829363007704418, 1.0802680441321497, 1.0502742800027396], [1.1696782234881993, 1.1533117777614275, 1.1380126189754136, 1.159234172143914, 1.0751397277355086, 1.0918869128469872, 1.049335299738256, 1.0467346365391847, 1.0397857720315182, 1.0426942821185636, 1.0622192067205234, 1.055270016094105, 1.1038163292005565, 1.057649086980736, 1.070501223503206, 1.1113153827912088, 1.1391608160804736, 1.1269573212235502, 1.0818891261212564, 1.138239908256672, 1.0763505698204874, 1.0660667334918008, 1.0828647438931067, 1.0608233252414159, 1.1038088735323917, 1.0904551655053625, 1.0822406336816024, 1.0487452874712013, 1.0568894997494234, 1.078681576057659, 1.0346531512345751, 1.081064991401037, 1.0888364084717828, 1.0665968536577901, 1.0743874902765347, 1.056299790020799, 1.0598896414289567, 1.057019044662829, 1.0711926991778833, 1.0468823094669144, 1.0608839730256572, 1.039980775587456, 1.0148044494273134, 1.030875317839127, 0.9876308545718744, 1.0428330504853713, 1.01219841356596, 1.0675926828196236, 1.0601677149507893, 0.9868633618604095], [1.1216995689232643, 1.1017416793894148, 1.112800162105836, 1.1515912531776606, 1.0506305813663819, 1.0853571500418795, 1.055353895246734, 1.0473935076202132, 1.0439145383715243, 1.0818167644826295, 1.0412426729332738, 1.0361537571304966, 1.0115578553996243, 1.022181841504312, 1.0759391231789153, 1.0628716695361449, 1.0005399363273195, 1.090563806795023, 1.0663150087605722, 1.0278334945107117, 1.0295501490436878, 1.044479669353361, 1.0645734041903734, 1.0462345423442008, 1.0244730617961724, 1.0408139689092637, 1.0254488107559787, 1.0132564568199929, 1.0172726241560823, 1.0260902335153863, 1.022774634440936, 0.9942964908619473, 1.0382824122968684, 1.0224869757154216, 0.9992174034667729, 1.0128904341233924, 0.9929697545425845, 0.9873109472471311, 1.0107476137637113, 0.9701908485460831, 1.021203384060646, 1.0130760074820375, 0.9743339013566604, 0.9641925881642911, 0.9412112136243498, 1.0114390021662334, 1.0294762081943578, 1.0135573508206823, 0.9921296826579346, 0.9567553253225107], [1.0922115278706346, 1.0990540892339764, 1.0692649065238675, 1.13285261818782, 1.0584501633998455, 1.0892501651380226, 1.0632220904937824, 1.0579181196379914, 1.0739723944607564, 1.0620901001863674, 1.0312585196212298, 1.1506570947167412, 1.0907796422896017, 0.9592992989802831, 0.9887795806432593, 0.9927026575879865, 0.9849835660860878, 0.9911218441896124, 1.0546254999268327, 1.0387900633066245, 1.0609810324493205, 1.0287240694748174, 1.0041999464931948, 1.0277086187572226, 1.0034461802679184, 1.0328945451247646, 1.0031171530929055, 0.9993776976544227, 1.0052905358876723, 0.9777475612760349, 0.9342024507434745, 0.9767365376743197, 0.9857813120129002, 0.9883660596998985, 0.9576614261965452, 0.9664152333769548, 0.9392543684676254, 0.9716390378043465, 0.9673923555148323, 0.9649772601455048, 0.9710630625837376, 1.0189976681719892, 0.9520871343910196, 1.042838400997332, 0.979951424605015, 1.0839340979932448, 1.0231077592071516, 0.9765167772897233, 0.9396752573261996, 0.9147075331409347], [1.1105970963135905, 1.0898636765714074, 1.0955114619258526, 1.090335820728882, 1.0687679276222921, 1.0742702175805294, 1.1324128257674648, 1.1006413706590275, 1.1106498492593426, 1.0625509738493664, 1.0487470831018553, 1.1669670993318164, 1.062493082645973, 0.9938979408028101, 0.984416316100773, 0.9976183840106001, 0.9890769559159915, 1.0551884167460208, 1.0590664928885387, 1.065077709035029, 1.0506194765978107, 0.963068879152284, 0.9475564641725693, 0.9534115333332477, 1.0120196959570817, 0.988582146248775, 0.9570940761085974, 0.9868470274973317, 0.9558238660355454, 0.9373480897004322, 0.9319794317930491, 0.9995882374767003, 1.0147685303954947, 0.990001746807296, 0.9974220706893644, 0.972521921722723, 1.0004923525682565, 0.9724299225239279, 1.006750440568034, 1.0125488411319528, 1.000203104446573, 0.9892361284845347, 0.9305209811591064, 1.0059261236347785, 0.9850956444668166, 0.953606177393016, 0.9365090874264478, 0.9255679281678495, 0.8808048257029634, 0.9556844635276835], [1.0553025824107445, 1.0127472724293294, 1.0474119885604114, 1.0500375992746553, 0.9913656757142676, 1.0285137898654366, 1.0657256033705569, 1.030108897860491, 1.0322444629695462, 0.9959736388650863, 1.0086976314528642, 1.1131754940596459, 1.0456523685160721, 0.9745065902408542, 0.9676395012637112, 0.9662581395939148, 0.9886527982939414, 0.9334263836229666, 0.9973841082658731, 0.9714431062420773, 0.9964955299595741, 0.9396398364566761, 0.9879757593021857, 0.9122174550965112, 0.9409664346318334, 0.9575313366439329, 0.9679481232872782, 0.9435320670919829, 0.9091868881013139, 0.9468021681410734, 0.9335295989834731, 0.956602907514629, 0.952908145245116, 0.9318488336324409, 0.9626042343057659, 0.9842423841546913, 1.0030912437598416, 0.9194717363350194, 0.9396048806998439, 0.9004731944897462, 0.9700043357533491, 0.9298784049007839, 0.952231838467051, 1.008836632116656, 0.9986210773364551, 0.9689904861349102, 0.9429313541502216, 0.92541901393272, 0.8884904058241861, 0.8946862832329319], [1.0195658247040857, 1.0177703508730767, 1.0112771876572855, 1.0377723819896123, 1.009925059416362, 1.0351628405313655, 1.0276076461029606, 1.0325059098462195, 1.02166248877917, 0.981722647700834, 1.0004058230496629, 1.0483408536147176, 1.032825556461864, 0.9076917590375976, 0.973636481200109, 0.9592694028663926, 0.9549009668818065, 0.9591194796240325, 0.9921833730479898, 0.9706610021065482, 0.9804166887892349, 0.9764080954642033, 1.0044172140447067, 0.9858435989479164, 1.0002142761473862, 0.9906103153582708, 0.9966530178938072, 0.971218833047156, 0.9947964813149308, 1.0120688862584188, 0.9769888193125288, 1.0081575198160357, 0.9404866044587916, 0.9264349357391688, 0.963127620958146, 0.9711674906514383, 0.9758523515859918, 0.9040665983620076, 0.9259979561456707, 0.9498151191827112, 0.9374617303846983, 0.9365491547205761, 0.9271652037358732, 1.0284250559263668, 1.0206047095809911, 1.0286533442178651, 0.9775737749469938, 0.9672094508549484, 0.9521780057571662, 0.9236277510490409], [1.0173703384227306, 1.0022465917485852, 1.0249270123127272, 1.0292432252057846, 0.9880953799837155, 1.0142146065864395, 1.058400496318694, 1.0281227093812668, 1.0405194178097708, 1.0117740744225803, 1.0029225634061119, 1.0401763523748515, 1.0336834912230002, 0.9595734541429876, 0.9800345027080127, 0.9803454192393521, 0.9767594252670861, 0.9906900972344395, 1.008074359882919, 0.9852840991258622, 1.0018435868892597, 1.0516598647989146, 1.0043888651779795, 0.9873885593847884, 1.009677593831429, 0.9873983274041954, 0.9803465003083501, 0.9909980782305912, 0.9837158728204063, 0.9521277288662515, 1.0167143588210386, 1.0452604500100928, 1.0149595268235467, 0.9744680435391643, 0.9662709365247184, 0.9878119391807747, 1.030358994230563, 0.9581626776825533, 0.9586461479983707, 0.96556888290815, 0.9890498192926858, 0.9558046608168381, 0.987556662242618, 1.047328116128645, 1.0651364300163446, 1.0724794828550752, 0.9918404431163315, 0.9895789826473911, 1.02633478784466, 0.9463343021806563], [1.012188048365839, 1.0050138808265214, 1.0306273772871026, 1.011636257497461, 0.9957598955662423, 1.0062059465693878, 1.0090316268828599, 1.0005928896479241, 1.0094614430773587, 1.0369629189884781, 1.030346142165729, 1.0167840349730946, 0.9859247493760751, 0.9554669013747061, 0.9757436309941918, 1.00946339835316, 1.005989491694462, 1.0366121807651285, 0.9894891731935451, 1.0030543938431835, 1.0093357153039817, 1.005723905071282, 0.9594278936376538, 0.9855623873946893, 1.018662203559569, 1.0180129063564116, 1.0158509548626453, 1.0232380942609598, 0.973569493624973, 0.9780782910859152, 0.9789489143552587, 0.9799247448832652, 0.9678562075380738, 1.0094247526523021, 1.0420744387790295, 1.008607024990203, 1.0241685054644887, 1.0162250222429392, 0.9954025099851914, 0.9848659474607967, 0.9850521476029903, 0.9623259975518719, 0.9714604807147983, 1.0377697804358634, 1.027339232324186, 1.0824662714331605, 1.0238425865113487, 1.0268067146056732, 0.9889671008185359, 0.9964112839593895], [1.0174875368171763, 0.9852446347379853, 1.0294255383648163, 1.0177421005129, 1.001464787259218, 1.015120718573527, 1.0266914834959007, 1.0341036908396999, 1.0254284191468142, 1.0220640052564705, 1.00142884837128, 1.0198908754398388, 1.0234530484093167, 1.019776867583616, 1.0436034218310413, 0.9941637220778885, 0.9925477647987327, 1.0198727985179266, 0.9951029105784235, 1.0101749897624475, 1.0284207885014214, 1.0054204390189376, 0.9935157460816686, 1.0310257390327322, 1.0705913670166605, 1.025916303745572, 1.0136557495667464, 1.0350477388721175, 1.0209474172661628, 1.039753630917288, 1.0435977887906955, 1.0319564611574015, 1.018061781628188, 1.02673712886359, 1.0119198200139992, 1.0233013249155187, 1.045746160568598, 0.9919703986491862, 1.056667893974328, 1.0158643151217523, 1.014916923117849, 1.0158574766654929, 1.006323029112815, 1.015668098350675, 1.0251750326334303, 1.0149505798513494, 0.979816979984568, 0.9828142720927773, 1.0204224311991408, 1.0445550927814051], [1.0127267751356863, 0.9577067587572686, 1.0095141207752207, 1.005665785290687, 1.015956668680739, 1.0034972396501929, 0.9923775675068822, 0.9978741099576095, 1.0017638136969178, 0.9736357818129808, 0.9907228774818861, 0.9723087346233694, 0.9385024386859653, 1.0444404516957484, 1.003371468549323, 1.0085172936917708, 1.0146319030992856, 1.020740726292472, 0.963045261624696, 1.015196183246913, 0.9806955113400891, 0.9917150706203003, 1.027873087620989, 1.0214977986508955, 1.0010569912365774, 0.9841929963666518, 1.0089902773211297, 0.9867595493624786, 0.9799142729272747, 0.9925511446597389, 1.0065925112720597, 1.0335174924060528, 0.9816505799520926, 0.9853397573577354, 1.0028660008245678, 0.9997714641111901, 1.0237611286132473, 0.9915115183218633, 1.0100035284924183, 1.0293369592611898, 0.9940490966610812, 1.0028499854797086, 0.9933796958074002, 0.9129609301535447, 1.009433345615921, 0.9393935501747771, 0.9240564073763531, 1.000469728775759, 0.9807162724021634, 1.0474124214190355], [0.9777988868954057, 1.004762222474641, 1.0004138333725292, 0.992975652445965, 1.0134505232298772, 0.9785555341580097, 0.9632158539219016, 0.9670055966123722, 0.9527752492196707, 0.9763632291331731, 0.9905674979068507, 1.002183362307507, 0.9806017870068341, 1.0094328774438521, 0.9864637640266197, 0.9869254779698307, 0.98166740812831, 1.0079917963345535, 1.0121117127093289, 1.0025863754321784, 0.9760756790411186, 1.0392886685341414, 1.0143248518465708, 1.0074850430138738, 0.9771683084329047, 1.0019497488967835, 1.0269726319128996, 1.0051026465094488, 1.0059553950906712, 1.043799749567635, 1.0112547756426282, 1.0026749555250598, 1.032659678283082, 1.0243671241846275, 1.0087648288849307, 1.021638710423207, 1.0069720720466993, 0.9607389134073012, 1.0035342987230353, 1.004139254251376, 1.0048792769815162, 0.9964877552341086, 0.9796844379903761, 1.0067993599068468, 1.0214538742379407, 0.9882818484262641, 1.0264098817164025, 1.0259331378885166, 1.0326730217664624, 1.0262085423531682], [0.9993140919617697, 0.9612546512880632, 0.9718248963406321, 0.9551986143244563, 0.9805873699507819, 0.9771728061527053, 0.9767585022150209, 0.9702370581085118, 0.9715682197128783, 0.9664941107789767, 0.991085186054409, 0.9648487778768766, 1.0122645211930927, 0.970221894651505, 1.0036032648428557, 0.9929830139166652, 1.0128423099645718, 0.989654935614316, 0.9995775929740373, 0.9770744082216778, 0.9896454410379775, 0.9961954388973056, 1.0606898106720613, 1.0224897572746603, 1.0008616736936753, 0.9858621542183009, 0.9882570063941758, 0.9945733193170249, 1.0137322368726527, 0.9909834637838418, 1.0438937021374872, 1.0201059128757537, 1.0053681723727548, 1.018094331733024, 1.0102858233251213, 1.0282310985025422, 1.0215309400998185, 0.998341601822903, 0.9856915917033039, 0.9986883097533811, 0.9704122651753607, 0.9662068048774827, 1.012160551550855, 1.0002702942975088, 0.999156750312509, 0.975448241777954, 0.9930165310887815, 1.0008894564794022, 1.0839825506394698, 1.0639726443660569], [0.9486759983600044, 0.978307869194282, 0.9599006971848093, 0.9533803419931077, 0.9690513767504263, 0.9767059502202529, 0.9708013233343961, 0.9793411763506457, 0.9835214127498283, 1.0001638357138773, 0.9955113001727018, 0.9756857835016817, 0.9524575292091685, 0.9817892962197428, 0.9651840070396736, 0.9647552038917264, 0.9952982130219461, 0.9909300423951682, 0.9642806905849965, 0.9628693906595561, 0.9939311321681816, 0.9784371386299759, 1.0043515635989237, 1.0417567633099742, 1.0349904455668282, 1.0049682051201057, 0.9860452850184563, 0.9905745979174385, 1.0095072582016704, 1.027494237298493, 1.0278957455786055, 1.023589046202167, 1.026253609415996, 1.0110213333573548, 1.0305965281300216, 0.997430133077685, 0.9910675487279986, 1.0147691014329538, 1.0059930304733657, 1.0573394897247304, 1.0103313565520473, 1.0150374316189201, 1.0279695323801772, 1.0137338201419308, 1.017471053843045, 1.019532150932397, 0.9805597386426487, 0.9906195184594666, 1.0957944821396326, 1.0016480578861626], [0.9404697814941739, 0.9706810886930226, 0.9462572800902695, 0.9794577042722217, 0.9951784165977513, 0.9598339571600912, 0.9841719380886857, 0.9809138503097704, 0.9871789946330455, 0.9550322603007241, 0.9735081798861228, 0.9532949730133481, 1.0318351947214226, 1.0621003466519947, 1.0373055433252, 1.0335441105686467, 1.0313437841981818, 1.0110041784584456, 1.0175318959348587, 0.9807352123773413, 0.9600006497500883, 0.9733237669362241, 0.9839471103459119, 1.010143920168732, 1.0456098759096115, 1.0540153020104, 1.0165900633022211, 1.034856533132521, 1.0319302648400346, 1.0262091992185747, 1.0176069967782264, 0.9877384296640939, 0.9702392980029266, 0.9806306722673755, 0.9953074015916644, 0.9958937828326465, 0.9879881667165024, 1.0499724537439858, 1.0142665039749907, 1.0160017019714622, 0.9869096907936147, 1.003759897647495, 0.9881220192765044, 1.0535140509514582, 1.0010489851377904, 1.0484168234574944, 1.0603675195160094, 1.0374151751456187, 1.0438204149487198, 1.0648320785503484], [0.9447365809977121, 0.9447685720582842, 0.9481321366443172, 0.9419847805112965, 0.9645290200453797, 0.9774723520993873, 0.9634584306576777, 0.9689825166140151, 0.9761437296377613, 0.978427617821498, 0.9795651319036125, 0.9503854900993037, 0.9923155694392863, 1.0007870373903172, 0.9850135305662492, 0.9765210810242421, 0.9904109417344807, 1.0049394843611346, 0.9969928106150395, 0.9712156217585423, 0.9920025340642851, 0.9990310173814693, 0.9772429067853956, 0.9619480106146903, 0.940864469540225, 0.975014533525262, 0.9679309479592305, 0.9759230085187603, 0.9928644231409077, 0.9837131942840043, 1.0000893918772964, 0.9895082590955555, 0.9707759685428319, 0.9936272911722134, 0.9560669505501056, 0.9540601937090899, 0.9820573011541462, 1.0314370235131036, 1.0305806560727988, 1.0140655156278457, 0.991202177947528, 1.0169374579759534, 0.9857681181815443, 1.00064986791561, 0.98350831654157, 0.9963141794503357, 1.0176793342698178, 1.0335498726068575, 1.0022365487362344, 1.0727092361469286], [0.9221833275574022, 0.9551361058148027, 0.9359042820015948, 0.9320881076980374, 0.9773938708186362, 0.9666392070761571, 0.9617550424805921, 0.9778588382605984, 0.9640936157385943, 0.9655673400161401, 0.9677635246307974, 0.9520973465261974, 0.9613906600535395, 1.0083470897965199, 0.9869223002592705, 0.9585168172573347, 0.9408730442787204, 0.9970762319766289, 0.9965437364647873, 1.0086937583293694, 0.9428433203666075, 0.9968318253094589, 0.973136007154635, 0.99556848298862, 0.9901986539504348, 0.9555938305464738, 0.972466926209682, 0.9708739202170084, 1.000971358062855, 0.9681515992032088, 1.0108934346641842, 0.9993027064337842, 1.0091351910821056, 0.982402403743939, 1.008332421670151, 1.0102157112011068, 0.9762775795664559, 0.995965563998689, 0.9675928786839902, 0.9916506482921027, 0.9809256494215822, 1.0027217196358282, 0.9958917067097333, 0.9981159011753411, 1.0090936826477659, 1.0046124119422117, 1.021711795139981, 0.9915002552278739, 1.0025384082371347, 1.0092298793719479], [0.9334096585003929, 0.9176851962375121, 0.9283064608846553, 0.9310637207730426, 0.9606164336842958, 0.96969145482773, 0.9218151105108933, 0.9720704500112101, 0.9626660697454361, 0.9773569113043679, 0.9837261560583656, 0.9600111385581349, 0.9808559698438696, 1.001168021337513, 0.9556928456544684, 0.934430061732106, 0.9365065079661992, 0.9550036609331145, 0.9973517486011807, 0.9692180945861825, 0.9537589805435817, 1.0054360719886761, 0.98460768799295, 0.9890905117082966, 0.9555596775184373, 0.9579871560269144, 0.9829122096741252, 0.9769961236149862, 0.9966217530754206, 0.9914282040948564, 0.9600025705763884, 0.969129197133914, 1.0001333899232085, 0.9995628471636683, 0.9942881031872598, 0.982070931465854, 0.9353919053526957, 1.0125537922288124, 1.0124587679994774, 0.9802384024775426, 0.9647787664314648, 0.9683946499795357, 1.017847719309696, 0.9774156312141327, 0.9890574126276692, 1.0118813937663729, 1.0431118970254385, 0.9589209820904864, 1.0431215963846263, 1.0462242882303732], [0.9370594201149027, 0.9307862220886716, 0.9215859961242381, 0.9125600192902232, 0.9774691325022657, 0.9632276154521778, 0.9582597805359347, 0.9758992279762937, 0.9687411933423072, 0.9623595598645037, 0.948213875912254, 0.9231247683323688, 0.9564621719311212, 0.9521923378548437, 0.9608848803237835, 0.9384127589631108, 0.9642986979464708, 0.9409407273105946, 0.9431968563867597, 0.9027485045065399, 0.9594649205421869, 0.9615284934121057, 0.9559664818552166, 0.9573273395497636, 0.9401146140593314, 0.9925911032897929, 0.9617710906493264, 0.9776125621002112, 0.9734886941269106, 0.947972084404915, 0.9709326969474198, 1.0030149134268793, 0.9750121885898654, 0.976729627345796, 0.9312736018225336, 0.9412885753012201, 0.9513533471876655, 0.9911835642665056, 0.958862501195406, 0.9857553581168248, 0.9635986414678698, 0.9931448683337866, 1.0042901686459196, 0.9690345793512036, 1.0022231865240423, 1.041338863419094, 1.017534525236976, 0.9772002198262835, 1.032957113381804, 1.0000155906425188], [0.9251673939257342, 0.9332583109400139, 0.9550795653894433, 0.9251078355435878, 0.9878613044665295, 0.9857532751138252, 0.9412207293133971, 0.9813478761771414, 0.98637059040343, 0.9694943123935912, 0.9625289245639174, 0.9184129493385532, 0.9795615816227725, 0.9044484808453036, 0.9373103578281287, 0.9351605043813521, 0.9559869471341711, 0.9257423825662581, 0.9563674043986212, 0.9641618498481997, 0.9920483144249802, 0.9692982157048149, 0.9997483372023284, 1.0071702808564797, 0.9727019526854092, 0.9631452593160922, 0.9477857526244924, 0.9664741331848865, 0.934196467899068, 0.9232840553465502, 0.953207337310239, 0.9768689087596191, 0.962110635974357, 0.9779393370114584, 0.970547752446522, 0.9297969987419197, 0.9303604111495948, 0.9824585602795074, 0.9522950613366327, 0.9963975434846728, 0.9863226687170621, 0.9824814583194025, 0.9963792815656184, 0.980796298476327, 0.9923887131696222, 1.0061084868504708, 0.97221055738483, 1.0435489315669688, 1.035795575180011, 1.0131459065523298], [0.890667953215908, 0.9532453056999219, 0.9569069728150735, 0.9515383657216507, 0.984689264275604, 0.9690737573414, 0.9597330647033963, 0.9346590620892093, 0.969582220522113, 0.9818845795389994, 0.9677138611242592, 0.9366309784743804, 0.9527860425251955, 0.9537482192815897, 0.9450437719983483, 0.9694324260927911, 0.9550650637358473, 0.9264467074572686, 0.9229576327893819, 0.9697586831635878, 0.9829109356454507, 0.9862136017274613, 0.9721543922052432, 0.9436647126945659, 0.926128610903038, 0.9117840085244803, 0.9181560972087938, 0.9387839237486473, 0.9432022900294491, 0.951188740713051, 0.9322457148624039, 0.9194133235335422, 0.9424963325780802, 0.9550935789170543, 0.9971998682815447, 0.9702902971878202, 0.9597765824417218, 1.0181005561797793, 0.9817388092697502, 0.963184735423176, 0.9937521629686803, 1.0029040625381844, 0.9745210718554583, 0.9420407493773161, 0.9634976782138434, 1.0090590282790666, 1.0308403997014464, 0.9570081837573909, 0.9647530326716616, 0.9503205702626233], [0.894135029747754, 0.9483702329298731, 0.9402531763558204, 0.8959120950456518, 0.9570891421405311, 0.9337735362709608, 0.9462380621589709, 0.9510983288021129, 0.9675243276252372, 0.9849987146419118, 0.963172004148082, 0.9388414513856033, 0.8985194338657496, 0.9655888399170365, 0.9428677121513316, 0.9343438509742216, 0.935422283807677, 0.9302201538553354, 0.9257818402152685, 0.9095547287823217, 0.9410547283950874, 0.9512449415133891, 0.9422084713976501, 0.9147295208868064, 0.9275967836192088, 0.9592252742982336, 0.9311921092587092, 0.969032935458964, 0.953959364890175, 0.9660532259825815, 0.9659928675051499, 0.9448478107325128, 0.9733044932238396, 0.9666443769739526, 0.9755900601337962, 0.9644638721774746, 0.9652070433111891, 0.9963433980191839, 0.9817975346438333, 1.011136172222707, 0.9719734439146084, 0.9389222893059972, 0.9716553132963897, 0.9552385080802411, 0.981490820025842, 0.9691600552713465, 0.9938000371997268, 1.0161858836843725, 0.9590520726495368, 1.001576512611192], [0.9006416688962597, 0.9187151141470024, 0.873132049490896, 0.9183423688189676, 0.9830129149382599, 0.9425888886500943, 0.9472755507706269, 0.9544273720173166, 0.9839129336645583, 0.9704728991142187, 0.9462796198004277, 0.9241443175804189, 0.9100994106162599, 0.922537526954727, 0.9435883030118707, 0.9534535614882276, 0.9083857780142476, 0.8825911493469024, 0.8892792016632016, 0.9544475040006902, 0.9601015326176323, 0.9464984245487781, 0.9690887981448406, 0.9467191275886483, 0.9267128482934672, 0.9331768205976512, 0.9472843923684378, 0.9555857713267831, 0.9706419292836882, 0.9803392434081997, 0.9962573755473327, 0.9314526264554809, 0.9246338296183881, 0.9548222281968406, 0.9419288435152592, 0.9492622055354407, 0.9569338117701588, 0.9685868485767096, 0.9492026079223777, 0.9441964852275299, 0.9321480256807901, 0.9687683689355029, 0.9782857975263773, 0.9561225455908275, 0.9710583932392925, 0.9795101761181013, 1.010298498976095, 0.953270702111445, 0.9673028898164606, 1.0134242707931949], [0.891470762036096, 0.931928272405513, 0.9038747596925891, 0.8901275574491981, 0.9614492021321552, 0.9428461727068023, 0.9424095615033845, 0.9492023732557155, 0.948797798375165, 0.96019544320234, 0.977357655741522, 0.912392362368996, 0.8867864573163483, 0.9686570818836485, 0.9326942745219735, 0.9142172196631647, 0.8997686162683314, 0.8516009758144761, 0.8575756280989117, 0.8982815082743524, 0.923737570866446, 0.9679975506363887, 0.9580226631208341, 0.9605304123729874, 0.9222040059537039, 0.910568518035765, 0.9645804624501355, 0.9638836055937176, 0.9440413792113964, 0.9367377927848078, 0.9649619843088029, 0.9256049870440002, 0.9916463002845357, 0.9645668283752139, 0.9360792730659722, 0.9652476647940448, 0.9467976561872412, 0.9699413990767958, 0.9563559964069408, 0.9748229938616337, 0.9327489649522784, 0.9765263461045179, 0.9894938803241559, 0.9108193828466867, 0.9627765954694631, 0.933214802859468, 0.9874967066960207, 1.018076636774532, 0.9725197445493781, 0.922667414526234]], \"zmax\": 1.5, \"zmin\": 0.5}, {\"coloraxis\": \"coloraxis\", \"type\": \"heatmap\", \"x\": [\"AAAAA\", \"TTCAA\", \"ATTGA\", \"ATTTC\", \"TATTC\", \"GTCAC\", \"TGCGC\", \"TGGCG\", \"AGGCG\", \"TTCCG\", \"TTCGG\", \"TAACG\", \"TTTCG\", \"AAACG\", \"TAGCG\", \"CACCG\", \"AACCG\", \"TGCCG\", \"TACCG\", \"ACCGA\", \"TCCGG\", \"CAGCG\", \"TGTCG\", \"ATTCG\", \"ACGAA\", \"AACGA\", \"TCTCG\", \"TATCG\", \"TCACG\", \"ATGCG\", \"TTGCG\", \"TCGCA\", \"TGACG\", \"AAGCG\", \"AGTCG\", \"ATCCG\", \"ATCGA\", \"CATCG\", \"CTTCG\", \"TTCGA\", \"ACACG\", \"ATACG\", \"TTACG\", \"CAACG\", \"ATCGT\", \"AATCG\", \"ACTCG\"], \"xaxis\": \"x2\", \"y\": [0, 20, 40, 60, 80, 100, 120, 140, 160, 180, 200, 220, 240, 260, 280, 300, 320, 340, 360, 380, 400, 420, 440, 460, 480], \"yaxis\": \"y2\", \"z\": [[0.8684321885076746, 1.1061845635966647, 1.081437507322997, 1.0340333026390633, 1.1393786913204, 1.1502112892334195, 1.4765700244633653, 1.3836273250196855, 1.4340567863440041, 1.6132252757212604, 1.589597342479148, 1.5689221234797954, 1.6335765872395795, 1.5333383432026346, 1.4321870612348957, 1.8494664144126323, 1.899606068647853, 1.5684053907513535, 1.6754698722022874, 1.706638221214361, 1.6623042023404542, 1.7385744224103301, 1.771480514828183, 1.7913554873073931, 1.7904718762285843, 1.744351036749271, 1.8447212146265652, 1.9351069719219038, 1.7012673209370357, 1.8167068201049539, 1.734821669359337, 1.6971410898883579, 1.7209570879948288, 1.8064713076574088, 1.7495780318053051, 1.8412265605392422, 2.129540095426571, 2.1526500774998025, 2.141680713395502, 2.002893801992376, 2.1028994823029183, 2.01329349677906, 2.0854502516485596, 2.058961325355617, 2.0622045858998677, 1.9384336969419764, 1.8699680920886426], [0.9001846863436767, 1.1265983920552134, 1.1090267357666879, 1.08498544197778, 1.0453406968824717, 1.0283334900333523, 0.577195369124491, 0.6572699540808975, 0.6217473761655987, 0.5380048483244554, 0.5633001444069775, 0.6590199548292504, 0.6699055704652335, 0.70263171709044, 0.5956102111867593, 0.5975500574681276, 0.6394451680307582, 0.5676107583212644, 0.47766123251780435, 0.5434163967274114, 0.5971822923415834, 0.5691289284680947, 0.6898320449798407, 0.6445256084588886, 0.6832343043225965, 0.7064700001734847, 0.6929780075007708, 0.6791712784509816, 0.7345354974991016, 0.6631983879873388, 0.6347411060670332, 0.6689568113971616, 0.5880932147273157, 0.6124128355335999, 0.6513043736187559, 0.600251374945747, 0.6524398130711252, 0.6777263363698844, 0.6543178344741396, 0.6732232929980987, 0.7285935841290172, 0.7785298552993215, 0.7760778760430992, 0.683981250319034, 0.7124897874005434, 0.6580607694686653, 0.7376294378868157], [1.029529470111094, 1.1072706363354163, 1.1206244458967052, 1.076518384273828, 1.0457780090501843, 0.910286672178348, 0.7561175686243314, 0.6736062475698305, 0.7068099325281197, 0.6867297995951648, 0.5964723126046096, 0.7462426065174861, 0.6247421357161781, 0.7167803363284765, 0.7410043408653373, 0.5901272831948635, 0.5579969135981505, 0.5923148893008967, 0.5851855885698233, 0.570088559850997, 0.6176562173549591, 0.5761472598083021, 0.6797625119602836, 0.7087072878066576, 0.6937995002939894, 0.7312798743507003, 0.7394546226273845, 0.710854521825469, 0.7176732856802259, 0.65425742649942, 0.6601666848924665, 0.6499689142366706, 0.7150419116697718, 0.7257840684793778, 0.6984577917470841, 0.7372355519562788, 0.711975537482627, 0.6577785226721633, 0.6514330119475648, 0.635840164394897, 0.6773428296091129, 0.7216520312819249, 0.6910593438332818, 0.7101500688104485, 0.6734602470830832, 0.7070800131556955, 0.7902325609293684], [1.0709919534287209, 1.079173973570197, 1.0882397191563327, 1.0534726301800117, 1.059642401090387, 0.896634902469366, 0.6728298379489821, 0.6738205430206172, 0.7012461954325319, 0.6468871521129285, 0.6764099251858043, 0.7087644012365517, 0.6905179643512941, 0.7159808041389518, 0.66674806944921, 0.6542597166040434, 0.6362751537351613, 0.5239261547164169, 0.6226130649810656, 0.6812371234397574, 0.6583130742823036, 0.646977607873065, 0.6821645088081684, 0.7941744561020617, 0.7279537272201063, 0.7151218025635567, 0.7378898448055035, 0.6662814120250681, 0.7421127759715191, 0.664487810681466, 0.7361048594812402, 0.6872755159948263, 0.7007900832778605, 0.7488438079810468, 0.6149586301581976, 0.6907225336161575, 0.6816704535451911, 0.6802343251458707, 0.6570931309961009, 0.7280226306108498, 0.6590940993517077, 0.7628494663625662, 0.7349658850533559, 0.6604653155666625, 0.6612822115182381, 0.678214978612955, 0.6635696696078064], [1.1422071434921977, 1.0739377384684134, 1.0777712272021296, 1.0617195373692627, 1.0793842195079857, 0.8180799272116298, 0.7086122353975063, 0.7280362618506607, 0.6536123603156209, 0.6936298143433548, 0.7191006196359209, 0.7866182121789694, 0.7529527459589023, 0.8036150564268243, 0.7750418201172566, 0.7530640899534765, 0.7692328538877156, 0.6844189987601318, 0.6333810662605646, 0.7234335200459854, 0.5934139196273707, 0.6617863843052475, 0.6631343051873267, 0.7325108519113663, 0.7440818226422878, 0.7833028669452204, 0.8161910516146688, 0.7985970098116416, 0.7150701957640074, 0.7202844723500806, 0.7079595906143731, 0.6672889137695753, 0.6275524780833196, 0.6790125400094184, 0.6735934945933123, 0.637723960766382, 0.771318337023094, 0.7404362467203401, 0.7171170727250036, 0.7291850520403735, 0.7164724599225103, 0.7577321693273146, 0.7537918616456054, 0.7484195350336014, 0.7297659064424434, 0.7182408079238838, 0.7461378923969219], [1.1870037490120517, 1.0574617851767372, 1.0611827274060706, 1.0536237424626047, 1.0509548383186236, 0.8505521277659519, 0.9639875329708125, 0.8338126437778717, 0.9336632854252241, 0.8666569966357698, 0.8581834721550308, 0.9789889862966549, 0.9361090540836808, 0.9452919343442061, 0.9205638412414471, 0.78917849907166, 0.9019634272005064, 0.8693702241459085, 0.866241934046949, 0.8239430587324326, 0.8374645839445888, 0.8538379150303463, 0.9216190860843494, 0.9111173291800854, 0.9289491875075824, 0.9367725689305748, 0.9089384172498856, 0.8304800977400697, 0.9522750488111188, 0.9424598824033661, 0.9651318490711205, 0.8982895581390634, 0.9709199842972198, 0.9445208304892074, 0.9818960785428879, 0.937590222571324, 0.9064523121277385, 0.8736673647106321, 0.9152101610670839, 0.929887274832157, 0.8479542696971686, 0.8989691416055414, 0.9411106104862752, 0.9304049453290707, 0.880933112343499, 0.9258785742446387, 0.9184539306212762], [1.0525910508349654, 1.0042780995225804, 1.0184745975378702, 1.0050801205164521, 0.9966750544227987, 0.93835273324616, 0.9542903841154474, 0.975593566591837, 0.9850405042938228, 0.9077790942303458, 0.799220507774615, 0.9245014013763238, 0.9730311538457215, 1.0084142006652792, 0.9030620474254661, 0.9826933481677514, 0.8929808366121996, 0.9481324411341039, 0.887946090586132, 0.869544821565212, 0.9210691224551534, 1.0722220161040403, 0.854331469712321, 0.9844635852351873, 1.0190898029258053, 0.9620657531993332, 0.8886264907833029, 0.9010501861729975, 0.9064503010676749, 0.963576278599857, 0.9558723993298167, 1.0134342675768904, 0.9908967850914475, 1.0155672434835468, 0.8527529011530616, 0.9329179535174531, 0.8663673306409732, 0.8820259393637281, 0.940255548414091, 0.9811267692786199, 0.9444508914545209, 0.9801987207489782, 1.0070245715906982, 0.948341630711387, 0.9711088242066522, 0.9838825231243462, 0.9707941212131925], [1.0263645376802795, 1.0139829296187848, 1.026592627683907, 0.9904503846766078, 1.0179946287528003, 0.9635460834461308, 0.8471004335275198, 0.8481077218765908, 0.997303888078244, 1.025348327518033, 0.9743827162335088, 0.8916843142759503, 0.9043406657933004, 0.9688187054678024, 0.979241665505524, 0.8561607088502229, 0.8522008037110098, 0.7801942729415791, 0.9074735186104768, 0.8743296090143073, 0.9550378806451608, 0.9508255064394181, 0.8881142025332741, 0.9271234183521937, 0.9052822073017545, 0.9018559544398861, 0.7966524994424717, 0.8603847542474778, 0.8790609553995818, 0.8910800602527701, 0.9525460544335584, 0.8971968216078743, 0.8704705870619944, 0.8531868542751189, 0.8378913304829625, 0.8988710704853895, 0.8289821453772847, 0.8276732788641611, 0.8807522570263167, 0.8405067367996092, 0.9053433567150971, 0.947480680517001, 0.9132907759523701, 0.9608819087844881, 0.9000123789984857, 0.9012264842211761, 0.8778885299496935], [0.996180917323645, 0.9692946415873848, 0.9679611957921189, 1.0074317590274893, 0.984734789517773, 0.9053731739340826, 0.853709602898315, 0.7323691223826169, 0.9368604377877707, 0.8628913461821367, 0.8831993899894911, 0.7850687994324935, 0.8413194722102615, 0.8832371701185282, 0.9317103331363814, 0.7474009159367021, 0.9403781739226202, 0.91289885598109, 0.9711716106994824, 0.9089956003432719, 0.7996227340695331, 0.8500712865678606, 0.8083691876528631, 0.836770915241488, 0.8731415358781345, 0.8485090219168461, 0.860128669770756, 0.8333765075189024, 0.8918029888794241, 0.851172916294446, 0.9153761488149276, 0.8705638383792149, 0.877167868935032, 0.8448954947920774, 0.9041630645485107, 1.0238734337887776, 0.8241016938038516, 0.8932623211925624, 0.918798445056345, 0.7847910619565138, 0.8320018118459646, 0.9009717271987269, 0.9079197778318543, 0.8681062641289484, 0.8642015293923525, 0.8202650599104747, 0.9062886166747295], [1.0059799512214864, 1.0226467435819315, 0.9859087015986248, 0.9880209549101222, 0.9933515637274738, 0.9133266336702811, 0.9061596644202774, 0.9011072057505305, 0.9245729442067063, 0.8729097889959145, 0.8999910651968152, 0.8208788667896989, 0.8240263534199925, 0.8583018200484194, 0.9290819674323193, 0.884122479678439, 0.871444756885237, 0.7016328661454598, 0.8615351034219642, 0.9002966256728916, 0.8806314249624376, 0.8414725647635838, 0.8596685400030957, 0.8586358455790024, 0.8394501890892972, 0.8568290136229219, 0.8494656062131491, 0.8285124006103345, 0.857871779962215, 0.8511314582898968, 0.8820098285716729, 0.8430846929671845, 0.8687238751716088, 0.899936129938971, 0.8117970253862096, 0.8646370386526793, 0.8124837546518094, 0.8300856639509133, 0.8598542860290674, 0.8338143162655373, 0.8449286048486683, 0.8314215570047563, 0.8296353853468731, 0.8540025365276767, 0.8530467477105919, 0.8825570930793409, 0.97740138605034], [1.0430242121330369, 1.0177158031318705, 1.0178693580207583, 0.9954258643112494, 1.0041942853909993, 0.9627608192738596, 0.9788140508020141, 0.8750764895317085, 0.7785520253832088, 0.8808576996932288, 0.8988291840731814, 0.8763696392396209, 0.8707121559595203, 0.8560992124099287, 0.8821126318631578, 1.0166640568805803, 0.8755059093266543, 0.9111016792001235, 0.8656254275675395, 0.846451263402896, 0.9137897135897963, 0.9576197619079395, 0.840734702512822, 0.8934834373082962, 0.8558084329366163, 0.8379561372481883, 0.9144304205439409, 0.8745114722478009, 0.9067801956050128, 0.9112267844537612, 0.8915339575949522, 0.8332575063026342, 0.8773302535640735, 0.7707448648472909, 0.872652591334249, 0.8348066586670181, 0.871908949079657, 0.8559414177685408, 0.8935352394211271, 0.8998210979701743, 0.8407329420440264, 0.9508139620147389, 0.8792748223875382, 0.8225409726372604, 0.8467070344981752, 0.8433809289814085, 0.8519812366950151], [1.0050444718675082, 0.9734201611172021, 0.9960252409472858, 0.9777770228150088, 0.9575119918872402, 0.9817236960706297, 0.8969628534323235, 1.0307971066518744, 1.0556617389988643, 0.9729457636323999, 0.9384893845739217, 1.0252064384742274, 0.965774925173981, 1.0003620948843133, 0.8614020452280166, 0.8786516857618243, 0.9244974448302313, 1.0466420807071066, 1.0895630456845449, 0.9593851794482006, 1.079683523798549, 1.0114124284937613, 0.981276866958811, 0.9413246767179295, 0.9645191733496195, 0.9985718700835807, 0.993276034994966, 0.9801974341393923, 0.9287443861069089, 0.9800377529731479, 1.0156738242892982, 1.063423744367483, 1.0400795251425121, 0.9242288625082715, 1.0542330415099943, 0.9787378158430704, 0.9024084058945592, 0.9650722302338506, 0.9347207724634511, 0.9515687630582069, 0.900151488662519, 0.9376368770958422, 0.9380264042269748, 1.0050641056277467, 1.0018774064503473, 0.9377493634990133, 0.8981627852336515], [0.9697487035801413, 0.9670388224323336, 0.9598810814705517, 0.9755906282034414, 0.9924068586027885, 0.9863583010889825, 1.000078433461667, 1.072937651140352, 1.0116851289381203, 1.0210447342977325, 0.9701448269218228, 0.9604239462148835, 0.9646153112594815, 1.0142858854617522, 1.009753336428507, 1.0594273345936591, 0.940795593786505, 1.165836304125817, 1.0399268928050642, 1.0435316032983364, 0.9954908807197667, 1.0860337193174803, 0.9737214320637059, 0.9689712170214427, 0.9510707577050109, 1.0379186778713596, 0.9480950297622315, 0.9733076866367393, 1.035229651160317, 0.8946957605682822, 0.9965082508701091, 0.9720481944887441, 1.008401170054542, 0.9763441911197432, 1.0099994102375183, 1.0295886094407611, 0.9115079024436756, 0.9401290578520576, 0.9743289812201743, 1.0032590742156529, 0.9634712023889087, 0.9767518574113888, 1.0234925254108733, 1.0374618834524512, 1.020828101324919, 0.9464193515291482, 0.9895222754074164], [0.9498350162060889, 0.9756339178988017, 0.9836319423409126, 1.0029279275742167, 0.9662455309754658, 1.0368432163880235, 0.9294346591908842, 0.9225557729549149, 0.9228284045508944, 1.0162131068842735, 1.036010917369182, 1.0076722458126361, 1.0270053254441447, 1.0816142895024932, 1.1080482181413105, 1.0914297310200614, 1.0019612838660672, 1.076142949459707, 1.0982371661216501, 1.0695308245381996, 1.0714060189560644, 0.9067700392877077, 1.085135023936255, 0.9920035803089812, 1.0330523674566536, 1.0455825137836505, 1.0560231530527775, 0.9798611608946676, 1.0888209087954532, 1.0326659679280705, 1.0152192176719692, 1.0637911311324983, 1.0013911738077341, 0.960318073150455, 1.1401043981035066, 0.9780992868581454, 0.9650109903420531, 1.0115989168290427, 0.982748459575045, 0.957143951429814, 0.9655975998991634, 1.0434422601265974, 0.9978285411197915, 1.001621927295528, 1.0024578420824861, 1.0197707609152984, 0.9537403972458154], [0.956711817382854, 0.9954043644434484, 0.962075088911163, 0.9761398145844833, 0.9720065070413603, 1.0482939411669676, 1.0217637713620784, 1.0911572316899152, 1.0531429025526762, 1.1078913879062273, 1.0464175818024177, 1.0062200197890498, 0.9838632238740416, 1.0260102730980238, 1.1471992278253527, 1.1062673596121597, 1.0257449205638434, 1.0785699828644206, 1.045650954834987, 1.0227618269613692, 1.0337303338959547, 0.9330517964559157, 1.0393622220100553, 0.9778990058469974, 0.9972990405507925, 1.018607795178307, 1.0522155947455356, 1.0216712940708434, 1.008409977862068, 1.0470255014355467, 1.0332936106854795, 1.0336633161331414, 1.0497252657777747, 0.9703426453082602, 0.9497199936685982, 1.116405181045757, 1.0598130442991087, 1.0724428630237257, 0.9967902797332064, 0.9722549762386511, 1.0152812259170736, 0.9649616465889368, 1.0081441712313282, 1.0447473529535145, 1.0225984395782095, 1.0458162994223261, 1.0619236778040075], [0.9644633358861296, 0.9747884535707977, 0.9674452963034358, 0.9860240045294875, 0.9728725147498838, 0.972506621495022, 1.0832685791516512, 1.089443845858256, 1.004565522769505, 0.998527627074891, 1.1444938253290313, 1.0201554812742633, 1.091110625228405, 1.0628007310912906, 1.0709111096735044, 1.1139146956013202, 1.097724702924347, 1.0680299058743397, 1.1090315053661923, 1.1551464094616357, 1.191050587500361, 0.9610417219941109, 1.0291835719857725, 1.0139388616033156, 1.053286540430625, 1.0465688891188825, 1.040818273673692, 0.9969519381557947, 1.080337720514462, 1.0600412141271003, 1.107139950640112, 1.1154746039769243, 1.037258630331698, 1.1357606505460554, 1.0099918760770912, 1.1384800109297213, 1.0173277046477678, 1.067285234119036, 0.9788303100254743, 0.9643546917583301, 1.023453336222763, 0.9540510679240404, 1.0625109512553712, 0.9847362569891199, 1.0686861420499858, 1.0475527248773466, 1.0209218901536024], [0.9667794665014151, 0.9658809548382521, 0.9690669516262771, 0.9738030623703013, 0.9663187232002812, 1.0613811880793333, 1.1292596220480837, 1.174598825225345, 1.1418690729858776, 1.1347600058031617, 1.2164056853608445, 1.1253877439940814, 1.0985642073644653, 1.0055137769716906, 1.020729746342144, 1.1374077473137294, 1.0702317870179983, 1.1540131297951215, 1.0181943090336674, 1.088140894838491, 1.0643878819564945, 1.2658504059629043, 0.9998113172347648, 0.9914526887090446, 1.0009826313757606, 0.9886223825294789, 1.0053314588818305, 0.9911454751170464, 1.0789129217507782, 1.167427068053447, 1.0294040310945032, 1.0884869175851455, 1.0332997429524013, 1.099736502927354, 1.0768963294721783, 1.0214339920056559, 1.0298505512536604, 1.1103555109909875, 1.0719832876377502, 1.056491002212032, 1.11729445983055, 1.0142648697252221, 0.9759385669688897, 0.9996521255703639, 1.0075014765080528, 1.0529793907884806, 1.0959805692988525], [0.9752940994560819, 0.9587897066003386, 0.9462822518575894, 0.9668473885112515, 0.9998814613675603, 1.0704890589264182, 1.1701702244694578, 1.1694503237149796, 1.1494728434490635, 1.0605224579483101, 1.1140890123396225, 1.0599997631998077, 1.0813444462500885, 1.0290172594853397, 1.0945012859766112, 1.0635792054699558, 1.1694436659589476, 1.0942779669010871, 1.1845805954508006, 1.0442652671161867, 1.19071553499393, 1.162204705985153, 1.223328184042325, 1.0944601424188216, 1.0749788860456921, 1.0335062852486212, 1.0496142464858806, 1.001959349822694, 1.0993395681977258, 1.0585787458043179, 1.0211394391064883, 1.1010732178790388, 1.02761015491363, 1.095678908124416, 1.04223254011894, 1.2503880782474965, 1.0975146930521116, 1.0426925990655913, 1.0303326804691006, 1.0662866996177514, 1.0775307141708663, 1.063585763885202, 1.064501986580334, 1.1228667582050325, 1.0055667188038784, 1.0386214586472904, 1.030629354973051], [0.9606195998360232, 0.9419174376294559, 0.9724552735776859, 0.9792821647089726, 0.9551145384355001, 1.175594154982886, 1.2773263342346117, 1.2423551561731656, 1.1137968375618723, 1.0882756291999063, 1.0919006092006853, 1.0939362669659292, 1.143180606578945, 1.1048855939181463, 1.0721818397261755, 1.1599866320238643, 1.152506547325461, 1.2086874007693793, 1.249953887131285, 1.1882198604685326, 1.1754024422313483, 1.2885284905716128, 1.144098437659377, 1.119087200211777, 1.1196202701914493, 1.1244322435363208, 1.1056290054124567, 1.1383285679667743, 1.094537515995646, 1.1259029183915403, 1.1201004821512026, 1.1211291566631398, 1.186060276859347, 1.129151223174023, 1.0584602750605892, 1.015030887541262, 1.1064609506377696, 1.0945666439483441, 1.1157831375685707, 1.1416773163616687, 1.153278008074351, 1.0221106651753071, 1.053466148793782, 1.0515660405365923, 1.1182246856653622, 1.0992806275508076, 1.034420458575423], [0.9731149118688935, 0.9592785613638479, 0.9755907005771157, 0.9761014894792142, 0.9970279122240528, 1.1431950037407441, 1.0091957140961318, 1.169727760941282, 1.1966922943719396, 1.1773260602567885, 1.1697995828223247, 1.0930144295902895, 1.1743089349294435, 1.1521293303361577, 1.1539279652686782, 1.2421785498110653, 1.257771007390543, 1.1933947190635512, 1.117142790791229, 1.190729520701588, 1.3061353533617066, 1.121589913991948, 1.1658504049727016, 1.1245603602697016, 1.135468027845825, 1.1303347038561822, 1.1647503797078975, 1.0880784059508042, 1.1455925655140873, 1.125710108945539, 1.0497848589506802, 1.0304517722440814, 1.1773786920283884, 1.1226165802752395, 1.2934214635098693, 1.121659476040217, 1.105609653900823, 1.0877024241838427, 1.170322414331073, 1.167466804931219, 1.0321822150172326, 1.0961118514915806, 1.0492762040638597, 1.0679408070948297, 1.0998605477201133, 1.1193152055563955, 1.0956419962349488], [0.9932594562369695, 0.934966959274121, 0.9165622267599255, 0.9742099858371599, 0.9836742019176704, 1.0631530528412907, 1.1946718598624537, 1.1905840045772493, 1.2521410491328475, 1.1965012731657831, 1.2679602600916362, 1.0825818471182238, 1.0870005115880592, 1.0513387945374641, 1.0850479809777975, 0.9988046645468567, 1.0677685384087958, 1.2083005304419994, 1.115630038683038, 1.0819347246019533, 1.1801342849321133, 1.0952101116642878, 1.1254219152663145, 1.13410212376027, 1.1116517946705367, 1.0812875647761826, 1.059113426715315, 1.1580179932629928, 1.0338063044094414, 1.0475080595761548, 1.0716525696038348, 1.0892958729600668, 1.0391213764217802, 1.0511867331905353, 0.9566116732888676, 1.241661364545273, 1.1659240194327178, 1.082095333153582, 1.0800684455428895, 1.0968554708288076, 1.0252035258204077, 1.0488933958761841, 1.04019523817511, 0.9914617701072459, 1.0913282205801333, 1.1086107451004492, 1.0498700891929813], [1.0041990076952116, 0.9651094980702832, 0.9705358911115165, 0.9657534735103485, 0.9715217763451046, 1.0786281057865437, 1.081016297437404, 1.2376573759882614, 1.1130259521278738, 1.1791858719947415, 1.2279478751194526, 1.144598623111782, 1.1138938517021357, 1.0887700060304137, 1.1446694250992817, 1.1825343500407959, 1.1998597216878237, 1.320006854648341, 1.0837066867132552, 1.2357407454840599, 1.2139452078177746, 1.213506045410531, 1.1427934206669617, 1.0694366283172658, 1.0854694458386758, 1.1133188077383525, 1.142915339547034, 1.1693717591379895, 1.0402249228234552, 1.1020015357447002, 1.1134619926472709, 1.165300446321803, 1.0831564921380616, 1.094535585847011, 1.164564650694255, 0.9821098802477513, 1.088449019499928, 1.019009632307705, 1.0813502127781938, 1.0221957602684086, 1.0835250079356513, 0.9820478454355424, 0.9696258406552637, 1.0896259705409845, 1.0512017936853055, 1.0906515238086236, 1.1237163245322686], [1.001730846212146, 0.9669144070874797, 0.9587892228606366, 0.9772919633876392, 0.9916148206225475, 1.0805821794080632, 1.145384599985234, 1.1588128780284281, 1.2078710089643399, 1.294806620494762, 1.130670539508333, 1.2621706588660886, 1.138637252054506, 1.1011223119302633, 1.1904063987613627, 1.0702297260136413, 0.9795437458367577, 1.2146440631641002, 1.1831354659127213, 1.166256477370535, 1.1342346464771023, 1.1978823980161066, 1.0895960830594764, 1.1015631474869818, 1.086663063705851, 1.1302226136996252, 1.104570445318377, 1.1838173264149212, 1.1810989796789617, 1.1229131502792313, 1.0785762607073839, 1.1909622275372034, 1.1749017308678595, 1.1973776837988974, 1.2397313876564107, 1.084476953135066, 1.1416875923911762, 1.130307189859246, 0.9974184608103455, 1.1161947936770191, 1.1124128038273196, 1.0692310288625315, 1.006021210822141, 1.1760995843895934, 1.1250344892232822, 1.1376178136362771, 1.1653177651230857], [0.9791915111525633, 0.9736095810393873, 0.9759034125184888, 0.9918856827815553, 0.9618879742941321, 1.0221485810575166, 1.2972174137539438, 1.247059240644217, 1.2136293627104793, 1.2153071880838158, 1.2020955472193342, 1.1963900028215972, 1.2076934428534176, 1.1839747307686666, 1.286655844091934, 1.3796643901708139, 1.1907337063763892, 1.3456108146846197, 1.24527709817, 1.2701603633418603, 1.1457415991254982, 1.2028403644940906, 1.2815960598352858, 1.237170011174552, 1.1786755486478204, 1.171971143682292, 1.1095138455509233, 1.1996993107328926, 1.0531227155175282, 1.0697800923537575, 1.124234628880289, 1.108190374825982, 1.1959253277954212, 1.120365698755073, 1.2401281368461838, 0.9647557483968707, 1.2378052064990077, 1.1985878384704851, 1.2070714673466232, 1.246463277186013, 1.1845344547601524, 1.1197473965215765, 1.117212824427444, 1.106541606462943, 1.141246565260808, 1.1765774235557858, 1.1889773992582635], [0.9834055472045512, 0.9442618223961543, 0.9779146370119389, 0.9687171102169461, 0.9591787286959506, 1.0324774918781945, 1.259696023625369, 1.3293441637606402, 1.253405465572238, 1.1438084987823736, 1.2283771789448676, 1.1498421293641836, 1.2074201711947088, 1.1041658894531936, 1.0842952377857265, 1.1244121014702597, 1.2544494162652957, 1.2849078074238582, 1.1940110630563407, 1.2854440772404212, 1.2028968915366063, 1.125869337286043, 1.2219287878314196, 1.1728441228454405, 1.153440569885222, 1.082281162228676, 1.2262683067242173, 1.209866965962232, 1.2078290174584918, 1.246167856801112, 1.237118561067933, 1.2075719445003006, 1.271365990628617, 1.3052073851029142, 1.2549360620804149, 1.1853963023438692, 1.1772829472014232, 1.1554947840439358, 1.184778845452489, 1.241655716684111, 1.3365278486471655, 1.1113118433976692, 1.0977580394139708, 1.115215129048926, 1.1197572304277343, 1.1561202352877291, 1.0280898563533594]], \"zmax\": 1.5, \"zmin\": 0.5}],\n",
       "                        {\"coloraxis\": {\"colorbar\": {\"title\": {\"text\": \"Odds ratio\"}}}, \"height\": 300, \"margin\": {\"b\": 20, \"l\": 1, \"r\": 1, \"t\": 20}, \"template\": {\"data\": {\"bar\": [{\"error_x\": {\"color\": \"#2a3f5f\"}, \"error_y\": {\"color\": \"#2a3f5f\"}, \"marker\": {\"line\": {\"color\": \"#E5ECF6\", \"width\": 0.5}}, \"type\": \"bar\"}], \"barpolar\": [{\"marker\": {\"line\": {\"color\": \"#E5ECF6\", \"width\": 0.5}}, \"type\": \"barpolar\"}], \"carpet\": [{\"aaxis\": {\"endlinecolor\": \"#2a3f5f\", \"gridcolor\": \"white\", \"linecolor\": \"white\", \"minorgridcolor\": \"white\", \"startlinecolor\": \"#2a3f5f\"}, \"baxis\": {\"endlinecolor\": \"#2a3f5f\", \"gridcolor\": \"white\", \"linecolor\": \"white\", \"minorgridcolor\": \"white\", \"startlinecolor\": \"#2a3f5f\"}, \"type\": \"carpet\"}], \"choropleth\": [{\"colorbar\": {\"outlinewidth\": 0, \"ticks\": \"\"}, \"type\": \"choropleth\"}], \"contour\": [{\"colorbar\": {\"outlinewidth\": 0, \"ticks\": \"\"}, \"colorscale\": [[0.0, \"#0d0887\"], [0.1111111111111111, \"#46039f\"], [0.2222222222222222, \"#7201a8\"], [0.3333333333333333, \"#9c179e\"], [0.4444444444444444, \"#bd3786\"], [0.5555555555555556, \"#d8576b\"], [0.6666666666666666, \"#ed7953\"], [0.7777777777777778, \"#fb9f3a\"], [0.8888888888888888, \"#fdca26\"], [1.0, \"#f0f921\"]], \"type\": \"contour\"}], \"contourcarpet\": [{\"colorbar\": {\"outlinewidth\": 0, \"ticks\": \"\"}, \"type\": \"contourcarpet\"}], \"heatmap\": [{\"colorbar\": {\"outlinewidth\": 0, \"ticks\": \"\"}, \"colorscale\": [[0.0, \"#0d0887\"], [0.1111111111111111, \"#46039f\"], [0.2222222222222222, \"#7201a8\"], [0.3333333333333333, \"#9c179e\"], [0.4444444444444444, \"#bd3786\"], [0.5555555555555556, \"#d8576b\"], [0.6666666666666666, \"#ed7953\"], [0.7777777777777778, \"#fb9f3a\"], [0.8888888888888888, \"#fdca26\"], [1.0, \"#f0f921\"]], \"type\": \"heatmap\"}], \"heatmapgl\": [{\"colorbar\": {\"outlinewidth\": 0, \"ticks\": \"\"}, \"colorscale\": [[0.0, \"#0d0887\"], [0.1111111111111111, \"#46039f\"], [0.2222222222222222, \"#7201a8\"], [0.3333333333333333, \"#9c179e\"], [0.4444444444444444, \"#bd3786\"], [0.5555555555555556, \"#d8576b\"], [0.6666666666666666, \"#ed7953\"], [0.7777777777777778, \"#fb9f3a\"], [0.8888888888888888, \"#fdca26\"], [1.0, \"#f0f921\"]], \"type\": \"heatmapgl\"}], \"histogram\": [{\"marker\": {\"colorbar\": {\"outlinewidth\": 0, \"ticks\": \"\"}}, \"type\": \"histogram\"}], \"histogram2d\": [{\"colorbar\": {\"outlinewidth\": 0, \"ticks\": \"\"}, \"colorscale\": [[0.0, \"#0d0887\"], [0.1111111111111111, \"#46039f\"], [0.2222222222222222, \"#7201a8\"], [0.3333333333333333, \"#9c179e\"], [0.4444444444444444, \"#bd3786\"], [0.5555555555555556, \"#d8576b\"], [0.6666666666666666, \"#ed7953\"], [0.7777777777777778, \"#fb9f3a\"], [0.8888888888888888, \"#fdca26\"], [1.0, \"#f0f921\"]], \"type\": \"histogram2d\"}], \"histogram2dcontour\": [{\"colorbar\": {\"outlinewidth\": 0, \"ticks\": \"\"}, \"colorscale\": [[0.0, \"#0d0887\"], [0.1111111111111111, \"#46039f\"], [0.2222222222222222, \"#7201a8\"], [0.3333333333333333, \"#9c179e\"], [0.4444444444444444, \"#bd3786\"], [0.5555555555555556, \"#d8576b\"], [0.6666666666666666, \"#ed7953\"], [0.7777777777777778, \"#fb9f3a\"], [0.8888888888888888, \"#fdca26\"], [1.0, \"#f0f921\"]], \"type\": \"histogram2dcontour\"}], \"mesh3d\": [{\"colorbar\": {\"outlinewidth\": 0, \"ticks\": \"\"}, \"type\": \"mesh3d\"}], \"parcoords\": [{\"line\": {\"colorbar\": {\"outlinewidth\": 0, \"ticks\": \"\"}}, \"type\": \"parcoords\"}], \"pie\": [{\"automargin\": true, \"type\": \"pie\"}], \"scatter\": [{\"marker\": {\"colorbar\": {\"outlinewidth\": 0, \"ticks\": \"\"}}, \"type\": \"scatter\"}], \"scatter3d\": [{\"line\": {\"colorbar\": {\"outlinewidth\": 0, \"ticks\": \"\"}}, \"marker\": {\"colorbar\": {\"outlinewidth\": 0, \"ticks\": \"\"}}, \"type\": \"scatter3d\"}], \"scattercarpet\": [{\"marker\": {\"colorbar\": {\"outlinewidth\": 0, \"ticks\": \"\"}}, \"type\": \"scattercarpet\"}], \"scattergeo\": [{\"marker\": {\"colorbar\": {\"outlinewidth\": 0, \"ticks\": \"\"}}, \"type\": \"scattergeo\"}], \"scattergl\": [{\"marker\": {\"colorbar\": {\"outlinewidth\": 0, \"ticks\": \"\"}}, \"type\": \"scattergl\"}], \"scattermapbox\": [{\"marker\": {\"colorbar\": {\"outlinewidth\": 0, \"ticks\": \"\"}}, \"type\": \"scattermapbox\"}], \"scatterpolar\": [{\"marker\": {\"colorbar\": {\"outlinewidth\": 0, \"ticks\": \"\"}}, \"type\": \"scatterpolar\"}], \"scatterpolargl\": [{\"marker\": {\"colorbar\": {\"outlinewidth\": 0, \"ticks\": \"\"}}, \"type\": \"scatterpolargl\"}], \"scatterternary\": [{\"marker\": {\"colorbar\": {\"outlinewidth\": 0, \"ticks\": \"\"}}, \"type\": \"scatterternary\"}], \"surface\": [{\"colorbar\": {\"outlinewidth\": 0, \"ticks\": \"\"}, \"colorscale\": [[0.0, \"#0d0887\"], [0.1111111111111111, \"#46039f\"], [0.2222222222222222, \"#7201a8\"], [0.3333333333333333, \"#9c179e\"], [0.4444444444444444, \"#bd3786\"], [0.5555555555555556, \"#d8576b\"], [0.6666666666666666, \"#ed7953\"], [0.7777777777777778, \"#fb9f3a\"], [0.8888888888888888, \"#fdca26\"], [1.0, \"#f0f921\"]], \"type\": \"surface\"}], \"table\": [{\"cells\": {\"fill\": {\"color\": \"#EBF0F8\"}, \"line\": {\"color\": \"white\"}}, \"header\": {\"fill\": {\"color\": \"#C8D4E3\"}, \"line\": {\"color\": \"white\"}}, \"type\": \"table\"}]}, \"layout\": {\"annotationdefaults\": {\"arrowcolor\": \"#2a3f5f\", \"arrowhead\": 0, \"arrowwidth\": 1}, \"coloraxis\": {\"colorbar\": {\"outlinewidth\": 0, \"ticks\": \"\"}}, \"colorscale\": {\"diverging\": [[0, \"#8e0152\"], [0.1, \"#c51b7d\"], [0.2, \"#de77ae\"], [0.3, \"#f1b6da\"], [0.4, \"#fde0ef\"], [0.5, \"#f7f7f7\"], [0.6, \"#e6f5d0\"], [0.7, \"#b8e186\"], [0.8, \"#7fbc41\"], [0.9, \"#4d9221\"], [1, \"#276419\"]], \"sequential\": [[0.0, \"#0d0887\"], [0.1111111111111111, \"#46039f\"], [0.2222222222222222, \"#7201a8\"], [0.3333333333333333, \"#9c179e\"], [0.4444444444444444, \"#bd3786\"], [0.5555555555555556, \"#d8576b\"], [0.6666666666666666, \"#ed7953\"], [0.7777777777777778, \"#fb9f3a\"], [0.8888888888888888, \"#fdca26\"], [1.0, \"#f0f921\"]], \"sequentialminus\": [[0.0, \"#0d0887\"], [0.1111111111111111, \"#46039f\"], [0.2222222222222222, \"#7201a8\"], [0.3333333333333333, \"#9c179e\"], [0.4444444444444444, \"#bd3786\"], [0.5555555555555556, \"#d8576b\"], [0.6666666666666666, \"#ed7953\"], [0.7777777777777778, \"#fb9f3a\"], [0.8888888888888888, \"#fdca26\"], [1.0, \"#f0f921\"]]}, \"colorway\": [\"#636efa\", \"#EF553B\", \"#00cc96\", \"#ab63fa\", \"#FFA15A\", \"#19d3f3\", \"#FF6692\", \"#B6E880\", \"#FF97FF\", \"#FECB52\"], \"font\": {\"color\": \"#2a3f5f\"}, \"geo\": {\"bgcolor\": \"white\", \"lakecolor\": \"white\", \"landcolor\": \"#E5ECF6\", \"showlakes\": true, \"showland\": true, \"subunitcolor\": \"white\"}, \"hoverlabel\": {\"align\": \"left\"}, \"hovermode\": \"closest\", \"mapbox\": {\"style\": \"light\"}, \"paper_bgcolor\": \"white\", \"plot_bgcolor\": \"#E5ECF6\", \"polar\": {\"angularaxis\": {\"gridcolor\": \"white\", \"linecolor\": \"white\", \"ticks\": \"\"}, \"bgcolor\": \"#E5ECF6\", \"radialaxis\": {\"gridcolor\": \"white\", \"linecolor\": \"white\", \"ticks\": \"\"}}, \"scene\": {\"xaxis\": {\"backgroundcolor\": \"#E5ECF6\", \"gridcolor\": \"white\", \"gridwidth\": 2, \"linecolor\": \"white\", \"showbackground\": true, \"ticks\": \"\", \"zerolinecolor\": \"white\"}, \"yaxis\": {\"backgroundcolor\": \"#E5ECF6\", \"gridcolor\": \"white\", \"gridwidth\": 2, \"linecolor\": \"white\", \"showbackground\": true, \"ticks\": \"\", \"zerolinecolor\": \"white\"}, \"zaxis\": {\"backgroundcolor\": \"#E5ECF6\", \"gridcolor\": \"white\", \"gridwidth\": 2, \"linecolor\": \"white\", \"showbackground\": true, \"ticks\": \"\", \"zerolinecolor\": \"white\"}}, \"shapedefaults\": {\"line\": {\"color\": \"#2a3f5f\"}}, \"ternary\": {\"aaxis\": {\"gridcolor\": \"white\", \"linecolor\": \"white\", \"ticks\": \"\"}, \"baxis\": {\"gridcolor\": \"white\", \"linecolor\": \"white\", \"ticks\": \"\"}, \"bgcolor\": \"#E5ECF6\", \"caxis\": {\"gridcolor\": \"white\", \"linecolor\": \"white\", \"ticks\": \"\"}}, \"title\": {\"x\": 0.05}, \"xaxis\": {\"automargin\": true, \"gridcolor\": \"white\", \"linecolor\": \"white\", \"ticks\": \"\", \"title\": {\"standoff\": 15}, \"zerolinecolor\": \"white\", \"zerolinewidth\": 2}, \"yaxis\": {\"automargin\": true, \"gridcolor\": \"white\", \"linecolor\": \"white\", \"ticks\": \"\", \"title\": {\"standoff\": 15}, \"zerolinecolor\": \"white\", \"zerolinewidth\": 2}}}, \"width\": 700, \"xaxis\": {\"anchor\": \"y\", \"domain\": [0.0, 0.4875], \"showticklabels\": false, \"title\": {\"text\": \"Enhancing kmers\"}}, \"xaxis2\": {\"anchor\": \"y2\", \"domain\": [0.5125, 1.0], \"showticklabels\": false, \"title\": {\"text\": \"Repressing kmers\"}}, \"yaxis\": {\"anchor\": \"x\", \"domain\": [0.0, 1.0], \"title\": {\"text\": \"Distance from CpG\"}}, \"yaxis2\": {\"anchor\": \"x2\", \"domain\": [0.0, 1.0], \"matches\": \"y\", \"showticklabels\": false}},\n",
       "                        {\"responsive\": true}\n",
       "                    ).then(function(){\n",
       "                            \n",
       "var gd = document.getElementById('eb68e32a-701f-45d1-8af0-b454a7c35537');\n",
       "var x = new MutationObserver(function (mutations, observer) {{\n",
       "        var display = window.getComputedStyle(gd).display;\n",
       "        if (!display || display === 'none') {{\n",
       "            console.log([gd, 'removed!']);\n",
       "            Plotly.purge(gd);\n",
       "            observer.disconnect();\n",
       "        }}\n",
       "}});\n",
       "\n",
       "// Listen for the removal of the full notebook cells\n",
       "var notebookContainer = gd.closest('#notebook-container');\n",
       "if (notebookContainer) {{\n",
       "    x.observe(notebookContainer, {childList: true});\n",
       "}}\n",
       "\n",
       "// Listen for the clearing of the current output cell\n",
       "var outputEl = gd.closest('.output');\n",
       "if (outputEl) {{\n",
       "    x.observe(outputEl, {childList: true});\n",
       "}}\n",
       "\n",
       "                        })\n",
       "                };\n",
       "                });\n",
       "            </script>\n",
       "        </div>"
      ]
     },
     "metadata": {},
     "output_type": "display_data"
    }
   ],
   "source": [
    "from scipy.cluster.hierarchy import linkage, dendrogram, leaves_list, optimal_leaf_ordering\n",
    "\n",
    "from scipy.spatial.distance import pdist\n",
    "\n",
    "fig = make_subplots(rows=1, cols=2, \n",
    "                    horizontal_spacing=0.025, \n",
    "                    shared_yaxes=True)\n",
    "\n",
    "tmp = df[positive].T\n",
    "metric='euclidean'\n",
    "method='ward'\n",
    "\n",
    "Z = linkage(tmp, method=method, metric=metric, optimal_ordering=True)\n",
    "\n",
    "tmp2 = tmp.iloc[leaves_list(Z)].T\n",
    "\n",
    "fig.add_trace(go.Heatmap(z=tmp2, \n",
    "                         x=tmp2.columns, \n",
    "                         y=tmp2.index*block_size,  \n",
    "                         coloraxis='coloraxis',\n",
    "                         zmin=0.5, zmax=1.5), row=1, col=1)\n",
    "\n",
    "tmp = df[negative].T\n",
    "\n",
    "Z = linkage(tmp, method=method, metric=metric, optimal_ordering=True)\n",
    "\n",
    "tmp2 = tmp.iloc[leaves_list(Z)].T\n",
    "\n",
    "fig.add_trace(go.Heatmap(z=tmp2, \n",
    "                         x=tmp2.columns, \n",
    "                         y=tmp2.index*block_size,  \n",
    "                         coloraxis='coloraxis',\n",
    "                         zmin=0.5, zmax=1.5), row=1, col=2)\n",
    "\n",
    "fig.update_layout(yaxis_title='Distance from CpG', \n",
    "                 xaxis_title='Enhancing kmers', \n",
    "                 xaxis2_title= 'Repressing kmers',\n",
    "                 coloraxis_colorbar_title='Odds ratio')\n",
    "\n",
    "fig.update_xaxes(showticklabels=False)\n",
    "snap(fig, 'kmer_positions.pdf')"
   ]
  },
  {
   "cell_type": "code",
   "execution_count": 892,
   "metadata": {},
   "outputs": [],
   "source": [
    "df = pd.DataFrame(dict(mean=nonzero_coefs[nonzero_coefs.mean(axis=1)>0].mean(axis=1), \n",
    "                       std=nonzero_coefs[nonzero_coefs.mean(axis=1)>0].std(axis=1)))\n",
    "df.sort_values('mean',ascending=False, inplace=True)\n",
    "\n",
    "df = df.round(3)\n",
    "\n",
    "middle = int(np.ceil(len(df)/2))\n",
    "\n",
    "df1 = df.iloc[:middle].reset_index()\n",
    "df2 = df.iloc[middle:].reset_index()\n",
    "\n",
    "df1.join(df2, how='outer', rsuffix= '2').to_latex('enhancing.tex', caption='Enhancing kmers and associated coefficients')"
   ]
  },
  {
   "cell_type": "code",
   "execution_count": 884,
   "metadata": {},
   "outputs": [],
   "source": [
    "df = pd.DataFrame(dict(mean=nonzero_coefs[nonzero_coefs.mean(axis=1)<0].mean(axis=1), \n",
    "                       std=nonzero_coefs[nonzero_coefs.mean(axis=1)<0].std(axis=1)))\n",
    "df.sort_values('mean',ascending=True, inplace=True)\n",
    "\n",
    "df = df.round(3)\n",
    "\n",
    "middle = int(np.ceil(len(df)/2))\n",
    "\n",
    "df1 = df.iloc[:middle].reset_index()\n",
    "df2 = df.iloc[middle:].reset_index()\n",
    "\n",
    "df1.join(df2, how='outer', rsuffix= '2').to_latex('repressing.tex', caption='Repressing kmers and associated coefficients')"
   ]
  },
  {
   "cell_type": "markdown",
   "metadata": {},
   "source": [
    "# Precision-recall curve"
   ]
  },
  {
   "cell_type": "code",
   "execution_count": 127,
   "metadata": {},
   "outputs": [
    {
     "name": "stdout",
     "output_type": "stream",
     "text": [
      "exome/r500_5mer.pkl: size: 179042, pos: 28051, baseline: 0.16\n",
      "genome/r500_5mer.pkl: size: 1528746, pos: 35296, baseline: 0.02\n"
     ]
    }
   ],
   "source": [
    "r,k = 500,5\n",
    "\n",
    "model = c_scores[0.001]\n",
    "t = np.linspace(0, 1, 1000)\n",
    "\n",
    "X,y, seqid = get_data(r,k,'../data/Apis_mellifera/exome')\n",
    "\n",
    "precisions, recalls = [],[]\n",
    "for model, (train, test) in zip(models['L1'][r][k], LeaveOneGroupOut().split(X,y,seqid)) :\n",
    "\n",
    "    X_test = X.take(test)\n",
    "    y_test = y.take(test)\n",
    "\n",
    "    y_pred = model.predict_proba(X_test)[:,1]\n",
    "\n",
    "    precision, recall, threshold = precision_recall_curve(y_test, y_pred)\n",
    "\n",
    "    interp_precision = np.interp(t, threshold, precision[:-1])\n",
    "    interp_recall = np.interp(t, threshold, recall[:-1])\n",
    "\n",
    "    recalls.append(interp_recall)\n",
    "    precisions.append(interp_precision)\n",
    "    \n",
    "precision_mean_exome  = np.array(precisions).mean(axis=0)\n",
    "precision_std_exome = np.array(precisions).std(axis=0)\n",
    "recall_mean_exome  = np.array(recalls).mean(axis=0)\n",
    "recall_std_exome = np.array(recalls).std(axis=0)\n",
    "\n",
    "\n",
    "X,y, seqid = get_data(r,k,'../data/Apis_mellifera/genome')\n",
    "\n",
    "precisions, recalls = [],[]\n",
    "for model, (train, test) in zip(models['L1'][r][k], LeaveOneGroupOut().split(X,y,seqid)) :\n",
    "\n",
    "    X_test = X.take(test)\n",
    "    y_test = y.take(test)\n",
    "\n",
    "    y_pred = model.predict_proba(X_test)[:,1]\n",
    "\n",
    "    precision, recall, threshold = precision_recall_curve(y_test, y_pred)\n",
    "\n",
    "    interp_precision = np.interp(t, threshold, precision[:-1])\n",
    "    interp_recall = np.interp(t, threshold, recall[:-1])\n",
    "\n",
    "    recalls.append(interp_recall)\n",
    "    precisions.append(interp_precision)\n",
    "    \n",
    "precision_mean_genome  = np.array(precisions).mean(axis=0)\n",
    "precision_std_genome = np.array(precisions).std(axis=0)\n",
    "recall_mean_genome  = np.array(recalls).mean(axis=0)\n",
    "recall_std_genome = np.array(recalls).std(axis=0)\n"
   ]
  },
  {
   "cell_type": "code",
   "execution_count": 134,
   "metadata": {},
   "outputs": [],
   "source": [
    "trace1= go.Scatter(x=recall_mean_exome, \n",
    "                   y=precision_mean_exome, \n",
    "                   error_x=dict(array=recall_std_exome, type='data'), \n",
    "                   error_y=dict(array=precision_std_exome, type='data'),\n",
    "                  name ='exome')\n",
    "\n",
    "trace2= go.Scatter(x=recall_mean_genome, \n",
    "                   y=precision_mean_genome, \n",
    "                   error_x=dict(array=recall_std_genome, type='data'), \n",
    "                   error_y=dict(array=precision_std_genome, type='data'),\n",
    "                   name = 'genome')\n",
    "\n",
    "go.Figure([trace1, trace2])\n",
    "\n",
    "logistic_pr=dict(exome=trace1, genome=trace2)\n",
    "\n",
    "with open('logistic_pr.pkl', 'wb') as f :\n",
    "    pickle.dump(dict(exome=trace1, genome=trace2), f)"
   ]
  }
 ],
 "metadata": {
  "kernelspec": {
   "display_name": "Python 3",
   "language": "python",
   "name": "python3"
  },
  "language_info": {
   "codemirror_mode": {
    "name": "ipython",
    "version": 3
   },
   "file_extension": ".py",
   "mimetype": "text/x-python",
   "name": "python",
   "nbconvert_exporter": "python",
   "pygments_lexer": "ipython3",
   "version": "3.7.6"
  }
 },
 "nbformat": 4,
 "nbformat_minor": 2
}
